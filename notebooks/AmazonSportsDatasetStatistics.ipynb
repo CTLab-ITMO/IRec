{
 "cells": [
  {
   "cell_type": "code",
   "execution_count": 1,
   "id": "548f9197",
   "metadata": {},
   "outputs": [],
   "source": [
    "import os\n",
    "import sys\n",
    "import json\n",
    "import datetime\n",
    "import matplotlib.pyplot as plt\n",
    "import numpy as np\n",
    "import pandas as pd\n",
    "\n",
    "from tqdm import tqdm\n",
    "from collections import defaultdict, Counter\n",
    "\n",
    "%matplotlib inline"
   ]
  },
  {
   "cell_type": "code",
   "execution_count": 2,
   "id": "8c02acef",
   "metadata": {},
   "outputs": [
    {
     "name": "stdout",
     "output_type": "stream",
     "text": [
      "Number of events: 296337\n"
     ]
    }
   ],
   "source": [
    "path_to_df = '../data/Sports/Sports_and_Outdoors_5.json'\n",
    "\n",
    "df = defaultdict(list)\n",
    "\n",
    "with open(path_to_df, 'r') as f:\n",
    "    for line in f.readlines():\n",
    "        review = json.loads(line)\n",
    "        df['user_id'].append(review['reviewerID'])\n",
    "        df['item_id'].append(review['asin'])\n",
    "        df['timestamp'].append(review['unixReviewTime'])\n",
    "\n",
    "print(f'Number of events: {len(df[\"user_id\"])}')\n",
    "\n",
    "df = pd.DataFrame.from_dict(df)"
   ]
  },
  {
   "cell_type": "code",
   "execution_count": 3,
   "id": "a5d3b257",
   "metadata": {},
   "outputs": [
    {
     "data": {
      "text/html": [
       "<div>\n",
       "<style scoped>\n",
       "    .dataframe tbody tr th:only-of-type {\n",
       "        vertical-align: middle;\n",
       "    }\n",
       "\n",
       "    .dataframe tbody tr th {\n",
       "        vertical-align: top;\n",
       "    }\n",
       "\n",
       "    .dataframe thead th {\n",
       "        text-align: right;\n",
       "    }\n",
       "</style>\n",
       "<table border=\"1\" class=\"dataframe\">\n",
       "  <thead>\n",
       "    <tr style=\"text-align: right;\">\n",
       "      <th></th>\n",
       "      <th>user_id</th>\n",
       "      <th>item_id</th>\n",
       "      <th>timestamp</th>\n",
       "    </tr>\n",
       "  </thead>\n",
       "  <tbody>\n",
       "    <tr>\n",
       "      <th>0</th>\n",
       "      <td>AIXZKN4ACSKI</td>\n",
       "      <td>1881509818</td>\n",
       "      <td>1390694400</td>\n",
       "    </tr>\n",
       "    <tr>\n",
       "      <th>1</th>\n",
       "      <td>A1L5P841VIO02V</td>\n",
       "      <td>1881509818</td>\n",
       "      <td>1328140800</td>\n",
       "    </tr>\n",
       "    <tr>\n",
       "      <th>2</th>\n",
       "      <td>AB2W04NI4OEAD</td>\n",
       "      <td>1881509818</td>\n",
       "      <td>1330387200</td>\n",
       "    </tr>\n",
       "    <tr>\n",
       "      <th>3</th>\n",
       "      <td>A148SVSWKTJKU6</td>\n",
       "      <td>1881509818</td>\n",
       "      <td>1328400000</td>\n",
       "    </tr>\n",
       "    <tr>\n",
       "      <th>4</th>\n",
       "      <td>AAAWJ6LW9WMOO</td>\n",
       "      <td>1881509818</td>\n",
       "      <td>1366675200</td>\n",
       "    </tr>\n",
       "  </tbody>\n",
       "</table>\n",
       "</div>"
      ],
      "text/plain": [
       "          user_id     item_id   timestamp\n",
       "0    AIXZKN4ACSKI  1881509818  1390694400\n",
       "1  A1L5P841VIO02V  1881509818  1328140800\n",
       "2   AB2W04NI4OEAD  1881509818  1330387200\n",
       "3  A148SVSWKTJKU6  1881509818  1328400000\n",
       "4   AAAWJ6LW9WMOO  1881509818  1366675200"
      ]
     },
     "execution_count": 3,
     "metadata": {},
     "output_type": "execute_result"
    }
   ],
   "source": [
    "df.head()"
   ]
  },
  {
   "cell_type": "code",
   "execution_count": 4,
   "id": "1fc4fcc9",
   "metadata": {},
   "outputs": [
    {
     "data": {
      "text/plain": [
       "user_id      0\n",
       "item_id      0\n",
       "timestamp    0\n",
       "dtype: int64"
      ]
     },
     "execution_count": 4,
     "metadata": {},
     "output_type": "execute_result"
    }
   ],
   "source": [
    "df.isnull().sum()"
   ]
  },
  {
   "cell_type": "code",
   "execution_count": 5,
   "id": "ace86d89",
   "metadata": {},
   "outputs": [
    {
     "data": {
      "text/plain": [
       "('AZZXSM5W248P8', (35598,))"
      ]
     },
     "execution_count": 5,
     "metadata": {},
     "output_type": "execute_result"
    }
   ],
   "source": [
    "df.user_id.max(), df.user_id.unique().shape"
   ]
  },
  {
   "cell_type": "code",
   "execution_count": 6,
   "id": "06176585",
   "metadata": {},
   "outputs": [
    {
     "data": {
      "text/plain": [
       "(1, 35598, (35598,))"
      ]
     },
     "execution_count": 6,
     "metadata": {},
     "output_type": "execute_result"
    }
   ],
   "source": [
    "df.user_id = pd.factorize(df.user_id)[0] + 1\n",
    "df.user_id.min(), df.user_id.max(), df.user_id.unique().shape"
   ]
  },
  {
   "cell_type": "code",
   "execution_count": 7,
   "id": "f7c3cfc0",
   "metadata": {},
   "outputs": [
    {
     "data": {
      "text/plain": [
       "(1, 18357, (18357,))"
      ]
     },
     "execution_count": 7,
     "metadata": {},
     "output_type": "execute_result"
    }
   ],
   "source": [
    "df.item_id = pd.factorize(df.item_id)[0] + 1\n",
    "df.item_id.min(), df.item_id.max(), df.item_id.unique().shape"
   ]
  },
  {
   "cell_type": "code",
   "execution_count": 8,
   "id": "ffe84a97",
   "metadata": {},
   "outputs": [
    {
     "data": {
      "text/html": [
       "<div>\n",
       "<style scoped>\n",
       "    .dataframe tbody tr th:only-of-type {\n",
       "        vertical-align: middle;\n",
       "    }\n",
       "\n",
       "    .dataframe tbody tr th {\n",
       "        vertical-align: top;\n",
       "    }\n",
       "\n",
       "    .dataframe thead th {\n",
       "        text-align: right;\n",
       "    }\n",
       "</style>\n",
       "<table border=\"1\" class=\"dataframe\">\n",
       "  <thead>\n",
       "    <tr style=\"text-align: right;\">\n",
       "      <th></th>\n",
       "      <th>user_id</th>\n",
       "      <th>item_id</th>\n",
       "      <th>timestamp</th>\n",
       "    </tr>\n",
       "  </thead>\n",
       "  <tbody>\n",
       "    <tr>\n",
       "      <th>0</th>\n",
       "      <td>1</td>\n",
       "      <td>1</td>\n",
       "      <td>1390694400</td>\n",
       "    </tr>\n",
       "    <tr>\n",
       "      <th>1</th>\n",
       "      <td>2</td>\n",
       "      <td>1</td>\n",
       "      <td>1328140800</td>\n",
       "    </tr>\n",
       "    <tr>\n",
       "      <th>2</th>\n",
       "      <td>3</td>\n",
       "      <td>1</td>\n",
       "      <td>1330387200</td>\n",
       "    </tr>\n",
       "    <tr>\n",
       "      <th>3</th>\n",
       "      <td>4</td>\n",
       "      <td>1</td>\n",
       "      <td>1328400000</td>\n",
       "    </tr>\n",
       "    <tr>\n",
       "      <th>4</th>\n",
       "      <td>5</td>\n",
       "      <td>1</td>\n",
       "      <td>1366675200</td>\n",
       "    </tr>\n",
       "  </tbody>\n",
       "</table>\n",
       "</div>"
      ],
      "text/plain": [
       "   user_id  item_id   timestamp\n",
       "0        1        1  1390694400\n",
       "1        2        1  1328140800\n",
       "2        3        1  1330387200\n",
       "3        4        1  1328400000\n",
       "4        5        1  1366675200"
      ]
     },
     "execution_count": 8,
     "metadata": {},
     "output_type": "execute_result"
    }
   ],
   "source": [
    "df.head()"
   ]
  },
  {
   "cell_type": "code",
   "execution_count": 9,
   "id": "33441466",
   "metadata": {},
   "outputs": [
    {
     "data": {
      "text/plain": [
       "35598"
      ]
     },
     "execution_count": 9,
     "metadata": {},
     "output_type": "execute_result"
    }
   ],
   "source": [
    "df.user_id.nunique()"
   ]
  },
  {
   "cell_type": "code",
   "execution_count": 10,
   "id": "38f9adb1",
   "metadata": {},
   "outputs": [
    {
     "data": {
      "text/plain": [
       "18357"
      ]
     },
     "execution_count": 10,
     "metadata": {},
     "output_type": "execute_result"
    }
   ],
   "source": [
    "df.item_id.nunique()"
   ]
  },
  {
   "cell_type": "code",
   "execution_count": 11,
   "id": "d914594a",
   "metadata": {},
   "outputs": [
    {
     "data": {
      "text/html": [
       "<div>\n",
       "<style scoped>\n",
       "    .dataframe tbody tr th:only-of-type {\n",
       "        vertical-align: middle;\n",
       "    }\n",
       "\n",
       "    .dataframe tbody tr th {\n",
       "        vertical-align: top;\n",
       "    }\n",
       "\n",
       "    .dataframe thead th {\n",
       "        text-align: right;\n",
       "    }\n",
       "</style>\n",
       "<table border=\"1\" class=\"dataframe\">\n",
       "  <thead>\n",
       "    <tr style=\"text-align: right;\">\n",
       "      <th></th>\n",
       "      <th>user_id</th>\n",
       "      <th>item_id</th>\n",
       "      <th>timestamp</th>\n",
       "    </tr>\n",
       "  </thead>\n",
       "  <tbody>\n",
       "    <tr>\n",
       "      <th>0</th>\n",
       "      <td>1</td>\n",
       "      <td>1</td>\n",
       "      <td>1390694400</td>\n",
       "    </tr>\n",
       "    <tr>\n",
       "      <th>1</th>\n",
       "      <td>2</td>\n",
       "      <td>1</td>\n",
       "      <td>1328140800</td>\n",
       "    </tr>\n",
       "    <tr>\n",
       "      <th>2</th>\n",
       "      <td>3</td>\n",
       "      <td>1</td>\n",
       "      <td>1330387200</td>\n",
       "    </tr>\n",
       "    <tr>\n",
       "      <th>3</th>\n",
       "      <td>4</td>\n",
       "      <td>1</td>\n",
       "      <td>1328400000</td>\n",
       "    </tr>\n",
       "    <tr>\n",
       "      <th>4</th>\n",
       "      <td>5</td>\n",
       "      <td>1</td>\n",
       "      <td>1366675200</td>\n",
       "    </tr>\n",
       "  </tbody>\n",
       "</table>\n",
       "</div>"
      ],
      "text/plain": [
       "   user_id  item_id   timestamp\n",
       "0        1        1  1390694400\n",
       "1        2        1  1328140800\n",
       "2        3        1  1330387200\n",
       "3        4        1  1328400000\n",
       "4        5        1  1366675200"
      ]
     },
     "execution_count": 11,
     "metadata": {},
     "output_type": "execute_result"
    }
   ],
   "source": [
    "df.head()"
   ]
  },
  {
   "cell_type": "code",
   "execution_count": 12,
   "id": "86660c05",
   "metadata": {},
   "outputs": [
    {
     "name": "stderr",
     "output_type": "stream",
     "text": [
      "296337it [00:10, 27833.06it/s]"
     ]
    },
    {
     "name": "stdout",
     "output_type": "stream",
     "text": [
      "296337\n"
     ]
    },
    {
     "name": "stderr",
     "output_type": "stream",
     "text": [
      "\n"
     ]
    }
   ],
   "source": [
    "data = []\n",
    "\n",
    "for _, row in tqdm(df.iterrows()):\n",
    "    data.append({\n",
    "        'user_id': int(row.user_id),\n",
    "        'item_id': int(row.item_id),\n",
    "        'timestamp': int(row.timestamp)\n",
    "    })\n",
    "\n",
    "print(len(data))"
   ]
  },
  {
   "cell_type": "code",
   "execution_count": 13,
   "id": "ade33aff",
   "metadata": {},
   "outputs": [
    {
     "name": "stderr",
     "output_type": "stream",
     "text": [
      "100%|██████████████████████████████████████████████████████████████████████| 296337/296337 [00:00<00:00, 832411.33it/s]\n"
     ]
    },
    {
     "name": "stdout",
     "output_type": "stream",
     "text": [
      "(0, 0) (35598, 18357)\n",
      "(35598, 18357) (35598, 18357)\n"
     ]
    }
   ],
   "source": [
    "user_history = defaultdict(list)\n",
    "item_history = defaultdict(list)\n",
    "\n",
    "for row in tqdm(data):\n",
    "    user_raw_id = row['user_id']\n",
    "    item_raw_id = row['item_id']\n",
    "    interaction_timestamp = row['timestamp']\n",
    "    \n",
    "    user_history[user_raw_id].append({'item_id': item_raw_id, 'timestamp': interaction_timestamp})\n",
    "    item_history[item_raw_id].append({'user_id': user_raw_id, 'timestamp': interaction_timestamp})\n",
    "\n",
    "is_changed = True\n",
    "threshold = 5\n",
    "good_users = set()\n",
    "good_items = set()\n",
    "\n",
    "\n",
    "while is_changed:\n",
    "    old_state = (len(good_users), len(good_items))\n",
    "    \n",
    "    good_users = set()\n",
    "    good_items = set()\n",
    "\n",
    "    for user_id, history in user_history.items():\n",
    "        if len(history) >= threshold:\n",
    "            good_users.add(user_id)\n",
    "\n",
    "    for item_id, history in item_history.items():\n",
    "        if len(history) >= threshold:\n",
    "            good_items.add(item_id)\n",
    "    \n",
    "    user_history = {\n",
    "        user_id: list(filter(lambda x: x['item_id'] in good_items, history))\n",
    "        for user_id, history in user_history.items()\n",
    "    }\n",
    "    \n",
    "    item_history = {\n",
    "        item_id: list(filter(lambda x: x['user_id'] in good_users, history))\n",
    "        for item_id, history in item_history.items()\n",
    "    }\n",
    "    \n",
    "    new_state = (len(good_users), len(good_items))\n",
    "    is_changed = (old_state != new_state)\n",
    "    print(old_state, new_state)"
   ]
  },
  {
   "cell_type": "code",
   "execution_count": 14,
   "id": "82c9facf",
   "metadata": {},
   "outputs": [
    {
     "name": "stderr",
     "output_type": "stream",
     "text": [
      "100%|█████████████████████████████████████████████████████████████████████████| 35598/35598 [00:00<00:00, 99018.12it/s]\n",
      "100%|█████████████████████████████████████████████████████████████████████████| 18357/18357 [00:00<00:00, 43397.96it/s]\n"
     ]
    }
   ],
   "source": [
    "user_mapping = {}\n",
    "item_mapping = {}\n",
    "tmp_user_history = defaultdict(list)\n",
    "tmp_item_history = defaultdict(list)\n",
    "\n",
    "for user_id, history in tqdm(user_history.items()):\n",
    "    processed_history = []\n",
    "\n",
    "    for filtered_item in history:\n",
    "        item_id = filtered_item['item_id']\n",
    "        item_timestamp = filtered_item['timestamp']\n",
    "\n",
    "        processed_item_id = item_mapping.get(item_id, len(item_mapping) + 1)\n",
    "        item_mapping[item_id] = processed_item_id\n",
    "\n",
    "        processed_history.append({'item_id': processed_item_id, 'timestamp': item_timestamp})\n",
    "        \n",
    "    if len(processed_history) >= threshold:\n",
    "        processed_user_id = user_mapping.get(user_id, len(user_mapping) + 1)\n",
    "        user_mapping[user_id] = processed_user_id\n",
    "\n",
    "        tmp_user_history[processed_user_id] = sorted(processed_history, key=lambda x: x['timestamp'])\n",
    "\n",
    "    \n",
    "for item_id, history in tqdm(item_history.items()):\n",
    "    processed_history = []\n",
    "\n",
    "    for filtered_user in history:\n",
    "        user_id = filtered_user['user_id']\n",
    "        user_timestamp = filtered_user['timestamp']\n",
    "\n",
    "        processed_user_id = user_mapping.get(user_id, len(user_mapping) + 1)\n",
    "        user_mapping[user_id] = processed_user_id\n",
    "\n",
    "        processed_history.append({'user_id': processed_user_id, 'timestamp': user_timestamp})\n",
    "\n",
    "    if len(processed_history) >= threshold:\n",
    "        processed_item_id = item_mapping.get(item_id, len(item_mapping) + 1)\n",
    "        item_mapping[item_id] = processed_item_id\n",
    "\n",
    "        tmp_item_history[processed_item_id] = sorted(processed_history, key=lambda x: x['timestamp'])\n",
    "\n",
    "user_history = tmp_user_history\n",
    "item_history = tmp_item_history"
   ]
  },
  {
   "cell_type": "code",
   "execution_count": 15,
   "id": "a20a1cd2",
   "metadata": {},
   "outputs": [
    {
     "name": "stdout",
     "output_type": "stream",
     "text": [
      "Users count: 35598\n",
      "Items count: 18357\n",
      "Actions count: 296337\n",
      "Avg user history len: 8.324540704533963\n",
      "Avg item history len: 16.142997221768262\n"
     ]
    }
   ],
   "source": [
    "print('Users count:', len(user_mapping))\n",
    "print('Items count:', len(item_mapping))\n",
    "print('Actions count:', sum(list(map(lambda x: len(x), user_history.values()))))\n",
    "print('Avg user history len:', np.mean(list(map(lambda x: len(x), user_history.values()))))\n",
    "print('Avg item history len:', np.mean(list(map(lambda x: len(x), item_history.values()))))"
   ]
  },
  {
   "cell_type": "code",
   "execution_count": 16,
   "id": "29795c9e",
   "metadata": {},
   "outputs": [],
   "source": [
    "with open('../data/Sports/all_data.txt', 'w') as f:\n",
    "    for user_id, item_history in user_history.items():\n",
    "        f.write(' '.join([str(user_id)] + [\n",
    "            str(item_event['item_id']) for item_event in sorted(item_history, key=lambda x: x['timestamp'])\n",
    "        ]))\n",
    "        f.write('\\n')"
   ]
  }
 ],
 "metadata": {
  "kernelspec": {
   "display_name": "Python 3 (ipykernel)",
   "language": "python",
   "name": "python3"
  },
  "language_info": {
   "codemirror_mode": {
    "name": "ipython",
    "version": 3
   },
   "file_extension": ".py",
   "mimetype": "text/x-python",
   "name": "python",
   "nbconvert_exporter": "python",
   "pygments_lexer": "ipython3",
   "version": "3.9.17"
  }
 },
 "nbformat": 4,
 "nbformat_minor": 5
}
