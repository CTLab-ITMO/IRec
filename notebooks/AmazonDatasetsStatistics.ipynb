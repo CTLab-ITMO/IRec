{
 "cells": [
  {
   "cell_type": "code",
   "execution_count": 1,
   "id": "e65d7fd1",
   "metadata": {},
   "outputs": [],
   "source": [
    "import os\n",
    "import sys\n",
    "import json\n",
    "import datetime\n",
    "import matplotlib.pyplot as plt\n",
    "import numpy as np\n",
    "import pandas as pd\n",
    "\n",
    "from tqdm import tqdm\n",
    "from collections import defaultdict, Counter\n",
    "\n",
    "%matplotlib inline"
   ]
  },
  {
   "cell_type": "code",
   "execution_count": null,
   "id": "b3e8aaec",
   "metadata": {},
   "outputs": [],
   "source": [
    "import pandas as pd\n",
    "import gzip\n",
    "\n",
    "def parse(path):\n",
    "    g = gzip.open(path, 'rb')\n",
    "    for l in g:\n",
    "        yield json.loads(l)\n",
    "\n",
    "def getDF(path):\n",
    "    i = 0\n",
    "    df = {}\n",
    "    \n",
    "    for d in parse(path):\n",
    "        df[i] = d\n",
    "        i += 1\n",
    "    \n",
    "    return pd.DataFrame.from_dict(df, orient='index')\n",
    "\n",
    "df = getDF('reviews_Video_Games.json.gz')"
   ]
  },
  {
   "cell_type": "code",
   "execution_count": 20,
   "id": "4f689c5c",
   "metadata": {},
   "outputs": [
    {
     "name": "stderr",
     "output_type": "stream",
     "text": [
      "2023070it [01:45, 19210.72it/s]\n",
      "100%|█████████████████████████████████████████████████████████████████████████████████████████████████████████████████████████████████████████████████████████| 1210271/1210271 [00:01<00:00, 741475.41it/s]\n",
      "100%|███████████████████████████████████████████████████████████████████████████████████████████████████████████████████████████████████████████████████████████| 249274/249274 [00:00<00:00, 490480.57it/s]\n"
     ]
    },
    {
     "name": "stdout",
     "output_type": "stream",
     "text": [
      "Users count: 22363\n",
      "Items count: 12101\n",
      "Actions count: 198502\n",
      "Avg user history len: 8.876358270357287\n",
      "Avg item history len: 16.403768283612923\n"
     ]
    }
   ],
   "source": [
    "data = pd.read_csv('../data/beauty/ratings_Beauty.csv')\n",
    "\n",
    "user_history = defaultdict(list)\n",
    "item_history = defaultdict(list)\n",
    "\n",
    "for _, row in tqdm(data.iterrows()):\n",
    "    user_raw_id = row['UserId']\n",
    "    item_raw_id = row['ProductId']\n",
    "    \n",
    "    interaction_timestamp = int(row['Timestamp'])\n",
    "    \n",
    "    user_history[user_raw_id].append({'item_id': item_raw_id, 'timestamp': interaction_timestamp})\n",
    "    item_history[item_raw_id].append({'user_id': user_raw_id, 'timestamp': interaction_timestamp})\n",
    "\n",
    "\n",
    "is_changed = True\n",
    "good_users = set()\n",
    "good_items = set()\n",
    "\n",
    "while is_changed:\n",
    "    old_state = (len(good_users), len(good_items))\n",
    "    \n",
    "    good_users = set()\n",
    "    good_items = set()\n",
    "\n",
    "    for user_id, history in user_history.items():\n",
    "        if len(history) >= 5:\n",
    "            good_users.add(user_id)\n",
    "\n",
    "    for item_id, history in item_history.items():\n",
    "        if len(history) >= 5:\n",
    "            good_items.add(item_id)\n",
    "    \n",
    "    user_history = {\n",
    "        user_id: list(filter(lambda x: x['item_id'] in good_items, history))\n",
    "        for user_id, history in user_history.items()\n",
    "    }\n",
    "    \n",
    "    item_history = {\n",
    "        item_id: list(filter(lambda x: x['user_id'] in good_users, history))\n",
    "        for item_id, history in item_history.items()\n",
    "    }\n",
    "    \n",
    "    new_state = (len(good_users), len(good_items))\n",
    "    is_changed = (old_state != new_state)\n",
    "\n",
    "\n",
    "user_mapping = {}\n",
    "item_mapping = {}\n",
    "tmp_user_history = defaultdict(list)\n",
    "tmp_item_history = defaultdict(list)\n",
    "\n",
    "min_history_len_thresold = 5\n",
    "\n",
    "for user_id, history in tqdm(user_history.items()):\n",
    "    if user_id in good_users:\n",
    "        filtered_history = list(filter(lambda x: x['item_id'] in good_items, history))\n",
    "        processed_history = []\n",
    "\n",
    "        for filtered_item in filtered_history:\n",
    "            item_id = filtered_item['item_id']\n",
    "            item_timestamp = filtered_item['timestamp']\n",
    "\n",
    "            processed_item_id = item_mapping.get(item_id, len(item_mapping) + 1)\n",
    "            item_mapping[item_id] = processed_item_id\n",
    "\n",
    "            processed_history.append({'item_id': processed_item_id, 'timestamp': item_timestamp})\n",
    "        \n",
    "        if len(processed_history) > 4:\n",
    "            processed_user_id = user_mapping.get(user_id, len(user_mapping) + 1)\n",
    "            user_mapping[user_id] = processed_user_id\n",
    "            \n",
    "            tmp_user_history[processed_user_id] = sorted(processed_history, key=lambda x: x['timestamp'])\n",
    "\n",
    "            \n",
    "for item_id, history in tqdm(item_history.items()):\n",
    "    if item_id in good_items:\n",
    "        filtered_history = list(filter(lambda x: x['user_id'] in good_users, history))\n",
    "        processed_history = []\n",
    "\n",
    "        for filtered_user in filtered_history:\n",
    "            user_id = filtered_user['user_id']\n",
    "            user_timestamp = filtered_user['timestamp']\n",
    "\n",
    "            processed_user_id = user_mapping.get(user_id, len(user_mapping) + 1)\n",
    "            user_mapping[user_id] = processed_user_id\n",
    "\n",
    "            processed_history.append({'user_id': processed_user_id, 'timestamp': user_timestamp})\n",
    "        \n",
    "        if len(processed_history) > 4:\n",
    "            processed_item_id = item_mapping.get(item_id, len(item_mapping) + 1)\n",
    "            item_mapping[item_id] = processed_item_id\n",
    "            \n",
    "            tmp_item_history[processed_item_id] = sorted(processed_history, key=lambda x: x['timestamp'])\n",
    "\n",
    "user_history = tmp_user_history\n",
    "item_history = tmp_item_history\n",
    "\n",
    "print('Users count:', len(user_mapping))\n",
    "print('Items count:', len(item_mapping))\n",
    "print('Actions count:', sum(list(map(lambda x: len(x), user_history.values()))))\n",
    "print('Avg user history len:', np.mean(list(map(lambda x: len(x), user_history.values()))))\n",
    "print('Avg item history len:', np.mean(list(map(lambda x: len(x), item_history.values()))))"
   ]
  },
  {
   "cell_type": "code",
   "execution_count": 21,
   "id": "d417e23d",
   "metadata": {},
   "outputs": [],
   "source": [
    "with open('../data/beauty/Beauty.txt', 'w') as f:\n",
    "    for user_id, history in user_history.items():\n",
    "        f.write(f'{user_id} {\" \".join(list(map(lambda x: str(x[\"item_id\"]), history)))}\\n')\n",
    "\n",
    "with open('../data/beauty/Beauty_timestamps.txt', 'w') as f:\n",
    "    for user_id, history in user_history.items():\n",
    "        f.write(f'{user_id} {\" \".join(list(map(lambda x: str(x[\"timestamp\"]), history)))}\\n')"
   ]
  },
  {
   "cell_type": "code",
   "execution_count": 79,
   "id": "9caad2bc",
   "metadata": {},
   "outputs": [
    {
     "name": "stdout",
     "output_type": "stream",
     "text": [
      "Users count: 52374\n",
      "Items count: 121291\n",
      "Interactions count: 371345\n"
     ]
    }
   ],
   "source": [
    "print('Users count:', len(user_mapping))\n",
    "print('Items count:', len(item_mapping))\n",
    "print('Interactions count:', len(lines))"
   ]
  }
 ],
 "metadata": {
  "kernelspec": {
   "display_name": "Python 3 (ipykernel)",
   "language": "python",
   "name": "python3"
  },
  "language_info": {
   "codemirror_mode": {
    "name": "ipython",
    "version": 3
   },
   "file_extension": ".py",
   "mimetype": "text/x-python",
   "name": "python",
   "nbconvert_exporter": "python",
   "pygments_lexer": "ipython3",
   "version": "3.9.9"
  }
 },
 "nbformat": 4,
 "nbformat_minor": 5
}
