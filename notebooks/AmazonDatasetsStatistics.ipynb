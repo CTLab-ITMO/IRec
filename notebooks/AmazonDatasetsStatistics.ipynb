{
 "cells": [
  {
   "cell_type": "code",
   "execution_count": 2,
   "id": "e65d7fd1",
   "metadata": {},
   "outputs": [],
   "source": [
    "import os\n",
    "import sys\n",
    "import json\n",
    "import datetime\n",
    "import matplotlib.pyplot as plt\n",
    "import numpy as np\n",
    "import pandas as pd\n",
    "\n",
    "from tqdm import tqdm\n",
    "from collections import defaultdict, Counter\n",
    "\n",
    "%matplotlib inline"
   ]
  },
  {
   "cell_type": "code",
   "execution_count": 23,
   "id": "cc301a76",
   "metadata": {},
   "outputs": [
    {
     "name": "stdout",
     "output_type": "stream",
     "text": [
      "Users count: 22363\n",
      "Items count: 12101\n",
      "Actions count: 198502\n",
      "Max user history len: 204\n",
      "Max item history len: 431\n"
     ]
    }
   ],
   "source": [
    "print('Users count:', len(user_mapping))\n",
    "print('Items count:', len(item_mapping))\n",
    "print('Actions count:', sum(list(map(lambda x: len(x), user_history.values()))))\n",
    "print('Max user history len:', np.max(list(map(lambda x: len(x), user_history.values()))))\n",
    "print('Max item history len:', np.max(list(map(lambda x: len(x), item_history.values()))))"
   ]
  },
  {
   "cell_type": "code",
   "execution_count": 20,
   "id": "4f689c5c",
   "metadata": {},
   "outputs": [
    {
     "name": "stderr",
     "output_type": "stream",
     "text": [
      "2023070it [01:45, 19210.72it/s]\n",
      "100%|█████████████████████████████████████████████████████████████████████████████████████████████████████████████████████████████████████████████████████████| 1210271/1210271 [00:01<00:00, 741475.41it/s]\n",
      "100%|███████████████████████████████████████████████████████████████████████████████████████████████████████████████████████████████████████████████████████████| 249274/249274 [00:00<00:00, 490480.57it/s]\n"
     ]
    },
    {
     "name": "stdout",
     "output_type": "stream",
     "text": [
      "Users count: 22363\n",
      "Items count: 12101\n",
      "Actions count: 198502\n",
      "Avg user history len: 8.876358270357287\n",
      "Avg item history len: 16.403768283612923\n"
     ]
    }
   ],
   "source": [
    "data = pd.read_csv('../data/beauty/ratings_Beauty.csv')\n",
    "\n",
    "user_history = defaultdict(list)\n",
    "item_history = defaultdict(list)\n",
    "\n",
    "for _, row in tqdm(data.iterrows()):\n",
    "    user_raw_id = row['UserId']\n",
    "    item_raw_id = row['ProductId']\n",
    "    \n",
    "    interaction_timestamp = int(row['Timestamp'])\n",
    "    \n",
    "    user_history[user_raw_id].append({'item_id': item_raw_id, 'timestamp': interaction_timestamp})\n",
    "    item_history[item_raw_id].append({'user_id': user_raw_id, 'timestamp': interaction_timestamp})\n",
    "\n",
    "\n",
    "is_changed = True\n",
    "good_users = set()\n",
    "good_items = set()\n",
    "\n",
    "while is_changed:\n",
    "    old_state = (len(good_users), len(good_items))\n",
    "    \n",
    "    good_users = set()\n",
    "    good_items = set()\n",
    "\n",
    "    for user_id, history in user_history.items():\n",
    "        if len(history) >= 5:\n",
    "            good_users.add(user_id)\n",
    "\n",
    "    for item_id, history in item_history.items():\n",
    "        if len(history) >= 5:\n",
    "            good_items.add(item_id)\n",
    "    \n",
    "    user_history = {\n",
    "        user_id: list(filter(lambda x: x['item_id'] in good_items, history))\n",
    "        for user_id, history in user_history.items()\n",
    "    }\n",
    "    \n",
    "    item_history = {\n",
    "        item_id: list(filter(lambda x: x['user_id'] in good_users, history))\n",
    "        for item_id, history in item_history.items()\n",
    "    }\n",
    "    \n",
    "    new_state = (len(good_users), len(good_items))\n",
    "    is_changed = (old_state != new_state)\n",
    "\n",
    "\n",
    "user_mapping = {}\n",
    "item_mapping = {}\n",
    "tmp_user_history = defaultdict(list)\n",
    "tmp_item_history = defaultdict(list)\n",
    "\n",
    "min_history_len_thresold = 5\n",
    "\n",
    "for user_id, history in tqdm(user_history.items()):\n",
    "    if user_id in good_users:\n",
    "        filtered_history = list(filter(lambda x: x['item_id'] in good_items, history))\n",
    "        processed_history = []\n",
    "\n",
    "        for filtered_item in filtered_history:\n",
    "            item_id = filtered_item['item_id']\n",
    "            item_timestamp = filtered_item['timestamp']\n",
    "\n",
    "            processed_item_id = item_mapping.get(item_id, len(item_mapping) + 1)\n",
    "            item_mapping[item_id] = processed_item_id\n",
    "\n",
    "            processed_history.append({'item_id': processed_item_id, 'timestamp': item_timestamp})\n",
    "        \n",
    "        if len(processed_history) > 4:\n",
    "            processed_user_id = user_mapping.get(user_id, len(user_mapping) + 1)\n",
    "            user_mapping[user_id] = processed_user_id\n",
    "            \n",
    "            tmp_user_history[processed_user_id] = sorted(processed_history, key=lambda x: x['timestamp'])\n",
    "\n",
    "            \n",
    "for item_id, history in tqdm(item_history.items()):\n",
    "    if item_id in good_items:\n",
    "        filtered_history = list(filter(lambda x: x['user_id'] in good_users, history))\n",
    "        processed_history = []\n",
    "\n",
    "        for filtered_user in filtered_history:\n",
    "            user_id = filtered_user['user_id']\n",
    "            user_timestamp = filtered_user['timestamp']\n",
    "\n",
    "            processed_user_id = user_mapping.get(user_id, len(user_mapping) + 1)\n",
    "            user_mapping[user_id] = processed_user_id\n",
    "\n",
    "            processed_history.append({'user_id': processed_user_id, 'timestamp': user_timestamp})\n",
    "        \n",
    "        if len(processed_history) > 4:\n",
    "            processed_item_id = item_mapping.get(item_id, len(item_mapping) + 1)\n",
    "            item_mapping[item_id] = processed_item_id\n",
    "            \n",
    "            tmp_item_history[processed_item_id] = sorted(processed_history, key=lambda x: x['timestamp'])\n",
    "\n",
    "user_history = tmp_user_history\n",
    "item_history = tmp_item_history\n",
    "\n",
    "print('Users count:', len(user_mapping))\n",
    "print('Items count:', len(item_mapping))\n",
    "print('Actions count:', sum(list(map(lambda x: len(x), user_history.values()))))\n",
    "print('Avg user history len:', np.mean(list(map(lambda x: len(x), user_history.values()))))\n",
    "print('Avg item history len:', np.mean(list(map(lambda x: len(x), item_history.values()))))"
   ]
  },
  {
   "cell_type": "code",
   "execution_count": 21,
   "id": "d417e23d",
   "metadata": {},
   "outputs": [],
   "source": [
    "with open('../data/beauty/Beauty.txt', 'w') as f:\n",
    "    for user_id, history in user_history.items():\n",
    "        f.write(f'{user_id} {\" \".join(list(map(lambda x: str(x[\"item_id\"]), history)))}\\n')\n",
    "\n",
    "with open('../data/beauty/Beauty_timestamps.txt', 'w') as f:\n",
    "    for user_id, history in user_history.items():\n",
    "        f.write(f'{user_id} {\" \".join(list(map(lambda x: str(x[\"timestamp\"]), history)))}\\n')"
   ]
  },
  {
   "cell_type": "code",
   "execution_count": 79,
   "id": "9caad2bc",
   "metadata": {},
   "outputs": [
    {
     "name": "stdout",
     "output_type": "stream",
     "text": [
      "Users count: 52374\n",
      "Items count: 121291\n",
      "Interactions count: 371345\n"
     ]
    }
   ],
   "source": [
    "print('Users count:', len(user_mapping))\n",
    "print('Items count:', len(item_mapping))\n",
    "print('Interactions count:', len(lines))"
   ]
  },
  {
   "cell_type": "code",
   "execution_count": 53,
   "id": "c5b94370",
   "metadata": {},
   "outputs": [],
   "source": [
    "from polara import get_movielens_data\n"
   ]
  },
  {
   "cell_type": "code",
   "execution_count": 54,
   "id": "da5dc21d",
   "metadata": {},
   "outputs": [],
   "source": [
    "mldata = get_movielens_data(include_time=True)"
   ]
  },
  {
   "cell_type": "code",
   "execution_count": 60,
   "id": "03bb46ad",
   "metadata": {},
   "outputs": [
    {
     "name": "stdout",
     "output_type": "stream",
     "text": [
      "975768738 978133367\n"
     ]
    }
   ],
   "source": [
    "fst_timepoint = mldata['timestamp'].quantile(\n",
    "    q=0.80, interpolation='nearest'\n",
    ")\n",
    "\n",
    "snd_timepoint = mldata['timestamp'].quantile(\n",
    "    q=0.90, interpolation='nearest'\n",
    ")\n",
    "\n",
    "print(fst_timepoint, snd_timepoint)"
   ]
  },
  {
   "cell_type": "code",
   "execution_count": 61,
   "id": "fe86389a",
   "metadata": {},
   "outputs": [],
   "source": [
    "train_data = mldata.query('timestamp < @fst_timepoint')\n",
    "val_data = mldata.query('@fst_timepoint <= timestamp < @snd_timepoint')\n",
    "test_data = mldata.query('@snd_timepoint <= timestamp')"
   ]
  },
  {
   "cell_type": "code",
   "execution_count": 62,
   "id": "ea8f3dea",
   "metadata": {},
   "outputs": [
    {
     "data": {
      "text/plain": [
       "((800164, 4), (100023, 4), (100022, 4))"
      ]
     },
     "execution_count": 62,
     "metadata": {},
     "output_type": "execute_result"
    }
   ],
   "source": [
    "train_data.shape, val_data.shape, test_data.shape"
   ]
  },
  {
   "cell_type": "code",
   "execution_count": 63,
   "id": "1ebcbf19",
   "metadata": {},
   "outputs": [
    {
     "data": {
      "text/html": [
       "<div>\n",
       "<style scoped>\n",
       "    .dataframe tbody tr th:only-of-type {\n",
       "        vertical-align: middle;\n",
       "    }\n",
       "\n",
       "    .dataframe tbody tr th {\n",
       "        vertical-align: top;\n",
       "    }\n",
       "\n",
       "    .dataframe thead th {\n",
       "        text-align: right;\n",
       "    }\n",
       "</style>\n",
       "<table border=\"1\" class=\"dataframe\">\n",
       "  <thead>\n",
       "    <tr style=\"text-align: right;\">\n",
       "      <th></th>\n",
       "      <th>userid</th>\n",
       "      <th>movieid</th>\n",
       "      <th>rating</th>\n",
       "      <th>timestamp</th>\n",
       "    </tr>\n",
       "  </thead>\n",
       "  <tbody>\n",
       "    <tr>\n",
       "      <th>94507</th>\n",
       "      <td>635</td>\n",
       "      <td>1251</td>\n",
       "      <td>4</td>\n",
       "      <td>975768620</td>\n",
       "    </tr>\n",
       "    <tr>\n",
       "      <th>94513</th>\n",
       "      <td>635</td>\n",
       "      <td>3948</td>\n",
       "      <td>4</td>\n",
       "      <td>975768294</td>\n",
       "    </tr>\n",
       "    <tr>\n",
       "      <th>94518</th>\n",
       "      <td>635</td>\n",
       "      <td>1270</td>\n",
       "      <td>4</td>\n",
       "      <td>975768106</td>\n",
       "    </tr>\n",
       "    <tr>\n",
       "      <th>94519</th>\n",
       "      <td>635</td>\n",
       "      <td>1279</td>\n",
       "      <td>5</td>\n",
       "      <td>975768520</td>\n",
       "    </tr>\n",
       "    <tr>\n",
       "      <th>94522</th>\n",
       "      <td>635</td>\n",
       "      <td>1286</td>\n",
       "      <td>4</td>\n",
       "      <td>975768106</td>\n",
       "    </tr>\n",
       "  </tbody>\n",
       "</table>\n",
       "</div>"
      ],
      "text/plain": [
       "       userid  movieid  rating  timestamp\n",
       "94507     635     1251       4  975768620\n",
       "94513     635     3948       4  975768294\n",
       "94518     635     1270       4  975768106\n",
       "94519     635     1279       5  975768520\n",
       "94522     635     1286       4  975768106"
      ]
     },
     "execution_count": 63,
     "metadata": {},
     "output_type": "execute_result"
    }
   ],
   "source": [
    "train_data.head()"
   ]
  }
 ],
 "metadata": {
  "kernelspec": {
   "display_name": "Python 3 (ipykernel)",
   "language": "python",
   "name": "python3"
  },
  "language_info": {
   "codemirror_mode": {
    "name": "ipython",
    "version": 3
   },
   "file_extension": ".py",
   "mimetype": "text/x-python",
   "name": "python",
   "nbconvert_exporter": "python",
   "pygments_lexer": "ipython3",
   "version": "3.9.9"
  }
 },
 "nbformat": 4,
 "nbformat_minor": 5
}
