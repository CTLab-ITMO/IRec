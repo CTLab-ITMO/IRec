{
 "cells": [
  {
   "cell_type": "code",
   "execution_count": 1,
   "id": "d9bfb61d",
   "metadata": {},
   "outputs": [],
   "source": [
    "import os\n",
    "import numpy as np\n",
    "import pandas as pd\n",
    "import matplotlib.pyplot as plt\n",
    "\n",
    "from tqdm import tqdm\n",
    "from datetime import datetime\n",
    "from collections import defaultdict, Counter\n",
    "\n",
    "%matplotlib inline"
   ]
  },
  {
   "cell_type": "code",
   "execution_count": 2,
   "id": "e3282351",
   "metadata": {},
   "outputs": [],
   "source": [
    "path_to_checkins = '../data/Gowalla/Gowalla_totalCheckins.txt'\n",
    "checkins_df = pd.read_csv(path_to_checkins, sep='\\t', names=['user_id', 'datetime', 'lat', 'lon', 'place_id'])"
   ]
  },
  {
   "cell_type": "code",
   "execution_count": 3,
   "id": "d8d17240",
   "metadata": {
    "scrolled": false
   },
   "outputs": [
    {
     "data": {
      "text/html": [
       "<div>\n",
       "<style scoped>\n",
       "    .dataframe tbody tr th:only-of-type {\n",
       "        vertical-align: middle;\n",
       "    }\n",
       "\n",
       "    .dataframe tbody tr th {\n",
       "        vertical-align: top;\n",
       "    }\n",
       "\n",
       "    .dataframe thead th {\n",
       "        text-align: right;\n",
       "    }\n",
       "</style>\n",
       "<table border=\"1\" class=\"dataframe\">\n",
       "  <thead>\n",
       "    <tr style=\"text-align: right;\">\n",
       "      <th></th>\n",
       "      <th>user_id</th>\n",
       "      <th>datetime</th>\n",
       "      <th>lat</th>\n",
       "      <th>lon</th>\n",
       "      <th>place_id</th>\n",
       "    </tr>\n",
       "  </thead>\n",
       "  <tbody>\n",
       "    <tr>\n",
       "      <th>0</th>\n",
       "      <td>0</td>\n",
       "      <td>2010-10-19T23:55:27Z</td>\n",
       "      <td>30.235909</td>\n",
       "      <td>-97.795140</td>\n",
       "      <td>22847</td>\n",
       "    </tr>\n",
       "    <tr>\n",
       "      <th>1</th>\n",
       "      <td>0</td>\n",
       "      <td>2010-10-18T22:17:43Z</td>\n",
       "      <td>30.269103</td>\n",
       "      <td>-97.749395</td>\n",
       "      <td>420315</td>\n",
       "    </tr>\n",
       "    <tr>\n",
       "      <th>2</th>\n",
       "      <td>0</td>\n",
       "      <td>2010-10-17T23:42:03Z</td>\n",
       "      <td>30.255731</td>\n",
       "      <td>-97.763386</td>\n",
       "      <td>316637</td>\n",
       "    </tr>\n",
       "    <tr>\n",
       "      <th>3</th>\n",
       "      <td>0</td>\n",
       "      <td>2010-10-17T19:26:05Z</td>\n",
       "      <td>30.263418</td>\n",
       "      <td>-97.757597</td>\n",
       "      <td>16516</td>\n",
       "    </tr>\n",
       "    <tr>\n",
       "      <th>4</th>\n",
       "      <td>0</td>\n",
       "      <td>2010-10-16T18:50:42Z</td>\n",
       "      <td>30.274292</td>\n",
       "      <td>-97.740523</td>\n",
       "      <td>5535878</td>\n",
       "    </tr>\n",
       "  </tbody>\n",
       "</table>\n",
       "</div>"
      ],
      "text/plain": [
       "   user_id              datetime        lat        lon  place_id\n",
       "0        0  2010-10-19T23:55:27Z  30.235909 -97.795140     22847\n",
       "1        0  2010-10-18T22:17:43Z  30.269103 -97.749395    420315\n",
       "2        0  2010-10-17T23:42:03Z  30.255731 -97.763386    316637\n",
       "3        0  2010-10-17T19:26:05Z  30.263418 -97.757597     16516\n",
       "4        0  2010-10-16T18:50:42Z  30.274292 -97.740523   5535878"
      ]
     },
     "execution_count": 3,
     "metadata": {},
     "output_type": "execute_result"
    }
   ],
   "source": [
    "checkins_df.head()"
   ]
  },
  {
   "cell_type": "code",
   "execution_count": 4,
   "id": "cc039971",
   "metadata": {},
   "outputs": [
    {
     "data": {
      "text/html": [
       "<div>\n",
       "<style scoped>\n",
       "    .dataframe tbody tr th:only-of-type {\n",
       "        vertical-align: middle;\n",
       "    }\n",
       "\n",
       "    .dataframe tbody tr th {\n",
       "        vertical-align: top;\n",
       "    }\n",
       "\n",
       "    .dataframe thead th {\n",
       "        text-align: right;\n",
       "    }\n",
       "</style>\n",
       "<table border=\"1\" class=\"dataframe\">\n",
       "  <thead>\n",
       "    <tr style=\"text-align: right;\">\n",
       "      <th></th>\n",
       "      <th>user_id</th>\n",
       "      <th>lat</th>\n",
       "      <th>lon</th>\n",
       "      <th>place_id</th>\n",
       "      <th>timestamp</th>\n",
       "    </tr>\n",
       "  </thead>\n",
       "  <tbody>\n",
       "    <tr>\n",
       "      <th>0</th>\n",
       "      <td>0</td>\n",
       "      <td>30.235909</td>\n",
       "      <td>-97.795140</td>\n",
       "      <td>22847</td>\n",
       "      <td>1287525327</td>\n",
       "    </tr>\n",
       "    <tr>\n",
       "      <th>1</th>\n",
       "      <td>0</td>\n",
       "      <td>30.269103</td>\n",
       "      <td>-97.749395</td>\n",
       "      <td>420315</td>\n",
       "      <td>1287433063</td>\n",
       "    </tr>\n",
       "    <tr>\n",
       "      <th>2</th>\n",
       "      <td>0</td>\n",
       "      <td>30.255731</td>\n",
       "      <td>-97.763386</td>\n",
       "      <td>316637</td>\n",
       "      <td>1287351723</td>\n",
       "    </tr>\n",
       "    <tr>\n",
       "      <th>3</th>\n",
       "      <td>0</td>\n",
       "      <td>30.263418</td>\n",
       "      <td>-97.757597</td>\n",
       "      <td>16516</td>\n",
       "      <td>1287336365</td>\n",
       "    </tr>\n",
       "    <tr>\n",
       "      <th>4</th>\n",
       "      <td>0</td>\n",
       "      <td>30.274292</td>\n",
       "      <td>-97.740523</td>\n",
       "      <td>5535878</td>\n",
       "      <td>1287247842</td>\n",
       "    </tr>\n",
       "  </tbody>\n",
       "</table>\n",
       "</div>"
      ],
      "text/plain": [
       "   user_id        lat        lon  place_id   timestamp\n",
       "0        0  30.235909 -97.795140     22847  1287525327\n",
       "1        0  30.269103 -97.749395    420315  1287433063\n",
       "2        0  30.255731 -97.763386    316637  1287351723\n",
       "3        0  30.263418 -97.757597     16516  1287336365\n",
       "4        0  30.274292 -97.740523   5535878  1287247842"
      ]
     },
     "execution_count": 4,
     "metadata": {},
     "output_type": "execute_result"
    }
   ],
   "source": [
    "checkins_df['timestamp'] = checkins_df.apply(\n",
    "    lambda row: int(datetime.strptime(row['datetime'], \"%Y-%m-%dT%H:%M:%SZ\").timestamp()),\n",
    "    axis=1\n",
    ")\n",
    "\n",
    "checkins_df = checkins_df.drop(['datetime'], axis=1)\n",
    "checkins_df.head()"
   ]
  },
  {
   "cell_type": "code",
   "execution_count": 5,
   "id": "d6d987e4",
   "metadata": {},
   "outputs": [
    {
     "data": {
      "text/plain": [
       "user_id      0\n",
       "lat          0\n",
       "lon          0\n",
       "place_id     0\n",
       "timestamp    0\n",
       "dtype: int64"
      ]
     },
     "execution_count": 5,
     "metadata": {},
     "output_type": "execute_result"
    }
   ],
   "source": [
    "checkins_df.isnull().sum()"
   ]
  },
  {
   "cell_type": "code",
   "execution_count": 6,
   "id": "1f89cae0",
   "metadata": {},
   "outputs": [
    {
     "data": {
      "text/plain": [
       "(196585, (107092,))"
      ]
     },
     "execution_count": 6,
     "metadata": {},
     "output_type": "execute_result"
    }
   ],
   "source": [
    "checkins_df.user_id.max(), checkins_df.user_id.unique().shape"
   ]
  },
  {
   "cell_type": "code",
   "execution_count": 7,
   "id": "e6ec09ef",
   "metadata": {},
   "outputs": [
    {
     "data": {
      "text/plain": [
       "(1, 107092, (107092,))"
      ]
     },
     "execution_count": 7,
     "metadata": {},
     "output_type": "execute_result"
    }
   ],
   "source": [
    "checkins_df.user_id = pd.factorize(checkins_df.user_id)[0] + 1\n",
    "checkins_df.user_id.min(), checkins_df.user_id.max(), checkins_df.user_id.unique().shape"
   ]
  },
  {
   "cell_type": "code",
   "execution_count": 8,
   "id": "3dbdd8c6",
   "metadata": {},
   "outputs": [
    {
     "data": {
      "text/plain": [
       "(1, 1280969, (1280969,))"
      ]
     },
     "execution_count": 8,
     "metadata": {},
     "output_type": "execute_result"
    }
   ],
   "source": [
    "checkins_df.place_id = pd.factorize(checkins_df.place_id)[0] + 1\n",
    "checkins_df.place_id.min(), checkins_df.place_id.max(), checkins_df.place_id.unique().shape"
   ]
  },
  {
   "cell_type": "code",
   "execution_count": 9,
   "id": "c1a5f415",
   "metadata": {},
   "outputs": [
    {
     "data": {
      "text/html": [
       "<div>\n",
       "<style scoped>\n",
       "    .dataframe tbody tr th:only-of-type {\n",
       "        vertical-align: middle;\n",
       "    }\n",
       "\n",
       "    .dataframe tbody tr th {\n",
       "        vertical-align: top;\n",
       "    }\n",
       "\n",
       "    .dataframe thead th {\n",
       "        text-align: right;\n",
       "    }\n",
       "</style>\n",
       "<table border=\"1\" class=\"dataframe\">\n",
       "  <thead>\n",
       "    <tr style=\"text-align: right;\">\n",
       "      <th></th>\n",
       "      <th>user_id</th>\n",
       "      <th>lat</th>\n",
       "      <th>lon</th>\n",
       "      <th>place_id</th>\n",
       "      <th>timestamp</th>\n",
       "    </tr>\n",
       "  </thead>\n",
       "  <tbody>\n",
       "    <tr>\n",
       "      <th>0</th>\n",
       "      <td>1</td>\n",
       "      <td>30.235909</td>\n",
       "      <td>-97.795140</td>\n",
       "      <td>1</td>\n",
       "      <td>1287525327</td>\n",
       "    </tr>\n",
       "    <tr>\n",
       "      <th>1</th>\n",
       "      <td>1</td>\n",
       "      <td>30.269103</td>\n",
       "      <td>-97.749395</td>\n",
       "      <td>2</td>\n",
       "      <td>1287433063</td>\n",
       "    </tr>\n",
       "    <tr>\n",
       "      <th>2</th>\n",
       "      <td>1</td>\n",
       "      <td>30.255731</td>\n",
       "      <td>-97.763386</td>\n",
       "      <td>3</td>\n",
       "      <td>1287351723</td>\n",
       "    </tr>\n",
       "    <tr>\n",
       "      <th>3</th>\n",
       "      <td>1</td>\n",
       "      <td>30.263418</td>\n",
       "      <td>-97.757597</td>\n",
       "      <td>4</td>\n",
       "      <td>1287336365</td>\n",
       "    </tr>\n",
       "    <tr>\n",
       "      <th>4</th>\n",
       "      <td>1</td>\n",
       "      <td>30.274292</td>\n",
       "      <td>-97.740523</td>\n",
       "      <td>5</td>\n",
       "      <td>1287247842</td>\n",
       "    </tr>\n",
       "  </tbody>\n",
       "</table>\n",
       "</div>"
      ],
      "text/plain": [
       "   user_id        lat        lon  place_id   timestamp\n",
       "0        1  30.235909 -97.795140         1  1287525327\n",
       "1        1  30.269103 -97.749395         2  1287433063\n",
       "2        1  30.255731 -97.763386         3  1287351723\n",
       "3        1  30.263418 -97.757597         4  1287336365\n",
       "4        1  30.274292 -97.740523         5  1287247842"
      ]
     },
     "execution_count": 9,
     "metadata": {},
     "output_type": "execute_result"
    }
   ],
   "source": [
    "checkins_df.head()"
   ]
  },
  {
   "cell_type": "code",
   "execution_count": 11,
   "id": "2ea48957",
   "metadata": {},
   "outputs": [
    {
     "data": {
      "text/plain": [
       "6442892"
      ]
     },
     "execution_count": 11,
     "metadata": {},
     "output_type": "execute_result"
    }
   ],
   "source": [
    "sorted_timestamps = sorted(checkins_df.timestamp)\n",
    "len(sorted_timestamps)"
   ]
  },
  {
   "cell_type": "code",
   "execution_count": 12,
   "id": "6f37d475",
   "metadata": {},
   "outputs": [
    {
     "data": {
      "text/plain": [
       "1286110393"
      ]
     },
     "execution_count": 12,
     "metadata": {},
     "output_type": "execute_result"
    }
   ],
   "source": [
    "threshold_timestamp = sorted_timestamps[int(len(sorted_timestamps) * (1.0 - 0.1))]\n",
    "threshold_timestamp"
   ]
  },
  {
   "cell_type": "code",
   "execution_count": 13,
   "id": "6d6df9d4",
   "metadata": {},
   "outputs": [
    {
     "data": {
      "text/plain": [
       "((5798600, 5), (644292, 5))"
      ]
     },
     "execution_count": 13,
     "metadata": {},
     "output_type": "execute_result"
    }
   ],
   "source": [
    "train_data = checkins_df[checkins_df.timestamp < threshold_timestamp]\n",
    "test_data = checkins_df[checkins_df.timestamp >= threshold_timestamp]\n",
    "\n",
    "train_data.shape, test_data.shape"
   ]
  },
  {
   "cell_type": "code",
   "execution_count": 14,
   "id": "d2d94587",
   "metadata": {},
   "outputs": [
    {
     "name": "stderr",
     "output_type": "stream",
     "text": [
      "5798600it [04:32, 21286.77it/s]"
     ]
    },
    {
     "name": "stdout",
     "output_type": "stream",
     "text": [
      "5798600\n"
     ]
    },
    {
     "name": "stderr",
     "output_type": "stream",
     "text": [
      "\n"
     ]
    }
   ],
   "source": [
    "data = []\n",
    "\n",
    "for _, row in tqdm(train_data.iterrows()):\n",
    "    data.append({\n",
    "        'user_id': int(row.user_id),\n",
    "        'item_id': int(row.place_id),\n",
    "        'timestamp': int(row.timestamp)\n",
    "    })\n",
    "\n",
    "print(len(data))"
   ]
  },
  {
   "cell_type": "code",
   "execution_count": 15,
   "id": "c57958de",
   "metadata": {},
   "outputs": [
    {
     "name": "stderr",
     "output_type": "stream",
     "text": [
      "100%|████████████████████████████████████████████████████████████████████| 5798600/5798600 [00:35<00:00, 165460.15it/s]\n"
     ]
    },
    {
     "name": "stdout",
     "output_type": "stream",
     "text": [
      "(0, 0) (53462, 43891)\n",
      "(53462, 43891) (23158, 41282)\n",
      "(23158, 41282) (22570, 34086)\n",
      "(22570, 34086) (20839, 33812)\n",
      "(20839, 33812) (20769, 32897)\n",
      "(20769, 32897) (20530, 32867)\n",
      "(20530, 32867) (20519, 32739)\n",
      "(20519, 32739) (20482, 32732)\n",
      "(20482, 32732) (20480, 32708)\n",
      "(20480, 32708) (20471, 32706)\n",
      "(20471, 32706) (20471, 32701)\n",
      "(20471, 32701) (20471, 32701)\n"
     ]
    }
   ],
   "source": [
    "user_history = defaultdict(list)\n",
    "item_history = defaultdict(list)\n",
    "\n",
    "for row in tqdm(data):\n",
    "    user_raw_id = row['user_id']\n",
    "    item_raw_id = row['item_id']\n",
    "    interaction_timestamp = row['timestamp']\n",
    "    \n",
    "    user_history[user_raw_id].append({'item_id': item_raw_id, 'timestamp': interaction_timestamp})\n",
    "    item_history[item_raw_id].append({'user_id': user_raw_id, 'timestamp': interaction_timestamp})\n",
    "\n",
    "\n",
    "is_changed = True\n",
    "threshold = 20\n",
    "good_users = set()\n",
    "good_items = set()\n",
    "\n",
    "\n",
    "while is_changed:\n",
    "    old_state = (len(good_users), len(good_items))\n",
    "    \n",
    "    good_users = set()\n",
    "    good_items = set()\n",
    "\n",
    "    for user_id, history in user_history.items():\n",
    "        if len(history) >= threshold:\n",
    "            good_users.add(user_id)\n",
    "\n",
    "    for item_id, history in item_history.items():\n",
    "        if len(history) >= threshold:\n",
    "            good_items.add(item_id)\n",
    "    \n",
    "    user_history = {\n",
    "        user_id: list(filter(lambda x: x['item_id'] in good_items, history))\n",
    "        for user_id, history in user_history.items()\n",
    "    }\n",
    "    \n",
    "    item_history = {\n",
    "        item_id: list(filter(lambda x: x['user_id'] in good_users, history))\n",
    "        for item_id, history in item_history.items()\n",
    "    }\n",
    "    \n",
    "    new_state = (len(good_users), len(good_items))\n",
    "    is_changed = (old_state != new_state)\n",
    "    print(old_state, new_state)"
   ]
  },
  {
   "cell_type": "code",
   "execution_count": 16,
   "id": "e358950a",
   "metadata": {},
   "outputs": [
    {
     "name": "stderr",
     "output_type": "stream",
     "text": [
      "100%|███████████████████████████████████████████████████████████████████████| 101761/101761 [00:02<00:00, 34869.30it/s]\n",
      "100%|████████████████████████████████████████████████████████████████████| 1191771/1191771 [00:04<00:00, 239835.76it/s]\n"
     ]
    }
   ],
   "source": [
    "user_mapping = {}\n",
    "item_mapping = {}\n",
    "tmp_user_history = defaultdict(list)\n",
    "tmp_item_history = defaultdict(list)\n",
    "\n",
    "for user_id, history in tqdm(user_history.items()):\n",
    "    processed_history = []\n",
    "\n",
    "    for filtered_item in history:\n",
    "        item_id = filtered_item['item_id']\n",
    "        item_timestamp = filtered_item['timestamp']\n",
    "\n",
    "        processed_item_id = item_mapping.get(item_id, len(item_mapping) + 1)\n",
    "        item_mapping[item_id] = processed_item_id\n",
    "\n",
    "        processed_history.append({'item_id': processed_item_id, 'timestamp': item_timestamp})\n",
    "        \n",
    "    if len(processed_history) >= threshold:\n",
    "        processed_user_id = user_mapping.get(user_id, len(user_mapping) + 1)\n",
    "        user_mapping[user_id] = processed_user_id\n",
    "\n",
    "        tmp_user_history[processed_user_id] = sorted(processed_history, key=lambda x: x['timestamp'])\n",
    "\n",
    "    \n",
    "for item_id, history in tqdm(item_history.items()):\n",
    "    processed_history = []\n",
    "\n",
    "    for filtered_user in history:\n",
    "        user_id = filtered_user['user_id']\n",
    "        user_timestamp = filtered_user['timestamp']\n",
    "\n",
    "        processed_user_id = user_mapping.get(user_id, len(user_mapping) + 1)\n",
    "        user_mapping[user_id] = processed_user_id\n",
    "\n",
    "        processed_history.append({'user_id': processed_user_id, 'timestamp': user_timestamp})\n",
    "\n",
    "    if len(processed_history) >= threshold:\n",
    "        processed_item_id = item_mapping.get(item_id, len(item_mapping) + 1)\n",
    "        item_mapping[item_id] = processed_item_id\n",
    "\n",
    "        tmp_item_history[processed_item_id] = sorted(processed_history, key=lambda x: x['timestamp'])\n",
    "\n",
    "user_history = tmp_user_history\n",
    "item_history = tmp_item_history"
   ]
  },
  {
   "cell_type": "code",
   "execution_count": 17,
   "id": "af436d5a",
   "metadata": {},
   "outputs": [
    {
     "name": "stdout",
     "output_type": "stream",
     "text": [
      "Users count: 20471\n",
      "Items count: 32701\n",
      "Actions count: 1597715\n",
      "Avg user history len: 78.04772605148747\n",
      "Avg item history len: 48.85829179535794\n"
     ]
    }
   ],
   "source": [
    "print('Users count:', len(user_mapping))\n",
    "print('Items count:', len(item_mapping))\n",
    "print('Actions count:', sum(list(map(lambda x: len(x), user_history.values()))))\n",
    "print('Avg user history len:', np.mean(list(map(lambda x: len(x), user_history.values()))))\n",
    "print('Avg item history len:', np.mean(list(map(lambda x: len(x), item_history.values()))))"
   ]
  },
  {
   "cell_type": "code",
   "execution_count": 18,
   "id": "fe76ff8c",
   "metadata": {
    "scrolled": true
   },
   "outputs": [
    {
     "data": {
      "text/plain": [
       "((91465, 5), (644292, 5))"
      ]
     },
     "execution_count": 18,
     "metadata": {},
     "output_type": "execute_result"
    }
   ],
   "source": [
    "test_data_filtered = test_data[test_data.user_id.isin(user_mapping) & test_data.place_id.isin(item_mapping)]\n",
    "test_data_filtered.shape, test_data.shape"
   ]
  },
  {
   "cell_type": "code",
   "execution_count": 21,
   "id": "2fd6718e",
   "metadata": {},
   "outputs": [
    {
     "name": "stderr",
     "output_type": "stream",
     "text": [
      "91465it [00:04, 18372.18it/s]\n"
     ]
    },
    {
     "name": "stdout",
     "output_type": "stream",
     "text": [
      "91465\n"
     ]
    },
    {
     "name": "stderr",
     "output_type": "stream",
     "text": [
      "100%|████████████████████████████████████████████████████████████████████████| 91465/91465 [00:00<00:00, 788498.29it/s]\n",
      "100%|█████████████████████████████████████████████████████████████████████████| 10963/10963 [00:00<00:00, 66483.08it/s]\n"
     ]
    }
   ],
   "source": [
    "test_list = []\n",
    "\n",
    "for _, row in tqdm(test_data_filtered.iterrows()):\n",
    "    test_list.append({\n",
    "        'user_id': int(row.user_id),\n",
    "        'item_id': int(row.place_id),\n",
    "        'timestamp': int(row.timestamp)\n",
    "    })\n",
    "\n",
    "print(len(test_list))\n",
    "\n",
    "tmp_user_history = {}\n",
    "for user_id, history in user_history.items():\n",
    "    tmp_user_history[user_id] = sorted(history, key=lambda x: x['timestamp'])\n",
    "user_history = tmp_user_history\n",
    "\n",
    "test_list = sorted(test_list, key=lambda x: x['timestamp'])\n",
    "\n",
    "test_user_history = defaultdict(list)\n",
    "\n",
    "for row in tqdm(test_list):\n",
    "    user_raw_id = row['user_id']\n",
    "    item_raw_id = row['item_id']\n",
    "    interaction_timestamp = row['timestamp']\n",
    "    \n",
    "    test_user_history[user_raw_id].append({'item_id': item_raw_id, 'timestamp': interaction_timestamp})\n",
    "    \n",
    "tmp_user_history = defaultdict(list)\n",
    "\n",
    "\n",
    "for user_id, history in tqdm(test_user_history.items()):\n",
    "    processed_history = []\n",
    "\n",
    "    for filtered_item in history:\n",
    "        item_id = filtered_item['item_id']\n",
    "        item_timestamp = filtered_item['timestamp']\n",
    "\n",
    "        processed_item_id = item_mapping[item_id]\n",
    "        processed_history.append({'item_id': processed_item_id, 'timestamp': item_timestamp})\n",
    "        \n",
    "    processed_user_id = user_mapping[user_id]\n",
    "    tmp_user_history[processed_user_id] = sorted(processed_history, key=lambda x: x['timestamp'])\n",
    "\n",
    "    \n",
    "test_user_history = tmp_user_history"
   ]
  },
  {
   "cell_type": "code",
   "execution_count": 22,
   "id": "aa024ef6",
   "metadata": {},
   "outputs": [],
   "source": [
    "with open('../data/Gowalla/train_new.txt', 'w') as f:\n",
    "    for user_id, item_history in user_history.items():\n",
    "        f.write(' '.join([str(user_id)] + [\n",
    "            str(item_event['item_id']) for item_event in sorted(item_history, key=lambda x: x['timestamp'])\n",
    "        ]))\n",
    "        f.write('\\n')"
   ]
  },
  {
   "cell_type": "code",
   "execution_count": 23,
   "id": "65d1bc9d",
   "metadata": {},
   "outputs": [],
   "source": [
    "with open('../data/Gowalla/test_new.txt', 'w') as f:\n",
    "    for user_id, item_history in test_user_history.items():\n",
    "        f.write(' '.join([str(user_id)] + [\n",
    "            str(item_event['item_id']) for item_event in sorted(item_history, key=lambda x: x['timestamp'])\n",
    "        ]))\n",
    "        f.write('\\n')"
   ]
  },
  {
   "cell_type": "markdown",
   "id": "48fc1101",
   "metadata": {},
   "source": [
    "## All data"
   ]
  },
  {
   "cell_type": "code",
   "execution_count": 26,
   "id": "ac179af3",
   "metadata": {},
   "outputs": [
    {
     "name": "stderr",
     "output_type": "stream",
     "text": [
      "6442892it [05:49, 18441.06it/s]"
     ]
    },
    {
     "name": "stdout",
     "output_type": "stream",
     "text": [
      "6442892\n"
     ]
    },
    {
     "name": "stderr",
     "output_type": "stream",
     "text": [
      "\n"
     ]
    }
   ],
   "source": [
    "data = []\n",
    "\n",
    "for _, row in tqdm(checkins_df.iterrows()):\n",
    "    data.append({\n",
    "        'user_id': int(row.user_id),\n",
    "        'item_id': int(row.place_id),\n",
    "        'timestamp': int(row.timestamp)\n",
    "    })\n",
    "\n",
    "print(len(data))"
   ]
  },
  {
   "cell_type": "code",
   "execution_count": 27,
   "id": "ddbddaf0",
   "metadata": {},
   "outputs": [
    {
     "name": "stderr",
     "output_type": "stream",
     "text": [
      "100%|█████████████████████████████████████████████████████████████████████| 6442892/6442892 [01:21<00:00, 79494.54it/s]\n"
     ]
    },
    {
     "name": "stdout",
     "output_type": "stream",
     "text": [
      "(0, 0) (60562, 49750)\n",
      "(60562, 49750) (26336, 47198)\n",
      "(26336, 47198) (25811, 38979)\n",
      "(25811, 38979) (23856, 38730)\n",
      "(23856, 38730) (23797, 37646)\n",
      "(23797, 37646) (23509, 37610)\n",
      "(23509, 37610) (23499, 37452)\n",
      "(23499, 37452) (23443, 37451)\n",
      "(23443, 37451) (23442, 37414)\n",
      "(23442, 37414) (23431, 37414)\n",
      "(23431, 37414) (23431, 37404)\n",
      "(23431, 37404) (23429, 37404)\n",
      "(23429, 37404) (23429, 37402)\n",
      "(23429, 37402) (23427, 37402)\n",
      "(23427, 37402) (23427, 37398)\n",
      "(23427, 37398) (23427, 37398)\n"
     ]
    }
   ],
   "source": [
    "user_history = defaultdict(list)\n",
    "item_history = defaultdict(list)\n",
    "\n",
    "for row in tqdm(data):\n",
    "    user_raw_id = row['user_id']\n",
    "    item_raw_id = row['item_id']\n",
    "    interaction_timestamp = row['timestamp']\n",
    "    \n",
    "    user_history[user_raw_id].append({'item_id': item_raw_id, 'timestamp': interaction_timestamp})\n",
    "    item_history[item_raw_id].append({'user_id': user_raw_id, 'timestamp': interaction_timestamp})\n",
    "\n",
    "\n",
    "is_changed = True\n",
    "threshold = 20\n",
    "good_users = set()\n",
    "good_items = set()\n",
    "\n",
    "\n",
    "while is_changed:\n",
    "    old_state = (len(good_users), len(good_items))\n",
    "    \n",
    "    good_users = set()\n",
    "    good_items = set()\n",
    "\n",
    "    for user_id, history in user_history.items():\n",
    "        if len(history) >= threshold:\n",
    "            good_users.add(user_id)\n",
    "\n",
    "    for item_id, history in item_history.items():\n",
    "        if len(history) >= threshold:\n",
    "            good_items.add(item_id)\n",
    "    \n",
    "    user_history = {\n",
    "        user_id: list(filter(lambda x: x['item_id'] in good_items, history))\n",
    "        for user_id, history in user_history.items()\n",
    "    }\n",
    "    \n",
    "    item_history = {\n",
    "        item_id: list(filter(lambda x: x['user_id'] in good_users, history))\n",
    "        for item_id, history in item_history.items()\n",
    "    }\n",
    "    \n",
    "    new_state = (len(good_users), len(good_items))\n",
    "    is_changed = (old_state != new_state)\n",
    "    print(old_state, new_state)"
   ]
  },
  {
   "cell_type": "code",
   "execution_count": 28,
   "id": "7bda3cf4",
   "metadata": {},
   "outputs": [
    {
     "name": "stderr",
     "output_type": "stream",
     "text": [
      "100%|███████████████████████████████████████████████████████████████████████| 107092/107092 [00:03<00:00, 35007.23it/s]\n",
      "100%|████████████████████████████████████████████████████████████████████| 1280969/1280969 [00:06<00:00, 183525.04it/s]\n"
     ]
    }
   ],
   "source": [
    "user_mapping = {}\n",
    "item_mapping = {}\n",
    "tmp_user_history = defaultdict(list)\n",
    "tmp_item_history = defaultdict(list)\n",
    "\n",
    "for user_id, history in tqdm(user_history.items()):\n",
    "    processed_history = []\n",
    "\n",
    "    for filtered_item in history:\n",
    "        item_id = filtered_item['item_id']\n",
    "        item_timestamp = filtered_item['timestamp']\n",
    "\n",
    "        processed_item_id = item_mapping.get(item_id, len(item_mapping) + 1)\n",
    "        item_mapping[item_id] = processed_item_id\n",
    "\n",
    "        processed_history.append({'item_id': processed_item_id, 'timestamp': item_timestamp})\n",
    "        \n",
    "    if len(processed_history) >= threshold:\n",
    "        processed_user_id = user_mapping.get(user_id, len(user_mapping) + 1)\n",
    "        user_mapping[user_id] = processed_user_id\n",
    "\n",
    "        tmp_user_history[processed_user_id] = sorted(processed_history, key=lambda x: x['timestamp'])\n",
    "\n",
    "    \n",
    "for item_id, history in tqdm(item_history.items()):\n",
    "    processed_history = []\n",
    "\n",
    "    for filtered_user in history:\n",
    "        user_id = filtered_user['user_id']\n",
    "        user_timestamp = filtered_user['timestamp']\n",
    "\n",
    "        processed_user_id = user_mapping.get(user_id, len(user_mapping) + 1)\n",
    "        user_mapping[user_id] = processed_user_id\n",
    "\n",
    "        processed_history.append({'user_id': processed_user_id, 'timestamp': user_timestamp})\n",
    "\n",
    "    if len(processed_history) >= threshold:\n",
    "        processed_item_id = item_mapping.get(item_id, len(item_mapping) + 1)\n",
    "        item_mapping[item_id] = processed_item_id\n",
    "\n",
    "        tmp_item_history[processed_item_id] = sorted(processed_history, key=lambda x: x['timestamp'])\n",
    "\n",
    "user_history = tmp_user_history\n",
    "item_history = tmp_item_history"
   ]
  },
  {
   "cell_type": "code",
   "execution_count": 29,
   "id": "3a901d46",
   "metadata": {},
   "outputs": [
    {
     "name": "stdout",
     "output_type": "stream",
     "text": [
      "Users count: 23427\n",
      "Items count: 37398\n",
      "Actions count: 1849431\n",
      "Avg user history len: 78.94442310154949\n",
      "Avg item history len: 49.452671265843094\n"
     ]
    }
   ],
   "source": [
    "print('Users count:', len(user_mapping))\n",
    "print('Items count:', len(item_mapping))\n",
    "print('Actions count:', sum(list(map(lambda x: len(x), user_history.values()))))\n",
    "print('Avg user history len:', np.mean(list(map(lambda x: len(x), user_history.values()))))\n",
    "print('Avg item history len:', np.mean(list(map(lambda x: len(x), item_history.values()))))"
   ]
  },
  {
   "cell_type": "code",
   "execution_count": 30,
   "id": "8879188d",
   "metadata": {},
   "outputs": [],
   "source": [
    "with open('../data/Gowalla/all_data.txt', 'w') as f:\n",
    "    for user_id, item_history in user_history.items():\n",
    "        f.write(' '.join([str(user_id)] + [\n",
    "            str(item_event['item_id']) for item_event in sorted(item_history, key=lambda x: x['timestamp'])\n",
    "        ]))\n",
    "        f.write('\\n')"
   ]
  }
 ],
 "metadata": {
  "kernelspec": {
   "display_name": "Python 3",
   "language": "python",
   "name": "python3"
  },
  "language_info": {
   "codemirror_mode": {
    "name": "ipython",
    "version": 3
   },
   "file_extension": ".py",
   "mimetype": "text/x-python",
   "name": "python",
   "nbconvert_exporter": "python",
   "pygments_lexer": "ipython3",
   "version": "3.8.8"
  }
 },
 "nbformat": 4,
 "nbformat_minor": 5
}
