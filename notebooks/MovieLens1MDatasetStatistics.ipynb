{
 "cells": [
  {
   "cell_type": "code",
   "execution_count": 41,
   "id": "f4cd1f0b",
   "metadata": {},
   "outputs": [],
   "source": [
    "import os\n",
    "import sys\n",
    "import json\n",
    "import datetime\n",
    "import matplotlib.pyplot as plt\n",
    "import numpy as np\n",
    "import pandas as pd\n",
    "\n",
    "from tqdm import tqdm\n",
    "from collections import defaultdict, Counter\n",
    "\n",
    "%matplotlib inline"
   ]
  },
  {
   "cell_type": "code",
   "execution_count": 42,
   "id": "9930700e",
   "metadata": {},
   "outputs": [],
   "source": [
    "path_to_df = '../data/MovieLens1M/ratings.dat'"
   ]
  },
  {
   "cell_type": "code",
   "execution_count": 43,
   "id": "631f2ea1",
   "metadata": {},
   "outputs": [],
   "source": [
    "df = pd.read_csv(path_to_df, sep='::', engine='python', names=['user_id','item_id','rating','timestamp'])"
   ]
  },
  {
   "cell_type": "code",
   "execution_count": 44,
   "id": "9fb24b90",
   "metadata": {},
   "outputs": [
    {
     "data": {
      "text/html": [
       "<div>\n",
       "<style scoped>\n",
       "    .dataframe tbody tr th:only-of-type {\n",
       "        vertical-align: middle;\n",
       "    }\n",
       "\n",
       "    .dataframe tbody tr th {\n",
       "        vertical-align: top;\n",
       "    }\n",
       "\n",
       "    .dataframe thead th {\n",
       "        text-align: right;\n",
       "    }\n",
       "</style>\n",
       "<table border=\"1\" class=\"dataframe\">\n",
       "  <thead>\n",
       "    <tr style=\"text-align: right;\">\n",
       "      <th></th>\n",
       "      <th>user_id</th>\n",
       "      <th>item_id</th>\n",
       "      <th>rating</th>\n",
       "      <th>timestamp</th>\n",
       "    </tr>\n",
       "  </thead>\n",
       "  <tbody>\n",
       "    <tr>\n",
       "      <th>0</th>\n",
       "      <td>1</td>\n",
       "      <td>1193</td>\n",
       "      <td>5</td>\n",
       "      <td>978300760</td>\n",
       "    </tr>\n",
       "    <tr>\n",
       "      <th>1</th>\n",
       "      <td>1</td>\n",
       "      <td>661</td>\n",
       "      <td>3</td>\n",
       "      <td>978302109</td>\n",
       "    </tr>\n",
       "    <tr>\n",
       "      <th>2</th>\n",
       "      <td>1</td>\n",
       "      <td>914</td>\n",
       "      <td>3</td>\n",
       "      <td>978301968</td>\n",
       "    </tr>\n",
       "    <tr>\n",
       "      <th>3</th>\n",
       "      <td>1</td>\n",
       "      <td>3408</td>\n",
       "      <td>4</td>\n",
       "      <td>978300275</td>\n",
       "    </tr>\n",
       "    <tr>\n",
       "      <th>4</th>\n",
       "      <td>1</td>\n",
       "      <td>2355</td>\n",
       "      <td>5</td>\n",
       "      <td>978824291</td>\n",
       "    </tr>\n",
       "  </tbody>\n",
       "</table>\n",
       "</div>"
      ],
      "text/plain": [
       "   user_id  item_id  rating  timestamp\n",
       "0        1     1193       5  978300760\n",
       "1        1      661       3  978302109\n",
       "2        1      914       3  978301968\n",
       "3        1     3408       4  978300275\n",
       "4        1     2355       5  978824291"
      ]
     },
     "execution_count": 44,
     "metadata": {},
     "output_type": "execute_result"
    }
   ],
   "source": [
    "df.head()"
   ]
  },
  {
   "cell_type": "code",
   "execution_count": 45,
   "id": "a33b9d1a",
   "metadata": {},
   "outputs": [
    {
     "data": {
      "text/plain": [
       "(1000209, 4)"
      ]
     },
     "execution_count": 45,
     "metadata": {},
     "output_type": "execute_result"
    }
   ],
   "source": [
    "df.shape"
   ]
  },
  {
   "cell_type": "code",
   "execution_count": 46,
   "id": "7973db20",
   "metadata": {},
   "outputs": [
    {
     "data": {
      "text/plain": [
       "user_id      0\n",
       "item_id      0\n",
       "rating       0\n",
       "timestamp    0\n",
       "dtype: int64"
      ]
     },
     "execution_count": 46,
     "metadata": {},
     "output_type": "execute_result"
    }
   ],
   "source": [
    "df.isnull().sum()"
   ]
  },
  {
   "cell_type": "code",
   "execution_count": 48,
   "id": "80ab24e8",
   "metadata": {},
   "outputs": [
    {
     "data": {
      "text/plain": [
       "(6040, (3706,))"
      ]
     },
     "execution_count": 48,
     "metadata": {},
     "output_type": "execute_result"
    }
   ],
   "source": [
    "df.user_id.max(), df.item_id.unique().shape"
   ]
  },
  {
   "cell_type": "code",
   "execution_count": 21,
   "id": "cc673c22",
   "metadata": {},
   "outputs": [
    {
     "data": {
      "text/plain": [
       "(1, 6040, (6040,))"
      ]
     },
     "execution_count": 21,
     "metadata": {},
     "output_type": "execute_result"
    }
   ],
   "source": [
    "df.user_id = pd.factorize(df.user_id)[0] + 1\n",
    "df.user_id.min(), df.user_id.max(), df.user_id.unique().shape"
   ]
  },
  {
   "cell_type": "code",
   "execution_count": 22,
   "id": "eb591d07",
   "metadata": {},
   "outputs": [
    {
     "data": {
      "text/plain": [
       "(1, 3706, (3706,))"
      ]
     },
     "execution_count": 22,
     "metadata": {},
     "output_type": "execute_result"
    }
   ],
   "source": [
    "df.item_id = pd.factorize(df.item_id)[0] + 1\n",
    "df.item_id.min(), df.item_id.max(), df.item_id.unique().shape"
   ]
  },
  {
   "cell_type": "code",
   "execution_count": 23,
   "id": "502c657a",
   "metadata": {},
   "outputs": [
    {
     "data": {
      "text/html": [
       "<div>\n",
       "<style scoped>\n",
       "    .dataframe tbody tr th:only-of-type {\n",
       "        vertical-align: middle;\n",
       "    }\n",
       "\n",
       "    .dataframe tbody tr th {\n",
       "        vertical-align: top;\n",
       "    }\n",
       "\n",
       "    .dataframe thead th {\n",
       "        text-align: right;\n",
       "    }\n",
       "</style>\n",
       "<table border=\"1\" class=\"dataframe\">\n",
       "  <thead>\n",
       "    <tr style=\"text-align: right;\">\n",
       "      <th></th>\n",
       "      <th>user_id</th>\n",
       "      <th>item_id</th>\n",
       "      <th>rating</th>\n",
       "      <th>timestamp</th>\n",
       "    </tr>\n",
       "  </thead>\n",
       "  <tbody>\n",
       "    <tr>\n",
       "      <th>0</th>\n",
       "      <td>1</td>\n",
       "      <td>1</td>\n",
       "      <td>5</td>\n",
       "      <td>978300760</td>\n",
       "    </tr>\n",
       "    <tr>\n",
       "      <th>1</th>\n",
       "      <td>1</td>\n",
       "      <td>2</td>\n",
       "      <td>3</td>\n",
       "      <td>978302109</td>\n",
       "    </tr>\n",
       "    <tr>\n",
       "      <th>2</th>\n",
       "      <td>1</td>\n",
       "      <td>3</td>\n",
       "      <td>3</td>\n",
       "      <td>978301968</td>\n",
       "    </tr>\n",
       "    <tr>\n",
       "      <th>3</th>\n",
       "      <td>1</td>\n",
       "      <td>4</td>\n",
       "      <td>4</td>\n",
       "      <td>978300275</td>\n",
       "    </tr>\n",
       "    <tr>\n",
       "      <th>4</th>\n",
       "      <td>1</td>\n",
       "      <td>5</td>\n",
       "      <td>5</td>\n",
       "      <td>978824291</td>\n",
       "    </tr>\n",
       "  </tbody>\n",
       "</table>\n",
       "</div>"
      ],
      "text/plain": [
       "   user_id  item_id  rating  timestamp\n",
       "0        1        1       5  978300760\n",
       "1        1        2       3  978302109\n",
       "2        1        3       3  978301968\n",
       "3        1        4       4  978300275\n",
       "4        1        5       5  978824291"
      ]
     },
     "execution_count": 23,
     "metadata": {},
     "output_type": "execute_result"
    }
   ],
   "source": [
    "df.head()"
   ]
  },
  {
   "cell_type": "code",
   "execution_count": 11,
   "id": "cba803ec",
   "metadata": {},
   "outputs": [
    {
     "data": {
      "text/plain": [
       "1000209"
      ]
     },
     "execution_count": 11,
     "metadata": {},
     "output_type": "execute_result"
    }
   ],
   "source": [
    "sorted_timestamps = sorted(df.timestamp)\n",
    "len(sorted_timestamps)"
   ]
  },
  {
   "cell_type": "code",
   "execution_count": 12,
   "id": "fc4d8c88",
   "metadata": {},
   "outputs": [
    {
     "name": "stdout",
     "output_type": "stream",
     "text": [
      "975768738 978133414\n"
     ]
    }
   ],
   "source": [
    "threshold_timestamp = sorted_timestamps[int(len(sorted_timestamps) * (1.0 - 0.2))]\n",
    "test_threshold_timestamp = sorted_timestamps[int(len(sorted_timestamps) * (1.0 - 0.1))]\n",
    "\n",
    "print(threshold_timestamp, test_threshold_timestamp)"
   ]
  },
  {
   "cell_type": "code",
   "execution_count": 13,
   "id": "e5968484",
   "metadata": {},
   "outputs": [
    {
     "data": {
      "text/plain": [
       "((800164, 4), (100024, 4), (100021, 4))"
      ]
     },
     "execution_count": 13,
     "metadata": {},
     "output_type": "execute_result"
    }
   ],
   "source": [
    "train_data = df[df.timestamp < threshold_timestamp]\n",
    "validation_data = df[(threshold_timestamp <= df.timestamp) & (df.timestamp < test_threshold_timestamp)]\n",
    "test_data = df[test_threshold_timestamp <= df.timestamp]\n",
    "\n",
    "train_data.shape, validation_data.shape, test_data.shape"
   ]
  },
  {
   "cell_type": "code",
   "execution_count": 14,
   "id": "1faba712",
   "metadata": {},
   "outputs": [
    {
     "name": "stderr",
     "output_type": "stream",
     "text": [
      "800164it [00:43, 18468.88it/s]"
     ]
    },
    {
     "name": "stdout",
     "output_type": "stream",
     "text": [
      "800164\n"
     ]
    },
    {
     "name": "stderr",
     "output_type": "stream",
     "text": [
      "\n"
     ]
    }
   ],
   "source": [
    "data = []\n",
    "\n",
    "for _, row in tqdm(train_data.iterrows()):\n",
    "    data.append({\n",
    "        'user_id': int(row.user_id),\n",
    "        'item_id': int(row.item_id),\n",
    "        'timestamp': int(row.timestamp)\n",
    "    })\n",
    "\n",
    "print(len(data))"
   ]
  },
  {
   "cell_type": "code",
   "execution_count": 15,
   "id": "e0dbe5ae",
   "metadata": {},
   "outputs": [
    {
     "name": "stderr",
     "output_type": "stream",
     "text": [
      "100%|█████████████████████████████████████████████████████████████████████| 800164/800164 [00:00<00:00, 1040524.96it/s]\n"
     ]
    },
    {
     "name": "stdout",
     "output_type": "stream",
     "text": [
      "(0, 0) (5343, 3155)\n",
      "(5343, 3155) (5343, 3155)\n"
     ]
    }
   ],
   "source": [
    "user_history = defaultdict(list)\n",
    "item_history = defaultdict(list)\n",
    "\n",
    "for row in tqdm(data):\n",
    "    user_raw_id = row['user_id']\n",
    "    item_raw_id = row['item_id']\n",
    "    interaction_timestamp = row['timestamp']\n",
    "    \n",
    "    user_history[user_raw_id].append({'item_id': item_raw_id, 'timestamp': interaction_timestamp})\n",
    "    item_history[item_raw_id].append({'user_id': user_raw_id, 'timestamp': interaction_timestamp})\n",
    "\n",
    "\n",
    "is_changed = True\n",
    "threshold = 10\n",
    "good_users = set()\n",
    "good_items = set()\n",
    "\n",
    "\n",
    "while is_changed:\n",
    "    old_state = (len(good_users), len(good_items))\n",
    "    \n",
    "    good_users = set()\n",
    "    good_items = set()\n",
    "\n",
    "    for user_id, history in user_history.items():\n",
    "        if len(history) >= threshold:\n",
    "            good_users.add(user_id)\n",
    "\n",
    "    for item_id, history in item_history.items():\n",
    "        if len(history) >= threshold:\n",
    "            good_items.add(item_id)\n",
    "    \n",
    "    user_history = {\n",
    "        user_id: list(filter(lambda x: x['item_id'] in good_items, history))\n",
    "        for user_id, history in user_history.items()\n",
    "    }\n",
    "    \n",
    "    item_history = {\n",
    "        item_id: list(filter(lambda x: x['user_id'] in good_users, history))\n",
    "        for item_id, history in item_history.items()\n",
    "    }\n",
    "    \n",
    "    new_state = (len(good_users), len(good_items))\n",
    "    is_changed = (old_state != new_state)\n",
    "    print(old_state, new_state)"
   ]
  },
  {
   "cell_type": "code",
   "execution_count": 16,
   "id": "874375a7",
   "metadata": {},
   "outputs": [
    {
     "name": "stderr",
     "output_type": "stream",
     "text": [
      "100%|████████████████████████████████████████████████████████████████████████████| 5400/5400 [00:00<00:00, 7086.62it/s]\n",
      "100%|████████████████████████████████████████████████████████████████████████████| 3662/3662 [00:01<00:00, 3338.20it/s]\n"
     ]
    }
   ],
   "source": [
    "user_mapping = {}\n",
    "item_mapping = {}\n",
    "tmp_user_history = defaultdict(list)\n",
    "tmp_item_history = defaultdict(list)\n",
    "\n",
    "for raw_user_id, history in tqdm(user_history.items()):\n",
    "    if len(history) >= threshold:\n",
    "        processed_history = []\n",
    "\n",
    "        for filtered_item_event in history:\n",
    "            raw_item_id = filtered_item_event['item_id']\n",
    "            item_timestamp = filtered_item_event['timestamp']\n",
    "\n",
    "            processed_item_id = item_mapping.get(raw_item_id, len(item_mapping) + 1)\n",
    "            item_mapping[raw_item_id] = processed_item_id\n",
    "\n",
    "            processed_history.append({'item_id': processed_item_id, 'timestamp': item_timestamp})\n",
    "        \n",
    "        processed_user_id = user_mapping.get(raw_user_id, len(user_mapping) + 1)\n",
    "        user_mapping[raw_user_id] = processed_user_id\n",
    "\n",
    "        tmp_user_history[processed_user_id] = sorted(processed_history, key=lambda x: x['timestamp'])\n",
    "\n",
    "    \n",
    "for raw_item_id, history in tqdm(item_history.items()):\n",
    "    if len(history) >= threshold:\n",
    "        processed_history = []\n",
    "\n",
    "        for filtered_user_event in history:\n",
    "            raw_user_id = filtered_user_event['user_id']\n",
    "            user_timestamp = filtered_user_event['timestamp']\n",
    "\n",
    "            processed_user_id = user_mapping.get(raw_user_id, len(user_mapping) + 1)\n",
    "            user_mapping[raw_user_id] = processed_user_id\n",
    "\n",
    "            processed_history.append({'user_id': processed_user_id, 'timestamp': user_timestamp})\n",
    "\n",
    "\n",
    "        processed_item_id = item_mapping.get(raw_item_id, len(item_mapping) + 1)\n",
    "        item_mapping[raw_item_id] = processed_item_id\n",
    "\n",
    "        tmp_item_history[processed_item_id] = sorted(processed_history, key=lambda x: x['timestamp'])\n",
    "\n",
    "train_user_history = tmp_user_history\n",
    "train_item_history = tmp_item_history"
   ]
  },
  {
   "cell_type": "code",
   "execution_count": 17,
   "id": "78e26ead",
   "metadata": {},
   "outputs": [
    {
     "name": "stdout",
     "output_type": "stream",
     "text": [
      "Users count: 5343\n",
      "Items count: 3155\n",
      "Actions count: 798216\n",
      "Avg train user history len: 149.3295901179113\n",
      "Avg train item history len: 149.3295901179113\n"
     ]
    }
   ],
   "source": [
    "print('Users count:', len(user_mapping))\n",
    "print('Items count:', len(item_mapping))\n",
    "print('Actions count:', sum(list(map(lambda x: len(x), user_history.values()))))\n",
    "print('Avg train user history len:', np.mean(list(map(lambda x: len(x), train_user_history.values()))))\n",
    "print('Avg train item history len:', np.mean(list(map(lambda x: len(x), train_user_history.values()))))"
   ]
  },
  {
   "cell_type": "code",
   "execution_count": 18,
   "id": "c550cb4d",
   "metadata": {},
   "outputs": [
    {
     "name": "stdout",
     "output_type": "stream",
     "text": [
      "Train data. Before: (800164, 4). After: (797868, 4)\n",
      "Validation data. Before: (100024, 4). After: (22895, 4)\n",
      "Test data. Before: (100021, 4). After: (75099, 4)\n"
     ]
    }
   ],
   "source": [
    "train_data_filtered = train_data[train_data.user_id.isin(user_mapping) & train_data.item_id.isin(item_mapping)]\n",
    "validation_data_filtered = validation_data[validation_data.user_id.isin(user_mapping) & validation_data.item_id.isin(item_mapping)]\n",
    "test_data_filtered = test_data[test_data.user_id.isin(user_mapping) & test_data.item_id.isin(item_mapping)]\n",
    "\n",
    "print(f'Train data. Before: {train_data.shape}. After: {train_data_filtered.shape}')\n",
    "print(f'Validation data. Before: {validation_data.shape}. After: {validation_data_filtered.shape}')\n",
    "print(f'Test data. Before: {test_data.shape}. After: {test_data_filtered.shape}')"
   ]
  },
  {
   "cell_type": "code",
   "execution_count": 19,
   "id": "93828aee",
   "metadata": {},
   "outputs": [],
   "source": [
    "# Save train data (TODO do we need to duplicate: I think yes)\n",
    "with open('../data/MovieLens1M/train_new.txt', 'w') as f:\n",
    "    cnt = 0\n",
    "    cnt_added = 0\n",
    "    for user_id, history in train_user_history.items():\n",
    "        previous_history = []\n",
    "        \n",
    "        for item_event in sorted(history, key=lambda x: x['timestamp']):\n",
    "            if len(previous_history) + 1 >= threshold:\n",
    "                f.write(' '.join([str(user_id)] + previous_history + [str(item_event['item_id'])]))\n",
    "                f.write('\\n')\n",
    "                cnt_added += 1\n",
    "            \n",
    "            previous_history.append(str(item_event['item_id']))\n",
    "            cnt += 1\n",
    "            \n",
    "    assert cnt == train_data_filtered.shape[0]\n",
    "    assert cnt == cnt_added + (len(user_mapping) * (threshold - 1))"
   ]
  },
  {
   "cell_type": "code",
   "execution_count": 20,
   "id": "ba2cc702",
   "metadata": {},
   "outputs": [
    {
     "name": "stderr",
     "output_type": "stream",
     "text": [
      "22895it [00:01, 17985.12it/s]\n",
      "100%|███████████████████████████████████████████████████████████████████████| 22895/22895 [00:00<00:00, 1205223.47it/s]\n",
      "100%|█████████████████████████████████████████████████████████████████████████████| 509/509 [00:00<00:00, 29943.77it/s]"
     ]
    },
    {
     "name": "stdout",
     "output_type": "stream",
     "text": [
      "22895\n"
     ]
    },
    {
     "name": "stderr",
     "output_type": "stream",
     "text": [
      "\n"
     ]
    }
   ],
   "source": [
    "validation_list = []\n",
    "\n",
    "for _, row in tqdm(validation_data_filtered.iterrows()):\n",
    "    validation_list.append({\n",
    "        'user_id': int(row.user_id),\n",
    "        'item_id': int(row.item_id),\n",
    "        'timestamp': int(row.timestamp)\n",
    "    })\n",
    "validation_list = sorted(validation_list, key=lambda x: x['timestamp'])\n",
    "print(len(validation_list))\n",
    "\n",
    "\n",
    "# Add events to `validation_user_history`\n",
    "validation_user_history = defaultdict(list)\n",
    "for row in tqdm(validation_list):\n",
    "    user_raw_id = row['user_id']\n",
    "    item_raw_id = row['item_id']\n",
    "    interaction_timestamp = row['timestamp']\n",
    "    validation_user_history[user_raw_id].append({'item_id': item_raw_id, 'timestamp': interaction_timestamp})\n",
    "\n",
    "# Re-number user and item IDs\n",
    "tmp_user_history = defaultdict(list)\n",
    "for user_id, history in tqdm(validation_user_history.items()):\n",
    "    processed_user_id = user_mapping[user_id]\n",
    "    \n",
    "    processed_history = []\n",
    "    for item_event in history:\n",
    "        item_id = item_event['item_id']\n",
    "        item_timestamp = item_event['timestamp']\n",
    "        processed_item_id = item_mapping[item_id]\n",
    "        processed_history.append({'item_id': processed_item_id, 'timestamp': item_timestamp})\n",
    "        \n",
    "    tmp_user_history[processed_user_id] = sorted(processed_history, key=lambda x: x['timestamp'])\n",
    "validation_user_history = tmp_user_history"
   ]
  },
  {
   "cell_type": "code",
   "execution_count": 21,
   "id": "2264b812",
   "metadata": {},
   "outputs": [],
   "source": [
    "# Save validation data\n",
    "with open('../data/MovieLens1M/validation_new.txt', 'w') as f:\n",
    "    cnt = 0\n",
    "    for user_id, validation_history in validation_user_history.items():\n",
    "        previous_history = [\n",
    "            str(event['item_id']) for event in sorted(train_user_history[user_id], key=lambda x: x['timestamp'])\n",
    "        ]\n",
    "        assert len(previous_history) > 0\n",
    "        \n",
    "        for validation_item_event in  sorted(validation_history, key=lambda x: x['timestamp']):\n",
    "            assert len(previous_history) + 1 >= threshold\n",
    "            \n",
    "            f.write(' '.join([str(user_id)] + previous_history + [str(validation_item_event['item_id'])]))\n",
    "            f.write('\\n')\n",
    "            \n",
    "            previous_history.append(str(validation_item_event['item_id']))\n",
    "            cnt += 1\n",
    "            \n",
    "    assert cnt == validation_data_filtered.shape[0]"
   ]
  },
  {
   "cell_type": "code",
   "execution_count": 22,
   "id": "2ca04044",
   "metadata": {},
   "outputs": [
    {
     "name": "stderr",
     "output_type": "stream",
     "text": [
      "75099it [00:04, 17932.21it/s]\n",
      "100%|███████████████████████████████████████████████████████████████████████| 75099/75099 [00:00<00:00, 1043055.10it/s]\n",
      "100%|█████████████████████████████████████████████████████████████████████████████| 959/959 [00:00<00:00, 16254.89it/s]"
     ]
    },
    {
     "name": "stdout",
     "output_type": "stream",
     "text": [
      "75099\n"
     ]
    },
    {
     "name": "stderr",
     "output_type": "stream",
     "text": [
      "\n"
     ]
    }
   ],
   "source": [
    "test_list = []\n",
    "\n",
    "for _, row in tqdm(test_data_filtered.iterrows()):\n",
    "    test_list.append({\n",
    "        'user_id': int(row.user_id),\n",
    "        'item_id': int(row.item_id),\n",
    "        'timestamp': int(row.timestamp)\n",
    "    })\n",
    "test_list = sorted(test_list, key=lambda x: x['timestamp'])\n",
    "print(len(test_list))\n",
    "\n",
    "# Add events to `test_user_history`\n",
    "test_user_history = defaultdict(list)\n",
    "for row in tqdm(test_list):\n",
    "    user_raw_id = row['user_id']\n",
    "    item_raw_id = row['item_id']\n",
    "    interaction_timestamp = row['timestamp']\n",
    "    test_user_history[user_raw_id].append({'item_id': item_raw_id, 'timestamp': interaction_timestamp})\n",
    "\n",
    "# Re-number user and item IDs\n",
    "tmp_user_history = defaultdict(list)\n",
    "for user_id, history in tqdm(test_user_history.items()):\n",
    "    processed_user_id = user_mapping[user_id]\n",
    "    \n",
    "    processed_history = []\n",
    "    for item_event in history:\n",
    "        item_id = item_event['item_id']\n",
    "        item_timestamp = item_event['timestamp']\n",
    "        processed_item_id = item_mapping[item_id]\n",
    "        processed_history.append({'item_id': processed_item_id, 'timestamp': item_timestamp})\n",
    "        \n",
    "    tmp_user_history[processed_user_id] = sorted(processed_history, key=lambda x: x['timestamp'])\n",
    "test_user_history = tmp_user_history"
   ]
  },
  {
   "cell_type": "code",
   "execution_count": 23,
   "id": "26ae1977",
   "metadata": {},
   "outputs": [],
   "source": [
    "# Save test data\n",
    "with open('../data/MovieLens1M/test_new.txt', 'w') as f:\n",
    "    cnt = 0\n",
    "    for user_id, test_history in test_user_history.items():\n",
    "        train_history = [\n",
    "            str(event['item_id']) for event in sorted(train_user_history[user_id], key=lambda x: x['timestamp'])\n",
    "        ]\n",
    "        validation_history = [\n",
    "            str(event['item_id']) for event in sorted(validation_user_history[user_id], key=lambda x: x['timestamp'])\n",
    "        ]\n",
    "        previous_history = train_history + validation_history\n",
    "        assert len(train_history) > 0\n",
    "        \n",
    "        for test_item_event in sorted(test_history, key=lambda x: x['timestamp']):\n",
    "            f.write(' '.join([str(user_id)] + previous_history + [str(test_item_event['item_id'])]))\n",
    "            f.write('\\n')\n",
    "            \n",
    "            previous_history.append(str(test_item_event['item_id']))\n",
    "            cnt += 1\n",
    "            \n",
    "    assert cnt == test_data_filtered.shape[0]"
   ]
  },
  {
   "cell_type": "markdown",
   "id": "9cdc77cc",
   "metadata": {},
   "source": [
    "## All data"
   ]
  },
  {
   "cell_type": "code",
   "execution_count": 33,
   "id": "6d212c54",
   "metadata": {},
   "outputs": [
    {
     "data": {
      "text/html": [
       "<div>\n",
       "<style scoped>\n",
       "    .dataframe tbody tr th:only-of-type {\n",
       "        vertical-align: middle;\n",
       "    }\n",
       "\n",
       "    .dataframe tbody tr th {\n",
       "        vertical-align: top;\n",
       "    }\n",
       "\n",
       "    .dataframe thead th {\n",
       "        text-align: right;\n",
       "    }\n",
       "</style>\n",
       "<table border=\"1\" class=\"dataframe\">\n",
       "  <thead>\n",
       "    <tr style=\"text-align: right;\">\n",
       "      <th></th>\n",
       "      <th>user_id</th>\n",
       "      <th>item_id</th>\n",
       "      <th>rating</th>\n",
       "      <th>timestamp</th>\n",
       "    </tr>\n",
       "  </thead>\n",
       "  <tbody>\n",
       "    <tr>\n",
       "      <th>0</th>\n",
       "      <td>1</td>\n",
       "      <td>1</td>\n",
       "      <td>5</td>\n",
       "      <td>978300760</td>\n",
       "    </tr>\n",
       "    <tr>\n",
       "      <th>1</th>\n",
       "      <td>1</td>\n",
       "      <td>2</td>\n",
       "      <td>3</td>\n",
       "      <td>978302109</td>\n",
       "    </tr>\n",
       "    <tr>\n",
       "      <th>2</th>\n",
       "      <td>1</td>\n",
       "      <td>3</td>\n",
       "      <td>3</td>\n",
       "      <td>978301968</td>\n",
       "    </tr>\n",
       "    <tr>\n",
       "      <th>3</th>\n",
       "      <td>1</td>\n",
       "      <td>4</td>\n",
       "      <td>4</td>\n",
       "      <td>978300275</td>\n",
       "    </tr>\n",
       "    <tr>\n",
       "      <th>4</th>\n",
       "      <td>1</td>\n",
       "      <td>5</td>\n",
       "      <td>5</td>\n",
       "      <td>978824291</td>\n",
       "    </tr>\n",
       "  </tbody>\n",
       "</table>\n",
       "</div>"
      ],
      "text/plain": [
       "   user_id  item_id  rating  timestamp\n",
       "0        1        1       5  978300760\n",
       "1        1        2       3  978302109\n",
       "2        1        3       3  978301968\n",
       "3        1        4       4  978300275\n",
       "4        1        5       5  978824291"
      ]
     },
     "execution_count": 33,
     "metadata": {},
     "output_type": "execute_result"
    }
   ],
   "source": [
    "df.head()"
   ]
  },
  {
   "cell_type": "code",
   "execution_count": 34,
   "id": "bf5beb4d",
   "metadata": {},
   "outputs": [
    {
     "name": "stderr",
     "output_type": "stream",
     "text": [
      "1000209it [00:39, 25311.01it/s]"
     ]
    },
    {
     "name": "stdout",
     "output_type": "stream",
     "text": [
      "1000209\n"
     ]
    },
    {
     "name": "stderr",
     "output_type": "stream",
     "text": [
      "\n"
     ]
    }
   ],
   "source": [
    "data = []\n",
    "\n",
    "for _, row in tqdm(df.iterrows()):\n",
    "    data.append({\n",
    "        'user_id': int(row.user_id),\n",
    "        'item_id': int(row.item_id),\n",
    "        'timestamp': int(row.timestamp)\n",
    "    })\n",
    "\n",
    "print(len(data))"
   ]
  },
  {
   "cell_type": "code",
   "execution_count": 40,
   "id": "c6ebbfef",
   "metadata": {},
   "outputs": [
    {
     "name": "stderr",
     "output_type": "stream",
     "text": [
      "100%|███████████████████████████████████████████████████████████████████| 1000209/1000209 [00:00<00:00, 1005387.79it/s]"
     ]
    },
    {
     "name": "stdout",
     "output_type": "stream",
     "text": [
      "3706\n"
     ]
    },
    {
     "name": "stderr",
     "output_type": "stream",
     "text": [
      "\n"
     ]
    }
   ],
   "source": [
    "user_history = defaultdict(list)\n",
    "item_history = defaultdict(list)\n",
    "\n",
    "num_items = set()\n",
    "\n",
    "for row in tqdm(data):\n",
    "    user_raw_id = row['user_id']\n",
    "    item_raw_id = row['item_id']\n",
    "    interaction_timestamp = row['timestamp']\n",
    "    \n",
    "    num_items.add(item_raw_id)\n",
    "    \n",
    "    user_history[user_raw_id].append({'item_id': item_raw_id, 'timestamp': interaction_timestamp})\n",
    "    item_history[item_raw_id].append({'user_id': user_raw_id, 'timestamp': interaction_timestamp})\n",
    "\n",
    "print(len(num_items))"
   ]
  },
  {
   "cell_type": "code",
   "execution_count": 39,
   "id": "28918ff5",
   "metadata": {},
   "outputs": [
    {
     "name": "stdout",
     "output_type": "stream",
     "text": [
      "(0, 0) (6040, 3706)\n",
      "(6040, 3706) (6040, 3706)\n"
     ]
    }
   ],
   "source": [
    "is_changed = True\n",
    "threshold = 5\n",
    "good_users = set()\n",
    "good_items = set()\n",
    "\n",
    "\n",
    "while is_changed:\n",
    "    old_state = (len(good_users), len(good_items))\n",
    "    \n",
    "    good_users = set()\n",
    "    good_items = set()\n",
    "\n",
    "    for user_id, history in user_history.items():\n",
    "        if len(history) >= threshold:\n",
    "            good_users.add(user_id)\n",
    "\n",
    "    for item_id, history in item_history.items():\n",
    "        if len(history) >= 1:\n",
    "            good_items.add(item_id)\n",
    "    \n",
    "    user_history = {\n",
    "        user_id: list(filter(lambda x: x['item_id'] in good_items, history))\n",
    "        for user_id, history in user_history.items()\n",
    "    }\n",
    "    \n",
    "    item_history = {\n",
    "        item_id: list(filter(lambda x: x['user_id'] in good_users, history))\n",
    "        for item_id, history in item_history.items()\n",
    "    }\n",
    "    \n",
    "    new_state = (len(good_users), len(good_items))\n",
    "    is_changed = (old_state != new_state)\n",
    "    print(old_state, new_state)"
   ]
  },
  {
   "cell_type": "code",
   "execution_count": 28,
   "id": "d98250cd",
   "metadata": {},
   "outputs": [
    {
     "name": "stderr",
     "output_type": "stream",
     "text": [
      "100%|████████████████████████████████████████████████████████████████████████████| 6040/6040 [00:00<00:00, 6371.33it/s]\n",
      "100%|████████████████████████████████████████████████████████████████████████████| 3706/3706 [00:01<00:00, 2656.63it/s]\n"
     ]
    }
   ],
   "source": [
    "user_mapping = {}\n",
    "item_mapping = {}\n",
    "tmp_user_history = defaultdict(list)\n",
    "tmp_item_history = defaultdict(list)\n",
    "\n",
    "for user_id, history in tqdm(user_history.items()):\n",
    "    processed_history = []\n",
    "\n",
    "    for filtered_item in history:\n",
    "        item_id = filtered_item['item_id']\n",
    "        item_timestamp = filtered_item['timestamp']\n",
    "\n",
    "        processed_item_id = item_mapping.get(item_id, len(item_mapping) + 1)\n",
    "        item_mapping[item_id] = processed_item_id\n",
    "\n",
    "        processed_history.append({'item_id': processed_item_id, 'timestamp': item_timestamp})\n",
    "        \n",
    "    if len(processed_history) >= threshold:\n",
    "        processed_user_id = user_mapping.get(user_id, len(user_mapping) + 1)\n",
    "        user_mapping[user_id] = processed_user_id\n",
    "\n",
    "        tmp_user_history[processed_user_id] = sorted(processed_history, key=lambda x: x['timestamp'])\n",
    "\n",
    "    \n",
    "for item_id, history in tqdm(item_history.items()):\n",
    "    processed_history = []\n",
    "\n",
    "    for filtered_user in history:\n",
    "        user_id = filtered_user['user_id']\n",
    "        user_timestamp = filtered_user['timestamp']\n",
    "\n",
    "        processed_user_id = user_mapping.get(user_id, len(user_mapping) + 1)\n",
    "        user_mapping[user_id] = processed_user_id\n",
    "\n",
    "        processed_history.append({'user_id': processed_user_id, 'timestamp': user_timestamp})\n",
    "\n",
    "    if len(processed_history) >= threshold:\n",
    "        processed_item_id = item_mapping.get(item_id, len(item_mapping) + 1)\n",
    "        item_mapping[item_id] = processed_item_id\n",
    "\n",
    "        tmp_item_history[processed_item_id] = sorted(processed_history, key=lambda x: x['timestamp'])\n",
    "\n",
    "user_history = tmp_user_history\n",
    "item_history = tmp_item_history"
   ]
  },
  {
   "cell_type": "code",
   "execution_count": 29,
   "id": "2ad944f3",
   "metadata": {},
   "outputs": [
    {
     "name": "stdout",
     "output_type": "stream",
     "text": [
      "Users count: 6040\n",
      "Items count: 3416\n",
      "Actions count: 999611\n",
      "Avg user history len: 165.49850993377484\n",
      "Avg item history len: 292.6261709601874\n"
     ]
    }
   ],
   "source": [
    "print('Users count:', len(user_mapping))\n",
    "print('Items count:', len(item_mapping))\n",
    "print('Actions count:', sum(list(map(lambda x: len(x), user_history.values()))))\n",
    "print('Avg user history len:', np.mean(list(map(lambda x: len(x), user_history.values()))))\n",
    "print('Avg item history len:', np.mean(list(map(lambda x: len(x), item_history.values()))))"
   ]
  },
  {
   "cell_type": "code",
   "execution_count": 30,
   "id": "dc58f3e1",
   "metadata": {},
   "outputs": [],
   "source": [
    "with open('../data/MovieLens1M/all_data.txt', 'w') as f:\n",
    "    for user_id, item_history in user_history.items():\n",
    "        f.write(' '.join([str(user_id)] + [\n",
    "            str(item_event['item_id']) for item_event in sorted(item_history, key=lambda x: x['timestamp'])\n",
    "        ]))\n",
    "        f.write('\\n')"
   ]
  },
  {
   "cell_type": "code",
   "execution_count": null,
   "id": "f6c99c8e",
   "metadata": {},
   "outputs": [],
   "source": []
  }
 ],
 "metadata": {
  "kernelspec": {
   "display_name": "Python 3 (ipykernel)",
   "language": "python",
   "name": "python3"
  },
  "language_info": {
   "codemirror_mode": {
    "name": "ipython",
    "version": 3
   },
   "file_extension": ".py",
   "mimetype": "text/x-python",
   "name": "python",
   "nbconvert_exporter": "python",
   "pygments_lexer": "ipython3",
   "version": "3.9.15"
  }
 },
 "nbformat": 4,
 "nbformat_minor": 5
}
