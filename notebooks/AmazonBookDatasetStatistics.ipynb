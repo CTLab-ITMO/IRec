{
 "cells": [
  {
   "cell_type": "code",
   "execution_count": null,
   "id": "ec516997",
   "metadata": {},
   "outputs": [],
   "source": [
    "import numpy as np\n",
    "import polars as pl"
   ]
  },
  {
   "cell_type": "code",
   "execution_count": null,
   "id": "11f55cbe",
   "metadata": {},
   "outputs": [],
   "source": [
    "path_to_df = '../data/Book/ratings_Books.csv'\n",
    "df = pl.read_csv(\n",
    "    path_to_df,\n",
    "    has_header=False,\n",
    "    new_columns=['user_id', 'item_id', 'rating', 'timestamp'],\n",
    ")\n",
    "print(df.shape)"
   ]
  },
  {
   "cell_type": "code",
   "execution_count": null,
   "id": "c38f2b92",
   "metadata": {},
   "outputs": [],
   "source": [
    "df.head()"
   ]
  },
  {
   "cell_type": "code",
   "execution_count": null,
   "id": "f3143aa4",
   "metadata": {},
   "outputs": [],
   "source": [
    "df.null_count()"
   ]
  },
  {
   "cell_type": "code",
   "execution_count": null,
   "id": "7d6b0000",
   "metadata": {},
   "outputs": [],
   "source": [
    "df.select('user_id').max(), df.select('user_id').unique().shape"
   ]
  },
  {
   "cell_type": "code",
   "execution_count": null,
   "id": "4b63f4f9",
   "metadata": {},
   "outputs": [],
   "source": [
    "df = df.with_columns(user_id=pl.col('user_id').rank('dense'))\n",
    "(\n",
    "    df.select('user_id').min(),\n",
    "    df.select('user_id').max(),\n",
    "    df.select('user_id').unique().shape,\n",
    ")"
   ]
  },
  {
   "cell_type": "code",
   "execution_count": null,
   "id": "77e204b2",
   "metadata": {},
   "outputs": [],
   "source": [
    "df = df.with_columns(item_id=pl.col('item_id').rank('dense'))\n",
    "(\n",
    "    df.select('item_id').min(),\n",
    "    df.select('item_id').max(),\n",
    "    df.select('item_id').unique().shape,\n",
    ")"
   ]
  },
  {
   "cell_type": "code",
   "execution_count": null,
   "id": "f40eac40",
   "metadata": {},
   "outputs": [],
   "source": [
    "df.head()"
   ]
  },
  {
   "cell_type": "code",
   "execution_count": null,
   "id": "d74b7f59",
   "metadata": {},
   "outputs": [],
   "source": [
    "filtering_stage = 0\n",
    "is_changed = True\n",
    "threshold = 5\n",
    "good_users = set()\n",
    "good_items = set()\n",
    "\n",
    "filtered_df = df.clone()\n",
    "\n",
    "while is_changed:\n",
    "    user_counts = filtered_df.group_by('user_id').agg(\n",
    "        pl.len().alias('user_count'),\n",
    "    )\n",
    "    item_counts = filtered_df.group_by('item_id').agg(\n",
    "        pl.len().alias('item_count'),\n",
    "    )\n",
    "\n",
    "    good_users = user_counts.filter(pl.col('user_count') >= threshold).select(\n",
    "        'user_id',\n",
    "    )\n",
    "    good_items = item_counts.filter(pl.col('item_count') >= threshold).select(\n",
    "        'item_id',\n",
    "    )\n",
    "\n",
    "    old_size = len(filtered_df)\n",
    "\n",
    "    new_df = filtered_df.join(good_users, on='user_id', how='inner')\n",
    "    new_df = new_df.join(good_items, on='item_id', how='inner')\n",
    "\n",
    "    new_size = len(new_df)\n",
    "\n",
    "    print(f'После {filtering_stage + 1}го этапа фильтрации.')\n",
    "    print(f'Количество пользователей: {good_users.shape[0]}.')\n",
    "    print(f'Количество фильмов: {good_items.shape[0]}')\n",
    "    print()\n",
    "\n",
    "    filtered_df = new_df\n",
    "    is_changed = old_size != new_size\n",
    "    filtering_stage += 1\n",
    "\n",
    "\n",
    "filtered_df = filtered_df.with_columns(user_id=pl.col('user_id').rank('dense'))\n",
    "filtered_df = filtered_df.with_columns(item_id=pl.col('item_id').rank('dense'))\n",
    "filtered_df = filtered_df.sort(['user_id', 'timestamp'])\n",
    "\n",
    "grouped_filtered_df = filtered_df.group_by('user_id', maintain_order=True).agg(\n",
    "    pl.all().exclude('user_id'),\n",
    ")"
   ]
  },
  {
   "cell_type": "code",
   "execution_count": null,
   "id": "06e7f760",
   "metadata": {},
   "outputs": [],
   "source": [
    "print('Users count:', filtered_df.select('user_id').unique().shape[0])\n",
    "print('Items count:', filtered_df.select('item_id').unique().shape[0])\n",
    "print('Actions count:', filtered_df.shape[0])\n",
    "print(\n",
    "    'Avg user history len:',\n",
    "    np.mean(\n",
    "        list(\n",
    "            map(\n",
    "                lambda x: x[0],\n",
    "                grouped_filtered_df.select(\n",
    "                    pl.col('item_id').list.len(),\n",
    "                ).rows(),\n",
    "            ),\n",
    "        ),\n",
    "    ),\n",
    ")"
   ]
  },
  {
   "cell_type": "code",
   "execution_count": null,
   "id": "b7e7f900",
   "metadata": {},
   "outputs": [],
   "source": [
    "with open('../data/Book/all_data.txt', 'w') as f:\n",
    "    for (\n",
    "        user_id,\n",
    "        item_history,\n",
    "        rating,\n",
    "        timestamp,\n",
    "    ) in grouped_filtered_df.iter_rows():\n",
    "        f.write(\n",
    "            ' '.join(\n",
    "                [str(user_id)] + [str(item_id) for item_id in item_history],\n",
    "            ),\n",
    "        )\n",
    "        f.write('\\n')"
   ]
  },
  {
   "cell_type": "code",
   "execution_count": null,
   "id": "ce38b5b1",
   "metadata": {},
   "outputs": [],
   "source": [
    "valid_portion = 0.1\n",
    "test_portion = 0.1\n",
    "\n",
    "all_events_timestamp = []\n",
    "for _, _, _, timestamp in filtered_df.iter_rows():\n",
    "    all_events_timestamp.append(timestamp)\n",
    "\n",
    "all_events_timestamp = sorted(all_events_timestamp)\n",
    "\n",
    "fst_threshold = all_events_timestamp[\n",
    "    int(len(all_events_timestamp) * (1.0 - test_portion - valid_portion))\n",
    "]\n",
    "snd_threshold = all_events_timestamp[\n",
    "    int(len(all_events_timestamp) * (1.0 - test_portion))\n",
    "]\n",
    "\n",
    "print(f'First train timestamp:\\t{all_events_timestamp[0]}')\n",
    "print(f'First valid timestamp:\\t{fst_threshold}')\n",
    "print(f'First test timestamp:\\t{snd_threshold}')"
   ]
  },
  {
   "cell_type": "code",
   "execution_count": null,
   "id": "b1f0775b",
   "metadata": {},
   "outputs": [],
   "source": [
    "train_samples = []\n",
    "valid_samples = []\n",
    "test_samples = []\n",
    "\n",
    "for (\n",
    "    user_id,\n",
    "    item_history,\n",
    "    rating,\n",
    "    timestamp,\n",
    ") in grouped_filtered_df.iter_rows():\n",
    "    train_history = []\n",
    "    history = []\n",
    "    history_ts = []\n",
    "\n",
    "    for item_id, ts in zip(item_history, timestamp):\n",
    "        if ts < fst_threshold:  # train event\n",
    "            assert len(history) == 0 or ts >= history_ts[-1]\n",
    "            train_history.append(item_id)\n",
    "        elif ts < snd_threshold:  # valid event\n",
    "            assert len(history) == 0 or ts >= history_ts[-1]\n",
    "            if len(history) >= 5:  # remove cold-start users\n",
    "                valid_samples.append(\n",
    "                    {\n",
    "                        'user_id': user_id,\n",
    "                        'history': [x for x in history],\n",
    "                        'next_interaction': item_id,\n",
    "                    },\n",
    "                )\n",
    "        else:  # test event\n",
    "            assert len(history) == 0 or ts >= history_ts[-1]\n",
    "            if len(history) >= 5:  # remove cold-start users\n",
    "                test_samples.append(\n",
    "                    {\n",
    "                        'user_id': user_id,\n",
    "                        'history': [x for x in history],\n",
    "                        'next_interaction': item_id,\n",
    "                    },\n",
    "                )\n",
    "\n",
    "        history.append(item_id)\n",
    "        history_ts.append(ts)\n",
    "\n",
    "    if len(train_history) >= 5:  # remove cold-start users\n",
    "        train_samples.append({'user_id': user_id, 'history': train_history})"
   ]
  },
  {
   "cell_type": "code",
   "execution_count": null,
   "id": "f39a6059",
   "metadata": {},
   "outputs": [],
   "source": [
    "len(train_samples), len(valid_samples), len(test_samples)"
   ]
  },
  {
   "cell_type": "code",
   "execution_count": null,
   "id": "e3688511",
   "metadata": {},
   "outputs": [],
   "source": [
    "# train\n",
    "with open('../data/Book/train.txt', 'w') as f:\n",
    "    for train_sample in train_samples:\n",
    "        f.write(\n",
    "            ' '.join(\n",
    "                [str(train_sample['user_id'])]\n",
    "                + [str(item_id) for item_id in train_sample['history']],\n",
    "            ),\n",
    "        )\n",
    "        f.write('\\n')\n",
    "\n",
    "# valid\n",
    "with open('../data/Book/valid.txt', 'w') as f:\n",
    "    for valid_sample in valid_samples:\n",
    "        f.write(\n",
    "            ' '.join(\n",
    "                [str(valid_sample['user_id'])]\n",
    "                + [str(item_id) for item_id in valid_sample['history']]\n",
    "                + [str(valid_sample['next_interaction'])],\n",
    "            ),\n",
    "        )\n",
    "        f.write('\\n')\n",
    "\n",
    "# test\n",
    "with open('../data/Book/test.txt', 'w') as f:\n",
    "    for test_sample in test_samples:\n",
    "        f.write(\n",
    "            ' '.join(\n",
    "                [str(test_sample['user_id'])]\n",
    "                + [str(item_id) for item_id in test_sample['history']]\n",
    "                + [str(test_sample['next_interaction'])],\n",
    "            ),\n",
    "        )\n",
    "        f.write('\\n')"
   ]
  },
  {
   "cell_type": "code",
   "execution_count": null,
   "id": "b1fddea1",
   "metadata": {},
   "outputs": [],
   "source": [
    "data = [0] * 367983\n",
    "\n",
    "for train_sample in train_samples:\n",
    "    for item_id in train_sample['history']:\n",
    "        data[item_id] += 1\n",
    "\n",
    "import pickle\n",
    "\n",
    "with open('../data/Book/item_cnt.pkl', 'wb') as f:\n",
    "    pickle.dump(data, f, protocol=pickle.HIGHEST_PROTOCOL)"
   ]
  }
 ],
 "metadata": {
  "kernelspec": {
   "display_name": "yrec",
   "language": "python",
   "name": "python3"
  },
  "language_info": {
   "codemirror_mode": {
    "name": "ipython",
    "version": 3
   },
   "file_extension": ".py",
   "mimetype": "text/x-python",
   "name": "python",
   "nbconvert_exporter": "python",
   "pygments_lexer": "ipython3",
   "version": "3.12.9"
  }
 },
 "nbformat": 4,
 "nbformat_minor": 5
}
