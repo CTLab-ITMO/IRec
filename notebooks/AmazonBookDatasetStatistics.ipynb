{
 "cells": [
  {
   "cell_type": "code",
   "execution_count": 1,
   "id": "ec516997",
   "metadata": {},
   "outputs": [],
   "source": [
    "import os\n",
    "import sys\n",
    "import json\n",
    "import datetime\n",
    "import matplotlib.pyplot as plt\n",
    "import numpy as np\n",
    "import pandas as pd\n",
    "\n",
    "from tqdm import tqdm\n",
    "from collections import defaultdict, Counter\n",
    "import os\n",
    "import sys\n",
    "import json\n",
    "import datetime\n",
    "import matplotlib.pyplot as plt\n",
    "import numpy as np\n",
    "import pandas as pd\n",
    "\n",
    "from tqdm import tqdm\n",
    "from collections import defaultdict, Counter\n",
    "\n",
    "%matplotlib inline"
   ]
  },
  {
   "cell_type": "code",
   "execution_count": 2,
   "id": "17ead9c9",
   "metadata": {},
   "outputs": [
    {
     "name": "stdout",
     "output_type": "stream",
     "text": [
      "(22507155, 4)\n"
     ]
    }
   ],
   "source": [
    "path_to_df = '../data/Book/ratings_Books.csv'\n",
    "df = pd.read_csv(path_to_df, names=['user_id', 'item_id', 'rating', 'timestamp'])\n",
    "print(df.shape)"
   ]
  },
  {
   "cell_type": "code",
   "execution_count": 3,
   "id": "094db1a4",
   "metadata": {},
   "outputs": [
    {
     "data": {
      "text/html": [
       "<div>\n",
       "<style scoped>\n",
       "    .dataframe tbody tr th:only-of-type {\n",
       "        vertical-align: middle;\n",
       "    }\n",
       "\n",
       "    .dataframe tbody tr th {\n",
       "        vertical-align: top;\n",
       "    }\n",
       "\n",
       "    .dataframe thead th {\n",
       "        text-align: right;\n",
       "    }\n",
       "</style>\n",
       "<table border=\"1\" class=\"dataframe\">\n",
       "  <thead>\n",
       "    <tr style=\"text-align: right;\">\n",
       "      <th></th>\n",
       "      <th>user_id</th>\n",
       "      <th>item_id</th>\n",
       "      <th>rating</th>\n",
       "      <th>timestamp</th>\n",
       "    </tr>\n",
       "  </thead>\n",
       "  <tbody>\n",
       "    <tr>\n",
       "      <th>0</th>\n",
       "      <td>AH2L9G3DQHHAJ</td>\n",
       "      <td>0000000116</td>\n",
       "      <td>4.0</td>\n",
       "      <td>1019865600</td>\n",
       "    </tr>\n",
       "    <tr>\n",
       "      <th>1</th>\n",
       "      <td>A2IIIDRK3PRRZY</td>\n",
       "      <td>0000000116</td>\n",
       "      <td>1.0</td>\n",
       "      <td>1395619200</td>\n",
       "    </tr>\n",
       "    <tr>\n",
       "      <th>2</th>\n",
       "      <td>A1TADCM7YWPQ8M</td>\n",
       "      <td>0000000868</td>\n",
       "      <td>4.0</td>\n",
       "      <td>1031702400</td>\n",
       "    </tr>\n",
       "    <tr>\n",
       "      <th>3</th>\n",
       "      <td>AWGH7V0BDOJKB</td>\n",
       "      <td>0000013714</td>\n",
       "      <td>4.0</td>\n",
       "      <td>1383177600</td>\n",
       "    </tr>\n",
       "    <tr>\n",
       "      <th>4</th>\n",
       "      <td>A3UTQPQPM4TQO0</td>\n",
       "      <td>0000013714</td>\n",
       "      <td>5.0</td>\n",
       "      <td>1374883200</td>\n",
       "    </tr>\n",
       "  </tbody>\n",
       "</table>\n",
       "</div>"
      ],
      "text/plain": [
       "          user_id     item_id  rating   timestamp\n",
       "0   AH2L9G3DQHHAJ  0000000116     4.0  1019865600\n",
       "1  A2IIIDRK3PRRZY  0000000116     1.0  1395619200\n",
       "2  A1TADCM7YWPQ8M  0000000868     4.0  1031702400\n",
       "3   AWGH7V0BDOJKB  0000013714     4.0  1383177600\n",
       "4  A3UTQPQPM4TQO0  0000013714     5.0  1374883200"
      ]
     },
     "execution_count": 3,
     "metadata": {},
     "output_type": "execute_result"
    }
   ],
   "source": [
    "df.head()"
   ]
  },
  {
   "cell_type": "code",
   "execution_count": 4,
   "id": "f3143aa4",
   "metadata": {},
   "outputs": [
    {
     "data": {
      "text/plain": [
       "user_id      0\n",
       "item_id      0\n",
       "rating       0\n",
       "timestamp    0\n",
       "dtype: int64"
      ]
     },
     "execution_count": 4,
     "metadata": {},
     "output_type": "execute_result"
    }
   ],
   "source": [
    "df.isnull().sum()"
   ]
  },
  {
   "cell_type": "code",
   "execution_count": 5,
   "id": "7d6b0000",
   "metadata": {},
   "outputs": [
    {
     "data": {
      "text/plain": [
       "('AZZZZCVMZCKUJ', (8026324,))"
      ]
     },
     "execution_count": 5,
     "metadata": {},
     "output_type": "execute_result"
    }
   ],
   "source": [
    "df.user_id.max(), df.user_id.unique().shape"
   ]
  },
  {
   "cell_type": "code",
   "execution_count": 6,
   "id": "67d5d29b",
   "metadata": {},
   "outputs": [
    {
     "data": {
      "text/plain": [
       "(1, 8026324, (8026324,))"
      ]
     },
     "execution_count": 6,
     "metadata": {},
     "output_type": "execute_result"
    }
   ],
   "source": [
    "df.user_id = pd.factorize(df.user_id)[0] + 1\n",
    "df.user_id.min(), df.user_id.max(), df.user_id.unique().shape"
   ]
  },
  {
   "cell_type": "code",
   "execution_count": 7,
   "id": "3288f432",
   "metadata": {},
   "outputs": [
    {
     "data": {
      "text/plain": [
       "(1, 2330066, (2330066,))"
      ]
     },
     "execution_count": 7,
     "metadata": {},
     "output_type": "execute_result"
    }
   ],
   "source": [
    "df.item_id = pd.factorize(df.item_id)[0] + 1\n",
    "df.item_id.min(), df.item_id.max(), df.item_id.unique().shape"
   ]
  },
  {
   "cell_type": "code",
   "execution_count": 8,
   "id": "1866933a",
   "metadata": {},
   "outputs": [
    {
     "data": {
      "text/html": [
       "<div>\n",
       "<style scoped>\n",
       "    .dataframe tbody tr th:only-of-type {\n",
       "        vertical-align: middle;\n",
       "    }\n",
       "\n",
       "    .dataframe tbody tr th {\n",
       "        vertical-align: top;\n",
       "    }\n",
       "\n",
       "    .dataframe thead th {\n",
       "        text-align: right;\n",
       "    }\n",
       "</style>\n",
       "<table border=\"1\" class=\"dataframe\">\n",
       "  <thead>\n",
       "    <tr style=\"text-align: right;\">\n",
       "      <th></th>\n",
       "      <th>user_id</th>\n",
       "      <th>item_id</th>\n",
       "      <th>rating</th>\n",
       "      <th>timestamp</th>\n",
       "    </tr>\n",
       "  </thead>\n",
       "  <tbody>\n",
       "    <tr>\n",
       "      <th>0</th>\n",
       "      <td>1</td>\n",
       "      <td>1</td>\n",
       "      <td>4.0</td>\n",
       "      <td>1019865600</td>\n",
       "    </tr>\n",
       "    <tr>\n",
       "      <th>1</th>\n",
       "      <td>2</td>\n",
       "      <td>1</td>\n",
       "      <td>1.0</td>\n",
       "      <td>1395619200</td>\n",
       "    </tr>\n",
       "    <tr>\n",
       "      <th>2</th>\n",
       "      <td>3</td>\n",
       "      <td>2</td>\n",
       "      <td>4.0</td>\n",
       "      <td>1031702400</td>\n",
       "    </tr>\n",
       "    <tr>\n",
       "      <th>3</th>\n",
       "      <td>4</td>\n",
       "      <td>3</td>\n",
       "      <td>4.0</td>\n",
       "      <td>1383177600</td>\n",
       "    </tr>\n",
       "    <tr>\n",
       "      <th>4</th>\n",
       "      <td>5</td>\n",
       "      <td>3</td>\n",
       "      <td>5.0</td>\n",
       "      <td>1374883200</td>\n",
       "    </tr>\n",
       "  </tbody>\n",
       "</table>\n",
       "</div>"
      ],
      "text/plain": [
       "   user_id  item_id  rating   timestamp\n",
       "0        1        1     4.0  1019865600\n",
       "1        2        1     1.0  1395619200\n",
       "2        3        2     4.0  1031702400\n",
       "3        4        3     4.0  1383177600\n",
       "4        5        3     5.0  1374883200"
      ]
     },
     "execution_count": 8,
     "metadata": {},
     "output_type": "execute_result"
    }
   ],
   "source": [
    "df.head()"
   ]
  },
  {
   "cell_type": "code",
   "execution_count": 9,
   "id": "70023cea",
   "metadata": {},
   "outputs": [
    {
     "data": {
      "text/plain": [
       "22507155"
      ]
     },
     "execution_count": 9,
     "metadata": {},
     "output_type": "execute_result"
    }
   ],
   "source": [
    "sorted_timestamps = sorted(df.timestamp)\n",
    "len(sorted_timestamps)"
   ]
  },
  {
   "cell_type": "code",
   "execution_count": 10,
   "id": "57f9471a",
   "metadata": {},
   "outputs": [
    {
     "name": "stdout",
     "output_type": "stream",
     "text": [
      "1389225600 1397347200\n"
     ]
    }
   ],
   "source": [
    "threshold_timestamp = sorted_timestamps[int(len(sorted_timestamps) * (1.0 - 0.2))]\n",
    "test_threshold_timestamp = sorted_timestamps[int(len(sorted_timestamps) * (1.0 - 0.1))]\n",
    "\n",
    "print(threshold_timestamp, test_threshold_timestamp)"
   ]
  },
  {
   "cell_type": "code",
   "execution_count": 11,
   "id": "60151160",
   "metadata": {},
   "outputs": [
    {
     "data": {
      "text/plain": [
       "((17980657, 4), (2270889, 4), (2255609, 4))"
      ]
     },
     "execution_count": 11,
     "metadata": {},
     "output_type": "execute_result"
    }
   ],
   "source": [
    "train_data = df[df.timestamp < threshold_timestamp]\n",
    "validation_data = df[(threshold_timestamp <= df.timestamp) & (df.timestamp < test_threshold_timestamp)]\n",
    "test_data = df[test_threshold_timestamp <= df.timestamp]\n",
    "\n",
    "train_data.shape, validation_data.shape, test_data.shape"
   ]
  },
  {
   "cell_type": "code",
   "execution_count": 12,
   "id": "0d328d36",
   "metadata": {},
   "outputs": [
    {
     "name": "stderr",
     "output_type": "stream",
     "text": [
      "17980657it [13:19, 22501.35it/s]"
     ]
    },
    {
     "name": "stdout",
     "output_type": "stream",
     "text": [
      "17980657\n"
     ]
    },
    {
     "name": "stderr",
     "output_type": "stream",
     "text": [
      "\n"
     ]
    }
   ],
   "source": [
    "data = []\n",
    "\n",
    "for _, row in tqdm(train_data.iterrows()):\n",
    "    data.append({\n",
    "        'user_id': int(row.user_id),\n",
    "        'item_id': int(row.item_id),\n",
    "        'timestamp': int(row.timestamp)\n",
    "    })\n",
    "\n",
    "print(len(data))"
   ]
  },
  {
   "cell_type": "code",
   "execution_count": 13,
   "id": "63429984",
   "metadata": {},
   "outputs": [
    {
     "name": "stderr",
     "output_type": "stream",
     "text": [
      "100%|██████████████████████████████████████████████████████████████████| 17980657/17980657 [01:11<00:00, 250206.00it/s]\n"
     ]
    },
    {
     "name": "stdout",
     "output_type": "stream",
     "text": [
      "(0, 0) (868064, 757306)\n",
      "(868064, 757306) (751874, 452368)\n",
      "(751874, 452368) (683028, 430958)\n",
      "(683028, 430958) (675301, 415065)\n",
      "(675301, 415065) (668443, 412933)\n",
      "(668443, 412933) (667495, 411029)\n",
      "(667495, 411029) (666593, 410726)\n",
      "(666593, 410726) (666443, 410435)\n",
      "(666443, 410435) (666281, 410393)\n",
      "(666281, 410393) (666261, 410347)\n",
      "(666261, 410347) (666241, 410344)\n",
      "(666241, 410344) (666240, 410335)\n",
      "(666240, 410335) (666235, 410333)\n",
      "(666235, 410333) (666232, 410329)\n",
      "(666232, 410329) (666230, 410328)\n",
      "(666230, 410328) (666230, 410327)\n",
      "(666230, 410327) (666228, 410327)\n",
      "(666228, 410327) (666228, 410325)\n",
      "(666228, 410325) (666226, 410325)\n",
      "(666226, 410325) (666226, 410323)\n",
      "(666226, 410323) (666225, 410323)\n",
      "(666225, 410323) (666225, 410322)\n",
      "(666225, 410322) (666223, 410322)\n",
      "(666223, 410322) (666223, 410319)\n",
      "(666223, 410319) (666222, 410319)\n",
      "(666222, 410319) (666222, 410318)\n",
      "(666222, 410318) (666222, 410318)\n"
     ]
    }
   ],
   "source": [
    "user_history = defaultdict(list)\n",
    "item_history = defaultdict(list)\n",
    "\n",
    "for row in tqdm(data):\n",
    "    user_raw_id = row['user_id']\n",
    "    item_raw_id = row['item_id']\n",
    "    interaction_timestamp = row['timestamp']\n",
    "    \n",
    "    user_history[user_raw_id].append({'item_id': item_raw_id, 'timestamp': interaction_timestamp})\n",
    "    item_history[item_raw_id].append({'user_id': user_raw_id, 'timestamp': interaction_timestamp})\n",
    "\n",
    "\n",
    "is_changed = True\n",
    "threshold = 4\n",
    "good_users = set()\n",
    "good_items = set()\n",
    "\n",
    "\n",
    "while is_changed:\n",
    "    old_state = (len(good_users), len(good_items))\n",
    "    \n",
    "    good_users = set()\n",
    "    good_items = set()\n",
    "\n",
    "    for user_id, history in user_history.items():\n",
    "        if len(history) >= threshold:\n",
    "            good_users.add(user_id)\n",
    "\n",
    "    for item_id, history in item_history.items():\n",
    "        if len(history) >= threshold:\n",
    "            good_items.add(item_id)\n",
    "    \n",
    "    user_history = {\n",
    "        user_id: list(filter(lambda x: x['item_id'] in good_items, history))\n",
    "        for user_id, history in user_history.items()\n",
    "    }\n",
    "    \n",
    "    item_history = {\n",
    "        item_id: list(filter(lambda x: x['user_id'] in good_users, history))\n",
    "        for item_id, history in item_history.items()\n",
    "    }\n",
    "    \n",
    "    new_state = (len(good_users), len(good_items))\n",
    "    is_changed = (old_state != new_state)\n",
    "    print(old_state, new_state)"
   ]
  },
  {
   "cell_type": "code",
   "execution_count": 14,
   "id": "168e9bf6",
   "metadata": {},
   "outputs": [
    {
     "name": "stderr",
     "output_type": "stream",
     "text": [
      "100%|█████████████████████████████████████████████████████████████████████| 6761723/6761723 [03:28<00:00, 32472.71it/s]\n",
      "100%|█████████████████████████████████████████████████████████████████████| 2088849/2088849 [00:50<00:00, 40975.77it/s]\n"
     ]
    }
   ],
   "source": [
    "user_mapping = {}\n",
    "item_mapping = {}\n",
    "tmp_user_history = defaultdict(list)\n",
    "tmp_item_history = defaultdict(list)\n",
    "\n",
    "for raw_user_id, history in tqdm(user_history.items()):\n",
    "    if len(history) >= threshold:\n",
    "        processed_history = []\n",
    "\n",
    "        for filtered_item_event in history:\n",
    "            raw_item_id = filtered_item_event['item_id']\n",
    "            item_timestamp = filtered_item_event['timestamp']\n",
    "\n",
    "            processed_item_id = item_mapping.get(raw_item_id, len(item_mapping) + 1)\n",
    "            item_mapping[raw_item_id] = processed_item_id\n",
    "\n",
    "            processed_history.append({'item_id': processed_item_id, 'timestamp': item_timestamp})\n",
    "        \n",
    "        processed_user_id = user_mapping.get(raw_user_id, len(user_mapping) + 1)\n",
    "        user_mapping[raw_user_id] = processed_user_id\n",
    "\n",
    "        tmp_user_history[processed_user_id] = sorted(processed_history, key=lambda x: x['timestamp'])\n",
    "\n",
    "    \n",
    "for raw_item_id, history in tqdm(item_history.items()):\n",
    "    if len(history) >= threshold:\n",
    "        processed_history = []\n",
    "\n",
    "        for filtered_user_event in history:\n",
    "            raw_user_id = filtered_user_event['user_id']\n",
    "            user_timestamp = filtered_user_event['timestamp']\n",
    "\n",
    "            processed_user_id = user_mapping.get(raw_user_id, len(user_mapping) + 1)\n",
    "            user_mapping[raw_user_id] = processed_user_id\n",
    "\n",
    "            processed_history.append({'user_id': processed_user_id, 'timestamp': user_timestamp})\n",
    "\n",
    "\n",
    "        processed_item_id = item_mapping.get(raw_item_id, len(item_mapping) + 1)\n",
    "        item_mapping[raw_item_id] = processed_item_id\n",
    "\n",
    "        tmp_item_history[processed_item_id] = sorted(processed_history, key=lambda x: x['timestamp'])\n",
    "\n",
    "train_user_history = tmp_user_history\n",
    "train_item_history = tmp_item_history"
   ]
  },
  {
   "cell_type": "code",
   "execution_count": 15,
   "id": "f9399915",
   "metadata": {},
   "outputs": [
    {
     "name": "stdout",
     "output_type": "stream",
     "text": [
      "Users count: 666222\n",
      "Items count: 410318\n",
      "Actions count: 13654461\n",
      "Avg train user history len: 11.65730492238323\n",
      "Avg train item history len: 11.65730492238323\n"
     ]
    }
   ],
   "source": [
    "print('Users count:', len(user_mapping))\n",
    "print('Items count:', len(item_mapping))\n",
    "print('Actions count:', sum(list(map(lambda x: len(x), user_history.values()))))\n",
    "print('Avg train user history len:', np.mean(list(map(lambda x: len(x), train_user_history.values()))))\n",
    "print('Avg train item history len:', np.mean(list(map(lambda x: len(x), train_user_history.values()))))"
   ]
  },
  {
   "cell_type": "code",
   "execution_count": 16,
   "id": "aaca811f",
   "metadata": {},
   "outputs": [
    {
     "name": "stdout",
     "output_type": "stream",
     "text": [
      "Train data. Before: (17980657, 4). After: (7766353, 4)\n",
      "Validation data. Before: (2270889, 4). After: (471944, 4)\n",
      "Test data. Before: (2255609, 4). After: (329187, 4)\n"
     ]
    }
   ],
   "source": [
    "train_data_filtered = train_data[train_data.user_id.isin(user_mapping) & train_data.item_id.isin(item_mapping)]\n",
    "validation_data_filtered = validation_data[validation_data.user_id.isin(user_mapping) & validation_data.item_id.isin(item_mapping)]\n",
    "test_data_filtered = test_data[test_data.user_id.isin(user_mapping) & test_data.item_id.isin(item_mapping)]\n",
    "\n",
    "print(f'Train data. Before: {train_data.shape}. After: {train_data_filtered.shape}')\n",
    "print(f'Validation data. Before: {validation_data.shape}. After: {validation_data_filtered.shape}')\n",
    "print(f'Test data. Before: {test_data.shape}. After: {test_data_filtered.shape}')"
   ]
  },
  {
   "cell_type": "code",
   "execution_count": 17,
   "id": "69fe016f",
   "metadata": {},
   "outputs": [],
   "source": [
    "# Save train data (TODO do we need to duplicate: I think yes)\n",
    "with open('../data/Book/train_new.txt', 'w') as f:\n",
    "    cnt = 0\n",
    "    cnt_added = 0\n",
    "    for user_id, history in train_user_history.items():\n",
    "        previous_history = []\n",
    "        \n",
    "        for item_event in sorted(history, key=lambda x: x['timestamp']):\n",
    "            if len(previous_history) + 1 >= threshold:\n",
    "                f.write(' '.join([str(user_id)] + previous_history + [str(item_event['item_id'])]))\n",
    "                f.write('\\n')\n",
    "                cnt_added += 1\n",
    "            \n",
    "            previous_history.append(str(item_event['item_id']))\n",
    "            cnt += 1\n",
    "            \n",
    "    assert cnt == train_data_filtered.shape[0]\n",
    "    assert cnt == cnt_added + (len(user_mapping) * (threshold - 1))"
   ]
  },
  {
   "cell_type": "code",
   "execution_count": 18,
   "id": "eab5041a",
   "metadata": {},
   "outputs": [
    {
     "name": "stderr",
     "output_type": "stream",
     "text": [
      "471944it [00:21, 21799.81it/s]\n",
      " 28%|███████████████████▍                                                  | 131120/471944 [00:00<00:00, 667617.10it/s]"
     ]
    },
    {
     "name": "stdout",
     "output_type": "stream",
     "text": [
      "471944\n"
     ]
    },
    {
     "name": "stderr",
     "output_type": "stream",
     "text": [
      "100%|██████████████████████████████████████████████████████████████████████| 471944/471944 [00:00<00:00, 701254.73it/s]\n",
      "100%|███████████████████████████████████████████████████████████████████████| 156088/156088 [00:02<00:00, 75332.24it/s]\n"
     ]
    }
   ],
   "source": [
    "validation_list = []\n",
    "\n",
    "for _, row in tqdm(validation_data_filtered.iterrows()):\n",
    "    validation_list.append({\n",
    "        'user_id': int(row.user_id),\n",
    "        'item_id': int(row.item_id),\n",
    "        'timestamp': int(row.timestamp)\n",
    "    })\n",
    "validation_list = sorted(validation_list, key=lambda x: x['timestamp'])\n",
    "print(len(validation_list))\n",
    "\n",
    "\n",
    "# Add events to `validation_user_history`\n",
    "validation_user_history = defaultdict(list)\n",
    "for row in tqdm(validation_list):\n",
    "    user_raw_id = row['user_id']\n",
    "    item_raw_id = row['item_id']\n",
    "    interaction_timestamp = row['timestamp']\n",
    "    validation_user_history[user_raw_id].append({'item_id': item_raw_id, 'timestamp': interaction_timestamp})\n",
    "\n",
    "# Re-number user and item IDs\n",
    "tmp_user_history = defaultdict(list)\n",
    "for user_id, history in tqdm(validation_user_history.items()):\n",
    "    processed_user_id = user_mapping[user_id]\n",
    "    \n",
    "    processed_history = []\n",
    "    for item_event in history:\n",
    "        item_id = item_event['item_id']\n",
    "        item_timestamp = item_event['timestamp']\n",
    "        processed_item_id = item_mapping[item_id]\n",
    "        processed_history.append({'item_id': processed_item_id, 'timestamp': item_timestamp})\n",
    "        \n",
    "    tmp_user_history[processed_user_id] = sorted(processed_history, key=lambda x: x['timestamp'])\n",
    "validation_user_history = tmp_user_history"
   ]
  },
  {
   "cell_type": "code",
   "execution_count": 19,
   "id": "9fde640f",
   "metadata": {},
   "outputs": [],
   "source": [
    "# Save validation data\n",
    "with open('../data/Book/validation_new.txt', 'w') as f:\n",
    "    cnt = 0\n",
    "    for user_id, validation_history in validation_user_history.items():\n",
    "        previous_history = [\n",
    "            str(event['item_id']) for event in sorted(train_user_history[user_id], key=lambda x: x['timestamp'])\n",
    "        ]\n",
    "        assert len(previous_history) > 0\n",
    "        \n",
    "        for validation_item_event in  sorted(validation_history, key=lambda x: x['timestamp']):\n",
    "            assert len(previous_history) + 1 >= threshold\n",
    "            \n",
    "            f.write(' '.join([str(user_id)] + previous_history + [str(validation_item_event['item_id'])]))\n",
    "            f.write('\\n')\n",
    "            \n",
    "            previous_history.append(str(validation_item_event['item_id']))\n",
    "            cnt += 1\n",
    "            \n",
    "    assert cnt == validation_data_filtered.shape[0]"
   ]
  },
  {
   "cell_type": "code",
   "execution_count": 20,
   "id": "f750f7b0",
   "metadata": {},
   "outputs": [
    {
     "name": "stderr",
     "output_type": "stream",
     "text": [
      "329187it [00:15, 21770.19it/s]\n",
      " 47%|████████████████████████████████▋                                     | 153537/329187 [00:00<00:00, 771494.22it/s]"
     ]
    },
    {
     "name": "stdout",
     "output_type": "stream",
     "text": [
      "329187\n"
     ]
    },
    {
     "name": "stderr",
     "output_type": "stream",
     "text": [
      "100%|██████████████████████████████████████████████████████████████████████| 329187/329187 [00:00<00:00, 778223.19it/s]\n",
      "100%|██████████████████████████████████████████████████████████████████████| 124953/124953 [00:00<00:00, 191352.54it/s]\n"
     ]
    }
   ],
   "source": [
    "test_list = []\n",
    "\n",
    "for _, row in tqdm(test_data_filtered.iterrows()):\n",
    "    test_list.append({\n",
    "        'user_id': int(row.user_id),\n",
    "        'item_id': int(row.item_id),\n",
    "        'timestamp': int(row.timestamp)\n",
    "    })\n",
    "test_list = sorted(test_list, key=lambda x: x['timestamp'])\n",
    "print(len(test_list))\n",
    "\n",
    "# Add events to `test_user_history`\n",
    "test_user_history = defaultdict(list)\n",
    "for row in tqdm(test_list):\n",
    "    user_raw_id = row['user_id']\n",
    "    item_raw_id = row['item_id']\n",
    "    interaction_timestamp = row['timestamp']\n",
    "    test_user_history[user_raw_id].append({'item_id': item_raw_id, 'timestamp': interaction_timestamp})\n",
    "\n",
    "# Re-number user and item IDs\n",
    "tmp_user_history = defaultdict(list)\n",
    "for user_id, history in tqdm(test_user_history.items()):\n",
    "    processed_user_id = user_mapping[user_id]\n",
    "    \n",
    "    processed_history = []\n",
    "    for item_event in history:\n",
    "        item_id = item_event['item_id']\n",
    "        item_timestamp = item_event['timestamp']\n",
    "        processed_item_id = item_mapping[item_id]\n",
    "        processed_history.append({'item_id': processed_item_id, 'timestamp': item_timestamp})\n",
    "        \n",
    "    tmp_user_history[processed_user_id] = sorted(processed_history, key=lambda x: x['timestamp'])\n",
    "test_user_history = tmp_user_history"
   ]
  },
  {
   "cell_type": "code",
   "execution_count": 21,
   "id": "d38faf9b",
   "metadata": {},
   "outputs": [],
   "source": [
    "# Save test data\n",
    "with open('../data/Book/test_new.txt', 'w') as f:\n",
    "    cnt = 0\n",
    "    for user_id, test_history in test_user_history.items():\n",
    "        train_history = [\n",
    "            str(event['item_id']) for event in sorted(train_user_history[user_id], key=lambda x: x['timestamp'])\n",
    "        ]\n",
    "        validation_history = [\n",
    "            str(event['item_id']) for event in sorted(validation_user_history[user_id], key=lambda x: x['timestamp'])\n",
    "        ]\n",
    "        previous_history = train_history + validation_history\n",
    "        assert len(train_history) > 0\n",
    "        \n",
    "        for test_item_event in sorted(test_history, key=lambda x: x['timestamp']):\n",
    "            f.write(' '.join([str(user_id)] + previous_history + [str(test_item_event['item_id'])]))\n",
    "            f.write('\\n')\n",
    "            \n",
    "            previous_history.append(str(test_item_event['item_id']))\n",
    "            cnt += 1\n",
    "            \n",
    "    assert cnt == test_data_filtered.shape[0]"
   ]
  }
 ],
 "metadata": {
  "kernelspec": {
   "display_name": "Python 3",
   "language": "python",
   "name": "python3"
  },
  "language_info": {
   "codemirror_mode": {
    "name": "ipython",
    "version": 3
   },
   "file_extension": ".py",
   "mimetype": "text/x-python",
   "name": "python",
   "nbconvert_exporter": "python",
   "pygments_lexer": "ipython3",
   "version": "3.8.8"
  }
 },
 "nbformat": 4,
 "nbformat_minor": 5
}
