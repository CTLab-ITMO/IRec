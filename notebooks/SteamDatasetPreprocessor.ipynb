{
 "cells": [
  {
   "cell_type": "code",
   "execution_count": null,
   "metadata": {},
   "outputs": [],
   "source": [
    "import numpy as np\n",
    "import polars as pl\n",
    "\n",
    "from collections import defaultdict\n",
    "from datetime import datetime\n",
    "import time"
   ]
  },
  {
   "cell_type": "code",
   "execution_count": null,
   "metadata": {},
   "outputs": [],
   "source": [
    "path_to_df = '../data/Steam/steam_reviews.json'\n"
   ]
  },
  {
   "cell_type": "code",
   "execution_count": null,
   "metadata": {},
   "outputs": [],
   "source": [
    "reviews = defaultdict(list)\n",
    "item_freq = defaultdict(int)\n",
    "skipped = 0\n",
    "\n",
    "data = defaultdict(list)\n",
    "\n",
    "with open(path_to_df, 'r') as f:\n",
    "    for line in f.readlines():\n",
    "        json_obj = eval(line)\n",
    "\n",
    "        for key in [\n",
    "            'username',\n",
    "            'hours',\n",
    "            'products',\n",
    "            'product_id',\n",
    "            'page_order',\n",
    "            'date',\n",
    "            'text',\n",
    "            'early_access',\n",
    "            'page',\n",
    "            'found_funny',\n",
    "            'compensation',\n",
    "            'user_id'\n",
    "        ]:\n",
    "            data[key].append(json_obj.get(key))\n",
    "        \n",
    "        timestemp = json_obj['date']\n",
    "        date_time = datetime.strptime(timestemp, \"%Y-%m-%d\")\n",
    "        unix_timestamp = int(time.mktime(date_time.timetuple()))\n",
    "        data['timestamp'].append(unix_timestamp)\n"
   ]
  },
  {
   "cell_type": "code",
   "execution_count": null,
   "metadata": {},
   "outputs": [],
   "source": [
    "df = pl.from_dict(data)"
   ]
  },
  {
   "cell_type": "code",
   "execution_count": null,
   "metadata": {},
   "outputs": [],
   "source": [
    "df.shape"
   ]
  },
  {
   "cell_type": "code",
   "execution_count": null,
   "metadata": {},
   "outputs": [],
   "source": [
    "df.head()"
   ]
  },
  {
   "cell_type": "code",
   "execution_count": null,
   "metadata": {},
   "outputs": [],
   "source": [
    "df.null_count()"
   ]
  },
  {
   "cell_type": "code",
   "execution_count": null,
   "metadata": {},
   "outputs": [],
   "source": [
    "df.select('username').max(), df.select('product_id').max()"
   ]
  },
  {
   "cell_type": "code",
   "execution_count": null,
   "metadata": {},
   "outputs": [],
   "source": [
    "df = df.with_columns(username = pl.col(\"username\").rank(\"dense\"))\n",
    "df.select('username').min(), df.select('username').max(), df.select('username').unique().shape"
   ]
  },
  {
   "cell_type": "code",
   "execution_count": null,
   "metadata": {},
   "outputs": [],
   "source": [
    "df = df.with_columns(product_id = pl.col(\"product_id\").rank(\"dense\"))\n",
    "df.select('product_id').min(), df.select('product_id').max(), df.select('product_id').unique().shape"
   ]
  },
  {
   "cell_type": "code",
   "execution_count": null,
   "metadata": {},
   "outputs": [],
   "source": [
    "df.head()"
   ]
  },
  {
   "cell_type": "code",
   "execution_count": null,
   "metadata": {},
   "outputs": [],
   "source": [
    "df = df.select(pl.col('username').alias('user_id'), pl.col('product_id').alias('item_id'), pl.col('timestamp'))\n",
    "df.head()"
   ]
  },
  {
   "cell_type": "code",
   "execution_count": null,
   "metadata": {},
   "outputs": [],
   "source": [
    "filtering_stage = 0\n",
    "is_changed = True\n",
    "threshold = 5\n",
    "good_users = set()\n",
    "good_items = set()\n",
    "\n",
    "filtered_df = df.clone()\n",
    "\n",
    "while is_changed:\n",
    "    user_counts = filtered_df.group_by(\"user_id\").agg(pl.len().alias(\"user_count\"))\n",
    "    item_counts = filtered_df.group_by(\"item_id\").agg(pl.len().alias(\"item_count\"))\n",
    "\n",
    "    good_users = user_counts.filter(pl.col(\"user_count\") >= 5).select(\"user_id\")\n",
    "    good_items = item_counts.filter(pl.col(\"item_count\") >= 1).select(\"item_id\")\n",
    "\n",
    "    old_size = len(filtered_df)\n",
    "\n",
    "    new_df = filtered_df.join(good_users, on=\"user_id\", how=\"inner\")\n",
    "    new_df = new_df.join(good_items, on=\"item_id\", how=\"inner\")\n",
    "\n",
    "    new_size = len(new_df)\n",
    "\n",
    "    print(f'После {filtering_stage + 1}го этапа фильтрации.')\n",
    "    print(f'Количество пользователей: {good_users.shape[0]}.') \n",
    "    print(f'Количество фильмов: {good_items.shape[0]}')\n",
    "    print()\n",
    "    \n",
    "    filtered_df = new_df\n",
    "    is_changed = old_size != new_size\n",
    "    filtering_stage += 1\n",
    "\n",
    "\n",
    "filtered_df = filtered_df.with_columns(user_id = pl.col(\"user_id\").rank(\"dense\"))\n",
    "filtered_df = filtered_df.with_columns(item_id = pl.col(\"item_id\").rank(\"dense\"))\n",
    "filtered_df = filtered_df.sort([\"user_id\", \"timestamp\"])\n",
    "\n",
    "grouped_filtered_df = filtered_df.group_by(\"user_id\", maintain_order=True).agg(\n",
    "    pl.all().exclude(\"user_id\")\n",
    ")"
   ]
  },
  {
   "cell_type": "code",
   "execution_count": null,
   "metadata": {},
   "outputs": [],
   "source": [
    "print('Users count:', filtered_df.select('user_id').unique().shape[0])\n",
    "print('Items count:', filtered_df.select('item_id').unique().shape[0])\n",
    "print('Actions count:', filtered_df.shape[0])\n",
    "print('Avg user history len:', np.mean(list(map(lambda x: x[0], grouped_filtered_df.select(pl.col('item_id').list.len()).rows()))))"
   ]
  },
  {
   "cell_type": "markdown",
   "metadata": {},
   "source": [
    "## Leave-one-out split (last item for test, pre-last item for valid, the remaining part for train)"
   ]
  },
  {
   "cell_type": "code",
   "execution_count": null,
   "metadata": {},
   "outputs": [],
   "source": [
    "grouped_filtered_df.head()"
   ]
  },
  {
   "cell_type": "code",
   "execution_count": null,
   "metadata": {},
   "outputs": [],
   "source": [
    "with open('../data/Steam/all_data.txt', 'w') as f:\n",
    "    for user_id, item_ids, _ in grouped_filtered_df.iter_rows():\n",
    "        f.write(' '.join([str(user_id)] + [str(item_id) for item_id in item_ids]))\n",
    "        f.write('\\n')"
   ]
  },
  {
   "cell_type": "markdown",
   "metadata": {},
   "source": [
    "## Timestamp-based split (80% for train, 10% for valid, and 10% for test)"
   ]
  },
  {
   "cell_type": "code",
   "execution_count": null,
   "metadata": {},
   "outputs": [],
   "source": [
    "filtered_df.head()"
   ]
  },
  {
   "cell_type": "code",
   "execution_count": null,
   "metadata": {},
   "outputs": [],
   "source": [
    "valid_portion = 0.1\n",
    "test_portion = 0.1\n",
    "\n",
    "all_events_timestamp = []\n",
    "for _, _, timestamp in filtered_df.iter_rows():\n",
    "    all_events_timestamp.append(timestamp)\n",
    "\n",
    "all_events_timestamp = sorted(all_events_timestamp)\n",
    "\n",
    "fst_threshold = all_events_timestamp[int(len(all_events_timestamp) * (1.0 - test_portion - valid_portion))]\n",
    "snd_threshold = all_events_timestamp[int(len(all_events_timestamp) * (1.0 - test_portion))]\n",
    "\n",
    "print(f'First train timestamp:\\t{all_events_timestamp[0]}')\n",
    "print(f'First valid timestamp:\\t{fst_threshold}')\n",
    "print(f'First test timestamp:\\t{snd_threshold}')"
   ]
  },
  {
   "cell_type": "code",
   "execution_count": null,
   "metadata": {},
   "outputs": [],
   "source": [
    "train_samples = []\n",
    "valid_samples = []\n",
    "test_samples = []\n",
    "\n",
    "for user_id, item_ids, timestamps in grouped_filtered_df.iter_rows():\n",
    "    train_history = []\n",
    "    history = []\n",
    "    history_ts = []\n",
    "    \n",
    "    for item_id, ts in zip(item_ids, timestamps):\n",
    "        if ts < fst_threshold: # train event\n",
    "            assert len(history) == 0 or ts >= history_ts[-1]\n",
    "            train_history.append(item_id)\n",
    "        elif ts < snd_threshold: # valid event\n",
    "            assert len(history) == 0 or ts >= history_ts[-1]\n",
    "            if len(history) >= 5:  # remove cold-start users\n",
    "                valid_samples.append({\n",
    "                    'user_id': user_id,\n",
    "                    'history': [x for x in history],\n",
    "                    'next_interaction': item_id\n",
    "                })\n",
    "        else:  # test event\n",
    "            assert len(history) == 0 or ts >= history_ts[-1]\n",
    "            if len(history) >= 5:  # remove cold-start users\n",
    "                test_samples.append({\n",
    "                    'user_id': user_id,\n",
    "                    'history': [x for x in history],\n",
    "                    'next_interaction': item_id\n",
    "                })\n",
    "\n",
    "        history.append(item_id)\n",
    "        history_ts.append(ts)\n",
    "    \n",
    "    if len(train_history) >= 5:  # remove cold-start users\n",
    "        train_samples.append({\n",
    "            'user_id': user_id,\n",
    "            'history': train_history\n",
    "        })"
   ]
  },
  {
   "cell_type": "code",
   "execution_count": null,
   "metadata": {},
   "outputs": [],
   "source": [
    "len(train_samples), len(valid_samples), len(test_samples)"
   ]
  },
  {
   "cell_type": "code",
   "execution_count": null,
   "metadata": {},
   "outputs": [],
   "source": [
    "# train\n",
    "with open('../data/Steam/train.txt', 'w') as f:\n",
    "    for train_sample in train_samples:\n",
    "        f.write(' '.join([str(train_sample['user_id'])] + [str(item_id) for item_id in train_sample['history']]))\n",
    "        f.write('\\n')\n",
    "\n",
    "# valid\n",
    "with open('../data/Steam/valid.txt', 'w') as f:\n",
    "    for valid_sample in valid_samples:\n",
    "        f.write(' '.join([str(valid_sample['user_id'])] + [str(item_id) for item_id in valid_sample['history']] + [str(valid_sample['next_interaction'])]))\n",
    "        f.write('\\n')\n",
    "\n",
    "# test\n",
    "with open('../data/Steam/test.txt', 'w') as f:\n",
    "    for test_sample in test_samples:\n",
    "        f.write(' '.join([str(test_sample['user_id'])] + [str(item_id) for item_id in test_sample['history']] + [str(test_sample['next_interaction'])]))\n",
    "        f.write('\\n')"
   ]
  },
  {
   "cell_type": "code",
   "execution_count": null,
   "metadata": {},
   "outputs": [],
   "source": [
    "data = [0] * 15069\n",
    "\n",
    "for train_sample in train_samples:\n",
    "    for item_id in train_sample['history']:\n",
    "        data[item_id] += 1\n",
    "\n",
    "import pickle\n",
    "with open('../data/Steam/item_cnt.pkl', 'wb') as f:\n",
    "    pickle.dump(data, f, protocol=pickle.HIGHEST_PROTOCOL)"
   ]
  },
  {
   "cell_type": "code",
   "execution_count": null,
   "metadata": {},
   "outputs": [],
   "source": []
  }
 ],
 "metadata": {
  "kernelspec": {
   "display_name": "yrec",
   "language": "python",
   "name": "python3"
  },
  "language_info": {
   "codemirror_mode": {
    "name": "ipython",
    "version": 3
   },
   "file_extension": ".py",
   "mimetype": "text/x-python",
   "name": "python",
   "nbconvert_exporter": "python",
   "pygments_lexer": "ipython3",
   "version": "3.12.9"
  }
 },
 "nbformat": 4,
 "nbformat_minor": 2
}
