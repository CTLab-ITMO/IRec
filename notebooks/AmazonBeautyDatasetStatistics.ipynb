{
 "cells": [
  {
   "cell_type": "code",
   "execution_count": 19,
   "id": "e65d7fd1",
   "metadata": {},
   "outputs": [],
   "source": [
    "import os\n",
    "import sys\n",
    "import json\n",
    "import datetime\n",
    "import matplotlib.pyplot as plt\n",
    "import numpy as np\n",
    "import pandas as pd\n",
    "\n",
    "from tqdm import tqdm\n",
    "from collections import defaultdict, Counter\n",
    "\n",
    "%matplotlib inline"
   ]
  },
  {
   "cell_type": "code",
   "execution_count": 20,
   "id": "c514309c",
   "metadata": {},
   "outputs": [],
   "source": [
    "path_to_df = '../data/Beauty/ratings_Beauty.csv'\n",
    "df = pd.read_csv(path_to_df, names=['user_id', 'item_id', 'rating', 'timestamp'])"
   ]
  },
  {
   "cell_type": "code",
   "execution_count": 21,
   "id": "075f0414",
   "metadata": {},
   "outputs": [
    {
     "data": {
      "text/html": [
       "<div>\n",
       "<style scoped>\n",
       "    .dataframe tbody tr th:only-of-type {\n",
       "        vertical-align: middle;\n",
       "    }\n",
       "\n",
       "    .dataframe tbody tr th {\n",
       "        vertical-align: top;\n",
       "    }\n",
       "\n",
       "    .dataframe thead th {\n",
       "        text-align: right;\n",
       "    }\n",
       "</style>\n",
       "<table border=\"1\" class=\"dataframe\">\n",
       "  <thead>\n",
       "    <tr style=\"text-align: right;\">\n",
       "      <th></th>\n",
       "      <th>user_id</th>\n",
       "      <th>item_id</th>\n",
       "      <th>rating</th>\n",
       "      <th>timestamp</th>\n",
       "    </tr>\n",
       "  </thead>\n",
       "  <tbody>\n",
       "    <tr>\n",
       "      <th>0</th>\n",
       "      <td>A39HTATAQ9V7YF</td>\n",
       "      <td>0205616461</td>\n",
       "      <td>5.0</td>\n",
       "      <td>1369699200</td>\n",
       "    </tr>\n",
       "    <tr>\n",
       "      <th>1</th>\n",
       "      <td>A3JM6GV9MNOF9X</td>\n",
       "      <td>0558925278</td>\n",
       "      <td>3.0</td>\n",
       "      <td>1355443200</td>\n",
       "    </tr>\n",
       "    <tr>\n",
       "      <th>2</th>\n",
       "      <td>A1Z513UWSAAO0F</td>\n",
       "      <td>0558925278</td>\n",
       "      <td>5.0</td>\n",
       "      <td>1404691200</td>\n",
       "    </tr>\n",
       "    <tr>\n",
       "      <th>3</th>\n",
       "      <td>A1WMRR494NWEWV</td>\n",
       "      <td>0733001998</td>\n",
       "      <td>4.0</td>\n",
       "      <td>1382572800</td>\n",
       "    </tr>\n",
       "    <tr>\n",
       "      <th>4</th>\n",
       "      <td>A3IAAVS479H7M7</td>\n",
       "      <td>0737104473</td>\n",
       "      <td>1.0</td>\n",
       "      <td>1274227200</td>\n",
       "    </tr>\n",
       "  </tbody>\n",
       "</table>\n",
       "</div>"
      ],
      "text/plain": [
       "          user_id     item_id  rating   timestamp\n",
       "0  A39HTATAQ9V7YF  0205616461     5.0  1369699200\n",
       "1  A3JM6GV9MNOF9X  0558925278     3.0  1355443200\n",
       "2  A1Z513UWSAAO0F  0558925278     5.0  1404691200\n",
       "3  A1WMRR494NWEWV  0733001998     4.0  1382572800\n",
       "4  A3IAAVS479H7M7  0737104473     1.0  1274227200"
      ]
     },
     "execution_count": 21,
     "metadata": {},
     "output_type": "execute_result"
    }
   ],
   "source": [
    "df.head()"
   ]
  },
  {
   "cell_type": "code",
   "execution_count": 22,
   "id": "20c0f4ba",
   "metadata": {},
   "outputs": [
    {
     "data": {
      "text/plain": [
       "user_id      0\n",
       "item_id      0\n",
       "rating       0\n",
       "timestamp    0\n",
       "dtype: int64"
      ]
     },
     "execution_count": 22,
     "metadata": {},
     "output_type": "execute_result"
    }
   ],
   "source": [
    "df.isnull().sum()"
   ]
  },
  {
   "cell_type": "code",
   "execution_count": 23,
   "id": "1e37970d",
   "metadata": {},
   "outputs": [
    {
     "data": {
      "text/plain": [
       "('AZZZU2TD7Q3ET', (1210271,))"
      ]
     },
     "execution_count": 23,
     "metadata": {},
     "output_type": "execute_result"
    }
   ],
   "source": [
    "df.user_id.max(), df.user_id.unique().shape"
   ]
  },
  {
   "cell_type": "code",
   "execution_count": 24,
   "id": "f3182b59",
   "metadata": {},
   "outputs": [
    {
     "data": {
      "text/plain": [
       "(1, 1210271, (1210271,))"
      ]
     },
     "execution_count": 24,
     "metadata": {},
     "output_type": "execute_result"
    }
   ],
   "source": [
    "df.user_id = pd.factorize(df.user_id)[0] + 1\n",
    "df.user_id.min(), df.user_id.max(), df.user_id.unique().shape"
   ]
  },
  {
   "cell_type": "code",
   "execution_count": 25,
   "id": "7225ddeb",
   "metadata": {},
   "outputs": [
    {
     "data": {
      "text/plain": [
       "(1, 249274, (249274,))"
      ]
     },
     "execution_count": 25,
     "metadata": {},
     "output_type": "execute_result"
    }
   ],
   "source": [
    "df.item_id = pd.factorize(df.item_id)[0] + 1\n",
    "df.item_id.min(), df.item_id.max(), df.item_id.unique().shape"
   ]
  },
  {
   "cell_type": "code",
   "execution_count": 26,
   "id": "dc5755c0",
   "metadata": {},
   "outputs": [
    {
     "data": {
      "text/html": [
       "<div>\n",
       "<style scoped>\n",
       "    .dataframe tbody tr th:only-of-type {\n",
       "        vertical-align: middle;\n",
       "    }\n",
       "\n",
       "    .dataframe tbody tr th {\n",
       "        vertical-align: top;\n",
       "    }\n",
       "\n",
       "    .dataframe thead th {\n",
       "        text-align: right;\n",
       "    }\n",
       "</style>\n",
       "<table border=\"1\" class=\"dataframe\">\n",
       "  <thead>\n",
       "    <tr style=\"text-align: right;\">\n",
       "      <th></th>\n",
       "      <th>user_id</th>\n",
       "      <th>item_id</th>\n",
       "      <th>rating</th>\n",
       "      <th>timestamp</th>\n",
       "    </tr>\n",
       "  </thead>\n",
       "  <tbody>\n",
       "    <tr>\n",
       "      <th>0</th>\n",
       "      <td>1</td>\n",
       "      <td>1</td>\n",
       "      <td>5.0</td>\n",
       "      <td>1369699200</td>\n",
       "    </tr>\n",
       "    <tr>\n",
       "      <th>1</th>\n",
       "      <td>2</td>\n",
       "      <td>2</td>\n",
       "      <td>3.0</td>\n",
       "      <td>1355443200</td>\n",
       "    </tr>\n",
       "    <tr>\n",
       "      <th>2</th>\n",
       "      <td>3</td>\n",
       "      <td>2</td>\n",
       "      <td>5.0</td>\n",
       "      <td>1404691200</td>\n",
       "    </tr>\n",
       "    <tr>\n",
       "      <th>3</th>\n",
       "      <td>4</td>\n",
       "      <td>3</td>\n",
       "      <td>4.0</td>\n",
       "      <td>1382572800</td>\n",
       "    </tr>\n",
       "    <tr>\n",
       "      <th>4</th>\n",
       "      <td>5</td>\n",
       "      <td>4</td>\n",
       "      <td>1.0</td>\n",
       "      <td>1274227200</td>\n",
       "    </tr>\n",
       "  </tbody>\n",
       "</table>\n",
       "</div>"
      ],
      "text/plain": [
       "   user_id  item_id  rating   timestamp\n",
       "0        1        1     5.0  1369699200\n",
       "1        2        2     3.0  1355443200\n",
       "2        3        2     5.0  1404691200\n",
       "3        4        3     4.0  1382572800\n",
       "4        5        4     1.0  1274227200"
      ]
     },
     "execution_count": 26,
     "metadata": {},
     "output_type": "execute_result"
    }
   ],
   "source": [
    "df.head()"
   ]
  },
  {
   "cell_type": "code",
   "execution_count": 9,
   "id": "5ceed0b6",
   "metadata": {},
   "outputs": [
    {
     "data": {
      "text/plain": [
       "2023070"
      ]
     },
     "execution_count": 9,
     "metadata": {},
     "output_type": "execute_result"
    }
   ],
   "source": [
    "sorted_timestamps = sorted(df.timestamp)\n",
    "len(sorted_timestamps)"
   ]
  },
  {
   "cell_type": "code",
   "execution_count": 10,
   "id": "ca365b76",
   "metadata": {},
   "outputs": [
    {
     "name": "stdout",
     "output_type": "stream",
     "text": [
      "1394323200 1400284800\n"
     ]
    }
   ],
   "source": [
    "threshold_timestamp = sorted_timestamps[int(len(sorted_timestamps) * (1.0 - 0.2))]\n",
    "test_threshold_timestamp = sorted_timestamps[int(len(sorted_timestamps) * (1.0 - 0.1))]\n",
    "\n",
    "print(threshold_timestamp, test_threshold_timestamp)"
   ]
  },
  {
   "cell_type": "code",
   "execution_count": 11,
   "id": "a0c10ed9",
   "metadata": {},
   "outputs": [
    {
     "data": {
      "text/plain": [
       "((1616826, 4), (202506, 4), (203738, 4))"
      ]
     },
     "execution_count": 11,
     "metadata": {},
     "output_type": "execute_result"
    }
   ],
   "source": [
    "train_data = df[df.timestamp < threshold_timestamp]\n",
    "validation_data = df[(threshold_timestamp <= df.timestamp) & (df.timestamp < test_threshold_timestamp)]\n",
    "test_data = df[test_threshold_timestamp <= df.timestamp]\n",
    "\n",
    "train_data.shape, validation_data.shape, test_data.shape"
   ]
  },
  {
   "cell_type": "markdown",
   "id": "bd63ef42",
   "metadata": {},
   "source": [
    "## Train data preprocessing"
   ]
  },
  {
   "cell_type": "code",
   "execution_count": 12,
   "id": "8e3891a4",
   "metadata": {},
   "outputs": [
    {
     "name": "stderr",
     "output_type": "stream",
     "text": [
      "1616826it [01:13, 22007.36it/s]"
     ]
    },
    {
     "name": "stdout",
     "output_type": "stream",
     "text": [
      "1616826\n"
     ]
    },
    {
     "name": "stderr",
     "output_type": "stream",
     "text": [
      "\n"
     ]
    }
   ],
   "source": [
    "data = []\n",
    "\n",
    "for _, row in tqdm(train_data.iterrows()):\n",
    "    data.append({\n",
    "        'user_id': int(row.user_id),\n",
    "        'item_id': int(row.item_id),\n",
    "        'timestamp': int(row.timestamp)\n",
    "    })\n",
    "\n",
    "print(len(data))"
   ]
  },
  {
   "cell_type": "code",
   "execution_count": 13,
   "id": "171cf5d9",
   "metadata": {},
   "outputs": [
    {
     "name": "stderr",
     "output_type": "stream",
     "text": [
      "100%|████████████████████████████████████████████████████████████████████| 1616826/1616826 [00:04<00:00, 384409.54it/s]\n"
     ]
    },
    {
     "name": "stdout",
     "output_type": "stream",
     "text": [
      "(0, 0) (62931, 68495)\n",
      "(62931, 68495) (49943, 23678)\n",
      "(49943, 23678) (37550, 21275)\n",
      "(37550, 21275) (36157, 18294)\n",
      "(36157, 18294) (34115, 17908)\n",
      "(34115, 17908) (33806, 17284)\n",
      "(33806, 17284) (33353, 17193)\n",
      "(33353, 17193) (33283, 17072)\n",
      "(33283, 17072) (33181, 17052)\n",
      "(33181, 17052) (33160, 17025)\n",
      "(33160, 17025) (33138, 17019)\n",
      "(33138, 17019) (33136, 17007)\n",
      "(33136, 17007) (33128, 17007)\n",
      "(33128, 17007) (33128, 17006)\n",
      "(33128, 17006) (33126, 17006)\n",
      "(33126, 17006) (33126, 17006)\n"
     ]
    }
   ],
   "source": [
    "user_history = defaultdict(list)\n",
    "item_history = defaultdict(list)\n",
    "\n",
    "for row in tqdm(data):\n",
    "    user_raw_id = row['user_id']\n",
    "    item_raw_id = row['item_id']\n",
    "    interaction_timestamp = row['timestamp']\n",
    "    \n",
    "    user_history[user_raw_id].append({'item_id': item_raw_id, 'timestamp': interaction_timestamp})\n",
    "    item_history[item_raw_id].append({'user_id': user_raw_id, 'timestamp': interaction_timestamp})\n",
    "\n",
    "\n",
    "is_changed = True\n",
    "threshold = 4\n",
    "good_users = set()\n",
    "good_items = set()\n",
    "\n",
    "\n",
    "while is_changed:\n",
    "    old_state = (len(good_users), len(good_items))\n",
    "    \n",
    "    good_users = set()\n",
    "    good_items = set()\n",
    "\n",
    "    for user_id, history in user_history.items():\n",
    "        if len(history) >= threshold:\n",
    "            good_users.add(user_id)\n",
    "\n",
    "    for item_id, history in item_history.items():\n",
    "        if len(history) >= threshold:\n",
    "            good_items.add(item_id)\n",
    "    \n",
    "    user_history = {\n",
    "        user_id: list(filter(lambda x: x['item_id'] in good_items, history))\n",
    "        for user_id, history in user_history.items()\n",
    "    }\n",
    "    \n",
    "    item_history = {\n",
    "        item_id: list(filter(lambda x: x['user_id'] in good_users, history))\n",
    "        for item_id, history in item_history.items()\n",
    "    }\n",
    "    \n",
    "    new_state = (len(good_users), len(good_items))\n",
    "    is_changed = (old_state != new_state)\n",
    "    print(old_state, new_state)"
   ]
  },
  {
   "cell_type": "code",
   "execution_count": 14,
   "id": "588ba4c8",
   "metadata": {},
   "outputs": [
    {
     "name": "stderr",
     "output_type": "stream",
     "text": [
      "100%|█████████████████████████████████████████████████████████████████████| 995667/995667 [00:00<00:00, 1352809.19it/s]\n",
      "100%|██████████████████████████████████████████████████████████████████████| 217231/217231 [00:00<00:00, 532429.86it/s]\n"
     ]
    }
   ],
   "source": [
    "user_mapping = {}\n",
    "item_mapping = {}\n",
    "tmp_user_history = defaultdict(list)\n",
    "tmp_item_history = defaultdict(list)\n",
    "\n",
    "for raw_user_id, history in tqdm(user_history.items()):\n",
    "    if len(history) >= threshold:\n",
    "        processed_history = []\n",
    "\n",
    "        for filtered_item_event in history:\n",
    "            raw_item_id = filtered_item_event['item_id']\n",
    "            item_timestamp = filtered_item_event['timestamp']\n",
    "\n",
    "            processed_item_id = item_mapping.get(raw_item_id, len(item_mapping) + 1)\n",
    "            item_mapping[raw_item_id] = processed_item_id\n",
    "\n",
    "            processed_history.append({'item_id': processed_item_id, 'timestamp': item_timestamp})\n",
    "        \n",
    "        processed_user_id = user_mapping.get(raw_user_id, len(user_mapping) + 1)\n",
    "        user_mapping[raw_user_id] = processed_user_id\n",
    "\n",
    "        tmp_user_history[processed_user_id] = sorted(processed_history, key=lambda x: x['timestamp'])\n",
    "\n",
    "    \n",
    "for raw_item_id, history in tqdm(item_history.items()):\n",
    "    if len(history) >= threshold:\n",
    "        processed_history = []\n",
    "\n",
    "        for filtered_user_event in history:\n",
    "            raw_user_id = filtered_user_event['user_id']\n",
    "            user_timestamp = filtered_user_event['timestamp']\n",
    "\n",
    "            processed_user_id = user_mapping.get(raw_user_id, len(user_mapping) + 1)\n",
    "            user_mapping[raw_user_id] = processed_user_id\n",
    "\n",
    "            processed_history.append({'user_id': processed_user_id, 'timestamp': user_timestamp})\n",
    "\n",
    "\n",
    "        processed_item_id = item_mapping.get(raw_item_id, len(item_mapping) + 1)\n",
    "        item_mapping[raw_item_id] = processed_item_id\n",
    "\n",
    "        tmp_item_history[processed_item_id] = sorted(processed_history, key=lambda x: x['timestamp'])\n",
    "\n",
    "train_user_history = tmp_user_history\n",
    "train_item_history = tmp_item_history"
   ]
  },
  {
   "cell_type": "code",
   "execution_count": 15,
   "id": "43003085",
   "metadata": {},
   "outputs": [
    {
     "name": "stdout",
     "output_type": "stream",
     "text": [
      "Users count: 33126\n",
      "Items count: 17006\n",
      "Actions count: 926523\n",
      "Avg train user history len: 6.8857694862041905\n",
      "Avg train item history len: 6.8857694862041905\n"
     ]
    }
   ],
   "source": [
    "print('Users count:', len(user_mapping))\n",
    "print('Items count:', len(item_mapping))\n",
    "print('Actions count:', sum(list(map(lambda x: len(x), user_history.values()))))\n",
    "print('Avg train user history len:', np.mean(list(map(lambda x: len(x), train_user_history.values()))))\n",
    "print('Avg train item history len:', np.mean(list(map(lambda x: len(x), train_user_history.values()))))"
   ]
  },
  {
   "cell_type": "code",
   "execution_count": 16,
   "id": "3ade6b73",
   "metadata": {},
   "outputs": [
    {
     "name": "stdout",
     "output_type": "stream",
     "text": [
      "Train data. Before: (1616826, 4). After: (228098, 4)\n",
      "Validation data. Before: (202506, 4). After: (9622, 4)\n",
      "Test data. Before: (203738, 4). After: (5104, 4)\n"
     ]
    }
   ],
   "source": [
    "train_data_filtered = train_data[train_data.user_id.isin(user_mapping) & train_data.item_id.isin(item_mapping)]\n",
    "validation_data_filtered = validation_data[validation_data.user_id.isin(user_mapping) & validation_data.item_id.isin(item_mapping)]\n",
    "test_data_filtered = test_data[test_data.user_id.isin(user_mapping) & test_data.item_id.isin(item_mapping)]\n",
    "\n",
    "print(f'Train data. Before: {train_data.shape}. After: {train_data_filtered.shape}')\n",
    "print(f'Validation data. Before: {validation_data.shape}. After: {validation_data_filtered.shape}')\n",
    "print(f'Test data. Before: {test_data.shape}. After: {test_data_filtered.shape}')"
   ]
  },
  {
   "cell_type": "code",
   "execution_count": 21,
   "id": "93e81962",
   "metadata": {},
   "outputs": [],
   "source": [
    "# Save train data (TODO do we need to duplicate: I think yes)\n",
    "with open('../data/Beauty/train_new.txt', 'w') as f:\n",
    "    cnt = 0\n",
    "    cnt_added = 0\n",
    "    for user_id, history in train_user_history.items():\n",
    "        previous_history = []\n",
    "        \n",
    "        for item_event in sorted(history, key=lambda x: x['timestamp']):\n",
    "            if len(previous_history) + 1 >= threshold:\n",
    "                f.write(' '.join([str(user_id)] + previous_history + [str(item_event['item_id'])]))\n",
    "                f.write('\\n')\n",
    "                cnt_added += 1\n",
    "            \n",
    "            previous_history.append(str(item_event['item_id']))\n",
    "            cnt += 1\n",
    "            \n",
    "    assert cnt == train_data_filtered.shape[0]\n",
    "    assert cnt == cnt_added + (len(user_mapping) * (threshold - 1))"
   ]
  },
  {
   "cell_type": "code",
   "execution_count": 22,
   "id": "043c4111",
   "metadata": {},
   "outputs": [
    {
     "name": "stderr",
     "output_type": "stream",
     "text": [
      "9622it [00:00, 24793.39it/s]\n"
     ]
    },
    {
     "name": "stdout",
     "output_type": "stream",
     "text": [
      "9622\n"
     ]
    },
    {
     "name": "stderr",
     "output_type": "stream",
     "text": [
      "100%|██████████████████████████████████████████████████████████████████████████| 9622/9622 [00:00<00:00, 961971.57it/s]\n",
      "100%|██████████████████████████████████████████████████████████████████████████| 4569/4569 [00:00<00:00, 285476.84it/s]\n"
     ]
    }
   ],
   "source": [
    "validation_list = []\n",
    "\n",
    "for _, row in tqdm(validation_data_filtered.iterrows()):\n",
    "    validation_list.append({\n",
    "        'user_id': int(row.user_id),\n",
    "        'item_id': int(row.item_id),\n",
    "        'timestamp': int(row.timestamp)\n",
    "    })\n",
    "validation_list = sorted(validation_list, key=lambda x: x['timestamp'])\n",
    "print(len(validation_list))\n",
    "\n",
    "\n",
    "# Add events to `validation_user_history`\n",
    "validation_user_history = defaultdict(list)\n",
    "for row in tqdm(validation_list):\n",
    "    user_raw_id = row['user_id']\n",
    "    item_raw_id = row['item_id']\n",
    "    interaction_timestamp = row['timestamp']\n",
    "    validation_user_history[user_raw_id].append({'item_id': item_raw_id, 'timestamp': interaction_timestamp})\n",
    "\n",
    "# Re-number user and item IDs\n",
    "tmp_user_history = defaultdict(list)\n",
    "for user_id, history in tqdm(validation_user_history.items()):\n",
    "    processed_user_id = user_mapping[user_id]\n",
    "    \n",
    "    processed_history = []\n",
    "    for item_event in history:\n",
    "        item_id = item_event['item_id']\n",
    "        item_timestamp = item_event['timestamp']\n",
    "        processed_item_id = item_mapping[item_id]\n",
    "        processed_history.append({'item_id': processed_item_id, 'timestamp': item_timestamp})\n",
    "        \n",
    "    tmp_user_history[processed_user_id] = sorted(processed_history, key=lambda x: x['timestamp'])\n",
    "validation_user_history = tmp_user_history"
   ]
  },
  {
   "cell_type": "code",
   "execution_count": 23,
   "id": "fff8ff3f",
   "metadata": {},
   "outputs": [],
   "source": [
    "# Save validation data\n",
    "with open('../data/Beauty/validation_new.txt', 'w') as f:\n",
    "    cnt = 0\n",
    "    for user_id, validation_history in validation_user_history.items():\n",
    "        previous_history = [\n",
    "            str(event['item_id']) for event in sorted(train_user_history[user_id], key=lambda x: x['timestamp'])\n",
    "        ]\n",
    "        assert len(previous_history) > 0\n",
    "        \n",
    "        for validation_item_event in  sorted(validation_history, key=lambda x: x['timestamp']):\n",
    "            assert len(previous_history) + 1 >= threshold\n",
    "            \n",
    "            f.write(' '.join([str(user_id)] + previous_history + [str(validation_item_event['item_id'])]))\n",
    "            f.write('\\n')\n",
    "            \n",
    "            previous_history.append(str(validation_item_event['item_id']))\n",
    "            cnt += 1\n",
    "            \n",
    "    assert cnt == validation_data_filtered.shape[0]"
   ]
  },
  {
   "cell_type": "code",
   "execution_count": 24,
   "id": "25408ad8",
   "metadata": {},
   "outputs": [
    {
     "name": "stderr",
     "output_type": "stream",
     "text": [
      "5104it [00:00, 24651.41it/s]\n"
     ]
    },
    {
     "name": "stdout",
     "output_type": "stream",
     "text": [
      "5104\n"
     ]
    },
    {
     "name": "stderr",
     "output_type": "stream",
     "text": [
      "100%|█████████████████████████████████████████████████████████████████████████| 5104/5104 [00:00<00:00, 1020533.33it/s]\n",
      "100%|██████████████████████████████████████████████████████████████████████████| 2910/2910 [00:00<00:00, 264490.10it/s]\n"
     ]
    }
   ],
   "source": [
    "test_list = []\n",
    "\n",
    "for _, row in tqdm(test_data_filtered.iterrows()):\n",
    "    test_list.append({\n",
    "        'user_id': int(row.user_id),\n",
    "        'item_id': int(row.item_id),\n",
    "        'timestamp': int(row.timestamp)\n",
    "    })\n",
    "test_list = sorted(test_list, key=lambda x: x['timestamp'])\n",
    "print(len(test_list))\n",
    "\n",
    "# Add events to `test_user_history`\n",
    "test_user_history = defaultdict(list)\n",
    "for row in tqdm(test_list):\n",
    "    user_raw_id = row['user_id']\n",
    "    item_raw_id = row['item_id']\n",
    "    interaction_timestamp = row['timestamp']\n",
    "    test_user_history[user_raw_id].append({'item_id': item_raw_id, 'timestamp': interaction_timestamp})\n",
    "\n",
    "# Re-number user and item IDs\n",
    "tmp_user_history = defaultdict(list)\n",
    "for user_id, history in tqdm(test_user_history.items()):\n",
    "    processed_user_id = user_mapping[user_id]\n",
    "    \n",
    "    processed_history = []\n",
    "    for item_event in history:\n",
    "        item_id = item_event['item_id']\n",
    "        item_timestamp = item_event['timestamp']\n",
    "        processed_item_id = item_mapping[item_id]\n",
    "        processed_history.append({'item_id': processed_item_id, 'timestamp': item_timestamp})\n",
    "        \n",
    "    tmp_user_history[processed_user_id] = sorted(processed_history, key=lambda x: x['timestamp'])\n",
    "test_user_history = tmp_user_history"
   ]
  },
  {
   "cell_type": "code",
   "execution_count": 27,
   "id": "a4956206",
   "metadata": {},
   "outputs": [],
   "source": [
    "# Save test data\n",
    "with open('../data/Beauty/test_new.txt', 'w') as f:\n",
    "    cnt = 0\n",
    "    for user_id, test_history in test_user_history.items():\n",
    "        train_history = [\n",
    "            str(event['item_id']) for event in sorted(train_user_history[user_id], key=lambda x: x['timestamp'])\n",
    "        ]\n",
    "        validation_history = [\n",
    "            str(event['item_id']) for event in sorted(validation_user_history[user_id], key=lambda x: x['timestamp'])\n",
    "        ]\n",
    "        previous_history = train_history + validation_history\n",
    "        assert len(train_history) > 0\n",
    "        \n",
    "        for test_item_event in sorted(test_history, key=lambda x: x['timestamp']):\n",
    "            f.write(' '.join([str(user_id)] + previous_history + [str(test_item_event['item_id'])]))\n",
    "            f.write('\\n')\n",
    "            \n",
    "            previous_history.append(str(test_item_event['item_id']))\n",
    "            cnt += 1\n",
    "            \n",
    "    assert cnt == test_data_filtered.shape[0]"
   ]
  },
  {
   "cell_type": "markdown",
   "id": "14015567",
   "metadata": {},
   "source": [
    "### All data"
   ]
  },
  {
   "cell_type": "code",
   "execution_count": 9,
   "id": "c66ead52",
   "metadata": {},
   "outputs": [
    {
     "data": {
      "text/html": [
       "<div>\n",
       "<style scoped>\n",
       "    .dataframe tbody tr th:only-of-type {\n",
       "        vertical-align: middle;\n",
       "    }\n",
       "\n",
       "    .dataframe tbody tr th {\n",
       "        vertical-align: top;\n",
       "    }\n",
       "\n",
       "    .dataframe thead th {\n",
       "        text-align: right;\n",
       "    }\n",
       "</style>\n",
       "<table border=\"1\" class=\"dataframe\">\n",
       "  <thead>\n",
       "    <tr style=\"text-align: right;\">\n",
       "      <th></th>\n",
       "      <th>user_id</th>\n",
       "      <th>item_id</th>\n",
       "      <th>rating</th>\n",
       "      <th>timestamp</th>\n",
       "    </tr>\n",
       "  </thead>\n",
       "  <tbody>\n",
       "    <tr>\n",
       "      <th>0</th>\n",
       "      <td>1</td>\n",
       "      <td>1</td>\n",
       "      <td>5.0</td>\n",
       "      <td>1369699200</td>\n",
       "    </tr>\n",
       "    <tr>\n",
       "      <th>1</th>\n",
       "      <td>2</td>\n",
       "      <td>2</td>\n",
       "      <td>3.0</td>\n",
       "      <td>1355443200</td>\n",
       "    </tr>\n",
       "    <tr>\n",
       "      <th>2</th>\n",
       "      <td>3</td>\n",
       "      <td>2</td>\n",
       "      <td>5.0</td>\n",
       "      <td>1404691200</td>\n",
       "    </tr>\n",
       "    <tr>\n",
       "      <th>3</th>\n",
       "      <td>4</td>\n",
       "      <td>3</td>\n",
       "      <td>4.0</td>\n",
       "      <td>1382572800</td>\n",
       "    </tr>\n",
       "    <tr>\n",
       "      <th>4</th>\n",
       "      <td>5</td>\n",
       "      <td>4</td>\n",
       "      <td>1.0</td>\n",
       "      <td>1274227200</td>\n",
       "    </tr>\n",
       "  </tbody>\n",
       "</table>\n",
       "</div>"
      ],
      "text/plain": [
       "   user_id  item_id  rating   timestamp\n",
       "0        1        1     5.0  1369699200\n",
       "1        2        2     3.0  1355443200\n",
       "2        3        2     5.0  1404691200\n",
       "3        4        3     4.0  1382572800\n",
       "4        5        4     1.0  1274227200"
      ]
     },
     "execution_count": 9,
     "metadata": {},
     "output_type": "execute_result"
    }
   ],
   "source": [
    "df.head()"
   ]
  },
  {
   "cell_type": "code",
   "execution_count": 10,
   "id": "5701edda",
   "metadata": {},
   "outputs": [
    {
     "name": "stderr",
     "output_type": "stream",
     "text": [
      "2023070it [01:21, 24916.59it/s]"
     ]
    },
    {
     "name": "stdout",
     "output_type": "stream",
     "text": [
      "2023070\n"
     ]
    },
    {
     "name": "stderr",
     "output_type": "stream",
     "text": [
      "\n"
     ]
    }
   ],
   "source": [
    "data = []\n",
    "\n",
    "for _, row in tqdm(df.iterrows()):\n",
    "    data.append({\n",
    "        'user_id': int(row.user_id),\n",
    "        'item_id': int(row.item_id),\n",
    "        'timestamp': int(row.timestamp)\n",
    "    })\n",
    "\n",
    "print(len(data))"
   ]
  },
  {
   "cell_type": "code",
   "execution_count": 11,
   "id": "a02bd6d1",
   "metadata": {},
   "outputs": [
    {
     "name": "stderr",
     "output_type": "stream",
     "text": [
      "100%|███████████████████████████████████████████████████████████████████████████████████████████████████████████████████████████████████████████████████████████████| 2023070/2023070 [00:04<00:00, 467192.47it/s]\n"
     ]
    }
   ],
   "source": [
    "user_history = defaultdict(list)\n",
    "item_history = defaultdict(list)\n",
    "\n",
    "for row in tqdm(data):\n",
    "    user_raw_id = row['user_id']\n",
    "    item_raw_id = row['item_id']\n",
    "    interaction_timestamp = row['timestamp']\n",
    "    \n",
    "    user_history[user_raw_id].append({'item_id': item_raw_id, 'timestamp': interaction_timestamp})\n",
    "    item_history[item_raw_id].append({'user_id': user_raw_id, 'timestamp': interaction_timestamp})"
   ]
  },
  {
   "cell_type": "code",
   "execution_count": 12,
   "id": "c8f9aabc",
   "metadata": {},
   "outputs": [
    {
     "name": "stdout",
     "output_type": "stream",
     "text": [
      "(0, 0) (52374, 67345)\n",
      "(52374, 67345) (40226, 19369)\n",
      "(40226, 19369) (27501, 17041)\n",
      "(27501, 17041) (26116, 13727)\n",
      "(26116, 13727) (23746, 13318)\n",
      "(23746, 13318) (23436, 12562)\n",
      "(23436, 12562) (22787, 12458)\n",
      "(22787, 12458) (22705, 12247)\n",
      "(22705, 12247) (22505, 12224)\n",
      "(22505, 12224) (22480, 12153)\n",
      "(22480, 12153) (22408, 12140)\n",
      "(22408, 12140) (22401, 12116)\n",
      "(22401, 12116) (22374, 12114)\n",
      "(22374, 12114) (22372, 12103)\n",
      "(22372, 12103) (22364, 12103)\n",
      "(22364, 12103) (22364, 12101)\n",
      "(22364, 12101) (22363, 12101)\n",
      "(22363, 12101) (22363, 12101)\n"
     ]
    }
   ],
   "source": [
    "is_changed = True\n",
    "threshold = 5\n",
    "good_users = set()\n",
    "good_items = set()\n",
    "\n",
    "\n",
    "while is_changed:\n",
    "    old_state = (len(good_users), len(good_items))\n",
    "    \n",
    "    good_users = set()\n",
    "    good_items = set()\n",
    "\n",
    "    for user_id, history in user_history.items():\n",
    "        if len(history) >= threshold:\n",
    "            good_users.add(user_id)\n",
    "\n",
    "    for item_id, history in item_history.items():\n",
    "        if len(history) >= threshold:\n",
    "            good_items.add(item_id)\n",
    "    \n",
    "    user_history = {\n",
    "        user_id: list(filter(lambda x: x['item_id'] in good_items, history))\n",
    "        for user_id, history in user_history.items()\n",
    "    }\n",
    "    \n",
    "    item_history = {\n",
    "        item_id: list(filter(lambda x: x['user_id'] in good_users, history))\n",
    "        for item_id, history in item_history.items()\n",
    "    }\n",
    "    \n",
    "    new_state = (len(good_users), len(good_items))\n",
    "    is_changed = (old_state != new_state)\n",
    "    print(old_state, new_state)"
   ]
  },
  {
   "cell_type": "code",
   "execution_count": 13,
   "id": "dcc9f464",
   "metadata": {},
   "outputs": [
    {
     "name": "stderr",
     "output_type": "stream",
     "text": [
      "100%|███████████████████████████████████████████████████████████████████████████████████████████████████████████████████████████████████████████████████████████████| 1210271/1210271 [00:01<00:00, 830479.23it/s]\n",
      "100%|█████████████████████████████████████████████████████████████████████████████████████████████████████████████████████████████████████████████████████████████████| 249274/249274 [00:00<00:00, 565247.80it/s]\n"
     ]
    }
   ],
   "source": [
    "user_mapping = {}\n",
    "item_mapping = {}\n",
    "tmp_user_history = defaultdict(list)\n",
    "tmp_item_history = defaultdict(list)\n",
    "\n",
    "for user_id, history in tqdm(user_history.items()):\n",
    "    processed_history = []\n",
    "\n",
    "    for filtered_item in history:\n",
    "        item_id = filtered_item['item_id']\n",
    "        item_timestamp = filtered_item['timestamp']\n",
    "\n",
    "        processed_item_id = item_mapping.get(item_id, len(item_mapping) + 1)\n",
    "        item_mapping[item_id] = processed_item_id\n",
    "\n",
    "        processed_history.append({'item_id': processed_item_id, 'timestamp': item_timestamp})\n",
    "        \n",
    "    if len(processed_history) >= threshold:\n",
    "        processed_user_id = user_mapping.get(user_id, len(user_mapping) + 1)\n",
    "        user_mapping[user_id] = processed_user_id\n",
    "\n",
    "        tmp_user_history[processed_user_id] = sorted(processed_history, key=lambda x: x['timestamp'])\n",
    "\n",
    "    \n",
    "for item_id, history in tqdm(item_history.items()):\n",
    "    processed_history = []\n",
    "\n",
    "    for filtered_user in history:\n",
    "        user_id = filtered_user['user_id']\n",
    "        user_timestamp = filtered_user['timestamp']\n",
    "\n",
    "        processed_user_id = user_mapping.get(user_id, len(user_mapping) + 1)\n",
    "        user_mapping[user_id] = processed_user_id\n",
    "\n",
    "        processed_history.append({'user_id': processed_user_id, 'timestamp': user_timestamp})\n",
    "\n",
    "    if len(processed_history) >= threshold:\n",
    "        processed_item_id = item_mapping.get(item_id, len(item_mapping) + 1)\n",
    "        item_mapping[item_id] = processed_item_id\n",
    "\n",
    "        tmp_item_history[processed_item_id] = sorted(processed_history, key=lambda x: x['timestamp'])\n",
    "\n",
    "user_history = tmp_user_history\n",
    "item_history = tmp_item_history"
   ]
  },
  {
   "cell_type": "code",
   "execution_count": 14,
   "id": "16df848f",
   "metadata": {},
   "outputs": [
    {
     "name": "stdout",
     "output_type": "stream",
     "text": [
      "Users count: 22363\n",
      "Items count: 12101\n",
      "Actions count: 198502\n",
      "Avg user history len: 8.876358270357287\n",
      "Avg item history len: 16.403768283612923\n"
     ]
    }
   ],
   "source": [
    "print('Users count:', len(user_mapping))\n",
    "print('Items count:', len(item_mapping))\n",
    "print('Actions count:', sum(list(map(lambda x: len(x), user_history.values()))))\n",
    "print('Avg user history len:', np.mean(list(map(lambda x: len(x), user_history.values()))))\n",
    "print('Avg item history len:', np.mean(list(map(lambda x: len(x), item_history.values()))))"
   ]
  },
  {
   "cell_type": "code",
   "execution_count": 15,
   "id": "90f7ccc1",
   "metadata": {},
   "outputs": [],
   "source": [
    "with open('../data/Beauty/all_data.txt', 'w') as f:\n",
    "    for user_id, item_history in user_history.items():\n",
    "        f.write(' '.join([str(user_id)] + [\n",
    "            str(item_event['item_id']) for item_event in sorted(item_history, key=lambda x: x['timestamp'])\n",
    "        ]))\n",
    "        f.write('\\n')"
   ]
  },
  {
   "cell_type": "code",
   "execution_count": 30,
   "id": "578f077d",
   "metadata": {},
   "outputs": [
    {
     "name": "stdout",
     "output_type": "stream",
     "text": [
      "Number of events: 198502\n"
     ]
    }
   ],
   "source": [
    "path_to_df = '../data/Beauty/Beauty_5.json'\n",
    "\n",
    "df = defaultdict(list)\n",
    "\n",
    "with open(path_to_df, 'r') as f:\n",
    "    for line in f.readlines():\n",
    "        review = json.loads(line)\n",
    "        df['user_id'].append(review['reviewerID'])\n",
    "        df['item_id'].append(review['asin'])\n",
    "        df['timestamp'].append(review['unixReviewTime'])\n",
    "\n",
    "print(f'Number of events: {len(df[\"user_id\"])}')\n",
    "\n",
    "df = pd.DataFrame.from_dict(df)"
   ]
  },
  {
   "cell_type": "code",
   "execution_count": 31,
   "id": "ff5150fa",
   "metadata": {},
   "outputs": [
    {
     "data": {
      "text/html": [
       "<div>\n",
       "<style scoped>\n",
       "    .dataframe tbody tr th:only-of-type {\n",
       "        vertical-align: middle;\n",
       "    }\n",
       "\n",
       "    .dataframe tbody tr th {\n",
       "        vertical-align: top;\n",
       "    }\n",
       "\n",
       "    .dataframe thead th {\n",
       "        text-align: right;\n",
       "    }\n",
       "</style>\n",
       "<table border=\"1\" class=\"dataframe\">\n",
       "  <thead>\n",
       "    <tr style=\"text-align: right;\">\n",
       "      <th></th>\n",
       "      <th>user_id</th>\n",
       "      <th>item_id</th>\n",
       "      <th>timestamp</th>\n",
       "    </tr>\n",
       "  </thead>\n",
       "  <tbody>\n",
       "    <tr>\n",
       "      <th>0</th>\n",
       "      <td>A1YJEY40YUW4SE</td>\n",
       "      <td>7806397051</td>\n",
       "      <td>1391040000</td>\n",
       "    </tr>\n",
       "    <tr>\n",
       "      <th>1</th>\n",
       "      <td>A60XNB876KYML</td>\n",
       "      <td>7806397051</td>\n",
       "      <td>1397779200</td>\n",
       "    </tr>\n",
       "    <tr>\n",
       "      <th>2</th>\n",
       "      <td>A3G6XNM240RMWA</td>\n",
       "      <td>7806397051</td>\n",
       "      <td>1378425600</td>\n",
       "    </tr>\n",
       "    <tr>\n",
       "      <th>3</th>\n",
       "      <td>A1PQFP6SAJ6D80</td>\n",
       "      <td>7806397051</td>\n",
       "      <td>1386460800</td>\n",
       "    </tr>\n",
       "    <tr>\n",
       "      <th>4</th>\n",
       "      <td>A38FVHZTNQ271F</td>\n",
       "      <td>7806397051</td>\n",
       "      <td>1382140800</td>\n",
       "    </tr>\n",
       "  </tbody>\n",
       "</table>\n",
       "</div>"
      ],
      "text/plain": [
       "          user_id     item_id   timestamp\n",
       "0  A1YJEY40YUW4SE  7806397051  1391040000\n",
       "1   A60XNB876KYML  7806397051  1397779200\n",
       "2  A3G6XNM240RMWA  7806397051  1378425600\n",
       "3  A1PQFP6SAJ6D80  7806397051  1386460800\n",
       "4  A38FVHZTNQ271F  7806397051  1382140800"
      ]
     },
     "execution_count": 31,
     "metadata": {},
     "output_type": "execute_result"
    }
   ],
   "source": [
    "df.head()"
   ]
  },
  {
   "cell_type": "code",
   "execution_count": 32,
   "id": "90bf9531",
   "metadata": {},
   "outputs": [
    {
     "data": {
      "text/plain": [
       "user_id      0\n",
       "item_id      0\n",
       "timestamp    0\n",
       "dtype: int64"
      ]
     },
     "execution_count": 32,
     "metadata": {},
     "output_type": "execute_result"
    }
   ],
   "source": [
    "df.isnull().sum()"
   ]
  },
  {
   "cell_type": "code",
   "execution_count": 33,
   "id": "78fd87d0",
   "metadata": {},
   "outputs": [
    {
     "data": {
      "text/plain": [
       "('AZZZLM1E5JJ8C', (22363,))"
      ]
     },
     "execution_count": 33,
     "metadata": {},
     "output_type": "execute_result"
    }
   ],
   "source": [
    "df.user_id.max(), df.user_id.unique().shape"
   ]
  },
  {
   "cell_type": "code",
   "execution_count": 34,
   "id": "ce427454",
   "metadata": {},
   "outputs": [
    {
     "data": {
      "text/plain": [
       "(1, 22363, (22363,))"
      ]
     },
     "execution_count": 34,
     "metadata": {},
     "output_type": "execute_result"
    }
   ],
   "source": [
    "df.user_id = pd.factorize(df.user_id)[0] + 1\n",
    "df.user_id.min(), df.user_id.max(), df.user_id.unique().shape"
   ]
  },
  {
   "cell_type": "code",
   "execution_count": 35,
   "id": "f99792ac",
   "metadata": {},
   "outputs": [
    {
     "data": {
      "text/plain": [
       "(1, 12101, (12101,))"
      ]
     },
     "execution_count": 35,
     "metadata": {},
     "output_type": "execute_result"
    }
   ],
   "source": [
    "df.item_id = pd.factorize(df.item_id)[0] + 1\n",
    "df.item_id.min(), df.item_id.max(), df.item_id.unique().shape"
   ]
  },
  {
   "cell_type": "code",
   "execution_count": 36,
   "id": "62c10a9f",
   "metadata": {},
   "outputs": [
    {
     "data": {
      "text/html": [
       "<div>\n",
       "<style scoped>\n",
       "    .dataframe tbody tr th:only-of-type {\n",
       "        vertical-align: middle;\n",
       "    }\n",
       "\n",
       "    .dataframe tbody tr th {\n",
       "        vertical-align: top;\n",
       "    }\n",
       "\n",
       "    .dataframe thead th {\n",
       "        text-align: right;\n",
       "    }\n",
       "</style>\n",
       "<table border=\"1\" class=\"dataframe\">\n",
       "  <thead>\n",
       "    <tr style=\"text-align: right;\">\n",
       "      <th></th>\n",
       "      <th>user_id</th>\n",
       "      <th>item_id</th>\n",
       "      <th>timestamp</th>\n",
       "    </tr>\n",
       "  </thead>\n",
       "  <tbody>\n",
       "    <tr>\n",
       "      <th>0</th>\n",
       "      <td>1</td>\n",
       "      <td>1</td>\n",
       "      <td>1391040000</td>\n",
       "    </tr>\n",
       "    <tr>\n",
       "      <th>1</th>\n",
       "      <td>2</td>\n",
       "      <td>1</td>\n",
       "      <td>1397779200</td>\n",
       "    </tr>\n",
       "    <tr>\n",
       "      <th>2</th>\n",
       "      <td>3</td>\n",
       "      <td>1</td>\n",
       "      <td>1378425600</td>\n",
       "    </tr>\n",
       "    <tr>\n",
       "      <th>3</th>\n",
       "      <td>4</td>\n",
       "      <td>1</td>\n",
       "      <td>1386460800</td>\n",
       "    </tr>\n",
       "    <tr>\n",
       "      <th>4</th>\n",
       "      <td>5</td>\n",
       "      <td>1</td>\n",
       "      <td>1382140800</td>\n",
       "    </tr>\n",
       "  </tbody>\n",
       "</table>\n",
       "</div>"
      ],
      "text/plain": [
       "   user_id  item_id   timestamp\n",
       "0        1        1  1391040000\n",
       "1        2        1  1397779200\n",
       "2        3        1  1378425600\n",
       "3        4        1  1386460800\n",
       "4        5        1  1382140800"
      ]
     },
     "execution_count": 36,
     "metadata": {},
     "output_type": "execute_result"
    }
   ],
   "source": [
    "df.head()"
   ]
  },
  {
   "cell_type": "code",
   "execution_count": 37,
   "id": "0e54439e",
   "metadata": {},
   "outputs": [
    {
     "data": {
      "text/plain": [
       "22363"
      ]
     },
     "execution_count": 37,
     "metadata": {},
     "output_type": "execute_result"
    }
   ],
   "source": [
    "df.user_id.nunique()"
   ]
  },
  {
   "cell_type": "code",
   "execution_count": 38,
   "id": "567fcfba",
   "metadata": {},
   "outputs": [
    {
     "data": {
      "text/plain": [
       "12101"
      ]
     },
     "execution_count": 38,
     "metadata": {},
     "output_type": "execute_result"
    }
   ],
   "source": [
    "df.item_id.nunique()"
   ]
  },
  {
   "cell_type": "code",
   "execution_count": 39,
   "id": "237d7ad9",
   "metadata": {},
   "outputs": [
    {
     "data": {
      "text/html": [
       "<div>\n",
       "<style scoped>\n",
       "    .dataframe tbody tr th:only-of-type {\n",
       "        vertical-align: middle;\n",
       "    }\n",
       "\n",
       "    .dataframe tbody tr th {\n",
       "        vertical-align: top;\n",
       "    }\n",
       "\n",
       "    .dataframe thead th {\n",
       "        text-align: right;\n",
       "    }\n",
       "</style>\n",
       "<table border=\"1\" class=\"dataframe\">\n",
       "  <thead>\n",
       "    <tr style=\"text-align: right;\">\n",
       "      <th></th>\n",
       "      <th>user_id</th>\n",
       "      <th>item_id</th>\n",
       "      <th>timestamp</th>\n",
       "    </tr>\n",
       "  </thead>\n",
       "  <tbody>\n",
       "    <tr>\n",
       "      <th>0</th>\n",
       "      <td>1</td>\n",
       "      <td>1</td>\n",
       "      <td>1391040000</td>\n",
       "    </tr>\n",
       "    <tr>\n",
       "      <th>1</th>\n",
       "      <td>2</td>\n",
       "      <td>1</td>\n",
       "      <td>1397779200</td>\n",
       "    </tr>\n",
       "    <tr>\n",
       "      <th>2</th>\n",
       "      <td>3</td>\n",
       "      <td>1</td>\n",
       "      <td>1378425600</td>\n",
       "    </tr>\n",
       "    <tr>\n",
       "      <th>3</th>\n",
       "      <td>4</td>\n",
       "      <td>1</td>\n",
       "      <td>1386460800</td>\n",
       "    </tr>\n",
       "    <tr>\n",
       "      <th>4</th>\n",
       "      <td>5</td>\n",
       "      <td>1</td>\n",
       "      <td>1382140800</td>\n",
       "    </tr>\n",
       "  </tbody>\n",
       "</table>\n",
       "</div>"
      ],
      "text/plain": [
       "   user_id  item_id   timestamp\n",
       "0        1        1  1391040000\n",
       "1        2        1  1397779200\n",
       "2        3        1  1378425600\n",
       "3        4        1  1386460800\n",
       "4        5        1  1382140800"
      ]
     },
     "execution_count": 39,
     "metadata": {},
     "output_type": "execute_result"
    }
   ],
   "source": [
    "df.head()"
   ]
  },
  {
   "cell_type": "code",
   "execution_count": 40,
   "id": "97d2b954",
   "metadata": {},
   "outputs": [
    {
     "name": "stderr",
     "output_type": "stream",
     "text": [
      "198502it [00:07, 25402.56it/s]"
     ]
    },
    {
     "name": "stdout",
     "output_type": "stream",
     "text": [
      "198502\n"
     ]
    },
    {
     "name": "stderr",
     "output_type": "stream",
     "text": [
      "\n"
     ]
    }
   ],
   "source": [
    "data = []\n",
    "\n",
    "for _, row in tqdm(df.iterrows()):\n",
    "    data.append({\n",
    "        'user_id': int(row.user_id),\n",
    "        'item_id': int(row.item_id),\n",
    "        'timestamp': int(row.timestamp)\n",
    "    })\n",
    "\n",
    "print(len(data))"
   ]
  },
  {
   "cell_type": "code",
   "execution_count": 41,
   "id": "1517201e",
   "metadata": {},
   "outputs": [
    {
     "name": "stderr",
     "output_type": "stream",
     "text": [
      "100%|██████████████████████████████████████████████████████████████████████| 198502/198502 [00:00<00:00, 672833.04it/s]\n"
     ]
    }
   ],
   "source": [
    "user_history = defaultdict(list)\n",
    "item_history = defaultdict(list)\n",
    "\n",
    "for row in tqdm(data):\n",
    "    user_raw_id = row['user_id']\n",
    "    item_raw_id = row['item_id']\n",
    "    interaction_timestamp = row['timestamp']\n",
    "    \n",
    "    user_history[user_raw_id].append({'item_id': item_raw_id, 'timestamp': interaction_timestamp})\n",
    "    item_history[item_raw_id].append({'user_id': user_raw_id, 'timestamp': interaction_timestamp})"
   ]
  },
  {
   "cell_type": "code",
   "execution_count": 42,
   "id": "9a98b3e0",
   "metadata": {},
   "outputs": [
    {
     "name": "stdout",
     "output_type": "stream",
     "text": [
      "(0, 0) (22363, 12101)\n",
      "(22363, 12101) (22363, 12101)\n"
     ]
    }
   ],
   "source": [
    "is_changed = True\n",
    "threshold = 5\n",
    "good_users = set()\n",
    "good_items = set()\n",
    "\n",
    "\n",
    "while is_changed:\n",
    "    old_state = (len(good_users), len(good_items))\n",
    "    \n",
    "    good_users = set()\n",
    "    good_items = set()\n",
    "\n",
    "    for user_id, history in user_history.items():\n",
    "        if len(history) >= threshold:\n",
    "            good_users.add(user_id)\n",
    "\n",
    "    for item_id, history in item_history.items():\n",
    "        if len(history) >= threshold:\n",
    "            good_items.add(item_id)\n",
    "    \n",
    "    user_history = {\n",
    "        user_id: list(filter(lambda x: x['item_id'] in good_items, history))\n",
    "        for user_id, history in user_history.items()\n",
    "    }\n",
    "    \n",
    "    item_history = {\n",
    "        item_id: list(filter(lambda x: x['user_id'] in good_users, history))\n",
    "        for item_id, history in item_history.items()\n",
    "    }\n",
    "    \n",
    "    new_state = (len(good_users), len(good_items))\n",
    "    is_changed = (old_state != new_state)\n",
    "    print(old_state, new_state)"
   ]
  },
  {
   "cell_type": "code",
   "execution_count": 43,
   "id": "6cc15586",
   "metadata": {},
   "outputs": [
    {
     "name": "stderr",
     "output_type": "stream",
     "text": [
      "100%|█████████████████████████████████████████████████████████████████████████| 22363/22363 [00:00<00:00, 90005.73it/s]\n",
      "100%|█████████████████████████████████████████████████████████████████████████| 12101/12101 [00:00<00:00, 65768.00it/s]\n"
     ]
    }
   ],
   "source": [
    "user_mapping = {}\n",
    "item_mapping = {}\n",
    "tmp_user_history = defaultdict(list)\n",
    "tmp_item_history = defaultdict(list)\n",
    "\n",
    "for user_id, history in tqdm(user_history.items()):\n",
    "    processed_history = []\n",
    "\n",
    "    for filtered_item in history:\n",
    "        item_id = filtered_item['item_id']\n",
    "        item_timestamp = filtered_item['timestamp']\n",
    "\n",
    "        processed_item_id = item_mapping.get(item_id, len(item_mapping) + 1)\n",
    "        item_mapping[item_id] = processed_item_id\n",
    "\n",
    "        processed_history.append({'item_id': processed_item_id, 'timestamp': item_timestamp})\n",
    "        \n",
    "    if len(processed_history) >= threshold:\n",
    "        processed_user_id = user_mapping.get(user_id, len(user_mapping) + 1)\n",
    "        user_mapping[user_id] = processed_user_id\n",
    "\n",
    "        tmp_user_history[processed_user_id] = sorted(processed_history, key=lambda x: x['timestamp'])\n",
    "\n",
    "    \n",
    "for item_id, history in tqdm(item_history.items()):\n",
    "    processed_history = []\n",
    "\n",
    "    for filtered_user in history:\n",
    "        user_id = filtered_user['user_id']\n",
    "        user_timestamp = filtered_user['timestamp']\n",
    "\n",
    "        processed_user_id = user_mapping.get(user_id, len(user_mapping) + 1)\n",
    "        user_mapping[user_id] = processed_user_id\n",
    "\n",
    "        processed_history.append({'user_id': processed_user_id, 'timestamp': user_timestamp})\n",
    "\n",
    "    if len(processed_history) >= threshold:\n",
    "        processed_item_id = item_mapping.get(item_id, len(item_mapping) + 1)\n",
    "        item_mapping[item_id] = processed_item_id\n",
    "\n",
    "        tmp_item_history[processed_item_id] = sorted(processed_history, key=lambda x: x['timestamp'])\n",
    "\n",
    "user_history = tmp_user_history\n",
    "item_history = tmp_item_history"
   ]
  },
  {
   "cell_type": "code",
   "execution_count": 44,
   "id": "dfcdd980",
   "metadata": {},
   "outputs": [
    {
     "name": "stdout",
     "output_type": "stream",
     "text": [
      "Users count: 22363\n",
      "Items count: 12101\n",
      "Actions count: 198502\n",
      "Avg user history len: 8.876358270357287\n",
      "Avg item history len: 16.403768283612923\n"
     ]
    }
   ],
   "source": [
    "print('Users count:', len(user_mapping))\n",
    "print('Items count:', len(item_mapping))\n",
    "print('Actions count:', sum(list(map(lambda x: len(x), user_history.values()))))\n",
    "print('Avg user history len:', np.mean(list(map(lambda x: len(x), user_history.values()))))\n",
    "print('Avg item history len:', np.mean(list(map(lambda x: len(x), item_history.values()))))"
   ]
  },
  {
   "cell_type": "code",
   "execution_count": 45,
   "id": "d91aeda7",
   "metadata": {},
   "outputs": [],
   "source": [
    "with open('../data/Beauty/all_data.txt', 'w') as f:\n",
    "    for user_id, item_history in user_history.items():\n",
    "        f.write(' '.join([str(user_id)] + [\n",
    "            str(item_event['item_id']) for item_event in sorted(item_history, key=lambda x: x['timestamp'])\n",
    "        ]))\n",
    "        f.write('\\n')"
   ]
  },
  {
   "cell_type": "code",
   "execution_count": null,
   "id": "b8ed2e87",
   "metadata": {},
   "outputs": [],
   "source": []
  }
 ],
 "metadata": {
  "kernelspec": {
   "display_name": "Python 3",
   "language": "python",
   "name": "python3"
  },
  "language_info": {
   "codemirror_mode": {
    "name": "ipython",
    "version": 3
   },
   "file_extension": ".py",
   "mimetype": "text/x-python",
   "name": "python",
   "nbconvert_exporter": "python",
   "pygments_lexer": "ipython3",
   "version": "3.8.8"
  }
 },
 "nbformat": 4,
 "nbformat_minor": 5
}
