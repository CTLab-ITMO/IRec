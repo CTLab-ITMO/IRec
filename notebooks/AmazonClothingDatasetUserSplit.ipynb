{
 "cells": [
  {
   "cell_type": "code",
   "execution_count": 1,
   "id": "bcf18bcb",
   "metadata": {},
   "outputs": [],
   "source": [
    "import numpy as np\n",
    "import polars as pl\n",
    "import random"
   ]
  },
  {
   "cell_type": "code",
   "execution_count": 2,
   "id": "7678f10e",
   "metadata": {},
   "outputs": [
    {
     "name": "stdout",
     "output_type": "stream",
     "text": [
      "(5748920, 4)\n"
     ]
    }
   ],
   "source": [
    "path_to_df = '../data/Clothing/data.csv'\n",
    "df = pl.read_csv(\n",
    "    path_to_df,\n",
    "    has_header=False,\n",
    "    new_columns=['user_id', 'item_id', 'rating', 'timestamp'],\n",
    "    separator=',',\n",
    "    schema_overrides={\n",
    "        \"user_id\": pl.String,\n",
    "        \"item_id\": pl.String,\n",
    "        \"rating\": pl.Float64,\n",
    "        \"timestamp\": pl.UInt64\n",
    "    }\n",
    ")\n",
    "print(df.shape)"
   ]
  },
  {
   "cell_type": "code",
   "execution_count": 3,
   "id": "22ad5e61",
   "metadata": {},
   "outputs": [
    {
     "data": {
      "text/html": [
       "<div><style>\n",
       ".dataframe > thead > tr,\n",
       ".dataframe > tbody > tr {\n",
       "  text-align: right;\n",
       "  white-space: pre-wrap;\n",
       "}\n",
       "</style>\n",
       "<small>shape: (5, 4)</small><table border=\"1\" class=\"dataframe\"><thead><tr><th>user_id</th><th>item_id</th><th>rating</th><th>timestamp</th></tr><tr><td>str</td><td>str</td><td>f64</td><td>u64</td></tr></thead><tbody><tr><td>&quot;A2XVJBSRI3SWDI&quot;</td><td>&quot;0000031887&quot;</td><td>5.0</td><td>1383523200</td></tr><tr><td>&quot;A2G0LNLN79Q6HR&quot;</td><td>&quot;0000031887&quot;</td><td>4.0</td><td>1337990400</td></tr><tr><td>&quot;A2R3K1KX09QBYP&quot;</td><td>&quot;0000031887&quot;</td><td>2.0</td><td>1361059200</td></tr><tr><td>&quot;A19PBP93OF896&quot;</td><td>&quot;0000031887&quot;</td><td>1.0</td><td>1363824000</td></tr><tr><td>&quot;A1P0IHU93EF9ZK&quot;</td><td>&quot;0000031887&quot;</td><td>4.0</td><td>1390435200</td></tr></tbody></table></div>"
      ],
      "text/plain": [
       "shape: (5, 4)\n",
       "┌────────────────┬────────────┬────────┬────────────┐\n",
       "│ user_id        ┆ item_id    ┆ rating ┆ timestamp  │\n",
       "│ ---            ┆ ---        ┆ ---    ┆ ---        │\n",
       "│ str            ┆ str        ┆ f64    ┆ u64        │\n",
       "╞════════════════╪════════════╪════════╪════════════╡\n",
       "│ A2XVJBSRI3SWDI ┆ 0000031887 ┆ 5.0    ┆ 1383523200 │\n",
       "│ A2G0LNLN79Q6HR ┆ 0000031887 ┆ 4.0    ┆ 1337990400 │\n",
       "│ A2R3K1KX09QBYP ┆ 0000031887 ┆ 2.0    ┆ 1361059200 │\n",
       "│ A19PBP93OF896  ┆ 0000031887 ┆ 1.0    ┆ 1363824000 │\n",
       "│ A1P0IHU93EF9ZK ┆ 0000031887 ┆ 4.0    ┆ 1390435200 │\n",
       "└────────────────┴────────────┴────────┴────────────┘"
      ]
     },
     "execution_count": 3,
     "metadata": {},
     "output_type": "execute_result"
    }
   ],
   "source": [
    "df.head()"
   ]
  },
  {
   "cell_type": "code",
   "execution_count": 4,
   "id": "2fec8090",
   "metadata": {},
   "outputs": [
    {
     "name": "stdout",
     "output_type": "stream",
     "text": [
      "После 1го этапа фильтрации.\n",
      "Количество пользователей: 185986.\n",
      "Количество фильмов: 192978\n",
      "\n",
      "После 2го этапа фильтрации.\n",
      "Количество пользователей: 108489.\n",
      "Количество фильмов: 59343\n",
      "\n",
      "После 3го этапа фильтрации.\n",
      "Количество пользователей: 68096.\n",
      "Количество фильмов: 44710\n",
      "\n",
      "После 4го этапа фильтрации.\n",
      "Количество пользователей: 58834.\n",
      "Количество фильмов: 33660\n",
      "\n",
      "После 5го этапа фильтрации.\n",
      "Количество пользователей: 49955.\n",
      "Количество фильмов: 30521\n",
      "\n",
      "После 6го этапа фильтрации.\n",
      "Количество пользователей: 47067.\n",
      "Количество фильмов: 27281\n",
      "\n",
      "После 7го этапа фильтрации.\n",
      "Количество пользователей: 43919.\n",
      "Количество фильмов: 26154\n",
      "\n",
      "После 8го этапа фильтрации.\n",
      "Количество пользователей: 42759.\n",
      "Количество фильмов: 24878\n",
      "\n",
      "После 9го этапа фильтрации.\n",
      "Количество пользователей: 41451.\n",
      "Количество фильмов: 24410\n",
      "\n",
      "После 10го этапа фильтрации.\n",
      "Количество пользователей: 40946.\n",
      "Количество фильмов: 23891\n",
      "\n",
      "После 11го этапа фильтрации.\n",
      "Количество пользователей: 40357.\n",
      "Количество фильмов: 23676\n",
      "\n",
      "После 12го этапа фильтрации.\n",
      "Количество пользователей: 40136.\n",
      "Количество фильмов: 23419\n",
      "\n",
      "После 13го этапа фильтрации.\n",
      "Количество пользователей: 39829.\n",
      "Количество фильмов: 23317\n",
      "\n",
      "После 14го этапа фильтрации.\n",
      "Количество пользователей: 39717.\n",
      "Количество фильмов: 23212\n",
      "\n",
      "После 15го этапа фильтрации.\n",
      "Количество пользователей: 39593.\n",
      "Количество фильмов: 23162\n",
      "\n",
      "После 16го этапа фильтрации.\n",
      "Количество пользователей: 39537.\n",
      "Количество фильмов: 23100\n",
      "\n",
      "После 17го этапа фильтрации.\n",
      "Количество пользователей: 39456.\n",
      "Количество фильмов: 23083\n",
      "\n",
      "После 18го этапа фильтрации.\n",
      "Количество пользователей: 39443.\n",
      "Количество фильмов: 23050\n",
      "\n",
      "После 19го этапа фильтрации.\n",
      "Количество пользователей: 39406.\n",
      "Количество фильмов: 23047\n",
      "\n",
      "После 20го этапа фильтрации.\n",
      "Количество пользователей: 39402.\n",
      "Количество фильмов: 23039\n",
      "\n",
      "После 21го этапа фильтрации.\n",
      "Количество пользователей: 39393.\n",
      "Количество фильмов: 23038\n",
      "\n",
      "После 22го этапа фильтрации.\n",
      "Количество пользователей: 39392.\n",
      "Количество фильмов: 23033\n",
      "\n",
      "После 23го этапа фильтрации.\n",
      "Количество пользователей: 39387.\n",
      "Количество фильмов: 23033\n",
      "\n",
      "После 24го этапа фильтрации.\n",
      "Количество пользователей: 39387.\n",
      "Количество фильмов: 23033\n",
      "\n"
     ]
    }
   ],
   "source": [
    "filtering_stage = 0\n",
    "is_changed = True\n",
    "threshold = 5\n",
    "good_users = set()\n",
    "good_items = set()\n",
    "\n",
    "filtered_df = df.clone()\n",
    "\n",
    "while is_changed:\n",
    "    user_counts = filtered_df.group_by('user_id').agg(\n",
    "        pl.len().alias('user_count'),\n",
    "    )\n",
    "    item_counts = filtered_df.group_by('item_id').agg(\n",
    "        pl.len().alias('item_count'),\n",
    "    )\n",
    "\n",
    "    good_users = user_counts.filter(pl.col('user_count') >= threshold).select(\n",
    "        'user_id',\n",
    "    )\n",
    "    good_items = item_counts.filter(pl.col('item_count') >= threshold).select(\n",
    "        'item_id',\n",
    "    )\n",
    "\n",
    "    old_size = len(filtered_df)\n",
    "\n",
    "    new_df = filtered_df.join(good_users, on='user_id', how='inner')\n",
    "    new_df = new_df.join(good_items, on='item_id', how='inner')\n",
    "\n",
    "    new_size = len(new_df)\n",
    "\n",
    "    print(f'После {filtering_stage + 1}го этапа фильтрации.')\n",
    "    print(f'Количество пользователей: {good_users.shape[0]}.')\n",
    "    print(f'Количество фильмов: {good_items.shape[0]}')\n",
    "    print()\n",
    "\n",
    "    filtered_df = new_df\n",
    "    is_changed = old_size != new_size\n",
    "    filtering_stage += 1\n",
    "\n",
    "\n",
    "filtered_df = filtered_df.with_columns(user_id=pl.col('user_id').rank('dense'))\n",
    "filtered_df = filtered_df.with_columns(item_id=pl.col('item_id').rank('dense'))\n",
    "filtered_df = filtered_df.sort(['user_id', 'timestamp'])\n",
    "\n",
    "grouped_filtered_df = filtered_df.group_by('user_id', maintain_order=True).agg(\n",
    "    pl.all().exclude('user_id'),\n",
    ")"
   ]
  },
  {
   "cell_type": "code",
   "execution_count": 5,
   "id": "c7ca5d8e",
   "metadata": {},
   "outputs": [
    {
     "name": "stdout",
     "output_type": "stream",
     "text": [
      "Users count: 39387\n",
      "Items count: 23033\n",
      "Actions count: 278677\n",
      "Avg user history len: 7.075354812501587\n"
     ]
    }
   ],
   "source": [
    "print('Users count:', filtered_df.select('user_id').unique().shape[0])\n",
    "print('Items count:', filtered_df.select('item_id').unique().shape[0])\n",
    "print('Actions count:', filtered_df.shape[0])\n",
    "print(\n",
    "    'Avg user history len:',\n",
    "    np.mean(\n",
    "        list(\n",
    "            map(\n",
    "                lambda x: x[0],\n",
    "                grouped_filtered_df.select(\n",
    "                    pl.col('item_id').list.len(),\n",
    "                ).rows(),\n",
    "            ),\n",
    "        ),\n",
    "    ),\n",
    ")"
   ]
  },
  {
   "cell_type": "code",
   "execution_count": 6,
   "id": "0c063669",
   "metadata": {},
   "outputs": [],
   "source": [
    "grouped_filtered_df = filtered_df.group_by(\"user_id\", maintain_order=True).agg(\n",
    "    pl.all().exclude(\"user_id\")\n",
    ")\n"
   ]
  },
  {
   "cell_type": "code",
   "execution_count": 7,
   "id": "8378ccc9",
   "metadata": {},
   "outputs": [
    {
     "data": {
      "text/html": [
       "<div><style>\n",
       ".dataframe > thead > tr,\n",
       ".dataframe > tbody > tr {\n",
       "  text-align: right;\n",
       "  white-space: pre-wrap;\n",
       "}\n",
       "</style>\n",
       "<small>shape: (5, 4)</small><table border=\"1\" class=\"dataframe\"><thead><tr><th>user_id</th><th>item_id</th><th>rating</th><th>timestamp</th></tr><tr><td>u32</td><td>list[u32]</td><td>list[f64]</td><td>list[u64]</td></tr></thead><tbody><tr><td>1</td><td>[9194, 4955, … 1884]</td><td>[5.0, 5.0, … 5.0]</td><td>[1350518400, 1350518400, … 1370908800]</td></tr><tr><td>2</td><td>[1904, 2148, … 20385]</td><td>[4.0, 4.0, … 3.0]</td><td>[1378684800, 1378684800, … 1384387200]</td></tr><tr><td>3</td><td>[16677, 15488, … 15504]</td><td>[3.0, 5.0, … 4.0]</td><td>[1388620800, 1388793600, … 1389225600]</td></tr><tr><td>4</td><td>[7505, 14432, … 21708]</td><td>[5.0, 5.0, … 5.0]</td><td>[1383868800, 1389139200, … 1405036800]</td></tr><tr><td>5</td><td>[11503, 8024, … 20468]</td><td>[5.0, 5.0, … 5.0]</td><td>[1369008000, 1371600000, … 1375920000]</td></tr></tbody></table></div>"
      ],
      "text/plain": [
       "shape: (5, 4)\n",
       "┌─────────┬─────────────────────────┬───────────────────┬─────────────────────────────────┐\n",
       "│ user_id ┆ item_id                 ┆ rating            ┆ timestamp                       │\n",
       "│ ---     ┆ ---                     ┆ ---               ┆ ---                             │\n",
       "│ u32     ┆ list[u32]               ┆ list[f64]         ┆ list[u64]                       │\n",
       "╞═════════╪═════════════════════════╪═══════════════════╪═════════════════════════════════╡\n",
       "│ 1       ┆ [9194, 4955, … 1884]    ┆ [5.0, 5.0, … 5.0] ┆ [1350518400, 1350518400, … 137… │\n",
       "│ 2       ┆ [1904, 2148, … 20385]   ┆ [4.0, 4.0, … 3.0] ┆ [1378684800, 1378684800, … 138… │\n",
       "│ 3       ┆ [16677, 15488, … 15504] ┆ [3.0, 5.0, … 4.0] ┆ [1388620800, 1388793600, … 138… │\n",
       "│ 4       ┆ [7505, 14432, … 21708]  ┆ [5.0, 5.0, … 5.0] ┆ [1383868800, 1389139200, … 140… │\n",
       "│ 5       ┆ [11503, 8024, … 20468]  ┆ [5.0, 5.0, … 5.0] ┆ [1369008000, 1371600000, … 137… │\n",
       "└─────────┴─────────────────────────┴───────────────────┴─────────────────────────────────┘"
      ]
     },
     "execution_count": 7,
     "metadata": {},
     "output_type": "execute_result"
    }
   ],
   "source": [
    "grouped_filtered_df.head()"
   ]
  },
  {
   "cell_type": "code",
   "execution_count": 8,
   "id": "a1001603",
   "metadata": {},
   "outputs": [
    {
     "name": "stdout",
     "output_type": "stream",
     "text": [
      "Users count: 39387\n",
      "Train users count: 31509\n",
      "Valid users count: 3938\n",
      "Test users count: 3940\n"
     ]
    }
   ],
   "source": [
    "valid_portion = 0.1\n",
    "test_portion = 0.1\n",
    "\n",
    "all_user_ids = grouped_filtered_df.get_column(\"user_id\").to_list()\n",
    "\n",
    "random.seed(42)\n",
    "random.shuffle(all_user_ids)\n",
    "\n",
    "n_users = len(all_user_ids)\n",
    "n_train = int(n_users * (1.0 - valid_portion - test_portion))\n",
    "n_valid = int(n_users * valid_portion)\n",
    "\n",
    "train_user_ids = set(all_user_ids[:n_train])\n",
    "valid_user_ids = set(all_user_ids[n_train : n_train + n_valid])\n",
    "test_user_ids = set(all_user_ids[n_train + n_valid:])\n",
    "\n",
    "print(f\"Users count: {n_users}\")\n",
    "print(f\"Train users count: {len(train_user_ids)}\")\n",
    "print(f\"Valid users count: {len(valid_user_ids)}\")\n",
    "print(f\"Test users count: {len(test_user_ids)}\")"
   ]
  },
  {
   "cell_type": "code",
   "execution_count": 9,
   "id": "1564d440",
   "metadata": {},
   "outputs": [],
   "source": [
    "train_samples = []\n",
    "valid_samples = []\n",
    "test_samples = []\n",
    "\n",
    "max_len_train = 20\n",
    "\n",
    "for user_id, item_history, _, _ in grouped_filtered_df.iter_rows():\n",
    "    if user_id in train_user_ids:\n",
    "        history = item_history[-max_len_train:]\n",
    "        train_samples.append(\n",
    "            {\n",
    "                'user_id': user_id,\n",
    "                'history': history,\n",
    "            },\n",
    "        )\n",
    "    elif user_id in valid_user_ids:\n",
    "        assert len(item_history) >= 5\n",
    "\n",
    "        split_idx = int(len(item_history) * 0.8)\n",
    "        assert not split_idx < 1 or split_idx >= len(item_history)\n",
    "        \n",
    "        history = item_history[:split_idx]\n",
    "        target = item_history[split_idx:]\n",
    "\n",
    "        valid_samples.append(\n",
    "            {\n",
    "                'user_id': user_id,\n",
    "                'history': history,\n",
    "                'target': target\n",
    "            }\n",
    "        )\n",
    "\n",
    "\n",
    "    elif user_id in test_user_ids:\n",
    "        assert len(item_history) >= 5\n",
    "\n",
    "        split_idx = int(len(item_history) * 0.8)\n",
    "        assert not split_idx < 1 or split_idx >= len(item_history)\n",
    "\n",
    "        history = item_history[:split_idx]\n",
    "        target = item_history[split_idx:]\n",
    "\n",
    "        test_samples.append(\n",
    "            {\n",
    "                'user_id': user_id,\n",
    "                'history': history,\n",
    "                'target': target\n",
    "            }\n",
    "        )\n",
    "    \n"
   ]
  },
  {
   "cell_type": "code",
   "execution_count": 10,
   "id": "e87cff34",
   "metadata": {},
   "outputs": [
    {
     "data": {
      "text/plain": [
       "(31509, 3938, 3940)"
      ]
     },
     "execution_count": 10,
     "metadata": {},
     "output_type": "execute_result"
    }
   ],
   "source": [
    "len(train_samples), len(valid_samples), len(test_samples)"
   ]
  },
  {
   "cell_type": "code",
   "execution_count": 11,
   "id": "7c34fb39",
   "metadata": {},
   "outputs": [],
   "source": [
    "# train\n",
    "with open('../data/Clothing/train.txt', 'w') as f:\n",
    "    for train_sample in train_samples:\n",
    "        f.write(\n",
    "            ' '.join(\n",
    "                [str(train_sample['user_id'])]\n",
    "                + [str(item_id) for item_id in train_sample['history']],\n",
    "            ),\n",
    "        )\n",
    "        f.write('\\n')\n",
    "\n",
    "# valid\n",
    "with open('../data/Clothing/valid_history.txt', 'w') as f_hist, open('../data/Clothing/valid_target.txt', 'w') as f_trg:\n",
    "    for valid_sample in valid_samples:\n",
    "        f_hist.write(' '.join([str(valid_sample['user_id'])] + [str(item_id) for item_id in valid_sample['history']]) + '\\n')\n",
    "        f_trg.write(' '.join([str(valid_sample['user_id'])] + [str(trg) for trg in valid_sample['target']]) + '\\n')\n",
    "\n",
    "# test\n",
    "with open('../data/Clothing/test_history.txt', 'w') as f_hist, open('../data/Clothing/test_target.txt', 'w') as f_trg:\n",
    "    for test_sample in test_samples:\n",
    "        f_hist.write(' '.join([str(test_sample['user_id'])] + [str(item_id) for item_id in test_sample['history']]) + '\\n')\n",
    "        f_trg.write(' '.join([str(test_sample['user_id'])] + [str(trg) for trg in test_sample['target']]) + '\\n')"
   ]
  }
 ],
 "metadata": {
  "kernelspec": {
   "display_name": ".venv",
   "language": "python",
   "name": "python3"
  },
  "language_info": {
   "codemirror_mode": {
    "name": "ipython",
    "version": 3
   },
   "file_extension": ".py",
   "mimetype": "text/x-python",
   "name": "python",
   "nbconvert_exporter": "python",
   "pygments_lexer": "ipython3",
   "version": "3.12.10"
  }
 },
 "nbformat": 4,
 "nbformat_minor": 5
}
