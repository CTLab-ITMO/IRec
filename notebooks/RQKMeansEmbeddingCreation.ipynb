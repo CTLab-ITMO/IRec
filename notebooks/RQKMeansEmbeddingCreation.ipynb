{
 "cells": [
  {
   "cell_type": "code",
   "execution_count": 1,
   "id": "5577677d",
   "metadata": {},
   "outputs": [],
   "source": [
    "import numpy as np\n",
    "import pickle as pkl"
   ]
  },
  {
   "cell_type": "code",
   "execution_count": 2,
   "id": "c3fc378e",
   "metadata": {},
   "outputs": [],
   "source": [
    "path = \"./final_data.pkl\"\n",
    "\n",
    "file = open(path, 'rb')\n",
    "data = pkl.load(file)\n",
    "file.close()"
   ]
  },
  {
   "cell_type": "code",
   "execution_count": 3,
   "id": "7904eceb",
   "metadata": {},
   "outputs": [],
   "source": [
    "item_ids = np.array(data['item_id'], dtype=np.int64)\n",
    "X = np.array(data['embedding'], dtype=np.float32)[item_ids]"
   ]
  },
  {
   "cell_type": "code",
   "execution_count": 4,
   "id": "f00cd18e",
   "metadata": {},
   "outputs": [
    {
     "data": {
      "text/plain": [
       "array([ 0,  1,  2,  3,  4,  5,  6,  7,  8,  9, 10, 15, 12, 11, 14, 13, 16,\n",
       "       17, 18, 19])"
      ]
     },
     "execution_count": 4,
     "metadata": {},
     "output_type": "execute_result"
    }
   ],
   "source": [
    "item_ids[item_ids][:20]"
   ]
  },
  {
   "cell_type": "code",
   "execution_count": 5,
   "id": "47085130",
   "metadata": {},
   "outputs": [],
   "source": [
    "import numpy as np\n",
    "from sklearn.cluster import KMeans\n",
    "\n",
    "\n",
    "class RQKMeans:\n",
    "    def __init__(self, num_clusters, num_ids, max_iter=300, random_state=42):\n",
    "        self.models = [\n",
    "            KMeans(\n",
    "                n_clusters=num_clusters,\n",
    "                max_iter=max_iter,\n",
    "                random_state=(random_state + i),\n",
    "                init='k-means++',\n",
    "                verbose=0,\n",
    "            ) for i in range(num_ids)\n",
    "        ]\n",
    "\n",
    "    @staticmethod\n",
    "    def check(X):\n",
    "        if isinstance(X, np.ndarray) and (X.dtype == np.float32):\n",
    "            return X\n",
    "        raise RuntimeError(f\"Wrong input type ({type(X)}) or dtype!\")\n",
    "\n",
    "    def fit(self, X, y=None):\n",
    "        self.check(X)\n",
    "        for model in self.models:\n",
    "            y = model.fit_predict(X)\n",
    "            X = X - model.cluster_centers_[y]\n",
    "        return self\n",
    "\n",
    "    def predict(self, X, return_residuals=False):\n",
    "        self.check(X)\n",
    "        result = []\n",
    "        for model in self.models:\n",
    "            result.append(model.predict(X))\n",
    "            X = X - model.cluster_centers_[result[-1]]\n",
    "        \n",
    "        residuals = X\n",
    "        if return_residuals:\n",
    "            return np.stack(result, axis=-1), residuals\n",
    "        return np.stack(result, axis=-1)"
   ]
  },
  {
   "cell_type": "code",
   "execution_count": 6,
   "id": "f2133bb9",
   "metadata": {},
   "outputs": [],
   "source": [
    "algo = RQKMeans(num_clusters=256, num_ids=3, max_iter=1000)"
   ]
  },
  {
   "cell_type": "code",
   "execution_count": 7,
   "id": "16ecbb4f",
   "metadata": {},
   "outputs": [
    {
     "data": {
      "text/plain": [
       "<__main__.RQKMeans at 0x7fbe030bb800>"
      ]
     },
     "execution_count": 7,
     "metadata": {},
     "output_type": "execute_result"
    }
   ],
   "source": [
    "algo.fit(X)"
   ]
  },
  {
   "cell_type": "code",
   "execution_count": 8,
   "id": "930f58fb",
   "metadata": {},
   "outputs": [],
   "source": [
    "cluster, residuals = algo.predict(X, return_residuals=True)"
   ]
  },
  {
   "cell_type": "code",
   "execution_count": 9,
   "id": "022a8d5c",
   "metadata": {},
   "outputs": [
    {
     "data": {
      "text/plain": [
       "((12101, 3), (12101, 768))"
      ]
     },
     "execution_count": 9,
     "metadata": {},
     "output_type": "execute_result"
    }
   ],
   "source": [
    "cluster.shape, residuals.shape"
   ]
  },
  {
   "cell_type": "code",
   "execution_count": 10,
   "id": "19a07c78",
   "metadata": {},
   "outputs": [
    {
     "data": {
      "text/plain": [
       "np.float32(0.23402064)"
      ]
     },
     "execution_count": 10,
     "metadata": {},
     "output_type": "execute_result"
    }
   ],
   "source": [
    "(np.linalg.norm(residuals, axis=-1) / np.linalg.norm(X, axis=-1)).mean()"
   ]
  },
  {
   "cell_type": "code",
   "execution_count": 11,
   "id": "6eeca93a",
   "metadata": {},
   "outputs": [
    {
     "data": {
      "text/plain": [
       "array([165, 114,  10], dtype=int32)"
      ]
     },
     "execution_count": 11,
     "metadata": {},
     "output_type": "execute_result"
    }
   ],
   "source": [
    "cluster[0]"
   ]
  },
  {
   "cell_type": "code",
   "execution_count": 12,
   "id": "9ba98172",
   "metadata": {},
   "outputs": [],
   "source": [
    "inder = {}\n",
    "from collections import defaultdict\n",
    "sem_2_ids = defaultdict(list)\n",
    "\n",
    "for idx, (fst, snd, trd) in enumerate(cluster):\n",
    "    inder[str(idx)] = [f'<a_{fst}>', f'<b_{snd}>', f'<c_{trd}>']\n",
    "    sem_2_ids[(int(fst), int(snd), int(trd))].append(str(idx))"
   ]
  },
  {
   "cell_type": "code",
   "execution_count": 15,
   "id": "e35453b8",
   "metadata": {},
   "outputs": [
    {
     "data": {
      "text/plain": [
       "['<a_205>', '<b_8>', '<c_27>']"
      ]
     },
     "execution_count": 15,
     "metadata": {},
     "output_type": "execute_result"
    }
   ],
   "source": [
    "inder['12100']"
   ]
  },
  {
   "cell_type": "code",
   "execution_count": 16,
   "id": "b1cd8d27",
   "metadata": {},
   "outputs": [],
   "source": [
    "for semantics, item_ids in sem_2_ids.items():\n",
    "    assert len(item_ids) <= 256\n",
    "    collision_solvers = np.random.permutation(256)[:len(item_ids)].tolist()\n",
    "    for item_id, collision_solver in zip(item_ids, collision_solvers):\n",
    "        inder[item_id].append(f'<d_{collision_solver}>')"
   ]
  },
  {
   "cell_type": "code",
   "execution_count": 17,
   "id": "1d465081",
   "metadata": {},
   "outputs": [],
   "source": [
    "import json\n",
    "\n",
    "with open('../data/Beauty/index.json', 'w') as f:\n",
    "    json.dump(inder, f)"
   ]
  },
  {
   "cell_type": "code",
   "execution_count": null,
   "id": "39e73440",
   "metadata": {},
   "outputs": [],
   "source": []
  }
 ],
 "metadata": {
  "kernelspec": {
   "display_name": "yrec",
   "language": "python",
   "name": "python3"
  },
  "language_info": {
   "codemirror_mode": {
    "name": "ipython",
    "version": 3
   },
   "file_extension": ".py",
   "mimetype": "text/x-python",
   "name": "python",
   "nbconvert_exporter": "python",
   "pygments_lexer": "ipython3",
   "version": "3.12.9"
  }
 },
 "nbformat": 4,
 "nbformat_minor": 5
}
