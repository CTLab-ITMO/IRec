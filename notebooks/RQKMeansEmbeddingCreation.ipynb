{
 "cells": [
  {
   "cell_type": "code",
   "execution_count": null,
   "id": "5577677d",
   "metadata": {},
   "outputs": [],
   "source": [
    "import numpy as np\n",
    "import pickle as pkl"
   ]
  },
  {
   "cell_type": "code",
   "execution_count": null,
   "id": "c3fc378e",
   "metadata": {},
   "outputs": [],
   "source": [
    "path = \"./final_data.pkl\"\n",
    "\n",
    "file = open(path, 'rb')\n",
    "data = pkl.load(file)\n",
    "file.close()"
   ]
  },
  {
   "cell_type": "code",
   "execution_count": null,
   "id": "7904eceb",
   "metadata": {},
   "outputs": [],
   "source": [
    "item_ids = np.array(data['item_id'], dtype=np.int64)\n",
    "X = np.array(data['embedding'], dtype=np.float32)"
   ]
  },
  {
   "cell_type": "code",
   "execution_count": null,
   "id": "2c8eadd2",
   "metadata": {},
   "outputs": [],
   "source": [
    "X.shape"
   ]
  },
  {
   "cell_type": "code",
   "execution_count": null,
   "id": "f00cd18e",
   "metadata": {},
   "outputs": [],
   "source": [
    "item_ids[:20]"
   ]
  },
  {
   "cell_type": "code",
   "execution_count": null,
   "id": "47085130",
   "metadata": {},
   "outputs": [],
   "source": [
    "import numpy as np\n",
    "from sklearn.cluster import KMeans\n",
    "\n",
    "\n",
    "class RQKMeans:\n",
    "    def __init__(self, num_clusters, num_ids, max_iter=300, random_state=42):\n",
    "        self.models = [\n",
    "            KMeans(\n",
    "                n_clusters=num_clusters,\n",
    "                max_iter=max_iter,\n",
    "                random_state=(random_state + i),\n",
    "                init='k-means++',\n",
    "                verbose=0,\n",
    "            ) for i in range(num_ids)\n",
    "        ]\n",
    "\n",
    "    @staticmethod\n",
    "    def check(X):\n",
    "        if isinstance(X, np.ndarray) and (X.dtype == np.float32):\n",
    "            return X\n",
    "        raise RuntimeError(f\"Wrong input type ({type(X)}) or dtype!\")\n",
    "\n",
    "    def fit(self, X, y=None):\n",
    "        self.check(X)\n",
    "        for model in self.models:\n",
    "            y = model.fit_predict(X)\n",
    "            X = X - model.cluster_centers_[y]\n",
    "        return self\n",
    "\n",
    "    def predict(self, X, return_residuals=False):\n",
    "        self.check(X)\n",
    "        result = []\n",
    "        for model in self.models:\n",
    "            result.append(model.predict(X))\n",
    "            X = X - model.cluster_centers_[result[-1]]\n",
    "        \n",
    "        residuals = X\n",
    "        if return_residuals:\n",
    "            return np.stack(result, axis=-1), residuals\n",
    "        return np.stack(result, axis=-1)"
   ]
  },
  {
   "cell_type": "code",
   "execution_count": null,
   "id": "f2133bb9",
   "metadata": {},
   "outputs": [],
   "source": [
    "algo = RQKMeans(num_clusters=256, num_ids=3, max_iter=1000)"
   ]
  },
  {
   "cell_type": "code",
   "execution_count": null,
   "id": "16ecbb4f",
   "metadata": {},
   "outputs": [],
   "source": [
    "algo.fit(X)"
   ]
  },
  {
   "cell_type": "code",
   "execution_count": null,
   "id": "930f58fb",
   "metadata": {},
   "outputs": [],
   "source": [
    "clusters = algo.predict(X, return_residuals=False)"
   ]
  },
  {
   "cell_type": "code",
   "execution_count": null,
   "id": "022a8d5c",
   "metadata": {},
   "outputs": [],
   "source": [
    "clusters.shape"
   ]
  },
  {
   "cell_type": "code",
   "execution_count": null,
   "id": "6eeca93a",
   "metadata": {},
   "outputs": [],
   "source": [
    "clusters[0]"
   ]
  },
  {
   "cell_type": "code",
   "execution_count": null,
   "id": "9ba98172",
   "metadata": {},
   "outputs": [],
   "source": [
    "inder = {}\n",
    "from collections import defaultdict\n",
    "sem_2_ids = defaultdict(list)\n",
    "\n",
    "for idx, (fst, snd, trd) in zip(item_ids, clusters):\n",
    "    inder[str(idx)] = [f'<a_{fst}>', f'<b_{snd}>', f'<c_{trd}>']\n",
    "    sem_2_ids[(int(fst), int(snd), int(trd))].append(str(idx))"
   ]
  },
  {
   "cell_type": "code",
   "execution_count": null,
   "id": "e35453b8",
   "metadata": {},
   "outputs": [],
   "source": [
    "inder['12100']"
   ]
  },
  {
   "cell_type": "code",
   "execution_count": null,
   "id": "b1cd8d27",
   "metadata": {},
   "outputs": [],
   "source": [
    "for semantics, item_ids in sem_2_ids.items():\n",
    "    assert len(item_ids) <= 256\n",
    "    collision_solvers = np.random.permutation(256)[:len(item_ids)].tolist()\n",
    "    for item_id, collision_solver in zip(item_ids, collision_solvers):\n",
    "        inder[item_id].append(f'<d_{collision_solver}>')"
   ]
  },
  {
   "cell_type": "code",
   "execution_count": null,
   "id": "1d465081",
   "metadata": {},
   "outputs": [],
   "source": [
    "import json\n",
    "\n",
    "with open('../data/Beauty/index.json', 'w') as f:\n",
    "    json.dump(inder, f)"
   ]
  },
  {
   "cell_type": "code",
   "execution_count": null,
   "id": "39e73440",
   "metadata": {},
   "outputs": [],
   "source": []
  }
 ],
 "metadata": {
  "kernelspec": {
   "display_name": "yrec",
   "language": "python",
   "name": "python3"
  },
  "language_info": {
   "codemirror_mode": {
    "name": "ipython",
    "version": 3
   },
   "file_extension": ".py",
   "mimetype": "text/x-python",
   "name": "python",
   "nbconvert_exporter": "python",
   "pygments_lexer": "ipython3",
   "version": "3.12.9"
  }
 },
 "nbformat": 4,
 "nbformat_minor": 5
}
