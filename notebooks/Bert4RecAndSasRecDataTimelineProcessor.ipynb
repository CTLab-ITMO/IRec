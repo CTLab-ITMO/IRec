{
 "cells": [
  {
   "cell_type": "markdown",
   "id": "1ed28765-173c-4999-8efc-538f34e38a1c",
   "metadata": {},
   "source": [
    "# Extract only good items and good users"
   ]
  },
  {
   "cell_type": "code",
   "execution_count": 1,
   "id": "97acec7f-d1e5-45eb-9614-ea5d9fecb9fc",
   "metadata": {},
   "outputs": [],
   "source": [
    "import os\n",
    "import sys\n",
    "import json\n",
    "import datetime\n",
    "import matplotlib.pyplot as plt\n",
    "import numpy as np\n",
    "import pandas as pd\n",
    "\n",
    "from tqdm import tqdm\n",
    "from collections import defaultdict, Counter\n",
    "import os\n",
    "import sys\n",
    "import json\n",
    "import datetime\n",
    "import matplotlib.pyplot as plt\n",
    "import numpy as np\n",
    "import pandas as pd\n",
    "\n",
    "from tqdm import tqdm\n",
    "from collections import defaultdict, Counter\n",
    "\n",
    "%matplotlib inline"
   ]
  },
  {
   "cell_type": "code",
   "execution_count": 2,
   "id": "dc3563cb-7cc9-4047-bdc1-1422cee8a1b6",
   "metadata": {},
   "outputs": [
    {
     "name": "stdout",
     "output_type": "stream",
     "text": [
      "(2023070, 4)\n",
      ".\\data\\\n"
     ]
    }
   ],
   "source": [
    "relative_path_to_data = \".\\\\data\\\\\"\n",
    "\n",
    "path_to_df = relative_path_to_data + r'ratings_Beauty.csv'\n",
    "# df = pd.read_csv(path_to_df)\n",
    "df = pd.read_csv(path_to_df, names=['user_id', 'item_id', 'rating', 'timestamp'])\n",
    "print(df.shape)\n",
    "print(relative_path_to_data)"
   ]
  },
  {
   "cell_type": "code",
   "execution_count": 3,
   "id": "daa7abd6-e296-4f78-a8b1-0c7424dbe97a",
   "metadata": {},
   "outputs": [
    {
     "data": {
      "text/html": [
       "<div>\n",
       "<style scoped>\n",
       "    .dataframe tbody tr th:only-of-type {\n",
       "        vertical-align: middle;\n",
       "    }\n",
       "\n",
       "    .dataframe tbody tr th {\n",
       "        vertical-align: top;\n",
       "    }\n",
       "\n",
       "    .dataframe thead th {\n",
       "        text-align: right;\n",
       "    }\n",
       "</style>\n",
       "<table border=\"1\" class=\"dataframe\">\n",
       "  <thead>\n",
       "    <tr style=\"text-align: right;\">\n",
       "      <th></th>\n",
       "      <th>user_id</th>\n",
       "      <th>item_id</th>\n",
       "      <th>rating</th>\n",
       "      <th>timestamp</th>\n",
       "    </tr>\n",
       "  </thead>\n",
       "  <tbody>\n",
       "    <tr>\n",
       "      <th>0</th>\n",
       "      <td>A39HTATAQ9V7YF</td>\n",
       "      <td>0205616461</td>\n",
       "      <td>5.0</td>\n",
       "      <td>1369699200</td>\n",
       "    </tr>\n",
       "    <tr>\n",
       "      <th>1</th>\n",
       "      <td>A3JM6GV9MNOF9X</td>\n",
       "      <td>0558925278</td>\n",
       "      <td>3.0</td>\n",
       "      <td>1355443200</td>\n",
       "    </tr>\n",
       "    <tr>\n",
       "      <th>2</th>\n",
       "      <td>A1Z513UWSAAO0F</td>\n",
       "      <td>0558925278</td>\n",
       "      <td>5.0</td>\n",
       "      <td>1404691200</td>\n",
       "    </tr>\n",
       "    <tr>\n",
       "      <th>3</th>\n",
       "      <td>A1WMRR494NWEWV</td>\n",
       "      <td>0733001998</td>\n",
       "      <td>4.0</td>\n",
       "      <td>1382572800</td>\n",
       "    </tr>\n",
       "    <tr>\n",
       "      <th>4</th>\n",
       "      <td>A3IAAVS479H7M7</td>\n",
       "      <td>0737104473</td>\n",
       "      <td>1.0</td>\n",
       "      <td>1274227200</td>\n",
       "    </tr>\n",
       "  </tbody>\n",
       "</table>\n",
       "</div>"
      ],
      "text/plain": [
       "          user_id     item_id  rating   timestamp\n",
       "0  A39HTATAQ9V7YF  0205616461     5.0  1369699200\n",
       "1  A3JM6GV9MNOF9X  0558925278     3.0  1355443200\n",
       "2  A1Z513UWSAAO0F  0558925278     5.0  1404691200\n",
       "3  A1WMRR494NWEWV  0733001998     4.0  1382572800\n",
       "4  A3IAAVS479H7M7  0737104473     1.0  1274227200"
      ]
     },
     "execution_count": 3,
     "metadata": {},
     "output_type": "execute_result"
    }
   ],
   "source": [
    "df.head()"
   ]
  },
  {
   "cell_type": "code",
   "execution_count": 4,
   "id": "5f95fd08-7dbb-47d6-bc51-6bf8ebb2610a",
   "metadata": {},
   "outputs": [
    {
     "data": {
      "text/plain": [
       "user_id      0\n",
       "item_id      0\n",
       "rating       0\n",
       "timestamp    0\n",
       "dtype: int64"
      ]
     },
     "execution_count": 4,
     "metadata": {},
     "output_type": "execute_result"
    }
   ],
   "source": [
    "df.isnull().sum()"
   ]
  },
  {
   "cell_type": "code",
   "execution_count": 5,
   "id": "aa79d577-80a5-44c0-b68a-2ee418cc2aa1",
   "metadata": {},
   "outputs": [
    {
     "data": {
      "text/plain": [
       "('AZZZU2TD7Q3ET', (1210271,))"
      ]
     },
     "execution_count": 5,
     "metadata": {},
     "output_type": "execute_result"
    }
   ],
   "source": [
    "df.user_id.max(), df.user_id.unique().shape"
   ]
  },
  {
   "cell_type": "code",
   "execution_count": 6,
   "id": "12b0c9e7-e0fd-40ca-bd6b-3158582fd129",
   "metadata": {},
   "outputs": [
    {
     "data": {
      "text/plain": [
       "(np.int64(1), np.int64(1210271), (1210271,))"
      ]
     },
     "execution_count": 6,
     "metadata": {},
     "output_type": "execute_result"
    }
   ],
   "source": [
    "df.user_id = pd.factorize(df.user_id)[0] + 1\n",
    "df.user_id.min(), df.user_id.max(), df.user_id.unique().shape"
   ]
  },
  {
   "cell_type": "code",
   "execution_count": 7,
   "id": "23443468-51c9-4ce2-aa6d-1b2af48dc72d",
   "metadata": {},
   "outputs": [
    {
     "data": {
      "text/plain": [
       "(np.int64(1), np.int64(249274), (249274,))"
      ]
     },
     "execution_count": 7,
     "metadata": {},
     "output_type": "execute_result"
    }
   ],
   "source": [
    "df.item_id = pd.factorize(df.item_id)[0] + 1\n",
    "df.item_id.min(), df.item_id.max(), df.item_id.unique().shape"
   ]
  },
  {
   "cell_type": "code",
   "execution_count": 8,
   "id": "c7d753f9-61d3-43c8-a84f-3d4932b807a1",
   "metadata": {},
   "outputs": [
    {
     "data": {
      "text/html": [
       "<div>\n",
       "<style scoped>\n",
       "    .dataframe tbody tr th:only-of-type {\n",
       "        vertical-align: middle;\n",
       "    }\n",
       "\n",
       "    .dataframe tbody tr th {\n",
       "        vertical-align: top;\n",
       "    }\n",
       "\n",
       "    .dataframe thead th {\n",
       "        text-align: right;\n",
       "    }\n",
       "</style>\n",
       "<table border=\"1\" class=\"dataframe\">\n",
       "  <thead>\n",
       "    <tr style=\"text-align: right;\">\n",
       "      <th></th>\n",
       "      <th>user_id</th>\n",
       "      <th>item_id</th>\n",
       "      <th>rating</th>\n",
       "      <th>timestamp</th>\n",
       "    </tr>\n",
       "  </thead>\n",
       "  <tbody>\n",
       "    <tr>\n",
       "      <th>0</th>\n",
       "      <td>1</td>\n",
       "      <td>1</td>\n",
       "      <td>5.0</td>\n",
       "      <td>1369699200</td>\n",
       "    </tr>\n",
       "    <tr>\n",
       "      <th>1</th>\n",
       "      <td>2</td>\n",
       "      <td>2</td>\n",
       "      <td>3.0</td>\n",
       "      <td>1355443200</td>\n",
       "    </tr>\n",
       "    <tr>\n",
       "      <th>2</th>\n",
       "      <td>3</td>\n",
       "      <td>2</td>\n",
       "      <td>5.0</td>\n",
       "      <td>1404691200</td>\n",
       "    </tr>\n",
       "    <tr>\n",
       "      <th>3</th>\n",
       "      <td>4</td>\n",
       "      <td>3</td>\n",
       "      <td>4.0</td>\n",
       "      <td>1382572800</td>\n",
       "    </tr>\n",
       "    <tr>\n",
       "      <th>4</th>\n",
       "      <td>5</td>\n",
       "      <td>4</td>\n",
       "      <td>1.0</td>\n",
       "      <td>1274227200</td>\n",
       "    </tr>\n",
       "  </tbody>\n",
       "</table>\n",
       "</div>"
      ],
      "text/plain": [
       "   user_id  item_id  rating   timestamp\n",
       "0        1        1     5.0  1369699200\n",
       "1        2        2     3.0  1355443200\n",
       "2        3        2     5.0  1404691200\n",
       "3        4        3     4.0  1382572800\n",
       "4        5        4     1.0  1274227200"
      ]
     },
     "execution_count": 8,
     "metadata": {},
     "output_type": "execute_result"
    }
   ],
   "source": [
    "df.head()"
   ]
  },
  {
   "cell_type": "code",
   "execution_count": 9,
   "id": "ab03d2e4-c62a-4454-ba9e-631fdd7ffe37",
   "metadata": {},
   "outputs": [
    {
     "name": "stderr",
     "output_type": "stream",
     "text": [
      "2023070it [00:35, 57381.44it/s]"
     ]
    },
    {
     "name": "stdout",
     "output_type": "stream",
     "text": [
      "2023070\n"
     ]
    },
    {
     "name": "stderr",
     "output_type": "stream",
     "text": [
      "\n"
     ]
    }
   ],
   "source": [
    "data = []\n",
    "\n",
    "for _, row in tqdm(df.iterrows()):\n",
    "    data.append({\n",
    "        'user_id': int(row.user_id),\n",
    "        'item_id': int(row.item_id),\n",
    "        'timestamp': int(row.timestamp)\n",
    "    })\n",
    "\n",
    "print(len(data))"
   ]
  },
  {
   "cell_type": "code",
   "execution_count": 10,
   "id": "31d350ca-6998-4956-aef2-a29b3839c3f2",
   "metadata": {},
   "outputs": [
    {
     "name": "stderr",
     "output_type": "stream",
     "text": [
      "100%|████████████████████████████████████████████████████████████████████| 2023070/2023070 [00:02<00:00, 765977.82it/s]\n"
     ]
    },
    {
     "name": "stdout",
     "output_type": "stream",
     "text": [
      "(0, 0) (52374, 67345)\n",
      "(52374, 67345) (40226, 19369)\n",
      "(40226, 19369) (27501, 17041)\n",
      "(27501, 17041) (26116, 13727)\n",
      "(26116, 13727) (23746, 13318)\n",
      "(23746, 13318) (23436, 12562)\n",
      "(23436, 12562) (22787, 12458)\n",
      "(22787, 12458) (22705, 12247)\n",
      "(22705, 12247) (22505, 12224)\n",
      "(22505, 12224) (22480, 12153)\n",
      "(22480, 12153) (22408, 12140)\n",
      "(22408, 12140) (22401, 12116)\n",
      "(22401, 12116) (22374, 12114)\n",
      "(22374, 12114) (22372, 12103)\n",
      "(22372, 12103) (22364, 12103)\n",
      "(22364, 12103) (22364, 12101)\n",
      "(22364, 12101) (22363, 12101)\n",
      "(22363, 12101) (22363, 12101)\n"
     ]
    }
   ],
   "source": [
    "user_history = defaultdict(list)\n",
    "item_history = defaultdict(list)\n",
    "\n",
    "for row in tqdm(data):\n",
    "    user_raw_id = row['user_id']\n",
    "    item_raw_id = row['item_id']\n",
    "    interaction_timestamp = row['timestamp']\n",
    "    \n",
    "    user_history[user_raw_id].append({'item_id': item_raw_id, 'timestamp': interaction_timestamp})\n",
    "    item_history[item_raw_id].append({'user_id': user_raw_id, 'timestamp': interaction_timestamp})\n",
    "\n",
    "is_changed = True\n",
    "threshold = 5\n",
    "good_users = set()\n",
    "good_items = set()\n",
    "\n",
    "\n",
    "while is_changed:\n",
    "    old_state = (len(good_users), len(good_items))\n",
    "    \n",
    "    good_users = set()\n",
    "    good_items = set()\n",
    "\n",
    "    for user_id, history in user_history.items():\n",
    "        if len(history) >= threshold:\n",
    "            good_users.add(user_id)\n",
    "\n",
    "    for item_id, history in item_history.items():\n",
    "        if len(history) >= threshold:\n",
    "            good_items.add(item_id)\n",
    "    \n",
    "    user_history = {\n",
    "        user_id: list(filter(lambda x: x['item_id'] in good_items, history))\n",
    "        for user_id, history in user_history.items()\n",
    "    }\n",
    "    \n",
    "    item_history = {\n",
    "        item_id: list(filter(lambda x: x['user_id'] in good_users, history))\n",
    "        for item_id, history in item_history.items()\n",
    "    }\n",
    "    \n",
    "    new_state = (len(good_users), len(good_items))\n",
    "    is_changed = (old_state != new_state)\n",
    "    print(old_state, new_state)"
   ]
  },
  {
   "cell_type": "code",
   "execution_count": 11,
   "id": "37c783f1-73be-40d2-8568-532b6c914d36",
   "metadata": {},
   "outputs": [
    {
     "name": "stderr",
     "output_type": "stream",
     "text": [
      "100%|███████████████████████████████████████████████████████████████████| 1210271/1210271 [00:00<00:00, 1462670.84it/s]\n",
      "100%|██████████████████████████████████████████████████████████████████████| 249274/249274 [00:00<00:00, 958099.56it/s]\n"
     ]
    }
   ],
   "source": [
    "user_mapping = {}\n",
    "item_mapping = {}\n",
    "tmp_user_history = defaultdict(list)\n",
    "tmp_item_history = defaultdict(list)\n",
    "\n",
    "for user_id, history in tqdm(user_history.items()):\n",
    "    processed_history = []\n",
    "\n",
    "    for filtered_item in history:\n",
    "        item_id = filtered_item['item_id']\n",
    "        item_timestamp = filtered_item['timestamp']\n",
    "\n",
    "        processed_item_id = item_mapping.get(item_id, len(item_mapping) + 1)\n",
    "        item_mapping[item_id] = processed_item_id\n",
    "\n",
    "        processed_history.append({'item_id': processed_item_id, 'timestamp': item_timestamp})\n",
    "        \n",
    "    if len(processed_history) >= threshold:\n",
    "        processed_user_id = user_mapping.get(user_id, len(user_mapping) + 1)\n",
    "        user_mapping[user_id] = processed_user_id\n",
    "\n",
    "        tmp_user_history[processed_user_id] = sorted(processed_history, key=lambda x: x['timestamp'])\n",
    "\n",
    "    \n",
    "for item_id, history in tqdm(item_history.items()):\n",
    "    processed_history = []\n",
    "\n",
    "    for filtered_user in history:\n",
    "        user_id = filtered_user['user_id']\n",
    "        user_timestamp = filtered_user['timestamp']\n",
    "\n",
    "        processed_user_id = user_mapping.get(user_id, len(user_mapping) + 1)\n",
    "        user_mapping[user_id] = processed_user_id\n",
    "\n",
    "        processed_history.append({'user_id': processed_user_id, 'timestamp': user_timestamp})\n",
    "\n",
    "    if len(processed_history) >= threshold:\n",
    "        processed_item_id = item_mapping.get(item_id, len(item_mapping) + 1)\n",
    "        item_mapping[item_id] = processed_item_id\n",
    "\n",
    "        tmp_item_history[processed_item_id] = sorted(processed_history, key=lambda x: x['timestamp'])\n",
    "\n",
    "user_history = tmp_user_history\n",
    "item_history = tmp_item_history"
   ]
  },
  {
   "cell_type": "code",
   "execution_count": 12,
   "id": "e02a8ad5-5bc1-4d31-bfbc-0a8f6c79daf9",
   "metadata": {},
   "outputs": [
    {
     "name": "stdout",
     "output_type": "stream",
     "text": [
      "Users count: 22363\n",
      "Items count: 12101\n",
      "Actions count: 198502\n",
      "Avg user history len: 8.876358270357287\n",
      "Avg item history len: 16.403768283612923\n"
     ]
    }
   ],
   "source": [
    "print('Users count:', len(user_mapping))\n",
    "print('Items count:', len(item_mapping))\n",
    "print('Actions count:', sum(list(map(lambda x: len(x), user_history.values()))))\n",
    "print('Avg user history len:', np.mean(list(map(lambda x: len(x), user_history.values()))))\n",
    "print('Avg item history len:', np.mean(list(map(lambda x: len(x), item_history.values()))))"
   ]
  },
  {
   "cell_type": "markdown",
   "id": "8a7e56cc-d1be-491b-be02-af93a9243237",
   "metadata": {},
   "source": [
    "# Getting test and valifation timelines by ration"
   ]
  },
  {
   "cell_type": "code",
   "execution_count": 13,
   "id": "e0899976-e1b4-4619-abe3-4b5120d4d447",
   "metadata": {},
   "outputs": [
    {
     "name": "stdout",
     "output_type": "stream",
     "text": [
      "198502\n",
      "[{'item_id': 3133, 'timestamp': 1023840000}, {'item_id': 3438, 'timestamp': 1024185600}, {'item_id': 3439, 'timestamp': 1024185600}, {'item_id': 4263, 'timestamp': 1036627200}, {'item_id': 3436, 'timestamp': 1052611200}]\n"
     ]
    }
   ],
   "source": [
    "# List to collect all items\n",
    "all_items = []\n",
    "# Iterate over all users and their respective item lists\n",
    "for user_id, items in user_history.items():\n",
    "    # Iterate over each item in the user's history\n",
    "    for item in items:\n",
    "        # Append each item to the all_items list\n",
    "        all_items.append(item)\n",
    "\n",
    "# Sort all_items by the 'timestamp' field in ascending order\n",
    "all_items.sort(key=lambda x: x['timestamp'])\n",
    "\n",
    "print(len(all_items))\n",
    "\n",
    "# Print the sorted list of items\n",
    "print(all_items[:5])"
   ]
  },
  {
   "cell_type": "code",
   "execution_count": 14,
   "id": "44b2b317-cdc4-4b0d-8aa9-b208351aa6b2",
   "metadata": {},
   "outputs": [
    {
     "name": "stdout",
     "output_type": "stream",
     "text": [
      "158800\n",
      "178651\n",
      "1394150400\n",
      "1399939200\n"
     ]
    }
   ],
   "source": [
    "ratio_validation=0.1\n",
    "ratio_test = 0.1\n",
    "\n",
    "\n",
    "test_item_idx_border = int(len(all_items) - len(all_items) * ratio_test)\n",
    "validation_item_idx_border = int(test_item_idx_border - len(all_items) * ratio_validation)\n",
    "\n",
    "print(validation_item_idx_border)\n",
    "print(test_item_idx_border)\n",
    "\n",
    "timeline_validation = all_items[validation_item_idx_border]['timestamp']\n",
    "timeline_test = all_items[test_item_idx_border]['timestamp']\n",
    "\n",
    "\n",
    "# timilime_validation <= timelime_test\n",
    "print(timeline_validation)\n",
    "print(timeline_test)"
   ]
  },
  {
   "cell_type": "code",
   "execution_count": 15,
   "id": "d2cbc20a-a0a5-4700-a101-1ac17b104c2d",
   "metadata": {},
   "outputs": [
    {
     "name": "stdout",
     "output_type": "stream",
     "text": [
      "158689\n",
      "178355\n",
      "\n",
      "{'item_id': 12100, 'timestamp': 1394064000}\n",
      "{'item_id': 373, 'timestamp': 1394150400}\n",
      "{'item_id': 7548, 'timestamp': 1394150400}\n",
      "\n",
      "{'item_id': 2378, 'timestamp': 1399852800}\n",
      "{'item_id': 3235, 'timestamp': 1399939200}\n",
      "{'item_id': 1950, 'timestamp': 1399939200}\n"
     ]
    }
   ],
   "source": [
    "# check\n",
    "count_lesser_than_timeline_validation = 0\n",
    "count_lesser_than_timeline_test = 0\n",
    "\n",
    "for item in all_items:\n",
    "    if item['timestamp'] < timeline_validation:\n",
    "        count_lesser_than_timeline_validation+=1\n",
    "    if item['timestamp'] < timeline_test:\n",
    "        count_lesser_than_timeline_test+=1\n",
    "\n",
    "# border checking\n",
    "print(count_lesser_than_timeline_validation)\n",
    "print(count_lesser_than_timeline_test)\n",
    "print()\n",
    "print(all_items[count_lesser_than_timeline_validation-1])\n",
    "print(all_items[count_lesser_than_timeline_validation])\n",
    "print(all_items[validation_item_idx_border])\n",
    "print()\n",
    "print(all_items[count_lesser_than_timeline_test-1])\n",
    "print(all_items[count_lesser_than_timeline_test])\n",
    "print(all_items[test_item_idx_border])"
   ]
  },
  {
   "cell_type": "markdown",
   "id": "ec859868-cf1f-40fb-9478-843f0ffd3f38",
   "metadata": {},
   "source": [
    "# Prepare all_data.txt"
   ]
  },
  {
   "cell_type": "code",
   "execution_count": 16,
   "id": "27e8c98b-ff00-4cbc-b823-6d51b95170c9",
   "metadata": {},
   "outputs": [],
   "source": [
    "import queue"
   ]
  },
  {
   "cell_type": "code",
   "execution_count": 17,
   "id": "1a88ccd7-8fc3-40a6-8b7c-f2ac891adcbc",
   "metadata": {},
   "outputs": [],
   "source": [
    "min_window_size = 5\n",
    "window_size = 256\n",
    "\n",
    "bert4rec_data_train = [] #TODO: shuffle data after collection\n",
    "bert4rec_data_validation = []\n",
    "bert4rec_data_test = []\n",
    "\n",
    "q = queue.Queue()\n",
    "\n",
    "for user_id, items in user_history.items():\n",
    "    items = sorted(items, key=lambda x: x['timestamp'])\n",
    "                   \n",
    "    q.queue.clear()\n",
    "    if len(items) < min_window_size:\n",
    "       continue\n",
    "    \n",
    "    for idx, item in enumerate(items):\n",
    "        # queue.push(item)\n",
    "        q.put(item)\n",
    "        if len(q.queue) > window_size:\n",
    "            q.get()\n",
    " \n",
    "        if idx >= min_window_size:\n",
    "\n",
    "            last_element = q.queue[-1]\n",
    "            window_elemnts = list(q.queue)\n",
    "\n",
    "            if last_element['timestamp'] < timeline_validation:\n",
    "                bert4rec_data_train.append({user_id: window_elemnts})\n",
    "            elif last_element['timestamp'] < timeline_test:\n",
    "                bert4rec_data_validation.append({user_id: window_elemnts})\n",
    "            else:\n",
    "                bert4rec_data_test.append({user_id: window_elemnts})"
   ]
  },
  {
   "cell_type": "code",
   "execution_count": 18,
   "id": "4b31ed08-1696-46ac-a3a6-8deb7673fc19",
   "metadata": {},
   "outputs": [
    {
     "name": "stdout",
     "output_type": "stream",
     "text": [
      "{1: [{'item_id': 9, 'timestamp': 1214956800}, {'item_id': 10, 'timestamp': 1216684800}, {'item_id': 11, 'timestamp': 1218067200}, {'item_id': 12, 'timestamp': 1218067200}, {'item_id': 13, 'timestamp': 1219881600}, {'item_id': 16, 'timestamp': 1222387200}]}\n",
      "{1: [{'item_id': 9, 'timestamp': 1214956800}, {'item_id': 10, 'timestamp': 1216684800}, {'item_id': 11, 'timestamp': 1218067200}, {'item_id': 12, 'timestamp': 1218067200}, {'item_id': 13, 'timestamp': 1219881600}, {'item_id': 16, 'timestamp': 1222387200}, {'item_id': 14, 'timestamp': 1224806400}]}\n",
      "{1: [{'item_id': 9, 'timestamp': 1214956800}, {'item_id': 10, 'timestamp': 1216684800}, {'item_id': 11, 'timestamp': 1218067200}, {'item_id': 12, 'timestamp': 1218067200}, {'item_id': 13, 'timestamp': 1219881600}, {'item_id': 16, 'timestamp': 1222387200}, {'item_id': 14, 'timestamp': 1224806400}, {'item_id': 15, 'timestamp': 1227830400}]}\n",
      "{1: [{'item_id': 9, 'timestamp': 1214956800}, {'item_id': 10, 'timestamp': 1216684800}, {'item_id': 11, 'timestamp': 1218067200}, {'item_id': 12, 'timestamp': 1218067200}, {'item_id': 13, 'timestamp': 1219881600}, {'item_id': 16, 'timestamp': 1222387200}, {'item_id': 14, 'timestamp': 1224806400}, {'item_id': 15, 'timestamp': 1227830400}, {'item_id': 4, 'timestamp': 1232323200}]}\n",
      "{1: [{'item_id': 9, 'timestamp': 1214956800}, {'item_id': 10, 'timestamp': 1216684800}, {'item_id': 11, 'timestamp': 1218067200}, {'item_id': 12, 'timestamp': 1218067200}, {'item_id': 13, 'timestamp': 1219881600}, {'item_id': 16, 'timestamp': 1222387200}, {'item_id': 14, 'timestamp': 1224806400}, {'item_id': 15, 'timestamp': 1227830400}, {'item_id': 4, 'timestamp': 1232323200}, {'item_id': 19, 'timestamp': 1232841600}]}\n",
      "62662\n",
      "11301\n",
      "12724\n"
     ]
    }
   ],
   "source": [
    "for sample in bert4rec_data_train[:5]:\n",
    "    print(sample)\n",
    "\n",
    "print(len(bert4rec_data_train))\n",
    "print(len(bert4rec_data_validation))    \n",
    "print(len(bert4rec_data_test))"
   ]
  },
  {
   "cell_type": "code",
   "execution_count": 19,
   "id": "32cab910-2d21-4c5d-a0bb-dc6678a1dea4",
   "metadata": {},
   "outputs": [],
   "source": [
    "with open(relative_path_to_data + r'bert4rec_data_train.txt', 'w') as f:\n",
    "    for sample in bert4rec_data_train:\n",
    "        for user_id, item_history in sample.items():\n",
    "            f.write(' '.join([str(user_id)] + [\n",
    "                str(item_event['item_id']) for item_event in sorted(item_history, key=lambda x: x['timestamp'])\n",
    "            ]))\n",
    "            f.write('\\n')\n",
    "\n",
    "with open(relative_path_to_data + r'bert4rec_data_validation.txt', 'w') as f:\n",
    "    for sample in bert4rec_data_validation:\n",
    "        for user_id, item_history in sample.items():\n",
    "            f.write(' '.join([str(user_id)] + [\n",
    "                str(item_event['item_id']) for item_event in sorted(item_history, key=lambda x: x['timestamp'])\n",
    "            ]))\n",
    "            f.write('\\n')\n",
    "\n",
    "with open(relative_path_to_data + r'bert4rec_data_test.txt', 'w') as f:\n",
    "    for sample in bert4rec_data_test:\n",
    "        for user_id, item_history in sample.items():\n",
    "            f.write(' '.join([str(user_id)] + [\n",
    "                str(item_event['item_id']) for item_event in sorted(item_history, key=lambda x: x['timestamp'])\n",
    "            ]))\n",
    "            f.write('\\n')"
   ]
  },
  {
   "cell_type": "code",
   "execution_count": 20,
   "id": "02a6ed10-d800-4544-b4e1-b8fa075f9484",
   "metadata": {},
   "outputs": [],
   "source": [
    "sasrec_data_train = [] #TODO: shuffle data after collection\n",
    "sasrec_data_validation = bert4rec_data_validation\n",
    "sasrec_data_test = bert4rec_data_test\n",
    "\n",
    "for user_id, items in user_history.items():\n",
    "    items = sorted(items, key=lambda x: x['timestamp'])\n",
    "                   \n",
    "    if len(items) < min_window_size:\n",
    "       continue\n",
    "\n",
    "    window_elements = []\n",
    "    \n",
    "    for idx, item in enumerate(items):\n",
    "        if item['timestamp'] >= timeline_validation:\n",
    "            break\n",
    "        window_elements.append(item)\n",
    "        \n",
    "        if len(window_elements) >= window_size:\n",
    "            sasrec_data_train.append({user_id: window_elements})\n",
    "            window_elements = []\n",
    "\n",
    "    if len(window_elements) >= min_window_size:\n",
    "        sasrec_data_train.append({user_id: window_elements})"
   ]
  },
  {
   "cell_type": "code",
   "execution_count": 21,
   "id": "9de8cfcc-af2a-4dac-a5d7-45b49509a6d4",
   "metadata": {},
   "outputs": [
    {
     "name": "stdout",
     "output_type": "stream",
     "text": [
      "{1: [{'item_id': 9, 'timestamp': 1214956800}, {'item_id': 10, 'timestamp': 1216684800}, {'item_id': 11, 'timestamp': 1218067200}, {'item_id': 12, 'timestamp': 1218067200}, {'item_id': 13, 'timestamp': 1219881600}, {'item_id': 16, 'timestamp': 1222387200}, {'item_id': 14, 'timestamp': 1224806400}, {'item_id': 15, 'timestamp': 1227830400}, {'item_id': 4, 'timestamp': 1232323200}, {'item_id': 19, 'timestamp': 1232841600}, {'item_id': 20, 'timestamp': 1236643200}, {'item_id': 17, 'timestamp': 1237593600}, {'item_id': 18, 'timestamp': 1241136000}, {'item_id': 26, 'timestamp': 1275177600}, {'item_id': 24, 'timestamp': 1276128000}, {'item_id': 27, 'timestamp': 1276128000}, {'item_id': 25, 'timestamp': 1288828800}, {'item_id': 30, 'timestamp': 1297123200}, {'item_id': 33, 'timestamp': 1301097600}, {'item_id': 7, 'timestamp': 1320278400}, {'item_id': 29, 'timestamp': 1322438400}, {'item_id': 35, 'timestamp': 1327536000}, {'item_id': 36, 'timestamp': 1327536000}, {'item_id': 21, 'timestamp': 1341273600}, {'item_id': 23, 'timestamp': 1343174400}, {'item_id': 8, 'timestamp': 1343260800}, {'item_id': 22, 'timestamp': 1343260800}, {'item_id': 31, 'timestamp': 1344556800}, {'item_id': 39, 'timestamp': 1345507200}, {'item_id': 40, 'timestamp': 1353974400}, {'item_id': 41, 'timestamp': 1358380800}, {'item_id': 44, 'timestamp': 1373155200}, {'item_id': 45, 'timestamp': 1373155200}, {'item_id': 48, 'timestamp': 1376438400}, {'item_id': 32, 'timestamp': 1376697600}, {'item_id': 52, 'timestamp': 1376697600}, {'item_id': 42, 'timestamp': 1376784000}, {'item_id': 47, 'timestamp': 1376784000}, {'item_id': 5, 'timestamp': 1379721600}, {'item_id': 34, 'timestamp': 1379721600}, {'item_id': 37, 'timestamp': 1379721600}, {'item_id': 38, 'timestamp': 1379721600}, {'item_id': 50, 'timestamp': 1379721600}, {'item_id': 46, 'timestamp': 1387756800}, {'item_id': 51, 'timestamp': 1387756800}, {'item_id': 6, 'timestamp': 1388102400}, {'item_id': 43, 'timestamp': 1388102400}, {'item_id': 54, 'timestamp': 1390089600}, {'item_id': 28, 'timestamp': 1390176000}, {'item_id': 49, 'timestamp': 1393027200}]}\n",
      "\n",
      "{2: [{'item_id': 89, 'timestamp': 1384128000}, {'item_id': 67, 'timestamp': 1385251200}, {'item_id': 68, 'timestamp': 1385251200}, {'item_id': 70, 'timestamp': 1385251200}, {'item_id': 75, 'timestamp': 1385251200}, {'item_id': 80, 'timestamp': 1385251200}, {'item_id': 81, 'timestamp': 1385251200}, {'item_id': 83, 'timestamp': 1385251200}, {'item_id': 84, 'timestamp': 1385251200}, {'item_id': 85, 'timestamp': 1385251200}, {'item_id': 87, 'timestamp': 1385251200}, {'item_id': 88, 'timestamp': 1385251200}, {'item_id': 78, 'timestamp': 1386374400}, {'item_id': 90, 'timestamp': 1388361600}, {'item_id': 66, 'timestamp': 1389225600}, {'item_id': 69, 'timestamp': 1389225600}, {'item_id': 71, 'timestamp': 1389225600}, {'item_id': 72, 'timestamp': 1389225600}, {'item_id': 76, 'timestamp': 1389225600}, {'item_id': 79, 'timestamp': 1389225600}, {'item_id': 86, 'timestamp': 1389744000}]}\n",
      "\n",
      "{4: [{'item_id': 99, 'timestamp': 1321228800}, {'item_id': 104, 'timestamp': 1327449600}, {'item_id': 108, 'timestamp': 1327449600}, {'item_id': 102, 'timestamp': 1330905600}, {'item_id': 101, 'timestamp': 1332633600}, {'item_id': 103, 'timestamp': 1332633600}, {'item_id': 105, 'timestamp': 1332633600}, {'item_id': 98, 'timestamp': 1333584000}, {'item_id': 111, 'timestamp': 1333584000}, {'item_id': 107, 'timestamp': 1339286400}, {'item_id': 110, 'timestamp': 1358726400}, {'item_id': 106, 'timestamp': 1359417600}, {'item_id': 119, 'timestamp': 1359504000}, {'item_id': 120, 'timestamp': 1359676800}, {'item_id': 116, 'timestamp': 1360195200}, {'item_id': 115, 'timestamp': 1360713600}, {'item_id': 113, 'timestamp': 1361404800}, {'item_id': 109, 'timestamp': 1362096000}, {'item_id': 121, 'timestamp': 1372809600}, {'item_id': 100, 'timestamp': 1386028800}, {'item_id': 112, 'timestamp': 1386028800}, {'item_id': 114, 'timestamp': 1386028800}, {'item_id': 117, 'timestamp': 1386028800}, {'item_id': 118, 'timestamp': 1386028800}]}\n",
      "\n",
      "{7: [{'item_id': 173, 'timestamp': 1371340800}, {'item_id': 174, 'timestamp': 1371340800}, {'item_id': 175, 'timestamp': 1373500800}, {'item_id': 178, 'timestamp': 1373500800}, {'item_id': 89, 'timestamp': 1373500800}, {'item_id': 179, 'timestamp': 1373500800}, {'item_id': 176, 'timestamp': 1375228800}, {'item_id': 177, 'timestamp': 1375228800}]}\n",
      "\n",
      "{8: [{'item_id': 182, 'timestamp': 1346544000}, {'item_id': 127, 'timestamp': 1386979200}, {'item_id': 184, 'timestamp': 1387843200}, {'item_id': 148, 'timestamp': 1387843200}, {'item_id': 187, 'timestamp': 1387843200}, {'item_id': 183, 'timestamp': 1389830400}]}\n",
      "\n",
      "16972\n",
      "11301\n",
      "12724\n"
     ]
    }
   ],
   "source": [
    "for sample in sasrec_data_train[:5]:\n",
    "    print(sample)\n",
    "    print()\n",
    "\n",
    "print(len(sasrec_data_train))\n",
    "print(len(sasrec_data_validation))    \n",
    "print(len(sasrec_data_test))"
   ]
  },
  {
   "cell_type": "code",
   "execution_count": 22,
   "id": "fed72880-7980-4a20-95f8-870582cfe789",
   "metadata": {},
   "outputs": [],
   "source": [
    "with open(relative_path_to_data + r'sasrec_data_train.txt', 'w') as f:\n",
    "    for sample in sasrec_data_train:\n",
    "        for user_id, item_history in sample.items():\n",
    "            f.write(' '.join([str(user_id)] + [\n",
    "                str(item_event['item_id']) for item_event in sorted(item_history, key=lambda x: x['timestamp'])\n",
    "            ]))\n",
    "            f.write('\\n')\n",
    "\n",
    "with open(relative_path_to_data + r'sasrec_data_validation.txt', 'w') as f:\n",
    "    for sample in sasrec_data_validation:\n",
    "        for user_id, item_history in sample.items():\n",
    "            f.write(' '.join([str(user_id)] + [\n",
    "                str(item_event['item_id']) for item_event in sorted(item_history, key=lambda x: x['timestamp'])\n",
    "            ]))\n",
    "            f.write('\\n')\n",
    "\n",
    "with open(relative_path_to_data + r'sasrec_data_test.txt', 'w') as f:\n",
    "    for sample in sasrec_data_test:\n",
    "        for user_id, item_history in sample.items():\n",
    "            f.write(' '.join([str(user_id)] + [\n",
    "                str(item_event['item_id']) for item_event in sorted(item_history, key=lambda x: x['timestamp'])\n",
    "            ]))\n",
    "            f.write('\\n')"
   ]
  }
 ],
 "metadata": {
  "kernelspec": {
   "display_name": "Python 3 (ipykernel)",
   "language": "python",
   "name": "python3"
  },
  "language_info": {
   "codemirror_mode": {
    "name": "ipython",
    "version": 3
   },
   "file_extension": ".py",
   "mimetype": "text/x-python",
   "name": "python",
   "nbconvert_exporter": "python",
   "pygments_lexer": "ipython3",
   "version": "3.12.6"
  }
 },
 "nbformat": 4,
 "nbformat_minor": 5
}
