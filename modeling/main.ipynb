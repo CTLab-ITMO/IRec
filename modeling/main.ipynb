{
 "cells": [
  {
   "cell_type": "code",
   "execution_count": null,
   "metadata": {},
   "outputs": [],
   "source": [
    "import torch\n",
    "\n",
    "from rqvae.rqvae_data import get_data\n",
    "\n",
    "df = get_data()"
   ]
  },
  {
   "cell_type": "code",
   "execution_count": 2,
   "metadata": {},
   "outputs": [],
   "source": [
    "embs = torch.stack(df[\"embeddings\"].tolist())"
   ]
  },
  {
   "cell_type": "code",
   "execution_count": 3,
   "metadata": {},
   "outputs": [],
   "source": [
    "import json\n",
    "from utils import DEVICE\n",
    "from models.base import BaseModel\n",
    "\n",
    "config = json.load(open(\"../configs/train/tiger_train_config.json\"))\n",
    "\n",
    "batch_proc_config = config['dataloader']['train']['batch_processor']\n",
    "\n",
    "rqvae_train_config = json.load(open(batch_proc_config['rqvae_train_config_path']))\n",
    "rq_vae_config = rqvae_train_config['model']\n",
    "rq_vae_config['should_init_codebooks'] = False\n",
    "\n",
    "rqvae_model = BaseModel.create_from_config(rq_vae_config).to(DEVICE)\n",
    "\n",
    "rqvae_model.load_state_dict(torch.load(batch_proc_config['rqvae_checkpoint_path'], weights_only=True))\n",
    "rqvae_model.eval()\n",
    "\n",
    "ids = df.index.tolist()\n",
    "\n",
    "embs_dict = {\"ids\": torch.tensor(ids).to(DEVICE), \"embeddings\": embs.to(DEVICE)}\n",
    "\n",
    "semantic_ids = list(rqvae_model.forward(embs_dict))"
   ]
  },
  {
   "cell_type": "code",
   "execution_count": 4,
   "metadata": {},
   "outputs": [],
   "source": [
    "from rqvae.collisions import dedup\n",
    "\n",
    "items_with_tuples = list(zip(df[\"asin\"], df[\"title\"].fillna(\"unknown\"), semantic_ids))\n",
    "items_with_tuples = dedup(items_with_tuples)\n",
    "\n",
    "assert len(df) == len(set(item[-1] for item in items_with_tuples))"
   ]
  },
  {
   "cell_type": "code",
   "execution_count": null,
   "metadata": {},
   "outputs": [],
   "source": [
    "items_with_tuples"
   ]
  },
  {
   "cell_type": "code",
   "execution_count": 5,
   "metadata": {},
   "outputs": [],
   "source": [
    "from trie import Trie\n",
    "\n",
    "_trie = Trie()\n",
    "\n",
    "for (id, tuple) in zip(df.index, semantic_ids):\n",
    "    _trie.insert(tuple, id) # todo handle collisions, not overwrite"
   ]
  },
  {
   "cell_type": "code",
   "execution_count": 19,
   "metadata": {},
   "outputs": [],
   "source": [
    "import pickle\n",
    "\n",
    "with open(\"../data/Beauty/trie.pkl\", 'wb') as f:\n",
    "    pickle.dump(_trie, f)"
   ]
  },
  {
   "cell_type": "code",
   "execution_count": null,
   "metadata": {},
   "outputs": [],
   "source": [
    "from rqvae.rqvae_data import search_similar_items\n",
    "\n",
    "\n",
    "for i in range(5):\n",
    "    sim = search_similar_items(items_with_tuples, (i,), 5)\n",
    "    if len(sim) == 0:\n",
    "        continue\n",
    "    print(i)\n",
    "    for asin, item, clust_tuple in sim:\n",
    "        # if 'shampoo' in item.lower():\n",
    "        print(f\"{item=} {clust_tuple=}\")"
   ]
  },
  {
   "cell_type": "code",
   "execution_count": null,
   "metadata": {},
   "outputs": [],
   "source": [
    "from collections import Counter\n",
    "import matplotlib.pyplot as plt\n",
    "\n",
    "\n",
    "plt.hist(Counter(item[-1][:-1] for item in items_with_tuples).values())\n",
    "plt.show()"
   ]
  },
  {
   "cell_type": "code",
   "execution_count": 18,
   "metadata": {},
   "outputs": [],
   "source": [
    "# # raw full ids\n",
    "# full_duplicates = Counter(item[-1][:-1] for item in items_with_tuples).items()\n",
    "# duplicated = [(semantic_id, amount) for (semantic_id, amount) in full_duplicates if amount > 1]\n",
    "# duplicated"
   ]
  },
  {
   "cell_type": "code",
   "execution_count": null,
   "metadata": {},
   "outputs": [],
   "source": [
    "# collison counters - (how many item have same full semantic id): amount of such sets\n",
    "vals = Counter(item[-1][:-1] for item in items_with_tuples).values()\n",
    "Counter(vals)"
   ]
  },
  {
   "cell_type": "code",
   "execution_count": null,
   "metadata": {},
   "outputs": [],
   "source": [
    "# dedup idxes\n",
    "Counter(item[-1][4] for item in items_with_tuples)"
   ]
  },
  {
   "cell_type": "code",
   "execution_count": 11,
   "metadata": {},
   "outputs": [],
   "source": [
    "# from sklearn import preprocessing\n",
    "\n",
    "# labels = df['asin']\n",
    "\n",
    "# le = preprocessing.LabelEncoder()\n",
    "# targets = le.fit_transform(labels)\n",
    "\n",
    "# df['asin_numeric'] = targets\n",
    "\n",
    "# torch.save(df, './all_data.pt')"
   ]
  },
  {
   "cell_type": "code",
   "execution_count": null,
   "metadata": {},
   "outputs": [],
   "source": []
  },
  {
   "cell_type": "code",
   "execution_count": null,
   "metadata": {},
   "outputs": [],
   "source": [
    "import torch\n",
    "from utils import create_masked_tensor\n",
    "\n",
    "\n",
    "embeddings = torch.rand((11, 2))\n",
    "print(embeddings)\n",
    "\n",
    "lengths = torch.tensor([3, 1, 2, 5])\n",
    "\n",
    "padded_embeddings, mask = create_masked_tensor(embeddings, lengths)"
   ]
  },
  {
   "cell_type": "code",
   "execution_count": null,
   "metadata": {},
   "outputs": [],
   "source": [
    "padded_embeddings"
   ]
  },
  {
   "cell_type": "code",
   "execution_count": null,
   "metadata": {},
   "outputs": [],
   "source": [
    "mask"
   ]
  },
  {
   "cell_type": "code",
   "execution_count": 3,
   "metadata": {},
   "outputs": [],
   "source": [
    "import torch\n",
    "\n",
    "df = torch.load('../data/Beauty/data_full.pt')"
   ]
  },
  {
   "cell_type": "code",
   "execution_count": null,
   "metadata": {},
   "outputs": [],
   "source": [
    "torch.stack(df.sort_index().embeddings.tolist())"
   ]
  },
  {
   "cell_type": "code",
   "execution_count": null,
   "metadata": {},
   "outputs": [],
   "source": [
    "df.sort_index()"
   ]
  },
  {
   "cell_type": "code",
   "execution_count": null,
   "metadata": {},
   "outputs": [],
   "source": []
  }
 ],
 "metadata": {
  "kernelspec": {
   "display_name": "gsrec",
   "language": "python",
   "name": "python3"
  },
  "language_info": {
   "codemirror_mode": {
    "name": "ipython",
    "version": 3
   },
   "file_extension": ".py",
   "mimetype": "text/x-python",
   "name": "python",
   "nbconvert_exporter": "python",
   "pygments_lexer": "ipython3",
   "version": "3.11.11"
  }
 },
 "nbformat": 4,
 "nbformat_minor": 2
}
