{
 "cells": [
  {
   "cell_type": "code",
   "execution_count": 1,
   "metadata": {},
   "outputs": [],
   "source": [
    "import torch\n",
    "\n",
    "from rqvae.rqvae_data import get_data\n",
    "\n",
    "df = get_data()"
   ]
  },
  {
   "cell_type": "code",
   "execution_count": 2,
   "metadata": {},
   "outputs": [],
   "source": [
    "embs = torch.stack(df[\"embeddings\"].tolist())"
   ]
  },
  {
   "cell_type": "code",
   "execution_count": 3,
   "metadata": {},
   "outputs": [],
   "source": [
    "import json\n",
    "from utils import DEVICE\n",
    "from models.base import BaseModel\n",
    "\n",
    "config = json.load(open(\"../configs/train/tiger_train_config.json\"))\n",
    "\n",
    "rqvae_train_config = json.load(open(config['rqvae_train_config_path']))\n",
    "rq_vae_config = rqvae_train_config['model']\n",
    "rq_vae_config['should_init_codebooks'] = False\n",
    "\n",
    "rqvae_model = BaseModel.create_from_config(rq_vae_config).to(DEVICE)\n",
    "\n",
    "rqvae_model.load_state_dict(torch.load(config['rqvae_checkpoint_path'], weights_only=True))\n",
    "rqvae_model.eval()\n",
    "\n",
    "ids = df.asin_numeric.tolist()\n",
    "\n",
    "embs_dict = {\"ids\": torch.tensor(ids).to(DEVICE), \"embeddings\": embs.to(DEVICE)}\n",
    "\n",
    "semantic_ids = list(rqvae_model.forward(embs_dict))"
   ]
  },
  {
   "cell_type": "code",
   "execution_count": 4,
   "metadata": {},
   "outputs": [],
   "source": [
    "from rqvae.collisions import dedup\n",
    "\n",
    "items_with_tuples = list(zip(df[\"asin\"], df[\"title\"].fillna(\"unknown\"), semantic_ids))\n",
    "items_with_tuples = dedup(items_with_tuples)\n",
    "\n",
    "assert len(df) == len(set(item[-1] for item in items_with_tuples))"
   ]
  },
  {
   "cell_type": "code",
   "execution_count": 17,
   "metadata": {},
   "outputs": [
    {
     "name": "stdout",
     "output_type": "stream",
     "text": [
      "0\n",
      "item='Revlon Beyond Natural Smoothing Primer, Clear, 0.85 Ounce' clust_tuple=(0, 33, 46, 141, 0)\n",
      "item='Color Club Magic Attraction 843 Nail Polish' clust_tuple=(0, 228, 117, 102, 0)\n",
      "item='Color Club Wild at Heart 871 Nail Polish' clust_tuple=(0, 228, 83, 106, 0)\n",
      "1\n",
      "item='Natural Beauty White / Brightening Essence Full Face Mask 10 Pcs' clust_tuple=(1, 210, 157, 13, 0)\n",
      "item='OGX Conditioner, Nourishing Coconut Milk, 13oz' clust_tuple=(1, 50, 213, 95, 0)\n",
      "item='BurnOut Eco-sensitive Zinc Oxide Sunscreen SPF 35 (3 oz)' clust_tuple=(1, 119, 46, 204, 0)\n",
      "item='Kerastase Reflection Chroma Riche Luminous Softening Essence, 4.2 Ounce' clust_tuple=(1, 119, 3, 229, 0)\n",
      "item='KINeSYS Performance Sunscreen, SPF 30, Spray, Mango Scent, 4-Ounce Bottles' clust_tuple=(1, 242, 54, 95, 0)\n",
      "2\n",
      "item='Pink Sugar by Aquolina for Women - 3.4 Ounce EDT Spray' clust_tuple=(2, 173, 246, 41, 0)\n",
      "item='Guess By Parlux Fragrances For Men. Eau De Toilette Spray 2.5 Oz.' clust_tuple=(2, 104, 233, 139, 0)\n",
      "item='Black Xs By Paco Rabanne For Men, Eau De Toilette Spray, 3.4-Ounce Bottle' clust_tuple=(2, 177, 233, 95, 0)\n",
      "item='Incanto Shine By Salvatore Ferragamo For Women, Eau De Toilette Spray, 3.4-Ounce Bottle' clust_tuple=(2, 128, 185, 76, 0)\n",
      "item='Versace Man Eau Fraiche By Gianni Versace For Men Edt Spray 3.4 Oz' clust_tuple=(2, 148, 81, 107, 0)\n",
      "3\n",
      "item='HDE&reg; Facial Pore Cleanser Cleaner Blackhead Acne Remover' clust_tuple=(3, 106, 111, 172, 0)\n",
      "item=\"Best Anti Aging Cream Reduces Wrinkels in Women and Men - Clinical Strength Bio-Peptide Wrinkle Cream Reduces Deep Wrinkles, Smooths Fine Lines and &quot;Crow's Feet&quot; - Tighten, Rejuvinate, and Rebuild Youthful, Healthy Skin - Boost Collagen and Ultra-Moisturize with Peptides Made For Your Skin - Great For Face, Under Eyes and Decolletage. You Love It Or We Buy It Back No Hassle Money Back Guarantee. [Reduced Price For Summer! Take 65% Off Automatically at Checkout!]&#9733; 2oz Jar (60ml)\" clust_tuple=(3, 90, 239, 106, 0)\n",
      "item='Raw African Black soap Imported From Ghana 4oz' clust_tuple=(3, 145, 185, 168, 0)\n",
      "item='Skin Obsession 20% TCA Home Chemical Peel for face and body removes lines, sun damage and signs of aging' clust_tuple=(3, 207, 151, 96, 0)\n",
      "item='Skin Obsession 25% TCA Chemical Peel for Home Use 1 fl oz (30 ml)' clust_tuple=(3, 207, 47, 44, 0)\n",
      "4\n",
      "item='Philosophy When Hope is Not Enough Firming and Lifting Serum for Unisex, 1 Ounce' clust_tuple=(4, 247, 239, 194, 0)\n",
      "item='DKNY BE DELICIOUS by Donna Karan Womens EAU DE PARFUM SPRAY 1 OZ' clust_tuple=(4, 182, 111, 5, 0)\n",
      "item='Victorinox By Swiss Army For Men 125 Years Eau-de-toilette Spray, 3.4-Ounce' clust_tuple=(4, 128, 239, 5, 0)\n",
      "item='Givenchy Play for Men by Givenchy 3.3 oz 100 ml EDT Spray' clust_tuple=(4, 50, 19, 168, 0)\n",
      "item='Jilbere Hot Air Brush' clust_tuple=(4, 15, 47, 194, 0)\n"
     ]
    }
   ],
   "source": [
    "from rqvae.rqvae_data import search_similar_items\n",
    "\n",
    "\n",
    "for i in range(5):\n",
    "    sim = search_similar_items(items_with_tuples, (i,), 5)\n",
    "    if len(sim) == 0:\n",
    "        continue\n",
    "    print(i)\n",
    "    for asin, item, clust_tuple in sim:\n",
    "        # if 'shampoo' in item.lower():\n",
    "        print(f\"{item=} {clust_tuple=}\")"
   ]
  },
  {
   "cell_type": "code",
   "execution_count": 6,
   "metadata": {},
   "outputs": [
    {
     "data": {
      "image/png": "[encoded data removed]",
      "text/plain": [
       "<Figure size 640x480 with 1 Axes>"
      ]
     },
     "metadata": {},
     "output_type": "display_data"
    }
   ],
   "source": [
    "from collections import Counter\n",
    "import matplotlib.pyplot as plt\n",
    "\n",
    "\n",
    "plt.hist(Counter(item[-1][:-1] for item in items_with_tuples).values())\n",
    "plt.show()"
   ]
  },
  {
   "cell_type": "code",
   "execution_count": 18,
   "metadata": {},
   "outputs": [],
   "source": [
    "# # raw full ids\n",
    "# full_duplicates = Counter(item[-1][:-1] for item in items_with_tuples).items()\n",
    "# duplicated = [(semantic_id, amount) for (semantic_id, amount) in full_duplicates if amount > 1]\n",
    "# duplicated"
   ]
  },
  {
   "cell_type": "code",
   "execution_count": 19,
   "metadata": {},
   "outputs": [
    {
     "data": {
      "text/plain": [
       "Counter({1: 11195, 2: 316, 3: 44, 4: 12, 5: 3, 6: 3, 9: 2, 7: 2, 8: 1, 21: 1})"
      ]
     },
     "execution_count": 19,
     "metadata": {},
     "output_type": "execute_result"
    }
   ],
   "source": [
    "# collison counters - (how many item have same full semantic id): amount of such sets\n",
    "vals = Counter(item[-1][:-1] for item in items_with_tuples).values()\n",
    "Counter(vals)"
   ]
  },
  {
   "cell_type": "code",
   "execution_count": 21,
   "metadata": {},
   "outputs": [
    {
     "data": {
      "text/plain": [
       "Counter({0: 11579,\n",
       "         1: 384,\n",
       "         2: 68,\n",
       "         3: 24,\n",
       "         4: 12,\n",
       "         5: 9,\n",
       "         6: 6,\n",
       "         7: 4,\n",
       "         8: 3,\n",
       "         10: 1,\n",
       "         11: 1,\n",
       "         17: 1,\n",
       "         12: 1,\n",
       "         15: 1,\n",
       "         19: 1,\n",
       "         13: 1,\n",
       "         14: 1,\n",
       "         9: 1,\n",
       "         18: 1,\n",
       "         16: 1,\n",
       "         20: 1})"
      ]
     },
     "execution_count": 21,
     "metadata": {},
     "output_type": "execute_result"
    }
   ],
   "source": [
    "# dedup idxes\n",
    "Counter(item[-1][4] for item in items_with_tuples)"
   ]
  },
  {
   "cell_type": "code",
   "execution_count": 11,
   "metadata": {},
   "outputs": [],
   "source": [
    "# from sklearn import preprocessing\n",
    "\n",
    "# labels = df['asin']\n",
    "\n",
    "# le = preprocessing.LabelEncoder()\n",
    "# targets = le.fit_transform(labels)\n",
    "\n",
    "# df['asin_numeric'] = targets\n",
    "\n",
    "# torch.save(df, './all_data.pt')"
   ]
  },
  {
   "cell_type": "code",
   "execution_count": null,
   "metadata": {},
   "outputs": [],
   "source": []
  }
 ],
 "metadata": {
  "kernelspec": {
   "display_name": "gsrec",
   "language": "python",
   "name": "python3"
  },
  "language_info": {
   "codemirror_mode": {
    "name": "ipython",
    "version": 3
   },
   "file_extension": ".py",
   "mimetype": "text/x-python",
   "name": "python",
   "nbconvert_exporter": "python",
   "pygments_lexer": "ipython3",
   "version": "3.11.11"
  }
 },
 "nbformat": 4,
 "nbformat_minor": 2
}
