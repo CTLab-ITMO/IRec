{
 "cells": [
  {
   "cell_type": "code",
   "execution_count": 1,
   "metadata": {},
   "outputs": [],
   "source": [
    "import pandas as pd\n",
    "import json\n",
    "import gzip"
   ]
  },
  {
   "cell_type": "code",
   "execution_count": 2,
   "metadata": {},
   "outputs": [],
   "source": [
    "def parse(path):\n",
    "    g = gzip.open(path, \"rb\")\n",
    "    for l in g:\n",
    "        yield eval(l)\n",
    "\n",
    "\n",
    "def getDF(path):\n",
    "    i = 0\n",
    "    df = {}\n",
    "    for d in parse(path):\n",
    "        df[i] = d\n",
    "        i += 1\n",
    "    return pd.DataFrame.from_dict(df, orient=\"index\")\n",
    "\n",
    "\n",
    "df = getDF(\"../data/meta_Beauty.json.gz\")"
   ]
  },
  {
   "cell_type": "code",
   "execution_count": 3,
   "metadata": {},
   "outputs": [
    {
     "name": "stdout",
     "output_type": "stream",
     "text": [
      "Number of unique items: 12101\n",
      "Number of unique users: 22363\n"
     ]
    }
   ],
   "source": [
    "file_name = \"../data/reviews_Beauty_5.json\"\n",
    "\n",
    "unique_items = set()\n",
    "unique_users = set()\n",
    "\n",
    "with open(file_name, \"r\") as file:\n",
    "    for line in file:\n",
    "        review = json.loads(line.strip())\n",
    "        unique_items.add(review[\"asin\"])\n",
    "        unique_users.add(review[\"reviewerID\"])\n",
    "\n",
    "print(f\"Number of unique items: {len(unique_items)}\")\n",
    "print(f\"Number of unique users: {len(unique_users)}\")"
   ]
  },
  {
   "cell_type": "code",
   "execution_count": 5,
   "metadata": {},
   "outputs": [
    {
     "data": {
      "text/plain": [
       "12101"
      ]
     },
     "execution_count": 5,
     "metadata": {},
     "output_type": "execute_result"
    }
   ],
   "source": [
    "df = df[df['asin'].isin(unique_items)]\n",
    "len(df)"
   ]
  },
  {
   "cell_type": "code",
   "execution_count": 6,
   "metadata": {},
   "outputs": [],
   "source": [
    "from transformers import AutoTokenizer, AutoModelForSeq2SeqLM\n",
    "import torch\n",
    "\n",
    "device = torch.device(\"cuda\" if torch.cuda.is_available() else \"cpu\")\n",
    "model_name = \"google-t5/t5-small\"\n",
    "\n",
    "tokenizer = AutoTokenizer.from_pretrained(model_name)\n",
    "model = AutoModelForSeq2SeqLM.from_pretrained(model_name).to(device)"
   ]
  },
  {
   "cell_type": "code",
   "execution_count": 14,
   "metadata": {},
   "outputs": [],
   "source": [
    "def preprocess(row: pd.Series):\n",
    "    row = row.fillna('empty') # unknown?\n",
    "    # remove column description / title / cat?\n",
    "    return f\"Description: {row['description']}. Title: {row['title']}. Categories: {', '.join(row['categories'][0])}\"\n",
    "\n",
    "\n",
    "df[\"combined_text\"] = df.apply(preprocess, axis=1)"
   ]
  },
  {
   "cell_type": "code",
   "execution_count": 16,
   "metadata": {},
   "outputs": [],
   "source": [
    "def encode_text(text):\n",
    "    enc = tokenizer(text, return_tensors=\"pt\", truncation=True).to(device)\n",
    "\n",
    "    output = model.encoder(\n",
    "        input_ids=enc[\"input_ids\"],\n",
    "        attention_mask=enc[\"attention_mask\"],\n",
    "        return_dict=True,\n",
    "    )\n",
    "\n",
    "    embeddings = output.last_hidden_state.mean(\n",
    "        dim=1\n",
    "    ).squeeze()  # mean over all tokens (mb CLS?)\n",
    "\n",
    "    return embeddings.cpu().detach()"
   ]
  },
  {
   "cell_type": "code",
   "execution_count": 17,
   "metadata": {},
   "outputs": [
    {
     "name": "stderr",
     "output_type": "stream",
     "text": [
      "100%|██████████| 12101/12101 [01:00<00:00, 199.89it/s]\n"
     ]
    }
   ],
   "source": [
    "from tqdm import tqdm\n",
    "\n",
    "tqdm.pandas()\n",
    "\n",
    "with torch.no_grad():\n",
    "    df[\"embeddings\"] = df[\"combined_text\"].progress_apply(encode_text)"
   ]
  },
  {
   "cell_type": "code",
   "execution_count": 18,
   "metadata": {},
   "outputs": [
    {
     "data": {
      "text/html": [
       "<div>\n",
       "<style scoped>\n",
       "    .dataframe tbody tr th:only-of-type {\n",
       "        vertical-align: middle;\n",
       "    }\n",
       "\n",
       "    .dataframe tbody tr th {\n",
       "        vertical-align: top;\n",
       "    }\n",
       "\n",
       "    .dataframe thead th {\n",
       "        text-align: right;\n",
       "    }\n",
       "</style>\n",
       "<table border=\"1\" class=\"dataframe\">\n",
       "  <thead>\n",
       "    <tr style=\"text-align: right;\">\n",
       "      <th></th>\n",
       "      <th>asin</th>\n",
       "      <th>description</th>\n",
       "      <th>title</th>\n",
       "      <th>imUrl</th>\n",
       "      <th>salesRank</th>\n",
       "      <th>categories</th>\n",
       "      <th>price</th>\n",
       "      <th>related</th>\n",
       "      <th>brand</th>\n",
       "      <th>combined_text</th>\n",
       "      <th>embeddings</th>\n",
       "    </tr>\n",
       "  </thead>\n",
       "  <tbody>\n",
       "    <tr>\n",
       "      <th>115</th>\n",
       "      <td>7806397051</td>\n",
       "      <td>An extensive range of 15 multiple vibrant long...</td>\n",
       "      <td>WAWO 15 Color Professionl Makeup Eyeshadow Cam...</td>\n",
       "      <td>http://ecx.images-amazon.com/images/I/41Rn18Oe...</td>\n",
       "      <td>{'Beauty': 10486}</td>\n",
       "      <td>[[Beauty, Makeup, Face, Concealers &amp; Neutraliz...</td>\n",
       "      <td>5.04</td>\n",
       "      <td>{'also_bought': ['B00KR26VFE', 'B00E7LQHZ0', '...</td>\n",
       "      <td>COKA</td>\n",
       "      <td>Description: An extensive range of 15 multiple...</td>\n",
       "      <td>[tensor(-0.0002), tensor(0.0026), tensor(0.008...</td>\n",
       "    </tr>\n",
       "    <tr>\n",
       "      <th>179</th>\n",
       "      <td>9759091062</td>\n",
       "      <td>Xtreme Brite  Brightening gel is a highly conc...</td>\n",
       "      <td>Xtreme Brite Brightening Gel 1oz.</td>\n",
       "      <td>http://ecx.images-amazon.com/images/I/41QWW9v1...</td>\n",
       "      <td>{'Beauty': 52254}</td>\n",
       "      <td>[[Beauty, Hair Care, Styling Products, Creams,...</td>\n",
       "      <td>19.99</td>\n",
       "      <td>{'also_bought': ['B0054GLD1U', 'B003BRZCUC', '...</td>\n",
       "      <td>Xtreme Brite</td>\n",
       "      <td>Description: Xtreme Brite  Brightening gel is ...</td>\n",
       "      <td>[tensor(0.0054), tensor(0.0238), tensor(-0.015...</td>\n",
       "    </tr>\n",
       "    <tr>\n",
       "      <th>192</th>\n",
       "      <td>9788072216</td>\n",
       "      <td>Prada Candy By Prada Eau De Parfum Spray 1.7 O...</td>\n",
       "      <td>Prada Candy By Prada Eau De Parfum Spray 1.7 O...</td>\n",
       "      <td>http://ecx.images-amazon.com/images/I/51iT2k6L...</td>\n",
       "      <td>{'Beauty': 78916}</td>\n",
       "      <td>[[Beauty, Fragrance, Women's, Eau de Parfum]]</td>\n",
       "      <td>65.86</td>\n",
       "      <td>{'also_bought': ['B006C5OHSI', 'B006P14842', '...</td>\n",
       "      <td>Prada</td>\n",
       "      <td>Description: Prada Candy By Prada Eau De Parfu...</td>\n",
       "      <td>[tensor(-0.0383), tensor(0.0212), tensor(-0.01...</td>\n",
       "    </tr>\n",
       "    <tr>\n",
       "      <th>555</th>\n",
       "      <td>9790790961</td>\n",
       "      <td>Versace Bright Crystal Perfume for Women 3 oz ...</td>\n",
       "      <td>Versace Bright Crystal Eau de Toilette Spray f...</td>\n",
       "      <td>http://ecx.images-amazon.com/images/I/418LYGLE...</td>\n",
       "      <td>{'Beauty': 764}</td>\n",
       "      <td>[[Beauty, Fragrance, Women's, Eau de Toilette]]</td>\n",
       "      <td>52.33</td>\n",
       "      <td>{'also_bought': ['B007P7OPQQ', 'B0017JT658', '...</td>\n",
       "      <td>Versace</td>\n",
       "      <td>Description: Versace Bright Crystal Perfume fo...</td>\n",
       "      <td>[tensor(0.0284), tensor(0.0173), tensor(0.0334...</td>\n",
       "    </tr>\n",
       "    <tr>\n",
       "      <th>587</th>\n",
       "      <td>9790794231</td>\n",
       "      <td>STELLA For Women By STELLA MCCARTNEY 1.7 oz ED...</td>\n",
       "      <td>Stella McCartney Stella</td>\n",
       "      <td>http://ecx.images-amazon.com/images/I/31L2n60J...</td>\n",
       "      <td>{'Beauty': 142503}</td>\n",
       "      <td>[[Beauty, Fragrance, Women's, Eau de Parfum]]</td>\n",
       "      <td>NaN</td>\n",
       "      <td>{'also_bought': ['B0019M21OQ', 'B000E7YM8K', '...</td>\n",
       "      <td>NaN</td>\n",
       "      <td>Description: STELLA For Women By STELLA MCCART...</td>\n",
       "      <td>[tensor(0.0138), tensor(0.0021), tensor(0.0366...</td>\n",
       "    </tr>\n",
       "  </tbody>\n",
       "</table>\n",
       "</div>"
      ],
      "text/plain": [
       "           asin                                        description  \\\n",
       "115  7806397051  An extensive range of 15 multiple vibrant long...   \n",
       "179  9759091062  Xtreme Brite  Brightening gel is a highly conc...   \n",
       "192  9788072216  Prada Candy By Prada Eau De Parfum Spray 1.7 O...   \n",
       "555  9790790961  Versace Bright Crystal Perfume for Women 3 oz ...   \n",
       "587  9790794231  STELLA For Women By STELLA MCCARTNEY 1.7 oz ED...   \n",
       "\n",
       "                                                 title  \\\n",
       "115  WAWO 15 Color Professionl Makeup Eyeshadow Cam...   \n",
       "179                  Xtreme Brite Brightening Gel 1oz.   \n",
       "192  Prada Candy By Prada Eau De Parfum Spray 1.7 O...   \n",
       "555  Versace Bright Crystal Eau de Toilette Spray f...   \n",
       "587                            Stella McCartney Stella   \n",
       "\n",
       "                                                 imUrl           salesRank  \\\n",
       "115  http://ecx.images-amazon.com/images/I/41Rn18Oe...   {'Beauty': 10486}   \n",
       "179  http://ecx.images-amazon.com/images/I/41QWW9v1...   {'Beauty': 52254}   \n",
       "192  http://ecx.images-amazon.com/images/I/51iT2k6L...   {'Beauty': 78916}   \n",
       "555  http://ecx.images-amazon.com/images/I/418LYGLE...     {'Beauty': 764}   \n",
       "587  http://ecx.images-amazon.com/images/I/31L2n60J...  {'Beauty': 142503}   \n",
       "\n",
       "                                            categories  price  \\\n",
       "115  [[Beauty, Makeup, Face, Concealers & Neutraliz...   5.04   \n",
       "179  [[Beauty, Hair Care, Styling Products, Creams,...  19.99   \n",
       "192      [[Beauty, Fragrance, Women's, Eau de Parfum]]  65.86   \n",
       "555    [[Beauty, Fragrance, Women's, Eau de Toilette]]  52.33   \n",
       "587      [[Beauty, Fragrance, Women's, Eau de Parfum]]    NaN   \n",
       "\n",
       "                                               related         brand  \\\n",
       "115  {'also_bought': ['B00KR26VFE', 'B00E7LQHZ0', '...          COKA   \n",
       "179  {'also_bought': ['B0054GLD1U', 'B003BRZCUC', '...  Xtreme Brite   \n",
       "192  {'also_bought': ['B006C5OHSI', 'B006P14842', '...         Prada   \n",
       "555  {'also_bought': ['B007P7OPQQ', 'B0017JT658', '...       Versace   \n",
       "587  {'also_bought': ['B0019M21OQ', 'B000E7YM8K', '...           NaN   \n",
       "\n",
       "                                         combined_text  \\\n",
       "115  Description: An extensive range of 15 multiple...   \n",
       "179  Description: Xtreme Brite  Brightening gel is ...   \n",
       "192  Description: Prada Candy By Prada Eau De Parfu...   \n",
       "555  Description: Versace Bright Crystal Perfume fo...   \n",
       "587  Description: STELLA For Women By STELLA MCCART...   \n",
       "\n",
       "                                            embeddings  \n",
       "115  [tensor(-0.0002), tensor(0.0026), tensor(0.008...  \n",
       "179  [tensor(0.0054), tensor(0.0238), tensor(-0.015...  \n",
       "192  [tensor(-0.0383), tensor(0.0212), tensor(-0.01...  \n",
       "555  [tensor(0.0284), tensor(0.0173), tensor(0.0334...  \n",
       "587  [tensor(0.0138), tensor(0.0021), tensor(0.0366...  "
      ]
     },
     "execution_count": 18,
     "metadata": {},
     "output_type": "execute_result"
    }
   ],
   "source": [
    "df.head()"
   ]
  },
  {
   "cell_type": "code",
   "execution_count": 19,
   "metadata": {},
   "outputs": [],
   "source": [
    "embs = torch.stack(df[\"embeddings\"].tolist())"
   ]
  },
  {
   "cell_type": "code",
   "execution_count": 23,
   "metadata": {},
   "outputs": [
    {
     "data": {
      "text/plain": [
       "torch.Size([12101, 512])"
      ]
     },
     "execution_count": 23,
     "metadata": {},
     "output_type": "execute_result"
    }
   ],
   "source": [
    "embs.shape"
   ]
  },
  {
   "cell_type": "code",
   "execution_count": 24,
   "metadata": {},
   "outputs": [
    {
     "data": {
      "text/plain": [
       "{'loss': tensor(0.0125, device='cuda:0', grad_fn=<MeanBackward0>),\n",
       " 'recon_loss': tensor(0.0051, device='cuda:0'),\n",
       " 'rqvae_loss': tensor(0.0074, device='cuda:0'),\n",
       " 'unique/0': 31,\n",
       " 'unique/1': 79,\n",
       " 'unique/2': 46,\n",
       " 'unique/3': 102}"
      ]
     },
     "execution_count": 24,
     "metadata": {},
     "output_type": "execute_result"
    }
   ],
   "source": [
    "import random\n",
    "\n",
    "from rqvae import RQVAE\n",
    "\n",
    "\n",
    "rqvae = RQVAE(\n",
    "    input_dim=embs.shape[1],\n",
    "    hidden_dim=128,\n",
    "    beta=0.25,\n",
    "    codebook_sizes=[256] * 4,\n",
    "    should_init_codebooks=False,\n",
    "    should_reinit_unused_clusters=False,\n",
    ").to(device)\n",
    "\n",
    "\n",
    "embs = {\"embedding\": embs.to(device)}\n",
    "\n",
    "rqvae.forward(embs)"
   ]
  },
  {
   "cell_type": "code",
   "execution_count": 29,
   "metadata": {},
   "outputs": [],
   "source": [
    "def get_cb_tuples(embeddings):\n",
    "    ind_lists = []\n",
    "    for cb in rqvae.codebooks:\n",
    "        dist = torch.cdist(rqvae.encoder(embeddings), cb)\n",
    "        ind_lists.append(dist.argmin(dim=-1).cpu().numpy())\n",
    "\n",
    "    return zip(*ind_lists)\n",
    "\n",
    "\n",
    "def search_similar_items(items_with_tuples, clust2search):\n",
    "    random.shuffle(items_with_tuples)\n",
    "    cnt = 0\n",
    "    similars = []\n",
    "    for item, clust_tuple in items_with_tuples:\n",
    "        if clust_tuple[: len(clust2search)] == clust2search:\n",
    "            similars.append((item, clust_tuple))\n",
    "            cnt += 1\n",
    "        if cnt >= 5:\n",
    "            return similars\n",
    "    return similars"
   ]
  },
  {
   "cell_type": "code",
   "execution_count": 30,
   "metadata": {},
   "outputs": [],
   "source": [
    "cb_tuples = get_cb_tuples(embs[\"embedding\"])\n",
    "items_with_tuples = list(zip(df[\"title\"], cb_tuples))"
   ]
  },
  {
   "cell_type": "code",
   "execution_count": null,
   "metadata": {},
   "outputs": [
    {
     "name": "stdout",
     "output_type": "stream",
     "text": [
      "104\n",
      "item='Vasanti Cosmetics Brighten Up! Enzymatic Face Rejuvenator with Microderm Exfoliating Crystals - Treats Dull, Uneven Skintone' clust_tuple=(104, 249, 227, 132)\n",
      "item='TEI SPA Oxyderm High Frequency Ozone Facial Tool' clust_tuple=(104, 249, 227, 136)\n",
      "item='Jan Marini Benzoyl Peroxide 2.5%-8 oz' clust_tuple=(104, 142, 227, 132)\n",
      "111\n",
      "item='Babyliss Pro BABNT5548 2000 Watt Ionic Nano Titanium with Integrated Ion Generator Hair Dryer' clust_tuple=(111, 132, 227, 136)\n",
      "112\n",
      "item='10 Pcs Wearable Nail Soaker Acrylic Polish Remover Tool' clust_tuple=(112, 249, 227, 215)\n",
      "item='IBD Just Gel JUPITER BLUE Soak Off Blue Green Nail Polish UV Manicure .5oz Salon' clust_tuple=(112, 249, 227, 136)\n",
      "item='Ladies Beauty Box 6 Wheels Combo Set Nail Art Nailart Manicure Rhinestones Glitter Tips Deco + 2x Dotting Pen + Glue' clust_tuple=(112, 58, 227, 215)\n",
      "item='Nail Soakers - 10pcs' clust_tuple=(112, 249, 227, 136)\n",
      "item='IBD Just Gel GERBER DAISY Soak Off Pink Nail Polish UV Manicure Pedi .5 oz Salon' clust_tuple=(112, 249, 227, 136)\n",
      "115\n",
      "item='Nail Station' clust_tuple=(115, 249, 227, 136)\n",
      "item=\"L'Oreal Paris EverStrong Thickening Shampoo, 8.5 Fluid Ounce\" clust_tuple=(115, 58, 227, 161)\n"
     ]
    }
   ],
   "source": [
    "for i in range(100, 120):\n",
    "    sim = search_similar_items(items_with_tuples, (i,))\n",
    "    if len(sim) == 0:\n",
    "        continue\n",
    "    print(i)\n",
    "    for item, clust_tuple in sim:\n",
    "        print(f\"{item=} {clust_tuple=}\")\n",
    "        \n",
    "# TODO fix collisisons (remainder = last embedding, auto-increment 4th id)"
   ]
  },
  {
   "cell_type": "code",
   "execution_count": null,
   "metadata": {},
   "outputs": [],
   "source": [
    "# 1 2 3 0\n",
    "# 1 2 3 1\n",
    "# 4 5 6 0/2\n",
    "# 4 5 6 1/3\n",
    "\n",
    "# Research last index aggregation\n",
    "\n",
    "# 1) last index = KMeans(last residuals, n=|last codebook|) - collision\n",
    "# 2) auto increment last index (check paper)\n",
    "# 3) decoder\n",
    "# 4) [(1 2 3), (1 2 3)] single item -> ok\n",
    "# 4.1) several -> get embeddings -> score. softmax(collisions), torch.logsoftmax(logits) -> score -> argmax"
   ]
  },
  {
   "cell_type": "code",
   "execution_count": null,
   "metadata": {},
   "outputs": [],
   "source": [
    "# pos emb for item & codebook (000 111 222) - item\n",
    "# codebook (012 012 012)\n",
    "# splitting item ?"
   ]
  },
  {
   "cell_type": "code",
   "execution_count": 50,
   "metadata": {},
   "outputs": [],
   "source": [
    "torch.save(df, \"../data/df_with_embs.pt\")"
   ]
  },
  {
   "cell_type": "code",
   "execution_count": 47,
   "metadata": {},
   "outputs": [
    {
     "name": "stdout",
     "output_type": "stream",
     "text": [
      "total 361M\n",
      "-rw-r--r-- 1 peter peter  53M дек 15 16:23 df_with_embs.pt\n",
      "-rw-r--r-- 1 peter peter 154K дек 12 23:55 item_mapping.pkl\n",
      "-rw-r--r-- 1 peter peter  95M дек 11 22:19 meta_Beauty.json.gz\n",
      "-rw-r--r-- 1 peter peter  79M дек 12 23:37 ratings_Beauty.csv\n",
      "-rw-r--r-- 1 peter peter 135M дек 15 15:33 reviews_Beauty_5.json\n"
     ]
    },
    {
     "name": "stderr",
     "output_type": "stream",
     "text": [
      "huggingface/tokenizers: The current process just got forked, after parallelism has already been used. Disabling parallelism to avoid deadlocks...\n",
      "To disable this warning, you can either:\n",
      "\t- Avoid using `tokenizers` before the fork if possible\n",
      "\t- Explicitly set the environment variable TOKENIZERS_PARALLELISM=(true | false)\n"
     ]
    }
   ],
   "source": [
    "!ls -lh ../data"
   ]
  },
  {
   "cell_type": "code",
   "execution_count": null,
   "metadata": {},
   "outputs": [],
   "source": []
  }
 ],
 "metadata": {
  "kernelspec": {
   "display_name": ".venv",
   "language": "python",
   "name": "python3"
  },
  "language_info": {
   "codemirror_mode": {
    "name": "ipython",
    "version": 3
   },
   "file_extension": ".py",
   "mimetype": "text/x-python",
   "name": "python",
   "nbconvert_exporter": "python",
   "pygments_lexer": "ipython3",
   "version": "3.10.14"
  }
 },
 "nbformat": 4,
 "nbformat_minor": 2
}
