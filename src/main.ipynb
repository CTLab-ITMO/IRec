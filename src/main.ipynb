{
 "cells": [
  {
   "cell_type": "code",
   "execution_count": 1,
   "metadata": {},
   "outputs": [
    {
     "name": "stderr",
     "output_type": "stream",
     "text": [
      "/home/peter/university/diploma/GSRec/src/rqvae_data.py:77: FutureWarning: You are using `torch.load` with `weights_only=False` (the current default value), which uses the default pickle module implicitly. It is possible to construct malicious pickle data which will execute arbitrary code during unpickling (See https://github.com/pytorch/pytorch/blob/main/SECURITY.md#untrusted-models for more details). In a future release, the default value for `weights_only` will be flipped to `True`. This limits the functions that could be executed during unpickling. Arbitrary objects will no longer be allowed to be loaded via this mode unless they are explicitly allowlisted by the user via `torch.serialization.add_safe_globals`. We recommend you start setting `weights_only=True` for any use case where you don't have full control of the loaded file. Please open an issue on GitHub for any issues related to this experimental feature.\n",
      "  df = torch.load(\"../data/df_with_embs.pt\")\n"
     ]
    }
   ],
   "source": [
    "import torch\n",
    "\n",
    "from rqvae_data import get_data\n",
    "\n",
    "df = get_data()"
   ]
  },
  {
   "cell_type": "code",
   "execution_count": 2,
   "metadata": {},
   "outputs": [],
   "source": [
    "embs = torch.stack(df[\"embeddings\"].tolist())"
   ]
  },
  {
   "cell_type": "code",
   "execution_count": 3,
   "metadata": {},
   "outputs": [
    {
     "data": {
      "text/plain": [
       "torch.Size([12101, 512])"
      ]
     },
     "execution_count": 3,
     "metadata": {},
     "output_type": "execute_result"
    }
   ],
   "source": [
    "embs.shape"
   ]
  },
  {
   "cell_type": "code",
   "execution_count": 4,
   "metadata": {},
   "outputs": [
    {
     "name": "stderr",
     "output_type": "stream",
     "text": [
      "100%|██████████| 4/4 [00:08<00:00,  2.07s/it]\n"
     ]
    },
    {
     "data": {
      "text/plain": [
       "{'loss': tensor(0.0057, device='cuda:0', grad_fn=<MeanBackward0>),\n",
       " 'recon_loss': tensor(0.0052, device='cuda:0'),\n",
       " 'rqvae_loss': tensor(0.0005, device='cuda:0'),\n",
       " 'unique/0': 256,\n",
       " 'unique/1': 256,\n",
       " 'unique/2': 256,\n",
       " 'unique/3': 256}"
      ]
     },
     "execution_count": 4,
     "metadata": {},
     "output_type": "execute_result"
    }
   ],
   "source": [
    "import random\n",
    "\n",
    "from rqvae import RQVAE\n",
    "\n",
    "device = torch.device(\"cuda\" if torch.cuda.is_available() else \"cpu\")\n",
    "\n",
    "\n",
    "rqvae = RQVAE(\n",
    "    input_dim=embs.shape[1],\n",
    "    hidden_dim=128,\n",
    "    beta=0.25,\n",
    "    codebook_sizes=[256] * 4,\n",
    "    should_init_codebooks=True,\n",
    "    should_reinit_unused_clusters=False,\n",
    ").to(device)\n",
    "\n",
    "\n",
    "embs_dict = {\"embedding\": embs.to(device)}\n",
    "\n",
    "rqvae.forward(embs_dict)"
   ]
  },
  {
   "cell_type": "code",
   "execution_count": 5,
   "metadata": {},
   "outputs": [],
   "source": [
    "def get_cb_tuples(embeddings):\n",
    "    ind_lists = []\n",
    "    for cb in rqvae.codebooks:\n",
    "        dist = torch.cdist(rqvae.encoder(embeddings), cb)\n",
    "        ind_lists.append(dist.argmin(dim=-1).cpu().numpy())\n",
    "\n",
    "    return zip(*ind_lists)\n",
    "\n",
    "\n",
    "def search_similar_items(items_with_tuples, clust2search, max_cnt=5):\n",
    "    random.shuffle(items_with_tuples)\n",
    "    cnt = 0\n",
    "    similars = []\n",
    "    for item, clust_tuple in items_with_tuples:\n",
    "        if clust_tuple[: len(clust2search)] == clust2search:\n",
    "            similars.append((item, clust_tuple))\n",
    "            cnt += 1\n",
    "        if cnt >= max_cnt:\n",
    "            return similars\n",
    "    return similars"
   ]
  },
  {
   "cell_type": "code",
   "execution_count": 6,
   "metadata": {},
   "outputs": [],
   "source": [
    "cb_tuples = get_cb_tuples(embs_dict[\"embedding\"])\n",
    "items_with_tuples = list(zip(df[\"title\"], cb_tuples))"
   ]
  },
  {
   "cell_type": "code",
   "execution_count": 10,
   "metadata": {},
   "outputs": [
    {
     "name": "stdout",
     "output_type": "stream",
     "text": [
      "220\n",
      "item='Fairy Dust by Paris Hilton for Women - 3.4 Ounce EDP Spray' clust_tuple=(220, 212, 67, 88)\n",
      "item='D &amp; G Light Blue By Dolce &amp; Gabbana For Men Eau De Toilette Spray, 4.2-Ounces' clust_tuple=(220, 212, 25, 49)\n",
      "item='Halle Pure Orchid by Halle Berry Eau De Parfum Spray for Women, 1 Ounce' clust_tuple=(220, 212, 25, 88)\n",
      "item='Armani Code By Giorgio Armani For Men. Eau De Toilette Spray 1.7 Ounces' clust_tuple=(220, 212, 25, 88)\n",
      "item='Taj Sunset by Escada for Women, Eau de Toilette Spray, 3.4 Ounce' clust_tuple=(220, 212, 25, 200)\n",
      "item='Tom Ford Black Orchid By Tom Ford For Women. Eau De Parfum Spray 3.4-Ounces' clust_tuple=(220, 212, 67, 88)\n",
      "item='Beyonce Heat Rush by Beyonce, 3.4 Ounce' clust_tuple=(220, 62, 67, 200)\n",
      "item='In Control Curious by Britney Spears for Women, Eau De Parfum Spray, 1.7 Ounce' clust_tuple=(220, 212, 25, 49)\n",
      "item='Lacoste Style In Play By Lacoste For Men. Eau De Toilette Spray 1.6 Ounces' clust_tuple=(220, 212, 25, 88)\n",
      "item='Very Irresistible Sensual By Givenchy For Women. Eau De Parfum Spray 1.7 Ounces' clust_tuple=(220, 212, 25, 88)\n",
      "221\n",
      "item='HD High-Definition Super Palettes (Super Palette- Warm)' clust_tuple=(221, 196, 121, 88)\n",
      "item='Coastal Scents Go Makeup Palette, Moscow, 0.28 Oz' clust_tuple=(221, 62, 121, 10)\n",
      "item='Coastal Scents Go Makeup Palette, Cairo, 0.28 Ounce' clust_tuple=(221, 196, 121, 10)\n",
      "item='Coastal Scents Go Makeup Palette, London, 0.28 Oz' clust_tuple=(221, 196, 8, 10)\n",
      "item='TEMPTU AIRbrush Makeup System 2.0 and Signature Starter Kit, Fair' clust_tuple=(221, 214, 195, 10)\n",
      "item='Urban Decay Deluxe Shadow Box' clust_tuple=(221, 214, 121, 10)\n",
      "item='Coastal Scents 88  Palette, Ultra Shimmer' clust_tuple=(221, 209, 195, 208)\n",
      "item='Coastal Scents Go Makeup Palette, Sydney, 0.28 Ounce' clust_tuple=(221, 196, 121, 10)\n",
      "item='NICKA K LIPSTICK WITH VITAMIN E MOODY BLACK #992' clust_tuple=(221, 196, 205, 163)\n",
      "item='SHANY Glamour Girl Makeup Kit - 48 Eyeshadow / 4 Blush /2 Powder' clust_tuple=(221, 196, 121, 163)\n",
      "222\n",
      "item='Maybelline New York Instant Age Rewind Eraser Treatment Makeup, Medium Beige 300, 0.68 Fluid Ounce' clust_tuple=(222, 114, 196, 88)\n",
      "item='Garnier  Ultra-Lift 2-in-1 Wrinkle Reducer Serum and Moisturizer for Wrinkles and Firming, 1.7 Fluid Ounce' clust_tuple=(222, 214, 25, 88)\n",
      "item='Hydrating with Peptides - A Renewal Complex - 1oz/30ml - A Professionally Formulated Combination of Unique Patented Peptides ArgirelineTM, Matrixyl&reg; 3000, and Syn&reg;-coll, Synergistically Work to Reduce Fine Lines and Wrinkles' clust_tuple=(222, 214, 25, 88)\n",
      "item='Prevage MD Anti-Aging Treatment 30ml 1 Fluid Ounce' clust_tuple=(222, 196, 25, 88)\n",
      "item=\"L'Oreal Paris Visible Lift Serum Absolute Advanced Age-Reversing Makeup, Nude Beige, 1.0 Ounces\" clust_tuple=(222, 196, 25, 88)\n",
      "item='Keys Solar Rx Broad Spectrum SPF 30 Sunblock 3.4oz lotion by Keys Care' clust_tuple=(222, 112, 196, 88)\n",
      "item='Eclos Restorative Eye Cream, 0.5-Ounce' clust_tuple=(222, 62, 25, 88)\n",
      "item='New Mary Kay TimeWise Repair Volu-Firm 5 Product Set Adv Skin Care Full Size (Large)' clust_tuple=(222, 62, 25, 88)\n",
      "item='LifeCell All In One Anti-Aging Treatment 2.54 oz' clust_tuple=(222, 62, 8, 88)\n",
      "item='Bare Escentuals Active Cell Renewal Night Serum 1oz./30ml' clust_tuple=(222, 7, 25, 88)\n",
      "223\n",
      "item=\"OPI Euro Centrale Collection 2013, You're Such A Budapest\" clust_tuple=(223, 116, 110, 163)\n",
      "item='Opi San Francisco Collection Fall &amp; Winter 2013 Dinng Al Frisco' clust_tuple=(223, 116, 110, 49)\n",
      "item='OPI The Amazing New Spider-Man Collection, My Boyfriend Scales Walls' clust_tuple=(223, 116, 110, 208)\n",
      "item='Gelish - The Shadows Collection - The Perfect Silhouette # 01460' clust_tuple=(223, 116, 25, 208)\n",
      "item='Gelish Holiday Collection - Just What I Wanted #01551 - 0.5oz' clust_tuple=(223, 116, 25, 208)\n",
      "item='OPI Sheer Tints, Sheer Mini Hint of Tints' clust_tuple=(223, 110, 110, 208)\n",
      "item='Cover Girl Invisible Cream Concealer, Tawny 185 -1 Ea' clust_tuple=(223, 116, 25, 208)\n",
      "item='China Glaze Velvet Bow 1017/80517' clust_tuple=(223, 116, 25, 208)\n",
      "item='Revlon Luxurious Color Satin Eye Shadow, Nude Slip, 0.08 Ounce' clust_tuple=(223, 116, 25, 208)\n",
      "item=\"Harmony Gelish I'm Brighter Than You - #01559\" clust_tuple=(223, 110, 25, 49)\n",
      "224\n",
      "item='Paris Hilton Tease Women Eau De Parfum Spray, 1 Ounce' clust_tuple=(224, 214, 224, 163)\n",
      "item='Pure Dkny Eau De Parfum Spray by Donna Karan, 3.4 Ounce' clust_tuple=(224, 110, 8, 163)\n",
      "item='MARC JACOBS DAISY by Marc Jacobs EDT SPRAY 3.4 OZ' clust_tuple=(224, 214, 110, 10)\n",
      "item='Fresh Eau de Parfum, Sugar Lemon, 1 oz' clust_tuple=(224, 110, 110, 163)\n",
      "item='Calvin Klein One Shock for Him Men Eau De Toilette Spray, 3.4 Ounce' clust_tuple=(224, 110, 229, 163)\n",
      "item='DKNY BE DELICIOUS by Donna Karan Womens EAU DE PARFUM SPRAY 1 OZ' clust_tuple=(224, 110, 8, 163)\n",
      "item='Guess By Parlux Fragrances For Women. Eau De Parfum Spray 2.5 Oz' clust_tuple=(224, 62, 8, 163)\n",
      "item='Jimmy Choo Flash Eau de Parfum Spray for Women, 2 Ounce' clust_tuple=(224, 110, 25, 163)\n",
      "item='Diesel Fuel For Life by Diesel For Men. Eau De Toilette Spray 1.7-Ounces' clust_tuple=(224, 110, 8, 163)\n",
      "item='Millesime Imperial By Creed For Men. Millesime Spray 4.0-Ounce Bottle' clust_tuple=(224, 110, 8, 163)\n",
      "225\n",
      "item='TIGI Bed Head Manipulator Styling Cream 2.0 oz.' clust_tuple=(225, 110, 110, 208)\n",
      "item='DEVA CURL Flexible Hold Hair Spray 10oz' clust_tuple=(225, 224, 8, 200)\n",
      "item=\"Givenchy Phenomen'Eyes Mascara 1 Phenomen'Black 0.24 oz\" clust_tuple=(225, 214, 110, 208)\n",
      "item='Macadamia Natural Oil Oil Infused Brush Set' clust_tuple=(225, 196, 25, 208)\n",
      "item='Neutrogena Clean Replenishing Conditioner, 10.1 Ounce' clust_tuple=(225, 110, 25, 10)\n",
      "item='Pump for 16 oz. Jar' clust_tuple=(225, 110, 110, 215)\n",
      "item='China Glaze: Pink Voltage, 0.5 oz' clust_tuple=(225, 110, 151, 49)\n",
      "item='S-Curl Activator and Moisturizer 32 oz' clust_tuple=(225, 110, 252, 200)\n",
      "item='Jan Marini Antioxidant Daily Face Protectant SPF 30, Tinted, 2 oz' clust_tuple=(225, 110, 25, 188)\n",
      "item='Olay Regenerist Micro Sculpting Cream - 1.7 oz' clust_tuple=(225, 110, 25, 163)\n",
      "226\n",
      "item='SODIAL(TM) Stainless Steel Extension Eyelash Applicator Tool Fish Tail Clip' clust_tuple=(226, 155, 67, 200)\n",
      "item='E.l.f. Eyelash Curler' clust_tuple=(226, 209, 252, 88)\n",
      "item='Red Cherry #138 False Eyelashes (Pack of 6 Pairs)' clust_tuple=(226, 226, 195, 200)\n",
      "item='Ardell Fashion Lashes Pair - 113 (Pack of 4)' clust_tuple=(226, 155, 25, 208)\n",
      "item='Makeup Geek - Pointed Crease Brush' clust_tuple=(226, 212, 252, 239)\n",
      "item='10 Pairs of Reusable Thick False Eyelashes' clust_tuple=(226, 209, 252, 208)\n",
      "item='Ardell Fashion Lashes Pair - 105 (Pack of 4)' clust_tuple=(226, 155, 25, 208)\n",
      "item=\"Winstonia's 50 Pairs False Eyelashes Fake Lashes Bundle Set w/ Adhesive - Natural, Thick, Criss-Cross Designs for Day &amp; Night\" clust_tuple=(226, 155, 25, 200)\n",
      "item='Ardell Fashion Lashes - 120 Black Demi' clust_tuple=(226, 155, 25, 208)\n",
      "item='10 Pairs of Long Black False Eyelashes Eye Lashes Makeup, Professional, Thin and Wispy' clust_tuple=(226, 209, 252, 200)\n",
      "227\n",
      "item='Joico K-Pak Intense Hydrator Treatment, 8.5 Ounce' clust_tuple=(227, 227, 25, 88)\n",
      "item='Elasta Qp Soy Oyl UltraHydration Deep Conditioner, 32 oz' clust_tuple=(227, 4, 25, 163)\n",
      "item='Biolage by Matrix Ultra-Hydrating Conditioning Balm 16.9 Ounces' clust_tuple=(227, 110, 25, 215)\n",
      "item='Beautiful Collection Semi-Permanent Haircolor 175W Wine Brown' clust_tuple=(227, 62, 25, 200)\n",
      "item='DIANE Imported Pure Bristle Professional Military Hair Brush (Model: 8114)' clust_tuple=(227, 110, 25, 255)\n",
      "item='Kerastase Nutritive Bain Oleo-Relax Smoothing Shampoo For Dry and Rebellious Hair, 8.5 Ounce' clust_tuple=(227, 4, 25, 255)\n",
      "item='Color Brilliance Permanent Creme Hair Color' clust_tuple=(227, 110, 8, 255)\n",
      "item='Herbal Essesnces None of Your Frizzness Smoothing Conditioner By Clairol, 10.1 Ounce' clust_tuple=(227, 155, 25, 208)\n",
      "item='Seche Vite Top Coat Professional Kit Size 4 oz' clust_tuple=(227, 110, 25, 200)\n",
      "item='Doo Gro Stimulating Growth Oil' clust_tuple=(227, 110, 25, 163)\n",
      "228\n",
      "item='Clinique Even Better Eyes Dark Circle Corrector for Unisex, All Skin Types, 0.34 Ounce' clust_tuple=(228, 110, 25, 208)\n",
      "item='Premier Dead Sea Eye Care Set(eye Serum + Eye Cream)' clust_tuple=(228, 20, 67, 77)\n",
      "item='Avon Anew Genics Eye Treatment 0.5 oz' clust_tuple=(228, 110, 25, 239)\n",
      "item='Image Skin Care Ageless Total Skin Bleaching Serum 1 oz' clust_tuple=(228, 110, 8, 239)\n",
      "item=\"L'Oreal Infallible Eyeshadow, Gold Imperial 407\" clust_tuple=(228, 110, 8, 163)\n",
      "item='vbeaut&eacute; Eye Never Nourishing DNA Repair Eye Cr&egrave;me, 0.5 Ounce' clust_tuple=(228, 203, 203, 239)\n",
      "item='Loreal Limited Edition Infallible Eyeshadow - 607 Blinged &amp; Brilliant' clust_tuple=(228, 110, 8, 208)\n",
      "item='Mary Kay&reg; Ultimate MascaraTM: Black, 0.28 oz' clust_tuple=(228, 110, 8, 163)\n",
      "item='Embryolisse Lait Cr&egrave;me Concentr&eacute; 75 Ml(concentrated Creamy Lotion) 75 Ml' clust_tuple=(228, 110, 203, 239)\n",
      "item=\"Skin Genesis Daily Eye Treatment Eye Serum Women Treatment by L'Oreal, 0.5 Ounce\" clust_tuple=(228, 110, 8, 208)\n",
      "229\n",
      "item='Debra Lynn Professional Plastic Cuticle Pusher' clust_tuple=(229, 110, 25, 239)\n",
      "item='1800pcs Nail Art Rhinestones Round 1.5mm' clust_tuple=(229, 116, 110, 8)\n",
      "item='OPI Nail Lacquer - Russian Navy Suede - 0.5 oz' clust_tuple=(229, 116, 25, 88)\n",
      "item='gelish a petal for your thoughts 463 2013' clust_tuple=(229, 116, 110, 255)\n",
      "item='144pcs Fimo Slice Lovely Animal Nail Art Decoration' clust_tuple=(229, 116, 194, 163)\n",
      "item='Kleancolor Neon Night Life mini collection' clust_tuple=(229, 116, 25, 239)\n",
      "item='Seche Nail Lacquer Lumiere' clust_tuple=(229, 116, 194, 255)\n",
      "item='OPI RapiDry Spray Nail Polish Dryer' clust_tuple=(229, 110, 25, 255)\n",
      "item='Essie Nail Color trophy wife 774' clust_tuple=(229, 116, 25, 239)\n",
      "item='Orly Nail Bonder Nail Treatment-0.6 oz' clust_tuple=(229, 116, 229, 255)\n"
     ]
    }
   ],
   "source": [
    "for i in range(220, 230):\n",
    "    sim = search_similar_items(items_with_tuples, (i,), 10)\n",
    "    if len(sim) == 0:\n",
    "        continue\n",
    "    print(i)\n",
    "    for item, clust_tuple in sim:\n",
    "        print(f\"{item=} {clust_tuple=}\")\n",
    "\n",
    "# TODO fix collisisons (remainder = last embedding, auto-increment 4th id)"
   ]
  },
  {
   "cell_type": "code",
   "execution_count": null,
   "metadata": {},
   "outputs": [],
   "source": [
    "# 1 2 3 0\n",
    "# 1 2 3 1\n",
    "# 4 5 6 0/2\n",
    "# 4 5 6 1/3\n",
    "\n",
    "# Research last index aggregation\n",
    "\n",
    "# 1) last index = KMeans(last residuals, n=|last codebook|) - collision\n",
    "# 2) auto increment last index (check paper)\n",
    "# 3) decoder\n",
    "# 4) [(1 2 3), (1 2 3)] single item -> ok\n",
    "# 4.1) several -> get embeddings -> score. softmax(collisions), torch.logsoftmax(logits) -> score -> argmax"
   ]
  },
  {
   "cell_type": "code",
   "execution_count": null,
   "metadata": {},
   "outputs": [],
   "source": [
    "# pos emb for item & codebook (000 111 222) - item\n",
    "# codebook (012 012 012)\n",
    "# splitting item ?"
   ]
  },
  {
   "cell_type": "code",
   "execution_count": 50,
   "metadata": {},
   "outputs": [],
   "source": [
    "torch.save(df, \"../data/df_with_embs.pt\")"
   ]
  },
  {
   "cell_type": "code",
   "execution_count": null,
   "metadata": {},
   "outputs": [],
   "source": [
    "!ls -lh ../data"
   ]
  },
  {
   "cell_type": "code",
   "execution_count": null,
   "metadata": {},
   "outputs": [],
   "source": []
  }
 ],
 "metadata": {
  "kernelspec": {
   "display_name": ".venv",
   "language": "python",
   "name": "python3"
  },
  "language_info": {
   "codemirror_mode": {
    "name": "ipython",
    "version": 3
   },
   "file_extension": ".py",
   "mimetype": "text/x-python",
   "name": "python",
   "nbconvert_exporter": "python",
   "pygments_lexer": "ipython3",
   "version": "3.12.7"
  }
 },
 "nbformat": 4,
 "nbformat_minor": 2
}
