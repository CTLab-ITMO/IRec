{
 "cells": [
  {
   "cell_type": "code",
   "execution_count": 1,
   "metadata": {},
   "outputs": [],
   "source": [
    "import torch\n",
    "\n",
    "from rqvae_data import get_data\n",
    "\n",
    "df = get_data()"
   ]
  },
  {
   "cell_type": "code",
   "execution_count": 2,
   "metadata": {},
   "outputs": [],
   "source": [
    "embs = torch.stack(df[\"embeddings\"].tolist())"
   ]
  },
  {
   "cell_type": "code",
   "execution_count": 3,
   "metadata": {},
   "outputs": [
    {
     "name": "stderr",
     "output_type": "stream",
     "text": [
      "100%|██████████| 4/4 [00:05<00:00,  1.38s/it]\n"
     ]
    },
    {
     "data": {
      "text/plain": [
       "{'loss': tensor(0.0057, grad_fn=<MeanBackward0>),\n",
       " 'recon_loss': tensor(0.0052),\n",
       " 'rqvae_loss': tensor(0.0005),\n",
       " 'unique/0': 256,\n",
       " 'unique/1': 256,\n",
       " 'unique/2': 256,\n",
       " 'unique/3': 256}"
      ]
     },
     "execution_count": 3,
     "metadata": {},
     "output_type": "execute_result"
    }
   ],
   "source": [
    "from rqvae import RQVAE\n",
    "\n",
    "device = torch.device(\"cuda\" if torch.cuda.is_available() else \"cpu\")\n",
    "\n",
    "\n",
    "rqvae = RQVAE(\n",
    "    input_dim=embs.shape[1],\n",
    "    hidden_dim=128,\n",
    "    beta=0.25,\n",
    "    codebook_sizes=[256] * 4,\n",
    "    should_init_codebooks=True,\n",
    "    should_reinit_unused_clusters=False,\n",
    ").to(device)\n",
    "\n",
    "\n",
    "embs_dict = {\"embedding\": embs.to(device)}\n",
    "\n",
    "rqvae.forward(embs_dict)"
   ]
  },
  {
   "cell_type": "code",
   "execution_count": 4,
   "metadata": {},
   "outputs": [],
   "source": [
    "from collisions import dedup\n",
    "from rqvae_data import get_cb_tuples\n",
    "\n",
    "\n",
    "cb_tuples = list(get_cb_tuples(rqvae, embs_dict[\"embedding\"]))\n",
    "items_with_tuples = list(zip(df[\"asin\"], df[\"title\"].fillna(\"unknown\"), cb_tuples))\n",
    "items_with_tuples = dedup(items_with_tuples)"
   ]
  },
  {
   "cell_type": "code",
   "execution_count": 5,
   "metadata": {},
   "outputs": [
    {
     "name": "stdout",
     "output_type": "stream",
     "text": [
      "230\n",
      "item='Nicole by OPI Nail Lacquer, Make Mine Lime, 0.5 Fluid Ounce' clust_tuple=(230, 230, 151, 95, 0)\n",
      "231\n",
      "item='Bundle Monster 5 Nail Art Nailart Manicure Wheels w/ 3D Designs Glitters Rhinestones Beads - total over 7000pc' clust_tuple=(231, 62, 31, 169, 0)\n",
      "item='Bundle Monster 26pc Nail Art Image Manicure Stamping Plates-2013 CYO Collection' clust_tuple=(231, 62, 171, 126, 0)\n",
      "item='MASH Set of 25 Nail Art Nailart Polish Stamp Stamping Manicure Image Plates Accessories Set Kit' clust_tuple=(231, 62, 101, 169, 1)\n",
      "item='PUEEN 2013 Nail Art Stamp Collection Set 24E - LOVE ELEMENTS - NEW Unique Set of 24 Nailart Polish Stamping Manicure Image Plates Accessories Kit (Totaling 144 Images) with BONUS Storage Case' clust_tuple=(231, 60, 171, 95, 2)\n",
      "item='Bundle Monster Nail Art Nailart Polish Stamp Stamping Manicure Image Plates Accessories Set Kit 25pc' clust_tuple=(231, 62, 171, 169, 2)\n",
      "item='Konad Stamping Nail Art Set Care Ca' clust_tuple=(231, 62, 171, 95, 0)\n",
      "item='Nail Art Plates Bundle - 40 PACK , Nail Polish Stamping Manicure Plates, 40 Different Plates A total of over 400 designs' clust_tuple=(231, 62, 101, 95, 1)\n",
      "item='CICI&amp;SISI Nail Art Stamp Collection Set Jumbo 2 - Set of 6 JUMBO Nailart Polish Stamping Manicure Image Plates Accessories Kit (Totaling 216 Images) All New Designs with FREE STAMPER &amp; SCRAPER TOOLS SET PROMOTIONAL OFFER' clust_tuple=(231, 62, 171, 95, 7)\n",
      "item='NAIL ART IMAGE PLATES POLISH STAMP STAMPING MIXED DESIGNS SET KIT 25pc' clust_tuple=(231, 62, 171, 95, 3)\n",
      "232\n",
      "item='KLEANCOLOR Nail Lacquer - Chunky Holo Black 236' clust_tuple=(232, 66, 118, 59, 0)\n",
      "item='OPI Nail Lacquer, DS Reflection, 0.5-Fluid Ounce' clust_tuple=(232, 116, 151, 107, 0)\n",
      "item='Revlon Sheer Nail Enamel, Sheer Rose 011' clust_tuple=(232, 33, 171, 180, 0)\n",
      "item=\"OPI Nail Polish Nicki Minaj Collection - Did It On 'Em\" clust_tuple=(232, 62, 151, 95, 1)\n",
      "item='Opi Nail Polish Nicki Minaj Save Me Nl N17 .5 Oz' clust_tuple=(232, 62, 151, 95, 0)\n",
      "item='Sensationail Invincible Gel Polish 71587 Pink Chiffon' clust_tuple=(232, 116, 151, 198, 0)\n",
      "item='Nabi Nail Polish Purple Jumbo Glitter 161 - 15mL' clust_tuple=(232, 66, 151, 180, 0)\n",
      "item='Jade Is The New Black, NLH45, OPI, Hong Kong / Nail Polish / Lacquer / Enamel' clust_tuple=(232, 131, 171, 95, 0)\n",
      "233\n",
      "234\n",
      "item='Orly Nail Lacquer, Terracotta, 0.6 Fluid Ounce' clust_tuple=(234, 62, 151, 169, 0)\n",
      "item='LA Colors Nail Art Polish - 48 Colors! NEW!' clust_tuple=(234, 170, 171, 95, 0)\n",
      "item='Del Sol - Color Changing Nail Polish - Reckless' clust_tuple=(234, 60, 171, 95, 0)\n",
      "item='Kleancolor - Neon Brights - 6 Nail Lacquer Colors' clust_tuple=(234, 62, 151, 95, 0)\n",
      "item='Kleancolor - 6 Awesome Nail Lacquers - Set 14' clust_tuple=(234, 62, 151, 95, 1)\n",
      "235\n",
      "236\n",
      "237\n",
      "238\n",
      "239\n"
     ]
    }
   ],
   "source": [
    "from rqvae_data import search_similar_items\n",
    "\n",
    "\n",
    "for i in range(230, 240):\n",
    "    sim = search_similar_items(items_with_tuples, (i,), 10)\n",
    "    if len(sim) == 0:\n",
    "        continue\n",
    "    print(i)\n",
    "    for asin, item, clust_tuple in sim:\n",
    "        if 'nail' in item.lower():\n",
    "            print(f\"{item=} {clust_tuple=}\")"
   ]
  },
  {
   "cell_type": "code",
   "execution_count": 6,
   "metadata": {},
   "outputs": [
    {
     "data": {
      "image/png": "[encoded data removed]",
      "text/plain": [
       "<Figure size 640x480 with 1 Axes>"
      ]
     },
     "metadata": {},
     "output_type": "display_data"
    }
   ],
   "source": [
    "from collections import Counter\n",
    "import matplotlib.pyplot as plt\n",
    "\n",
    "\n",
    "plt.hist(Counter(item[-1][:-1] for item in items_with_tuples).values(), bins=100)\n",
    "plt.show()"
   ]
  },
  {
   "cell_type": "code",
   "execution_count": 7,
   "metadata": {},
   "outputs": [
    {
     "data": {
      "text/plain": [
       "12101"
      ]
     },
     "execution_count": 7,
     "metadata": {},
     "output_type": "execute_result"
    }
   ],
   "source": [
    "len(set(item[-1] for item in items_with_tuples))"
   ]
  },
  {
   "cell_type": "code",
   "execution_count": null,
   "metadata": {},
   "outputs": [],
   "source": []
  }
 ],
 "metadata": {
  "kernelspec": {
   "display_name": "gsrec",
   "language": "python",
   "name": "python3"
  },
  "language_info": {
   "codemirror_mode": {
    "name": "ipython",
    "version": 3
   },
   "file_extension": ".py",
   "mimetype": "text/x-python",
   "name": "python",
   "nbconvert_exporter": "python",
   "pygments_lexer": "ipython3",
   "version": "3.11.11"
  }
 },
 "nbformat": 4,
 "nbformat_minor": 2
}
