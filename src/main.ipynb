{
 "cells": [
  {
   "cell_type": "code",
   "execution_count": 1,
   "metadata": {},
   "outputs": [],
   "source": [
    "import torch\n",
    "\n",
    "from rqvae_data import get_data\n",
    "\n",
    "df = get_data()"
   ]
  },
  {
   "cell_type": "code",
   "execution_count": 2,
   "metadata": {},
   "outputs": [],
   "source": [
    "embs = torch.stack(df[\"embeddings\"].tolist())"
   ]
  },
  {
   "cell_type": "code",
   "execution_count": 3,
   "metadata": {},
   "outputs": [
    {
     "data": {
      "text/plain": [
       "torch.Size([12101, 512])"
      ]
     },
     "execution_count": 3,
     "metadata": {},
     "output_type": "execute_result"
    }
   ],
   "source": [
    "embs.shape"
   ]
  },
  {
   "cell_type": "code",
   "execution_count": 4,
   "metadata": {},
   "outputs": [
    {
     "name": "stderr",
     "output_type": "stream",
     "text": [
      "100%|██████████| 4/4 [00:07<00:00,  2.00s/it]\n"
     ]
    },
    {
     "data": {
      "text/plain": [
       "{'loss': tensor(0.0057, device='cuda:0', grad_fn=<MeanBackward0>),\n",
       " 'recon_loss': tensor(0.0052, device='cuda:0'),\n",
       " 'rqvae_loss': tensor(0.0005, device='cuda:0'),\n",
       " 'unique/0': 256,\n",
       " 'unique/1': 256,\n",
       " 'unique/2': 256,\n",
       " 'unique/3': 256}"
      ]
     },
     "execution_count": 4,
     "metadata": {},
     "output_type": "execute_result"
    }
   ],
   "source": [
    "from rqvae import RQVAE\n",
    "\n",
    "device = torch.device(\"cuda\" if torch.cuda.is_available() else \"cpu\")\n",
    "\n",
    "\n",
    "rqvae = RQVAE(\n",
    "    input_dim=embs.shape[1],\n",
    "    hidden_dim=128,\n",
    "    beta=0.25,\n",
    "    codebook_sizes=[256] * 4,\n",
    "    should_init_codebooks=True,\n",
    "    should_reinit_unused_clusters=False,\n",
    ").to(device)\n",
    "\n",
    "\n",
    "embs_dict = {\"embedding\": embs.to(device)}\n",
    "\n",
    "rqvae.forward(embs_dict)"
   ]
  },
  {
   "cell_type": "code",
   "execution_count": 5,
   "metadata": {},
   "outputs": [],
   "source": [
    "from rqvae_data import get_cb_tuples\n",
    "\n",
    "\n",
    "cb_tuples = get_cb_tuples(rqvae, embs_dict[\"embedding\"])\n",
    "items_with_tuples = list(zip(df[\"title\"].fillna(\"unknown\"), cb_tuples))"
   ]
  },
  {
   "cell_type": "code",
   "execution_count": 6,
   "metadata": {},
   "outputs": [
    {
     "name": "stdout",
     "output_type": "stream",
     "text": [
      "100\n",
      "item='Axe Anti-dandruff Styling Cream, 3.2 Ounce' clust_tuple=(100, 224, 126, 160)\n",
      "item='Enjoy Texture Cream, 8.8-Ounce (Packaging may Vary)' clust_tuple=(100, 199, 72, 78)\n",
      "item='Dove Hair Styling Oxygen Moisture Leave In Foam, 5.1 Ounce' clust_tuple=(100, 224, 126, 109)\n",
      "item='Suave Professionals Natural Infusion Seaweed and Lotus Blossom Leave-in Foam, 5 Ounce' clust_tuple=(100, 224, 126, 109)\n",
      "item='Motions Naturally You, Deep Conditioning Masque, 8 Ounce' clust_tuple=(100, 224, 126, 160)\n",
      "item='Axe Styling Spiked Up Look Gel, 6 Ounce' clust_tuple=(100, 224, 126, 160)\n",
      "item='Just For Me Texture Softener' clust_tuple=(100, 190, 126, 160)\n",
      "item='Axe Styling Messy Look Matte Gel, 6 Ounce' clust_tuple=(100, 199, 126, 160)\n",
      "item='Motions At Home Oil Moisturizer Hair Lotion, 12-Ounce Bottles (Pack of 6)' clust_tuple=(100, 199, 126, 160)\n",
      "item='Redken Hair Cleansing Cream Shampoo for All Hair Types, 10.1-Ounces' clust_tuple=(100, 199, 72, 195)\n",
      "101\n",
      "item='Alba Botanica Even Advanced Eye Makeup Remover, 4 Ounce Bottle' clust_tuple=(101, 45, 141, 78)\n",
      "item='Alba Botanica Smooth Sugar Cane Hawaiian Body Polish, 10 Ounce Tub' clust_tuple=(101, 45, 146, 78)\n",
      "item='Alba Botanica Deep Moisturizing Kukui Nut Hawaiian Body Cream, 6.5 Ounce Jar' clust_tuple=(101, 45, 146, 78)\n",
      "item='Alba Botanica Revitalizing Sea Salt Hawaiian Body Scrub, 14.5 Ounce Tub' clust_tuple=(101, 45, 146, 78)\n",
      "item='Alba Botanica Refining Aloe &amp; Green Tea Hawaiian Oil Free Moisturizer, 3 Ounce Tubs' clust_tuple=(101, 45, 146, 78)\n",
      "item='Alba Botanica Even Advanced Sea Kelp Facial Toner, 6 Ounce Bottles' clust_tuple=(101, 45, 146, 78)\n",
      "item='Alba Aloe Vera Sunblock SPF 30, 4 Ounce' clust_tuple=(101, 45, 141, 78)\n",
      "item='Alba Botanica Soothing Jasmine &amp; Vitamin E Hawaiian Moisture Cream, 3 Ounce Tub' clust_tuple=(101, 45, 146, 78)\n",
      "item='Alba Botanica Maximum Very Emollient Body Lotion, 12 Ounce Bottle' clust_tuple=(101, 45, 146, 78)\n",
      "item='Alba Botanica Original Very Emollient Body Lotion, 32 Ounce Bottle' clust_tuple=(101, 45, 146, 78)\n",
      "102\n",
      "item='Mary Kay Mineral Powder Foundation Beige 2' clust_tuple=(102, 199, 141, 78)\n",
      "item='Revlon Colorstay Aquatm Mineral Finishing Powder (Project Mermaid), Tranlscuent, 0.35 Ounce' clust_tuple=(102, 199, 141, 78)\n",
      "item='Iman Cosmetics Second To None Stick Foundation, Clay 2' clust_tuple=(102, 229, 141, 78)\n",
      "item='Maybelline Mineral Power Finishing Veil Bronzing Powder' clust_tuple=(102, 199, 141, 78)\n",
      "item='Neutrogena Mineral Sheers Powder Foundation, Natural Ivory 20, 0.34 Ounce' clust_tuple=(102, 229, 141, 78)\n",
      "item='Studio Tone Correcting Powder' clust_tuple=(102, 199, 141, 78)\n",
      "item='Neutrogena Healthy Skin Blends, Pure 22, 0.02 Ounce' clust_tuple=(102, 199, 141, 78)\n",
      "item='Physicians Formula Organic Wear 100% Natural Loose Powder, Translucent Light Organics, 0.77-Ounces' clust_tuple=(102, 229, 141, 78)\n",
      "item='Revlon Colorstay Aquatm Mineral Finishing Powder (Project Mermaid), Translucent Light, 0.35 Ounce' clust_tuple=(102, 199, 141, 78)\n",
      "item='Physicians Formula Mineral Wear Talc-Free Loose Powder, Translucent Medium, 0.49 Ounce' clust_tuple=(102, 229, 141, 78)\n",
      "103\n",
      "item='Goody Mosaic Perfect Wrap Curved Bobby Pins - 18 pk.' clust_tuple=(103, 53, 126, 75)\n",
      "item='Rhinestones Crystal Wedding Bridal Pageant Princess Tiara Crown 3150' clust_tuple=(103, 199, 126, 78)\n",
      "item='American Crew American Crew Fiber Fiber - 3 oz' clust_tuple=(103, 45, 72, 78)\n",
      "item='Kingsley Shave Soap Bowl with Lid Dark Wood' clust_tuple=(103, 199, 126, 78)\n",
      "item='Goody Comfort-flex Updo Barrette 1 Pc Colors May Vary - 2 Packs' clust_tuple=(103, 53, 126, 78)\n",
      "item='BONAMART &reg; Lovely Vintage Jewelry Crystal Peacock Hair Clip' clust_tuple=(103, 191, 126, 78)\n",
      "item='Goody Ouchless Scrunchie, Chenille and Cotton, 5 Count' clust_tuple=(103, 199, 126, 78)\n",
      "item='Mixed Chicks Paddle Brush' clust_tuple=(103, 199, 91, 78)\n",
      "item='Tangle Teezer Original Pink' clust_tuple=(103, 191, 126, 78)\n",
      "item='Conair Bun Maker Set' clust_tuple=(103, 199, 126, 78)\n",
      "104\n",
      "item='Wet Ones Sensitive Skin Hand and Face Wipes Singles, 24-Count (Pack of 5)' clust_tuple=(104, 199, 126, 212)\n",
      "item='RoC BRILLIANCE Night Recharging Moisturizer, Activating Serum &amp; Recharging Creme' clust_tuple=(104, 229, 127, 78)\n",
      "item='derma e - Pycnogenol &amp; Hyaluronic Acid Eye Creme, .5 oz cream [Misc.]' clust_tuple=(104, 45, 127, 78)\n",
      "item='Gratiae Lifting Facial Serum' clust_tuple=(104, 199, 126, 78)\n",
      "item='Rogaine Regular Strength for Women Triple Pack' clust_tuple=(104, 191, 64, 195)\n",
      "item='Slimquick Pure Weight Loss Extra Strength, 60 count' clust_tuple=(104, 191, 64, 109)\n",
      "item='Organix, Theraneem Skin Lotion, 8 Ounce' clust_tuple=(104, 229, 126, 78)\n",
      "item='Ambi Skincare Fade Cream, Oily Skin, 2 oz (57 g)' clust_tuple=(104, 199, 91, 78)\n",
      "item='Nerium Ad - Age Defying Night Cream (30ml) One Bottle' clust_tuple=(104, 174, 72, 78)\n",
      "item='Eucerin Redness Relief Soothing Cleanser, 6.8-Ounce Tubes (Pack of 3)' clust_tuple=(104, 229, 126, 224)\n",
      "105\n",
      "item='Jerdon JP910NB 6-Inch Tabletop Two-Sided Swivel Vanity Mirror with 10x Magnification, 11-Inch Height, Nickel Finish' clust_tuple=(105, 199, 126, 254)\n",
      "item='4 Dozen (48) Long Pink Perm Rods' clust_tuple=(105, 224, 64, 212)\n",
      "item='Mebco Tortoise Shower Detangler' clust_tuple=(105, 199, 126, 78)\n",
      "item='WEN Cleansing Creme Shower Comb NEW By Chaz Dean' clust_tuple=(105, 224, 126, 75)\n",
      "item='Phillips Light Touch 6 Hair Brush' clust_tuple=(105, 211, 126, 75)\n",
      "item='Mason Pearson Detangling Comb' clust_tuple=(105, 53, 126, 75)\n",
      "item='DEVA CURL Flexible Hold Hair Spray 10oz' clust_tuple=(105, 191, 126, 148)\n",
      "item='Conair Mega Self Holding Rollers, 9 Count' clust_tuple=(105, 199, 41, 160)\n",
      "item='Remington H-1015 Ceramic Compact, Large and Medium Roller' clust_tuple=(105, 224, 44, 155)\n",
      "item='Simply Beautiful Tangle Teaser Brush - Professional Detangling Hairbrush - Pink, Black, Purple, Blue or Green (Black)' clust_tuple=(105, 199, 126, 195)\n",
      "106\n",
      "item='32 PCS Makeup Brush Set + Black Pouch Bag' clust_tuple=(106, 199, 141, 78)\n",
      "item='Bare Escentuals Refillable Mirror Compact Lavender' clust_tuple=(106, 199, 126, 78)\n",
      "item='SHANY Cosmetics Professional Cotton Makeup Apron with Makeup Artist Brush Belt, Light Weight, 8 Ounce' clust_tuple=(106, 199, 126, 78)\n",
      "item='SuperNail Brush Cleaner - 2oz / 59ml' clust_tuple=(106, 199, 141, 78)\n",
      "item='e.l.f. Cosmetics Eye Shadow Brush' clust_tuple=(106, 199, 141, 78)\n",
      "item='Neewer&reg; Fashion 16 Pcs Pro Purple Makeup Eye Shadow Brush Cosmetic Set Kit' clust_tuple=(106, 199, 141, 78)\n",
      "item='Shiseido Perfect Foundation Brush (Boxed)' clust_tuple=(106, 199, 72, 78)\n",
      "item='FantaSea Cosmetic Blending Sponge' clust_tuple=(106, 199, 126, 78)\n",
      "item='elf Makeup Mist and Set, Clear, 2.02 Ounce and Stipple Brush' clust_tuple=(106, 199, 141, 78)\n",
      "item='Seki Edge Folding Lash Pin Comb' clust_tuple=(106, 199, 126, 78)\n",
      "107\n",
      "item='Betty Dain Stylish Design Mold Resistant Shower Cap, The Hipster Collection, &quot;Hippie Chick&quot;' clust_tuple=(107, 229, 126, 78)\n",
      "item='Home Pedicure PediNova III - Electric Manicure Kit' clust_tuple=(107, 229, 127, 78)\n",
      "item='Garnier Fructis Style Smoothing Milk, Strong, 5.1 Ounce Bottle' clust_tuple=(107, 229, 126, 78)\n",
      "item='AquaBella Exfoliating Bath Cloth (Twin Pack) (colors will vary)' clust_tuple=(107, 45, 126, 78)\n",
      "item='Betty Dain Stylish Design Mold Resistant Shower Cap, The Fashionista Collection, &quot;diva&quot;' clust_tuple=(107, 229, 126, 78)\n",
      "item='My Konjac Sponge All Natural Fiber Wave Body Sponge' clust_tuple=(107, 45, 126, 78)\n",
      "item='Betty Dain Stylish Design Mold Resistant Shower Cap, The Hipster Collection, &quot;Tough Love&quot;' clust_tuple=(107, 229, 126, 78)\n",
      "item='Super Solano Professional Hair Dryer - Black' clust_tuple=(107, 229, 141, 78)\n",
      "item='Betty Dain Stylish Design Mold Resistant Shower Cap, The Hipster Collection, &quot;Flower Power&quot;' clust_tuple=(107, 45, 126, 78)\n",
      "item='EcoTools Ecopouf Bath Sponge, Assorted Colors (Pack of 6)' clust_tuple=(107, 199, 126, 78)\n",
      "108\n",
      "item='Deodorant Rosemary Mint 2.50 Ounces' clust_tuple=(108, 84, 64, 78)\n",
      "item='LOREAL Collagen Filler Eye Treatment' clust_tuple=(108, 199, 91, 78)\n",
      "item=\"Dr. King's Natural Medicine Anxiety and Nervousness, 2 Fluid Ounce\" clust_tuple=(108, 38, 64, 78)\n",
      "item='NaturalCare Homeopathic Ultra Vein-Gard Leg Therapy Cream, 2.25-Ounce Package' clust_tuple=(108, 199, 41, 78)\n",
      "item='Bumble and Bumble Leave in Conditioner (8 Ounces)' clust_tuple=(108, 199, 64, 224)\n",
      "item='Avene Redness relief soothing cream SPF25, 1.35-Ounce Package' clust_tuple=(108, 190, 64, 224)\n",
      "item=\"Burt's Bees Acne Targeted Spot Treatment, 0.26 Ounce Bottle\" clust_tuple=(108, 199, 41, 78)\n",
      "item='Nizoral Anti-Dandruff Shampoo, 4 oz.' clust_tuple=(108, 211, 64, 160)\n",
      "item=\"Dr. King's Natural Medicine Gout Symptom Formula, 2 Fluid Ounce\" clust_tuple=(108, 199, 41, 224)\n",
      "item='Mary Kay Blemish Control Toner: Formula 3' clust_tuple=(108, 199, 64, 224)\n",
      "109\n",
      "item='ELMA&amp;SANA Golden Argan Oil &reg; 100 Cold Pressed Virgin Organic Certified By Ecocert -1oz(30ml)' clust_tuple=(109, 84, 141, 78)\n",
      "item='Skinceuticals  Daily Moisturize Pore-minimizing Moisturizer For Normal Or Oily Skin, 2-Ounce Jar' clust_tuple=(109, 199, 141, 78)\n",
      "item='Deep Sea Cosmetics Sensual Dead Sea Body Salt Scrub milk and honey scent' clust_tuple=(109, 84, 146, 78)\n",
      "item='Shampoo Green Apple and Ginger 8 Ounces' clust_tuple=(109, 84, 72, 78)\n",
      "item='Desert Essence Thoroughly Clean Face Wash - Original -- 8.5 fl oz' clust_tuple=(109, 84, 146, 78)\n",
      "item='Natural Clear Skin Cleansing Sponge' clust_tuple=(109, 84, 141, 78)\n",
      "item='ELMA&amp;SANA&reg; Golden Argan Oil 100% Pure Cold Pressed Virgin Organic Certified By Ecocert -4oz(120ml)' clust_tuple=(109, 84, 146, 78)\n",
      "item='Body Lotion, Coconut &amp; Papaya - 13oz' clust_tuple=(109, 84, 146, 78)\n",
      "item='Eminence Wild Plum Eye Cream, 1.05 Ounce' clust_tuple=(109, 84, 72, 78)\n",
      "item='Desert Essence Blemish Touch Concealer Light .33 oz' clust_tuple=(109, 199, 141, 78)\n"
     ]
    }
   ],
   "source": [
    "from rqvae_data import search_similar_items\n",
    "\n",
    "\n",
    "for i in range(100, 110):\n",
    "    sim = search_similar_items(items_with_tuples, (i,), 10)\n",
    "    if len(sim) == 0:\n",
    "        continue\n",
    "    print(i)\n",
    "    for item, clust_tuple in sim:\n",
    "        print(f\"{item=} {clust_tuple=}\")"
   ]
  },
  {
   "cell_type": "code",
   "execution_count": null,
   "metadata": {},
   "outputs": [],
   "source": []
  },
  {
   "cell_type": "code",
   "execution_count": null,
   "metadata": {},
   "outputs": [],
   "source": []
  },
  {
   "cell_type": "code",
   "execution_count": null,
   "metadata": {},
   "outputs": [],
   "source": []
  }
 ],
 "metadata": {
  "kernelspec": {
   "display_name": "gsrec",
   "language": "python",
   "name": "python3"
  },
  "language_info": {
   "codemirror_mode": {
    "name": "ipython",
    "version": 3
   },
   "file_extension": ".py",
   "mimetype": "text/x-python",
   "name": "python",
   "nbconvert_exporter": "python",
   "pygments_lexer": "ipython3",
   "version": "3.12.8"
  }
 },
 "nbformat": 4,
 "nbformat_minor": 2
}
