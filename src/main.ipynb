{
 "cells": [
  {
   "cell_type": "code",
   "execution_count": 1,
   "metadata": {},
   "outputs": [],
   "source": [
    "import torch\n",
    "\n",
    "from rqvae_data import get_data\n",
    "\n",
    "df = get_data()"
   ]
  },
  {
   "cell_type": "code",
   "execution_count": 2,
   "metadata": {},
   "outputs": [],
   "source": [
    "embs = torch.stack(df[\"embeddings\"].tolist())"
   ]
  },
  {
   "cell_type": "code",
   "execution_count": 3,
   "metadata": {},
   "outputs": [
    {
     "name": "stderr",
     "output_type": "stream",
     "text": [
      "100%|██████████| 4/4 [00:07<00:00,  1.95s/it]\n"
     ]
    },
    {
     "data": {
      "text/plain": [
       "{'loss': tensor(0.0056, device='cuda:0', grad_fn=<MeanBackward0>),\n",
       " 'recon_loss': tensor(0.0051, device='cuda:0'),\n",
       " 'rqvae_loss': tensor(0.0005, device='cuda:0'),\n",
       " 'unique/0': 256,\n",
       " 'unique/1': 256,\n",
       " 'unique/2': 256,\n",
       " 'unique/3': 256}"
      ]
     },
     "execution_count": 3,
     "metadata": {},
     "output_type": "execute_result"
    }
   ],
   "source": [
    "from rqvae import RQVAE\n",
    "\n",
    "device = torch.device(\"cuda\" if torch.cuda.is_available() else \"cpu\")\n",
    "\n",
    "\n",
    "rqvae = RQVAE(\n",
    "    input_dim=embs.shape[1],\n",
    "    hidden_dim=128,\n",
    "    beta=0.25,\n",
    "    codebook_sizes=[256] * 4,\n",
    "    should_init_codebooks=True,\n",
    "    should_reinit_unused_clusters=False,\n",
    ").to(device)\n",
    "\n",
    "\n",
    "embs_dict = {\"embedding\": embs.to(device)}\n",
    "\n",
    "rqvae.forward(embs_dict)"
   ]
  },
  {
   "cell_type": "code",
   "execution_count": 15,
   "metadata": {},
   "outputs": [],
   "source": [
    "from collisions import dedup\n",
    "from rqvae_data import get_cb_tuples\n",
    "\n",
    "\n",
    "cb_tuples = list(get_cb_tuples(rqvae, embs_dict[\"embedding\"]))\n",
    "items_with_tuples = list(zip(df[\"asin\"], df[\"title\"].fillna(\"unknown\"), cb_tuples))\n",
    "items_with_tuples = dedup(items_with_tuples)"
   ]
  },
  {
   "cell_type": "code",
   "execution_count": 5,
   "metadata": {},
   "outputs": [
    {
     "name": "stdout",
     "output_type": "stream",
     "text": [
      "100\n",
      "item='Simple Protecting Light Moisturizer Spf 15, 4.2 Ounce' clust_tuple=(100, 43, 110, 111, 20)\n",
      "item=\"POND'S Dry Skin Cream, 10.1-oz. (Pack of 3)\" clust_tuple=(100, 144, 110, 111, 0)\n",
      "item='Kiss My Face Natural Mineral Lotion Sunscreen SPF 40 with Hydresia, 3 Fluid Ounce' clust_tuple=(100, 43, 110, 111, 16)\n",
      "item=\"Pond's Luminous Moisture Day SPF 15 Lotion, 1.7 Ounce\" clust_tuple=(100, 43, 101, 111, 6)\n",
      "item='St. Ives Facial Moisturizer, Timeless Skin Collagen Elastin, 10oz' clust_tuple=(100, 43, 110, 121, 2)\n",
      "item='Clarins Cleansing Milk - Oily to Combination Skin, 7-Ounces Box' clust_tuple=(100, 43, 15, 111, 0)\n",
      "item=\"POND'S Rejuveness Anti-Wrinkle Cream, 7-oz.\" clust_tuple=(100, 43, 110, 111, 9)\n",
      "item='Olay Total Effects Blemish Control Salicylic Acid Acne Cleanser 5.0 Fl Oz (Pack of 3)' clust_tuple=(100, 144, 110, 111, 1)\n",
      "item='Hydroxatone 90 Second Wrinkle Reducer' clust_tuple=(100, 43, 110, 31, 0)\n",
      "item='Collagen Essence Full Face Mask 10 Pieces' clust_tuple=(100, 144, 88, 111, 0)\n",
      "101\n",
      "item='Alba Botanica Fragrance Free SPF 30 Mineral Very Emollient Sunscreen, 4 Ounce Tube' clust_tuple=(101, 141, 88, 111, 10)\n",
      "item='Alba Aloe Vera Sunblock SPF 30, 4 Ounce' clust_tuple=(101, 141, 88, 111, 6)\n",
      "item='Alba Botanica Deep Moisturizing Kukui Nut Hawaiian Body Cream, 6.5 Ounce Jar' clust_tuple=(101, 209, 88, 111, 2)\n",
      "item='Alba Botanica Sparkling Mint Very Emollient Bath &amp; Shower Gel, 32 Ounce Bottle' clust_tuple=(101, 209, 88, 111, 3)\n",
      "item='Alba Botanica Leave-In Conditioner, 7 Ounce Tubes' clust_tuple=(101, 141, 88, 111, 7)\n",
      "item='Alba Botanica Very Emollient Sunless Tanner, 4 Ounce Tube' clust_tuple=(101, 141, 88, 111, 14)\n",
      "item='Alba Botanica Rejuvenating Papaya Mango Hawaiian Body Cream, 6.5 Ounce Jar' clust_tuple=(101, 141, 88, 111, 13)\n",
      "item='Alba Botanica Pure Lavender SPF 45 Very Emollient Sunscreen, 4 Ounce Tubes (Pack of 2)' clust_tuple=(101, 141, 88, 111, 16)\n",
      "item='Alba Botanica Even Advanced Sea Mineral Cleansing Gel, 6 Ounce Bottles' clust_tuple=(101, 141, 88, 111, 4)\n",
      "item='Own Products Rejuvenating Facial Cleanser' clust_tuple=(101, 43, 110, 111, 1)\n",
      "102\n",
      "item='Finulite Cellulite Smoothing Massage Mitt' clust_tuple=(102, 43, 88, 72, 0)\n",
      "item='Neutrogena Healthy Skin Liquid Makeup, Classic Ivory 10, 1 Ounce' clust_tuple=(102, 208, 110, 111, 1)\n",
      "item='Miracle Skin Transformer Face - SPF 20 - Translucent' clust_tuple=(102, 43, 80, 111, 0)\n",
      "item='Physicians Formula Super BB All-in-1 Beauty Balm Cream Light Medium -- 1.2 fl oz' clust_tuple=(102, 184, 110, 111, 0)\n",
      "item='Mary Kay Mineral Powder Foundation Beige 2' clust_tuple=(102, 209, 80, 111, 0)\n",
      "item='Deep Sea Cosmetics Sensual Dead Sea Body Salt Scrub milk and honey scent' clust_tuple=(102, 43, 88, 111, 2)\n",
      "item='Garnier Skin Renew Miracle Skin Perfector Bb Cream, Combination To Oily Skin, Light/Medium, 2 Fluid Ounce' clust_tuple=(102, 152, 110, 111, 1)\n",
      "item='Studio Tone Correcting Powder' clust_tuple=(102, 7, 110, 31, 0)\n",
      "item='Garnier  Skin Renew Miracle Skin Perfector B.B. Cream, Medium and Deep, 2.5 Fluid Ounce' clust_tuple=(102, 43, 88, 111, 5)\n",
      "item='Maybelline Mineral Power Finishing Veil Bronzing Powder' clust_tuple=(102, 208, 110, 111, 0)\n",
      "103\n",
      "item='Spornette No.316 Deville Hair Brush' clust_tuple=(103, 43, 107, 111, 1)\n",
      "item='Diane 2&quot; Bobby Pins, Black, 1lb Box' clust_tuple=(103, 43, 110, 31, 5)\n",
      "item='Spornette German Porcupine Oval Cushion Brush' clust_tuple=(103, 152, 88, 72, 0)\n",
      "item='Diane 3&quot; Hair Pins, Black, 32/card' clust_tuple=(103, 43, 107, 14, 1)\n",
      "item='Spornette Large Smooth Operator, 4 Ounce' clust_tuple=(103, 66, 97, 111, 0)\n",
      "item='10 Pcs Black Plastic Single Prong DIY Hairstyle Alligator Hair Clip 3.1&quot; Long' clust_tuple=(103, 152, 97, 176, 0)\n",
      "item='Diane Double Prong Clip 1.75 Inches, 80 Clips' clust_tuple=(103, 43, 88, 72, 2)\n",
      "item='Aquasentials Long Handle Bath Brush (Clear Handle)' clust_tuple=(103, 152, 16, 31, 0)\n",
      "item='The Wet Comb Detangling Hair Comb - Metallics Collection (Colors May Vary)' clust_tuple=(103, 190, 88, 111, 0)\n",
      "item='Sexy Hair Hard Up Gel, Packaging May Vary, 16.9-Ounce Pump Bottle' clust_tuple=(103, 43, 88, 111, 0)\n",
      "104\n",
      "item='Fair &amp; White Exclusive Gel Creme Whitenizer #08003' clust_tuple=(104, 43, 178, 111, 0)\n",
      "item='RoC BRILLIANCE Eye Beautifier  .3 fl. oz.' clust_tuple=(104, 60, 230, 111, 0)\n",
      "item='RoC BRILLIANCE Night Recharging Moisturizer, Activating Serum &amp; Recharging Creme' clust_tuple=(104, 43, 110, 111, 0)\n",
      "105\n",
      "item=\"Wee Ones Baby Girls' Knot Genie Teeny Genie-Peaceful Pink\" clust_tuple=(105, 43, 170, 31, 0)\n",
      "item='Remington Wet 2 Straight 2&quot; Wide Plate Wet/Dry Ceramic Hair Straightening Iron with Tourmaline' clust_tuple=(105, 43, 110, 176, 0)\n",
      "item='Remington S-9951 Frizz Therapy, Humidity Resistant Ceramic Flat Hairstyling Iron, 1 Inch' clust_tuple=(105, 43, 110, 176, 2)\n",
      "item='John Frieda Sleek Finish 1 Inch  Flat Iron' clust_tuple=(105, 43, 170, 31, 3)\n",
      "item='Quick Beader for loading beads on hair' clust_tuple=(105, 43, 170, 31, 2)\n",
      "item='Remington B90P Pearl Ceramic Paddle Hair Brush with Real Crushed Pearls' clust_tuple=(105, 105, 107, 31, 0)\n",
      "item='Infiniti Professional Nano Tourmaline Ceramic Curling Iron, 1 1/2-Inch' clust_tuple=(105, 43, 107, 176, 1)\n",
      "item='Remington S6500 Sleek and Curl Ceramic Pearl Multi-styler Hair Straightener, 1 Inch' clust_tuple=(105, 43, 110, 176, 5)\n",
      "item='BaByliss PRO Nano Titanium Mini Straightening Iron (1 inch)' clust_tuple=(105, 208, 68, 31, 0)\n",
      "item='Remington Ci96z1 Silk Ceramic Elliptical Waving Wand' clust_tuple=(105, 208, 170, 31, 2)\n",
      "106\n",
      "item='50 New Empty Clear Plastic Cosmetic Containers 5 Gram Size Pot Jars Eyshadow Container Lot' clust_tuple=(106, 112, 88, 72, 0)\n",
      "item='Swisspers Cotton Rounds, 100 Count' clust_tuple=(106, 43, 110, 31, 7)\n",
      "item='Lipstick - 10pc. Assorted Color Lipstick Set' clust_tuple=(106, 43, 110, 111, 7)\n",
      "item='Clean &amp; Clear Instant Oil-Absorbing Sheets 50 sheets' clust_tuple=(106, 43, 110, 111, 0)\n",
      "item='Bare Escentuals Tapered Shadow Brush' clust_tuple=(106, 43, 110, 31, 2)\n",
      "item='EZ Flow Grand Artist Oval 508 with Brush Cover' clust_tuple=(106, 43, 88, 111, 2)\n",
      "item='Classic Cotton Balls Jumbo Size, 100 Count' clust_tuple=(106, 43, 88, 111, 0)\n",
      "item='Sally Hansen Airbrush Leg Tan Glow,4.4 oz' clust_tuple=(106, 43, 110, 31, 1)\n",
      "item='FantaSea Cosmetic Blending Sponge' clust_tuple=(106, 43, 110, 31, 6)\n",
      "item='UBU Super Softy Extra Large and Soft Powder Brush' clust_tuple=(106, 43, 110, 31, 8)\n",
      "107\n",
      "item='Weleda Calendula Shampoo and Body Wash, 6.8-Ounce' clust_tuple=(107, 209, 16, 111, 0)\n",
      "item='Africana - 6ml (.2 oz) Perfume Oil by Al-Rehab (Crown Perfumes)' clust_tuple=(107, 43, 110, 111, 13)\n",
      "item=\"Burt's Bees Radiance Facial Cleanser, 6 Fluid Ounce\" clust_tuple=(107, 95, 110, 111, 0)\n",
      "item='Kimora Lee Simmons Baby Phat Goddess Eau de Parfum Spray for Women, 3.4 Ounce' clust_tuple=(107, 43, 110, 31, 1)\n",
      "item='White Full - 6ml (.2 oz) Perfume Oil by Al-Rehab (Crown Perfumes)' clust_tuple=(107, 43, 110, 31, 6)\n",
      "item='With Love by Hilary Duff for Women 3.3 oz Eau de Parfum Spray' clust_tuple=(107, 43, 88, 111, 1)\n",
      "item=\"Burt's Bees Orange Essence Facial Cleanser, 4.3 Ounces\" clust_tuple=(107, 43, 110, 111, 0)\n",
      "item='White Musk - 6ml (.2 oz) Perfume Oil by Al-Rehab (Crown Perfumes)' clust_tuple=(107, 43, 110, 31, 9)\n",
      "item='Betsey Johnson Too Eau de Parfum Spray, 3.4 Ounce' clust_tuple=(107, 43, 110, 31, 3)\n",
      "item=\"L'Oreal Paris EverStrong Bodify Shampoo, 8.5-Fluid Ounce\" clust_tuple=(107, 36, 16, 111, 1)\n",
      "108\n",
      "item='Moroccan Mint Scented Anti Cellulite Cream with Indian Ginseng, Oregano, Horsetail, Juniper Berry, Coffee, Caffeine and More,By Diva Stuff' clust_tuple=(108, 101, 88, 111, 2)\n",
      "item=\"Dr. King's Natural Medicine Gout Symptom Formula, 2 Fluid Ounce\" clust_tuple=(108, 190, 88, 108, 1)\n",
      "item='Kiss My Face Face Factor Sun Screen for Face and Neck, SPF 30, 2 Ounce Tube' clust_tuple=(108, 43, 110, 121, 0)\n",
      "item='Wild Growth Hair Care System' clust_tuple=(108, 43, 101, 111, 2)\n",
      "item='GrandeLASH MD Eyelash Enhancer for Length, Fullness, and Darkness,2 ml' clust_tuple=(108, 43, 101, 111, 3)\n",
      "item=\"Dr. King's Natural Medicine Sciatic Nerve Formula , 2 Fluid Ounce\" clust_tuple=(108, 190, 88, 108, 2)\n",
      "item=\"Smiles' Prid Homeopathic Drawing Salve, 18 GM, 1 each\" clust_tuple=(108, 190, 88, 121, 0)\n",
      "item='Mederma Cream with SPF 30, 20 Grams' clust_tuple=(108, 101, 88, 111, 1)\n",
      "item=\"Dr. King's Natural Medicine Advanced Arnica , 2 Fluid Ounce\" clust_tuple=(108, 190, 101, 108, 0)\n",
      "item='IQ Natural Microdermabrasion Exfoliate Crystals Aluminum Oxide 1.5oz' clust_tuple=(108, 101, 101, 121, 0)\n",
      "109\n",
      "item='Moisturizer-Almond Aloe With SPF15 Earth Science 5 oz Cream' clust_tuple=(109, 209, 124, 20, 0)\n",
      "item=\"Dr. Bronner's &amp; All-One Organic Lotion for Hands &amp; Body, Peppermint, 8-Ounce Pump Bottle\" clust_tuple=(109, 7, 110, 31, 0)\n",
      "item='AUBREY Collagen Restorative Moisturizer 1.7 fl.oz' clust_tuple=(109, 7, 110, 111, 0)\n",
      "item='Home Health Roll-On Deodorant Herbal Scent -- 3 fl oz' clust_tuple=(109, 152, 124, 111, 0)\n",
      "item='Moisturizer-Daily Essential Jojoba/Aloe Desert Essence 4 oz Cream' clust_tuple=(109, 235, 110, 111, 0)\n",
      "item='Reviva - Seaweed Soap, 4.5 oz bar soap' clust_tuple=(109, 60, 124, 111, 0)\n",
      "item=\"Organic Peppermint Hair Conditioner and Style Creme Dr. Bronner's 6 oz Cream\" clust_tuple=(109, 209, 110, 111, 1)\n",
      "item='Perfume-Bourbon Vanilla Ecco Bella Botanicals 1 oz Liquid' clust_tuple=(109, 235, 110, 111, 1)\n",
      "item='Devoted Creations Forever Black 50XXX Tanning Lotion Instantly Dark Dramatic Bronzing Gelee 12.25 oz' clust_tuple=(109, 184, 110, 72, 0)\n",
      "item='derma e Pycnognol Facial Toner, Fragrance Free, 6-Ounce Bottle' clust_tuple=(109, 152, 110, 185, 0)\n"
     ]
    }
   ],
   "source": [
    "from rqvae_data import search_similar_items\n",
    "\n",
    "\n",
    "for i in range(100, 110):\n",
    "    sim = search_similar_items(items_with_tuples, (i,), 10)\n",
    "    if len(sim) == 0:\n",
    "        continue\n",
    "    print(i)\n",
    "    for asin, item, clust_tuple in sim:\n",
    "        print(f\"{item=} {clust_tuple=}\")"
   ]
  },
  {
   "cell_type": "code",
   "execution_count": 29,
   "metadata": {},
   "outputs": [
    {
     "data": {
      "image/png": "[encoded data removed]",
      "text/plain": [
       "<Figure size 640x480 with 1 Axes>"
      ]
     },
     "metadata": {},
     "output_type": "display_data"
    }
   ],
   "source": [
    "from collections import Counter\n",
    "import matplotlib.pyplot as plt\n",
    "\n",
    "\n",
    "plt.hist(Counter(item[-1][:-1] for item in items_with_tuples).values(), bins=100)\n",
    "plt.show()"
   ]
  },
  {
   "cell_type": "code",
   "execution_count": 16,
   "metadata": {},
   "outputs": [
    {
     "data": {
      "text/plain": [
       "12101"
      ]
     },
     "execution_count": 16,
     "metadata": {},
     "output_type": "execute_result"
    }
   ],
   "source": [
    "len(set(item[-1] for item in items_with_tuples))"
   ]
  },
  {
   "cell_type": "code",
   "execution_count": null,
   "metadata": {},
   "outputs": [],
   "source": []
  }
 ],
 "metadata": {
  "kernelspec": {
   "display_name": "gsrec",
   "language": "python",
   "name": "python3"
  },
  "language_info": {
   "codemirror_mode": {
    "name": "ipython",
    "version": 3
   },
   "file_extension": ".py",
   "mimetype": "text/x-python",
   "name": "python",
   "nbconvert_exporter": "python",
   "pygments_lexer": "ipython3",
   "version": "3.12.8"
  }
 },
 "nbformat": 4,
 "nbformat_minor": 2
}
